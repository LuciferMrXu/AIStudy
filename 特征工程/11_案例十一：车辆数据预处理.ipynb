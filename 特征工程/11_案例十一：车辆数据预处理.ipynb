{
 "cells": [
  {
   "cell_type": "code",
   "execution_count": 23,
   "metadata": {
    "collapsed": true
   },
   "outputs": [],
   "source": [
    "import numpy as np\n",
    "import matplotlib as mpl\n",
    "import pandas as pd\n",
    "import matplotlib.pyplot as plt\n",
    "from sklearn.preprocessing import OneHotEncoder\n",
    "from sklearn.preprocessing import PolynomialFeatures\n",
    "from sklearn.feature_selection import chi2\n",
    "from sklearn.feature_selection import SelectKBest\n",
    "from sklearn.feature_selection import SelectFromModel\n",
    "from sklearn.ensemble import GradientBoostingClassifier,RandomTreesEmbedding\n",
    "from sklearn.decomposition import PCA"
   ]
  },
  {
   "cell_type": "code",
   "execution_count": 24,
   "metadata": {
    "collapsed": true
   },
   "outputs": [],
   "source": [
    "mpl.rcParams['font.sans-serif'] = [u'simHei']\n",
    "mpl.rcParams['axes.unicode_minus'] = False"
   ]
  },
  {
   "cell_type": "code",
   "execution_count": 25,
   "metadata": {
    "collapsed": true
   },
   "outputs": [],
   "source": [
    "# 设置在jupyter中matplotlib的显示情况\n",
    "%matplotlib tk"
   ]
  },
  {
   "cell_type": "code",
   "execution_count": 26,
   "metadata": {
    "collapsed": false
   },
   "outputs": [],
   "source": [
    "path = \"car.data\"\n",
    "data = pd.read_csv(path, header=None)"
   ]
  },
  {
   "cell_type": "code",
   "execution_count": 27,
   "metadata": {
    "collapsed": false
   },
   "outputs": [
    {
     "data": {
      "text/html": [
       "<div>\n",
       "<table border=\"1\" class=\"dataframe\">\n",
       "  <thead>\n",
       "    <tr style=\"text-align: right;\">\n",
       "      <th></th>\n",
       "      <th>0</th>\n",
       "      <th>1</th>\n",
       "      <th>2</th>\n",
       "      <th>3</th>\n",
       "      <th>4</th>\n",
       "      <th>5</th>\n",
       "      <th>6</th>\n",
       "    </tr>\n",
       "  </thead>\n",
       "  <tbody>\n",
       "    <tr>\n",
       "      <th>0</th>\n",
       "      <td>vhigh</td>\n",
       "      <td>vhigh</td>\n",
       "      <td>2</td>\n",
       "      <td>2</td>\n",
       "      <td>small</td>\n",
       "      <td>low</td>\n",
       "      <td>unacc</td>\n",
       "    </tr>\n",
       "    <tr>\n",
       "      <th>1</th>\n",
       "      <td>vhigh</td>\n",
       "      <td>vhigh</td>\n",
       "      <td>2</td>\n",
       "      <td>2</td>\n",
       "      <td>small</td>\n",
       "      <td>med</td>\n",
       "      <td>unacc</td>\n",
       "    </tr>\n",
       "    <tr>\n",
       "      <th>2</th>\n",
       "      <td>vhigh</td>\n",
       "      <td>vhigh</td>\n",
       "      <td>2</td>\n",
       "      <td>2</td>\n",
       "      <td>small</td>\n",
       "      <td>high</td>\n",
       "      <td>unacc</td>\n",
       "    </tr>\n",
       "    <tr>\n",
       "      <th>3</th>\n",
       "      <td>vhigh</td>\n",
       "      <td>vhigh</td>\n",
       "      <td>2</td>\n",
       "      <td>2</td>\n",
       "      <td>med</td>\n",
       "      <td>low</td>\n",
       "      <td>unacc</td>\n",
       "    </tr>\n",
       "    <tr>\n",
       "      <th>4</th>\n",
       "      <td>vhigh</td>\n",
       "      <td>vhigh</td>\n",
       "      <td>2</td>\n",
       "      <td>2</td>\n",
       "      <td>med</td>\n",
       "      <td>med</td>\n",
       "      <td>unacc</td>\n",
       "    </tr>\n",
       "  </tbody>\n",
       "</table>\n",
       "</div>"
      ],
      "text/plain": [
       "       0      1  2  3      4     5      6\n",
       "0  vhigh  vhigh  2  2  small   low  unacc\n",
       "1  vhigh  vhigh  2  2  small   med  unacc\n",
       "2  vhigh  vhigh  2  2  small  high  unacc\n",
       "3  vhigh  vhigh  2  2    med   low  unacc\n",
       "4  vhigh  vhigh  2  2    med   med  unacc"
      ]
     },
     "execution_count": 27,
     "metadata": {},
     "output_type": "execute_result"
    }
   ],
   "source": [
    "### 原始数据\n",
    "data.head(5)"
   ]
  },
  {
   "cell_type": "code",
   "execution_count": 28,
   "metadata": {
    "collapsed": false,
    "scrolled": true
   },
   "outputs": [
    {
     "name": "stdout",
     "output_type": "stream",
     "text": [
      "0 ['high' 'low' 'med' 'vhigh']\n",
      "1 ['high' 'low' 'med' 'vhigh']\n",
      "2 ['2' '3' '4' '5more']\n",
      "3 ['2' '4' 'more']\n",
      "4 ['big' 'med' 'small']\n",
      "5 ['high' 'low' 'med']\n",
      "6 ['acc' 'good' 'unacc' 'vgood']\n"
     ]
    }
   ],
   "source": [
    "for i in range(7):\n",
    "    print(i, np.unique(data[i]))"
   ]
  },
  {
   "cell_type": "code",
   "execution_count": 29,
   "metadata": {
    "collapsed": false
   },
   "outputs": [],
   "source": [
    "### 字符串转换为序列id（数字）\n",
    "X = data[list(range(6))].apply(lambda x: pd.Categorical(x).codes)\n",
    "Y = data[6]\n",
    "# Y.value_counts()\n",
    "Y_categorical = pd.Categorical(Y)\n",
    "Y = Y_categorical.codes"
   ]
  },
  {
   "cell_type": "code",
   "execution_count": 30,
   "metadata": {
    "collapsed": false
   },
   "outputs": [
    {
     "name": "stdout",
     "output_type": "stream",
     "text": [
      "[2 2 2 2 2 2 2 2 2 2]\n"
     ]
    },
    {
     "data": {
      "text/html": [
       "<div>\n",
       "<table border=\"1\" class=\"dataframe\">\n",
       "  <thead>\n",
       "    <tr style=\"text-align: right;\">\n",
       "      <th></th>\n",
       "      <th>0</th>\n",
       "      <th>1</th>\n",
       "      <th>2</th>\n",
       "      <th>3</th>\n",
       "      <th>4</th>\n",
       "      <th>5</th>\n",
       "    </tr>\n",
       "  </thead>\n",
       "  <tbody>\n",
       "    <tr>\n",
       "      <th>0</th>\n",
       "      <td>3</td>\n",
       "      <td>3</td>\n",
       "      <td>0</td>\n",
       "      <td>0</td>\n",
       "      <td>2</td>\n",
       "      <td>1</td>\n",
       "    </tr>\n",
       "    <tr>\n",
       "      <th>1</th>\n",
       "      <td>3</td>\n",
       "      <td>3</td>\n",
       "      <td>0</td>\n",
       "      <td>0</td>\n",
       "      <td>2</td>\n",
       "      <td>2</td>\n",
       "    </tr>\n",
       "  </tbody>\n",
       "</table>\n",
       "</div>"
      ],
      "text/plain": [
       "   0  1  2  3  4  5\n",
       "0  3  3  0  0  2  1\n",
       "1  3  3  0  0  2  2"
      ]
     },
     "execution_count": 30,
     "metadata": {},
     "output_type": "execute_result"
    }
   ],
   "source": [
    "print(Y[:10])\n",
    "X.head(2)"
   ]
  },
  {
   "cell_type": "code",
   "execution_count": 31,
   "metadata": {
    "collapsed": false
   },
   "outputs": [
    {
     "name": "stdout",
     "output_type": "stream",
     "text": [
      "[4 4 4 3 3 3]\n"
     ]
    }
   ],
   "source": [
    "### 进行哑编码操作\n",
    "enc = OneHotEncoder()\n",
    "X = enc.fit_transform(X)\n",
    "print(enc.n_values_)"
   ]
  },
  {
   "cell_type": "code",
   "execution_count": 32,
   "metadata": {
    "collapsed": false
   },
   "outputs": [
    {
     "data": {
      "text/html": [
       "<div>\n",
       "<table border=\"1\" class=\"dataframe\">\n",
       "  <thead>\n",
       "    <tr style=\"text-align: right;\">\n",
       "      <th></th>\n",
       "      <th>0</th>\n",
       "      <th>1</th>\n",
       "      <th>2</th>\n",
       "      <th>3</th>\n",
       "      <th>4</th>\n",
       "      <th>5</th>\n",
       "      <th>6</th>\n",
       "      <th>7</th>\n",
       "      <th>8</th>\n",
       "      <th>9</th>\n",
       "      <th>...</th>\n",
       "      <th>11</th>\n",
       "      <th>12</th>\n",
       "      <th>13</th>\n",
       "      <th>14</th>\n",
       "      <th>15</th>\n",
       "      <th>16</th>\n",
       "      <th>17</th>\n",
       "      <th>18</th>\n",
       "      <th>19</th>\n",
       "      <th>20</th>\n",
       "    </tr>\n",
       "  </thead>\n",
       "  <tbody>\n",
       "    <tr>\n",
       "      <th>0</th>\n",
       "      <td>0.0</td>\n",
       "      <td>0.0</td>\n",
       "      <td>0.0</td>\n",
       "      <td>1.0</td>\n",
       "      <td>0.0</td>\n",
       "      <td>0.0</td>\n",
       "      <td>0.0</td>\n",
       "      <td>1.0</td>\n",
       "      <td>1.0</td>\n",
       "      <td>0.0</td>\n",
       "      <td>...</td>\n",
       "      <td>0.0</td>\n",
       "      <td>1.0</td>\n",
       "      <td>0.0</td>\n",
       "      <td>0.0</td>\n",
       "      <td>0.0</td>\n",
       "      <td>0.0</td>\n",
       "      <td>1.0</td>\n",
       "      <td>0.0</td>\n",
       "      <td>1.0</td>\n",
       "      <td>0.0</td>\n",
       "    </tr>\n",
       "    <tr>\n",
       "      <th>1</th>\n",
       "      <td>0.0</td>\n",
       "      <td>0.0</td>\n",
       "      <td>0.0</td>\n",
       "      <td>1.0</td>\n",
       "      <td>0.0</td>\n",
       "      <td>0.0</td>\n",
       "      <td>0.0</td>\n",
       "      <td>1.0</td>\n",
       "      <td>1.0</td>\n",
       "      <td>0.0</td>\n",
       "      <td>...</td>\n",
       "      <td>0.0</td>\n",
       "      <td>1.0</td>\n",
       "      <td>0.0</td>\n",
       "      <td>0.0</td>\n",
       "      <td>0.0</td>\n",
       "      <td>0.0</td>\n",
       "      <td>1.0</td>\n",
       "      <td>0.0</td>\n",
       "      <td>0.0</td>\n",
       "      <td>1.0</td>\n",
       "    </tr>\n",
       "    <tr>\n",
       "      <th>2</th>\n",
       "      <td>0.0</td>\n",
       "      <td>0.0</td>\n",
       "      <td>0.0</td>\n",
       "      <td>1.0</td>\n",
       "      <td>0.0</td>\n",
       "      <td>0.0</td>\n",
       "      <td>0.0</td>\n",
       "      <td>1.0</td>\n",
       "      <td>1.0</td>\n",
       "      <td>0.0</td>\n",
       "      <td>...</td>\n",
       "      <td>0.0</td>\n",
       "      <td>1.0</td>\n",
       "      <td>0.0</td>\n",
       "      <td>0.0</td>\n",
       "      <td>0.0</td>\n",
       "      <td>0.0</td>\n",
       "      <td>1.0</td>\n",
       "      <td>1.0</td>\n",
       "      <td>0.0</td>\n",
       "      <td>0.0</td>\n",
       "    </tr>\n",
       "    <tr>\n",
       "      <th>3</th>\n",
       "      <td>0.0</td>\n",
       "      <td>0.0</td>\n",
       "      <td>0.0</td>\n",
       "      <td>1.0</td>\n",
       "      <td>0.0</td>\n",
       "      <td>0.0</td>\n",
       "      <td>0.0</td>\n",
       "      <td>1.0</td>\n",
       "      <td>1.0</td>\n",
       "      <td>0.0</td>\n",
       "      <td>...</td>\n",
       "      <td>0.0</td>\n",
       "      <td>1.0</td>\n",
       "      <td>0.0</td>\n",
       "      <td>0.0</td>\n",
       "      <td>0.0</td>\n",
       "      <td>1.0</td>\n",
       "      <td>0.0</td>\n",
       "      <td>0.0</td>\n",
       "      <td>1.0</td>\n",
       "      <td>0.0</td>\n",
       "    </tr>\n",
       "    <tr>\n",
       "      <th>4</th>\n",
       "      <td>0.0</td>\n",
       "      <td>0.0</td>\n",
       "      <td>0.0</td>\n",
       "      <td>1.0</td>\n",
       "      <td>0.0</td>\n",
       "      <td>0.0</td>\n",
       "      <td>0.0</td>\n",
       "      <td>1.0</td>\n",
       "      <td>1.0</td>\n",
       "      <td>0.0</td>\n",
       "      <td>...</td>\n",
       "      <td>0.0</td>\n",
       "      <td>1.0</td>\n",
       "      <td>0.0</td>\n",
       "      <td>0.0</td>\n",
       "      <td>0.0</td>\n",
       "      <td>1.0</td>\n",
       "      <td>0.0</td>\n",
       "      <td>0.0</td>\n",
       "      <td>0.0</td>\n",
       "      <td>1.0</td>\n",
       "    </tr>\n",
       "  </tbody>\n",
       "</table>\n",
       "<p>5 rows × 21 columns</p>\n",
       "</div>"
      ],
      "text/plain": [
       "    0    1    2    3    4    5    6    7    8    9  ...    11   12   13   14  \\\n",
       "0  0.0  0.0  0.0  1.0  0.0  0.0  0.0  1.0  1.0  0.0 ...   0.0  1.0  0.0  0.0   \n",
       "1  0.0  0.0  0.0  1.0  0.0  0.0  0.0  1.0  1.0  0.0 ...   0.0  1.0  0.0  0.0   \n",
       "2  0.0  0.0  0.0  1.0  0.0  0.0  0.0  1.0  1.0  0.0 ...   0.0  1.0  0.0  0.0   \n",
       "3  0.0  0.0  0.0  1.0  0.0  0.0  0.0  1.0  1.0  0.0 ...   0.0  1.0  0.0  0.0   \n",
       "4  0.0  0.0  0.0  1.0  0.0  0.0  0.0  1.0  1.0  0.0 ...   0.0  1.0  0.0  0.0   \n",
       "\n",
       "    15   16   17   18   19   20  \n",
       "0  0.0  0.0  1.0  0.0  1.0  0.0  \n",
       "1  0.0  0.0  1.0  0.0  0.0  1.0  \n",
       "2  0.0  0.0  1.0  1.0  0.0  0.0  \n",
       "3  0.0  1.0  0.0  0.0  1.0  0.0  \n",
       "4  0.0  1.0  0.0  0.0  0.0  1.0  \n",
       "\n",
       "[5 rows x 21 columns]"
      ]
     },
     "execution_count": 32,
     "metadata": {},
     "output_type": "execute_result"
    }
   ],
   "source": [
    "### 转换后数据\n",
    "df2 = pd.DataFrame(X.toarray())\n",
    "df2.head(5)"
   ]
  },
  {
   "cell_type": "code",
   "execution_count": 33,
   "metadata": {
    "collapsed": false,
    "scrolled": false
   },
   "outputs": [
    {
     "name": "stdout",
     "output_type": "stream",
     "text": [
      "<class 'pandas.core.frame.DataFrame'>\n",
      "RangeIndex: 1728 entries, 0 to 1727\n",
      "Data columns (total 21 columns):\n",
      "0     1728 non-null float64\n",
      "1     1728 non-null float64\n",
      "2     1728 non-null float64\n",
      "3     1728 non-null float64\n",
      "4     1728 non-null float64\n",
      "5     1728 non-null float64\n",
      "6     1728 non-null float64\n",
      "7     1728 non-null float64\n",
      "8     1728 non-null float64\n",
      "9     1728 non-null float64\n",
      "10    1728 non-null float64\n",
      "11    1728 non-null float64\n",
      "12    1728 non-null float64\n",
      "13    1728 non-null float64\n",
      "14    1728 non-null float64\n",
      "15    1728 non-null float64\n",
      "16    1728 non-null float64\n",
      "17    1728 non-null float64\n",
      "18    1728 non-null float64\n",
      "19    1728 non-null float64\n",
      "20    1728 non-null float64\n",
      "dtypes: float64(21)\n",
      "memory usage: 283.6 KB\n"
     ]
    }
   ],
   "source": [
    "df2.info()"
   ]
  },
  {
   "cell_type": "code",
   "execution_count": 34,
   "metadata": {
    "collapsed": true
   },
   "outputs": [],
   "source": [
    "X = X.toarray()"
   ]
  },
  {
   "cell_type": "code",
   "execution_count": 35,
   "metadata": {
    "collapsed": false
   },
   "outputs": [],
   "source": [
    "# 1. 使用随机森林实现扩展\n",
    "rte = RandomTreesEmbedding(n_estimators=100, max_depth=7)\n",
    "enc = OneHotEncoder()\n",
    "rte.fit(X)\n",
    "enc.fit(rte.apply(X))\n",
    "X = enc.transform(rte.apply(X))"
   ]
  },
  {
   "cell_type": "code",
   "execution_count": 39,
   "metadata": {
    "collapsed": false
   },
   "outputs": [
    {
     "data": {
      "text/plain": [
       "(1728, 12700)"
      ]
     },
     "execution_count": 39,
     "metadata": {},
     "output_type": "execute_result"
    }
   ],
   "source": [
    "np.shape(X)"
   ]
  },
  {
   "cell_type": "code",
   "execution_count": 15,
   "metadata": {
    "collapsed": true
   },
   "outputs": [],
   "source": [
    "# 2. 做一个KBest的特征选择\n",
    "sk = SelectKBest(chi2, k=5000)\n",
    "sk.fit(X, Y)\n",
    "X = sk.transform(X)"
   ]
  },
  {
   "cell_type": "code",
   "execution_count": 16,
   "metadata": {
    "collapsed": false
   },
   "outputs": [
    {
     "data": {
      "text/plain": [
       "(1728, 5000)"
      ]
     },
     "execution_count": 16,
     "metadata": {},
     "output_type": "execute_result"
    }
   ],
   "source": [
    "np.shape(X)"
   ]
  },
  {
   "cell_type": "code",
   "execution_count": 42,
   "metadata": {
    "collapsed": true
   },
   "outputs": [],
   "source": [
    "# 3. 使用SelectFromModel+GBDT做特征选择\n",
    "sfm = SelectFromModel(GradientBoostingClassifier(), threshold=0.000001)\n",
    "sfm.fit(X, Y)\n",
    "X = sfm.transform(X)"
   ]
  },
  {
   "cell_type": "code",
   "execution_count": 43,
   "metadata": {
    "collapsed": false
   },
   "outputs": [
    {
     "data": {
      "text/plain": [
       "(1728, 874)"
      ]
     },
     "execution_count": 43,
     "metadata": {},
     "output_type": "execute_result"
    }
   ],
   "source": [
    "np.shape(X)"
   ]
  },
  {
   "cell_type": "code",
   "execution_count": 19,
   "metadata": {
    "collapsed": false
   },
   "outputs": [],
   "source": [
    "# 4. 做PCA降维\n",
    "X = X.toarray()\n",
    "pca = PCA(n_components=100)\n",
    "pca.fit(X)\n",
    "X = pca.transform(X)"
   ]
  },
  {
   "cell_type": "code",
   "execution_count": 20,
   "metadata": {
    "collapsed": false
   },
   "outputs": [
    {
     "data": {
      "text/html": [
       "<div>\n",
       "<table border=\"1\" class=\"dataframe\">\n",
       "  <thead>\n",
       "    <tr style=\"text-align: right;\">\n",
       "      <th></th>\n",
       "      <th>0</th>\n",
       "      <th>1</th>\n",
       "      <th>2</th>\n",
       "      <th>3</th>\n",
       "      <th>4</th>\n",
       "      <th>5</th>\n",
       "      <th>6</th>\n",
       "      <th>7</th>\n",
       "      <th>8</th>\n",
       "      <th>9</th>\n",
       "      <th>...</th>\n",
       "      <th>90</th>\n",
       "      <th>91</th>\n",
       "      <th>92</th>\n",
       "      <th>93</th>\n",
       "      <th>94</th>\n",
       "      <th>95</th>\n",
       "      <th>96</th>\n",
       "      <th>97</th>\n",
       "      <th>98</th>\n",
       "      <th>99</th>\n",
       "    </tr>\n",
       "  </thead>\n",
       "  <tbody>\n",
       "    <tr>\n",
       "      <th>0</th>\n",
       "      <td>-0.150607</td>\n",
       "      <td>0.002638</td>\n",
       "      <td>-0.030090</td>\n",
       "      <td>0.439218</td>\n",
       "      <td>-0.161143</td>\n",
       "      <td>-0.022285</td>\n",
       "      <td>-0.184742</td>\n",
       "      <td>-0.588047</td>\n",
       "      <td>0.072815</td>\n",
       "      <td>-0.114582</td>\n",
       "      <td>...</td>\n",
       "      <td>-0.102403</td>\n",
       "      <td>-0.124766</td>\n",
       "      <td>-0.045336</td>\n",
       "      <td>-0.035005</td>\n",
       "      <td>0.081434</td>\n",
       "      <td>0.000653</td>\n",
       "      <td>0.302419</td>\n",
       "      <td>0.009855</td>\n",
       "      <td>-0.057261</td>\n",
       "      <td>0.018714</td>\n",
       "    </tr>\n",
       "    <tr>\n",
       "      <th>1</th>\n",
       "      <td>-0.377087</td>\n",
       "      <td>0.017868</td>\n",
       "      <td>-0.074897</td>\n",
       "      <td>0.763909</td>\n",
       "      <td>-0.083085</td>\n",
       "      <td>0.024057</td>\n",
       "      <td>-0.204760</td>\n",
       "      <td>-0.418201</td>\n",
       "      <td>-0.019547</td>\n",
       "      <td>0.237400</td>\n",
       "      <td>...</td>\n",
       "      <td>0.249814</td>\n",
       "      <td>-0.085547</td>\n",
       "      <td>0.223135</td>\n",
       "      <td>0.315133</td>\n",
       "      <td>0.016173</td>\n",
       "      <td>-0.107058</td>\n",
       "      <td>0.053611</td>\n",
       "      <td>0.109241</td>\n",
       "      <td>0.335640</td>\n",
       "      <td>0.069532</td>\n",
       "    </tr>\n",
       "    <tr>\n",
       "      <th>2</th>\n",
       "      <td>0.336511</td>\n",
       "      <td>-0.047612</td>\n",
       "      <td>-0.160980</td>\n",
       "      <td>0.839839</td>\n",
       "      <td>-0.411284</td>\n",
       "      <td>0.227246</td>\n",
       "      <td>-0.383982</td>\n",
       "      <td>-0.317136</td>\n",
       "      <td>0.098322</td>\n",
       "      <td>0.253336</td>\n",
       "      <td>...</td>\n",
       "      <td>0.092244</td>\n",
       "      <td>0.100825</td>\n",
       "      <td>-0.242471</td>\n",
       "      <td>-0.344868</td>\n",
       "      <td>0.106186</td>\n",
       "      <td>0.173086</td>\n",
       "      <td>0.187702</td>\n",
       "      <td>0.362565</td>\n",
       "      <td>-0.050099</td>\n",
       "      <td>-0.007632</td>\n",
       "    </tr>\n",
       "    <tr>\n",
       "      <th>3</th>\n",
       "      <td>-0.184976</td>\n",
       "      <td>-0.230141</td>\n",
       "      <td>0.087474</td>\n",
       "      <td>0.311627</td>\n",
       "      <td>-0.248707</td>\n",
       "      <td>0.001120</td>\n",
       "      <td>-0.445984</td>\n",
       "      <td>-0.596026</td>\n",
       "      <td>0.231876</td>\n",
       "      <td>-0.088655</td>\n",
       "      <td>...</td>\n",
       "      <td>0.062850</td>\n",
       "      <td>0.095529</td>\n",
       "      <td>-0.305709</td>\n",
       "      <td>-0.005652</td>\n",
       "      <td>0.004877</td>\n",
       "      <td>-0.048576</td>\n",
       "      <td>0.104552</td>\n",
       "      <td>0.017026</td>\n",
       "      <td>0.207919</td>\n",
       "      <td>0.047540</td>\n",
       "    </tr>\n",
       "    <tr>\n",
       "      <th>4</th>\n",
       "      <td>-0.413767</td>\n",
       "      <td>-0.244062</td>\n",
       "      <td>0.139471</td>\n",
       "      <td>0.101171</td>\n",
       "      <td>-0.156600</td>\n",
       "      <td>0.070104</td>\n",
       "      <td>-0.617955</td>\n",
       "      <td>-0.509945</td>\n",
       "      <td>0.279583</td>\n",
       "      <td>0.145779</td>\n",
       "      <td>...</td>\n",
       "      <td>0.294468</td>\n",
       "      <td>0.009144</td>\n",
       "      <td>-0.380667</td>\n",
       "      <td>0.153808</td>\n",
       "      <td>-0.067713</td>\n",
       "      <td>-0.278032</td>\n",
       "      <td>0.057977</td>\n",
       "      <td>-0.048459</td>\n",
       "      <td>0.180371</td>\n",
       "      <td>0.040718</td>\n",
       "    </tr>\n",
       "  </tbody>\n",
       "</table>\n",
       "<p>5 rows × 100 columns</p>\n",
       "</div>"
      ],
      "text/plain": [
       "         0         1         2         3         4         5         6   \\\n",
       "0 -0.150607  0.002638 -0.030090  0.439218 -0.161143 -0.022285 -0.184742   \n",
       "1 -0.377087  0.017868 -0.074897  0.763909 -0.083085  0.024057 -0.204760   \n",
       "2  0.336511 -0.047612 -0.160980  0.839839 -0.411284  0.227246 -0.383982   \n",
       "3 -0.184976 -0.230141  0.087474  0.311627 -0.248707  0.001120 -0.445984   \n",
       "4 -0.413767 -0.244062  0.139471  0.101171 -0.156600  0.070104 -0.617955   \n",
       "\n",
       "         7         8         9     ...           90        91        92  \\\n",
       "0 -0.588047  0.072815 -0.114582    ...    -0.102403 -0.124766 -0.045336   \n",
       "1 -0.418201 -0.019547  0.237400    ...     0.249814 -0.085547  0.223135   \n",
       "2 -0.317136  0.098322  0.253336    ...     0.092244  0.100825 -0.242471   \n",
       "3 -0.596026  0.231876 -0.088655    ...     0.062850  0.095529 -0.305709   \n",
       "4 -0.509945  0.279583  0.145779    ...     0.294468  0.009144 -0.380667   \n",
       "\n",
       "         93        94        95        96        97        98        99  \n",
       "0 -0.035005  0.081434  0.000653  0.302419  0.009855 -0.057261  0.018714  \n",
       "1  0.315133  0.016173 -0.107058  0.053611  0.109241  0.335640  0.069532  \n",
       "2 -0.344868  0.106186  0.173086  0.187702  0.362565 -0.050099 -0.007632  \n",
       "3 -0.005652  0.004877 -0.048576  0.104552  0.017026  0.207919  0.047540  \n",
       "4  0.153808 -0.067713 -0.278032  0.057977 -0.048459  0.180371  0.040718  \n",
       "\n",
       "[5 rows x 100 columns]"
      ]
     },
     "execution_count": 20,
     "metadata": {},
     "output_type": "execute_result"
    }
   ],
   "source": [
    "pd.DataFrame(X).head(5)"
   ]
  },
  {
   "cell_type": "code",
   "execution_count": null,
   "metadata": {
    "collapsed": true
   },
   "outputs": [],
   "source": []
  }
 ],
 "metadata": {
  "kernelspec": {
   "display_name": "Python 3",
   "language": "python",
   "name": "python3"
  },
  "language_info": {
   "codemirror_mode": {
    "name": "ipython",
    "version": 3
   },
   "file_extension": ".py",
   "mimetype": "text/x-python",
   "name": "python",
   "nbconvert_exporter": "python",
   "pygments_lexer": "ipython3",
   "version": "3.6.6"
  }
 },
 "nbformat": 4,
 "nbformat_minor": 2
}
