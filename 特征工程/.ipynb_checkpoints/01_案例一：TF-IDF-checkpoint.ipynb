{
 "cells": [
  {
   "cell_type": "code",
   "execution_count": 1,
   "metadata": {
    "collapsed": true
   },
   "outputs": [],
   "source": [
    "import pandas as pd\n",
    "import numpy as np\n",
    "from sklearn.feature_extraction.text import TfidfVectorizer,CountVectorizer,HashingVectorizer,TfidfTransformer"
   ]
  },
  {
   "cell_type": "code",
   "execution_count": 2,
   "metadata": {
    "collapsed": false
   },
   "outputs": [],
   "source": [
    "arr1 = [\n",
    "    \"This is spark, spark sql a every good\",\n",
    "    \"Spark Hadoop Hbase\",\n",
    "    \"This is sample\",\n",
    "    \"This is anthor example anthor example\",\n",
    "    \"spark hbase hadoop spark hive hbase hue oozie\",\n",
    "    \"hue oozie spark\"\n",
    "]\n",
    "arr2 = [\n",
    "    \"this is a sample a example\",\n",
    "    \"this c c cd is another another sample example example\",\n",
    "    \"spark Hbase hadoop Spark hive hbase\"\n",
    "]\n",
    "df = arr2"
   ]
  },
  {
   "cell_type": "code",
   "execution_count": 3,
   "metadata": {
    "collapsed": false
   },
   "outputs": [
    {
     "name": "stdout",
     "output_type": "stream",
     "text": [
      "[[ 0.          0.          0.5         0.          0.          0.          0.5\n",
      "   0.5         0.          0.5       ]\n",
      " [ 0.66486672  0.33243336  0.50564828  0.          0.          0.\n",
      "   0.25282414  0.25282414  0.          0.25282414]\n",
      " [ 0.          0.          0.          0.31622777  0.63245553  0.31622777\n",
      "   0.          0.          0.63245553  0.        ]]\n",
      "['another', 'cd', 'example', 'hadoop', 'hbase', 'hive', 'is', 'sample', 'spark', 'this']\n",
      "None\n",
      "转换另外的文档数据\n",
      "[[ 0.          0.          0.          0.          0.          0.\n",
      "   0.3349067   0.          0.88072413  0.3349067 ]\n",
      " [ 0.          0.          0.          0.57735027  0.57735027  0.          0.\n",
      "   0.          0.57735027  0.        ]\n",
      " [ 0.          0.          0.          0.          0.          0.\n",
      "   0.57735027  0.57735027  0.          0.57735027]\n",
      " [ 0.          0.          0.81649658  0.          0.          0.\n",
      "   0.40824829  0.          0.          0.40824829]\n",
      " [ 0.          0.          0.          0.31622777  0.63245553  0.31622777\n",
      "   0.          0.          0.63245553  0.        ]\n",
      " [ 0.          0.          0.          0.          0.          0.          0.\n",
      "   0.          1.          0.        ]]\n"
     ]
    }
   ],
   "source": [
    "## 相当TF+IDF(先做词袋法再做IDF转换)\n",
    "tfidf = TfidfVectorizer(min_df=0, dtype=np.float64)\n",
    "df2 = tfidf.fit_transform(df)\n",
    "print (df2.toarray())\n",
    "print (tfidf.get_feature_names())\n",
    "print (tfidf.get_stop_words())\n",
    "print (\"转换另外的文档数据\")\n",
    "print (tfidf.transform(arr1).toarray())"
   ]
  },
  {
   "cell_type": "code",
   "execution_count": 12,
   "metadata": {
    "collapsed": false
   },
   "outputs": [
    {
     "name": "stdout",
     "output_type": "stream",
     "text": [
      "[[ 0.  0.  1.  0.  0.  0.  1.  1.  0.  1.]\n",
      " [ 2.  1.  2.  0.  0.  0.  1.  1.  0.  1.]\n",
      " [ 0.  0.  0.  1.  2.  1.  0.  0.  2.  0.]]\n",
      "None\n",
      "['another', 'cd', 'example', 'hadoop', 'hbase', 'hive', 'is', 'sample', 'spark', 'this']\n",
      "转换另外的文档数据\n",
      "[[ 0.  0.  0.  0.  0.  0.  1.  0.  2.  1.]\n",
      " [ 0.  0.  0.  1.  1.  0.  0.  0.  1.  0.]\n",
      " [ 0.  0.  0.  0.  0.  0.  1.  1.  0.  1.]\n",
      " [ 0.  0.  2.  0.  0.  0.  1.  0.  0.  1.]\n",
      " [ 0.  0.  0.  1.  2.  1.  0.  0.  2.  0.]\n",
      " [ 0.  0.  0.  0.  0.  0.  0.  0.  1.  0.]]\n",
      "  (0, 2)\t1.0\n",
      "  (0, 7)\t1.0\n",
      "  (0, 6)\t1.0\n",
      "  (0, 9)\t1.0\n",
      "  (1, 0)\t2.0\n",
      "  (1, 1)\t1.0\n",
      "  (1, 2)\t2.0\n",
      "  (1, 7)\t1.0\n",
      "  (1, 6)\t1.0\n",
      "  (1, 9)\t1.0\n",
      "  (2, 5)\t1.0\n",
      "  (2, 3)\t1.0\n",
      "  (2, 4)\t2.0\n",
      "  (2, 8)\t2.0\n"
     ]
    }
   ],
   "source": [
    "# 相当于词袋法\n",
    "count = CountVectorizer(min_df=0.1, dtype=np.float64, ngram_range=(0,1))\n",
    "df4 = count.fit_transform(df)\n",
    "print (df4.toarray())\n",
    "print (count.get_stop_words())\n",
    "print (count.get_feature_names())\n",
    "print (\"转换另外的文档数据\")\n",
    "print (count.transform(arr1).toarray())\n",
    "print(df4)"
   ]
  },
  {
   "cell_type": "code",
   "execution_count": 14,
   "metadata": {
    "collapsed": false
   },
   "outputs": [
    {
     "name": "stdout",
     "output_type": "stream",
     "text": [
      "[[ 0.          0.          0.5         0.          0.          0.          0.5\n",
      "   0.5         0.          0.5       ]\n",
      " [ 0.66486672  0.33243336  0.50564828  0.          0.          0.\n",
      "   0.25282414  0.25282414  0.          0.25282414]\n",
      " [ 0.          0.          0.          0.31622777  0.63245553  0.31622777\n",
      "   0.          0.          0.63245553  0.        ]]\n",
      "转换另外的文档数据\n",
      "[[ 0.          0.          0.          0.          0.          0.\n",
      "   0.3349067   0.          0.88072413  0.3349067 ]\n",
      " [ 0.          0.          0.          0.57735027  0.57735027  0.          0.\n",
      "   0.          0.57735027  0.        ]\n",
      " [ 0.          0.          0.          0.          0.          0.\n",
      "   0.57735027  0.57735027  0.          0.57735027]\n",
      " [ 0.          0.          0.81649658  0.          0.          0.\n",
      "   0.40824829  0.          0.          0.40824829]\n",
      " [ 0.          0.          0.          0.31622777  0.63245553  0.31622777\n",
      "   0.          0.          0.63245553  0.        ]\n",
      " [ 0.          0.          0.          0.          0.          0.          0.\n",
      "   0.          1.          0.        ]]\n"
     ]
    }
   ],
   "source": [
    "# 基于TF的值(词袋法或者HashTF)，做一个IDF的转换\n",
    "tfidf2 = TfidfTransformer()\n",
    "df5 = tfidf2.fit_transform(df4)\n",
    "print (df5.toarray())\n",
    "print (\"转换另外的文档数据\")\n",
    "print (tfidf2.transform(count.transform(arr1)).toarray())"
   ]
  },
  {
   "cell_type": "code",
   "execution_count": 11,
   "metadata": {
    "collapsed": false
   },
   "outputs": [
    {
     "name": "stdout",
     "output_type": "stream",
     "text": [
      "[[ 0.  1.  1.  0.  0.  0.  0.  1.  0.  1.]\n",
      " [ 0.  1.  1.  0.  1.  0.  2.  1.  0.  2.]\n",
      " [ 1.  2.  0.  0.  0.  0.  2.  0.  1.  0.]]\n",
      "None\n",
      "转换另外的文档数据\n",
      "[[ 0.  2.  0.  0.  0.  0.  0.  1.  1.  1.]\n",
      " [ 0.  1.  0.  0.  0.  0.  1.  0.  1.  0.]\n",
      " [ 0.  1.  1.  0.  0.  0.  0.  1.  0.  0.]\n",
      " [ 0.  0.  1.  0.  2.  0.  0.  1.  0.  2.]\n",
      " [ 1.  2.  0.  0.  1.  0.  1.  0.  1.  0.]\n",
      " [ 0.  1.  0.  0.  1.  0.  1.  0.  0.  0.]]\n"
     ]
    }
   ],
   "source": [
    "# 相当于以单词的hash值作为特征\n",
    "hashing = HashingVectorizer(n_features=10, non_negative=True, norm=None)\n",
    "df3 = hashing.fit_transform(df)\n",
    "print (df3.toarray())\n",
    "print (hashing.get_stop_words())\n",
    "print (\"转换另外的文档数据\")\n",
    "print (hashing.transform(arr1).toarray())"
   ]
  },
  {
   "cell_type": "code",
   "execution_count": 15,
   "metadata": {
    "collapsed": false,
    "scrolled": false
   },
   "outputs": [
    {
     "data": {
      "text/plain": [
       "['him',\n",
       " 'love',\n",
       " 'not',\n",
       " 'posting',\n",
       " 'so',\n",
       " 'has',\n",
       " 'dalmation',\n",
       " 'licks',\n",
       " 'stop',\n",
       " 'mr',\n",
       " 'help',\n",
       " 'is',\n",
       " 'problems',\n",
       " 'garbage',\n",
       " 'take',\n",
       " 'stupid',\n",
       " 'quit',\n",
       " 'how',\n",
       " 'buying',\n",
       " 'worthless',\n",
       " 'I',\n",
       " 'food',\n",
       " 'to',\n",
       " 'flea',\n",
       " 'dog',\n",
       " 'steak',\n",
       " 'park',\n",
       " 'cute',\n",
       " 'ate',\n",
       " 'maybe',\n",
       " 'my',\n",
       " 'please']"
      ]
     },
     "execution_count": 15,
     "metadata": {},
     "output_type": "execute_result"
    }
   ],
   "source": [
    "dataset = [['my', 'dog', 'dog', 'has', 'flea', 'problems', 'help', 'please'],\n",
    "         ['maybe', 'not', 'take', 'him', 'to', 'dog', 'park', 'stupid'],\n",
    "         ['my', 'dalmation', 'is', 'so', 'cute', 'I', 'love', 'him'],\n",
    "         ['stop', 'posting', 'stupid', 'worthless', 'garbage'],\n",
    "         ['mr', 'licks', 'ate', 'my', 'steak', 'how', 'to', 'stop', 'him'],\n",
    "         ['quit','worthless', 'buying', 'worthless', 'dog', 'food', 'stupid']]\n",
    "# 计算存在哪些单词，以这些单词作为特征\n",
    "vocabSet = set()\n",
    "for doc in dataset:\n",
    "    vocabSet |= set(doc)\n",
    "vocabList = list(vocabSet)\n",
    "vocabList"
   ]
  },
  {
   "cell_type": "code",
   "execution_count": 21,
   "metadata": {
    "collapsed": false
   },
   "outputs": [
    {
     "name": "stdout",
     "output_type": "stream",
     "text": [
      "['dog', 'dog', 'help']\n",
      "[0, 0, 0, 0, 0, 0, 0, 0, 0, 0, 1, 0, 0, 0, 0, 0, 0, 0, 0, 0, 0, 0, 0, 0, 1, 0, 0, 0, 0, 0, 0, 0]\n",
      "['not', 'take', 'him']\n",
      "[1, 0, 1, 0, 0, 0, 0, 0, 0, 0, 0, 0, 0, 0, 1, 0, 0, 0, 0, 0, 0, 0, 0, 0, 0, 0, 0, 0, 0, 0, 0, 0]\n"
     ]
    }
   ],
   "source": [
    "dataset = [\n",
    "    ['dog', 'dog', 'help'],\n",
    "    ['not', 'take', 'him']\n",
    "]\n",
    "\n",
    "# 词集法：只要文本中出现了这个单词(特征信息), 那么对应的特征值设置为1\n",
    "SOW = []\n",
    "for doc in dataset:\n",
    "    # 构建当前文本doc对应的词向量vec\n",
    "    vec = [0]*len(vocabList)\n",
    "    \n",
    "    # 遍历所有单词，查看该单词是否在当前文本doc中出现\n",
    "    for i, word in enumerate(vocabList):\n",
    "        if word in doc:\n",
    "            vec[i] = 1\n",
    "    SOW.append(vec) \n",
    "\n",
    "# 词袋法：将文本中该单词出现的数量作为特征值\n",
    "BOW = []\n",
    "for doc in dataset:\n",
    "    # 构建当前文本doc对应的词向量vec\n",
    "    vec = [0]*len(vocabList)\n",
    "     # 遍历文本中所有的单词，计算各个单词出现的次数做累加\n",
    "    for word in doc:\n",
    "        vec[vocabList.index(word)] += 1\n",
    "    BOW.append(vec)"
   ]
  },
  {
   "cell_type": "code",
   "execution_count": 22,
   "metadata": {
    "collapsed": false
   },
   "outputs": [
    {
     "name": "stdout",
     "output_type": "stream",
     "text": [
      "词袋法以及词集法\n",
      "[[0 0 0 0 0 0 0 0 0 0 1 0 0 0 0 0 0 0 0 0 0 0 0 0 2 0 0 0 0 0 0 0]\n",
      " [1 0 1 0 0 0 0 0 0 0 0 0 0 0 1 0 0 0 0 0 0 0 0 0 0 0 0 0 0 0 0 0]]\n",
      "[[0 0 0 0 0 0 0 0 0 0 1 0 0 0 0 0 0 0 0 0 0 0 0 0 1 0 0 0 0 0 0 0]\n",
      " [1 0 1 0 0 0 0 0 0 0 0 0 0 0 1 0 0 0 0 0 0 0 0 0 0 0 0 0 0 0 0 0]]\n"
     ]
    }
   ],
   "source": [
    "print (\"词袋法以及词集法\")\n",
    "print (np.array(BOW))\n",
    "print (np.array(SOW))"
   ]
  },
  {
   "cell_type": "code",
   "execution_count": null,
   "metadata": {
    "collapsed": true
   },
   "outputs": [],
   "source": []
  }
 ],
 "metadata": {
  "kernelspec": {
   "display_name": "Python 3",
   "language": "python",
   "name": "python3"
  },
  "language_info": {
   "codemirror_mode": {
    "name": "ipython",
    "version": 3
   },
   "file_extension": ".py",
   "mimetype": "text/x-python",
   "name": "python",
   "nbconvert_exporter": "python",
   "pygments_lexer": "ipython3",
   "version": "3.6.6"
  }
 },
 "nbformat": 4,
 "nbformat_minor": 2
}
