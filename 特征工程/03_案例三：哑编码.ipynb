{
 "cells": [
  {
   "cell_type": "code",
   "execution_count": 1,
   "metadata": {
    "collapsed": true
   },
   "outputs": [],
   "source": [
    "from sklearn.preprocessing import OneHotEncoder\n",
    "from sklearn.feature_extraction import DictVectorizer,FeatureHasher\n",
    "import numpy as np\n",
    "import pandas as pd\n",
    "from pandas import DataFrame"
   ]
  },
  {
   "cell_type": "code",
   "execution_count": 14,
   "metadata": {
    "collapsed": false
   },
   "outputs": [
    {
     "name": "stdout",
     "output_type": "stream",
     "text": [
      "[[0 0 3]\n",
      " [2 1 0]\n",
      " [0 2 1]\n",
      " [1 0 2]\n",
      " [1 1 1]]\n",
      "编码结果 [3 3 4]\n",
      "原来的特征(进行哑编码的)在新的特征矩阵中的位置映射关系:\n",
      "[ 0  3  6 10]\n"
     ]
    },
    {
     "data": {
      "text/plain": [
       "array([[ 0.,  1.,  0.,  0.,  0.,  1.,  0.,  0.,  1.,  0.],\n",
       "       [ 0.,  0.,  1.,  0.,  0.,  1.,  0.,  0.,  1.,  0.]])"
      ]
     },
     "execution_count": 14,
     "metadata": {},
     "output_type": "execute_result"
    }
   ],
   "source": [
    "# OneHotEncoder要求数据类别必须是数值的\n",
    "# categorical_features：给定对那些列的数据进行哑编码操作，默认是对所有类数据做\n",
    "# n_values：明确给定各个特征属性的类别数目，其实是最大值-最小值+1\n",
    "# enc = OneHotEncoder(categorical_features=[1,2])\n",
    "# enc = OneHotEncoder(n_values=[3, 3, 4])\n",
    "enc = OneHotEncoder()\n",
    "a=np.array([[0, 0, 3], [2, 1, 0], [0, 2, 1], [1, 0, 2],[1,1,1]])\n",
    "enc.fit(a) \n",
    "print(a)\n",
    "print(\"编码结果\",enc.n_values_)\n",
    "print(\"原来的特征(进行哑编码的)在新的特征矩阵中的位置映射关系:\")\n",
    "print(enc.feature_indices_)\n",
    "enc.transform([[1, 2, 2],[2, 2, 2]]).toarray()"
   ]
  },
  {
   "cell_type": "code",
   "execution_count": 3,
   "metadata": {
    "collapsed": false
   },
   "outputs": [
    {
     "data": {
      "text/html": [
       "<div>\n",
       "<table border=\"1\" class=\"dataframe\">\n",
       "  <thead>\n",
       "    <tr style=\"text-align: right;\">\n",
       "      <th></th>\n",
       "      <th>c2</th>\n",
       "      <th>c3</th>\n",
       "      <th>c1_a</th>\n",
       "      <th>c1_b</th>\n",
       "      <th>c1_c</th>\n",
       "    </tr>\n",
       "  </thead>\n",
       "  <tbody>\n",
       "    <tr>\n",
       "      <th>0</th>\n",
       "      <td>1</td>\n",
       "      <td>2</td>\n",
       "      <td>1</td>\n",
       "      <td>0</td>\n",
       "      <td>0</td>\n",
       "    </tr>\n",
       "    <tr>\n",
       "      <th>1</th>\n",
       "      <td>1</td>\n",
       "      <td>1</td>\n",
       "      <td>0</td>\n",
       "      <td>1</td>\n",
       "      <td>0</td>\n",
       "    </tr>\n",
       "    <tr>\n",
       "      <th>2</th>\n",
       "      <td>2</td>\n",
       "      <td>1</td>\n",
       "      <td>1</td>\n",
       "      <td>0</td>\n",
       "      <td>0</td>\n",
       "    </tr>\n",
       "    <tr>\n",
       "      <th>3</th>\n",
       "      <td>1</td>\n",
       "      <td>2</td>\n",
       "      <td>0</td>\n",
       "      <td>0</td>\n",
       "      <td>1</td>\n",
       "    </tr>\n",
       "    <tr>\n",
       "      <th>4</th>\n",
       "      <td>1</td>\n",
       "      <td>2</td>\n",
       "      <td>0</td>\n",
       "      <td>0</td>\n",
       "      <td>1</td>\n",
       "    </tr>\n",
       "  </tbody>\n",
       "</table>\n",
       "</div>"
      ],
      "text/plain": [
       "   c2  c3  c1_a  c1_b  c1_c\n",
       "0   1   2     1     0     0\n",
       "1   1   1     0     1     0\n",
       "2   2   1     1     0     0\n",
       "3   1   2     0     0     1\n",
       "4   1   2     0     0     1"
      ]
     },
     "execution_count": 3,
     "metadata": {},
     "output_type": "execute_result"
    }
   ],
   "source": [
    "# 如果类别数据是字符串类型的，可以使用pandas的API进行哑编码转换\n",
    "a = DataFrame([\n",
    "    ['a', 1, 2],\n",
    "    ['b', 1, 1],\n",
    "    ['a', 2, 1],\n",
    "    ['c', 1, 2],\n",
    "    ['c', 1, 2]\n",
    "], columns=['c1', 'c2', 'c3'])\n",
    "a = pd.get_dummies(a)\n",
    "a"
   ]
  },
  {
   "cell_type": "code",
   "execution_count": 4,
   "metadata": {
    "collapsed": false
   },
   "outputs": [
    {
     "name": "stdout",
     "output_type": "stream",
     "text": [
      "[[ 2.2  0.   1. ]\n",
      " [ 0.   2.   3. ]]\n",
      "['bar', 'baz', 'foo']\n",
      "[[ 0.  0.  4.]]\n"
     ]
    }
   ],
   "source": [
    "# sparse：最终产生的结果是否是稀疏化矩阵，默认为True，一般不改动\n",
    "dv = DictVectorizer(sparse=False)\n",
    "D = [{'foo':1, 'bar':2.2}, {'foo':3, 'baz': 2}]\n",
    "X = dv.fit_transform(D)\n",
    "print (X)\n",
    "# 直接把字典中的key作为特征，value作为特征值，然后构建特征矩阵\n",
    "print (dv.get_feature_names())\n",
    "print (dv.transform({'foo':4, 'unseen':3}))"
   ]
  },
  {
   "cell_type": "code",
   "execution_count": 5,
   "metadata": {
    "collapsed": false
   },
   "outputs": [
    {
     "data": {
      "text/plain": [
       "array([[-1.,  2., -4.],\n",
       "       [-2., -5.,  0.]])"
      ]
     },
     "execution_count": 5,
     "metadata": {},
     "output_type": "execute_result"
    }
   ],
   "source": [
    "h = FeatureHasher(n_features=3)\n",
    "D = [{'dog': 1, 'cat':2, 'elephant':4},{'dog': 2, 'run': 5}]\n",
    "# 直接以hash值计算结果 -- 该方式一般不用\n",
    "f = h.transform(D)\n",
    "f.toarray()"
   ]
  },
  {
   "cell_type": "code",
   "execution_count": null,
   "metadata": {
    "collapsed": true
   },
   "outputs": [],
   "source": []
  }
 ],
 "metadata": {
  "kernelspec": {
   "display_name": "Python 3",
   "language": "python",
   "name": "python3"
  },
  "language_info": {
   "codemirror_mode": {
    "name": "ipython",
    "version": 3
   },
   "file_extension": ".py",
   "mimetype": "text/x-python",
   "name": "python",
   "nbconvert_exporter": "python",
   "pygments_lexer": "ipython3",
   "version": "3.6.6"
  }
 },
 "nbformat": 4,
 "nbformat_minor": 2
}
