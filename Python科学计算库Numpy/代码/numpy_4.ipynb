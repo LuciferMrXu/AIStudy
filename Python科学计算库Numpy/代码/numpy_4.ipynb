{
 "cells": [
  {
   "cell_type": "code",
   "execution_count": 2,
   "metadata": {},
   "outputs": [
    {
     "name": "stdout",
     "output_type": "stream",
     "text": [
      "[0 1 2]\n",
      "[1.         2.71828183 7.3890561 ]\n",
      "[0.         1.         1.41421356]\n"
     ]
    }
   ],
   "source": [
    "import numpy as np\n",
    "B = np.arange(3)\n",
    "print (B)\n",
    "print (np.exp(B))\n",
    "print (np.sqrt(B))"
   ]
  },
  {
   "cell_type": "code",
   "execution_count": 11,
   "metadata": {},
   "outputs": [
    {
     "name": "stdout",
     "output_type": "stream",
     "text": [
      "[[0.99172624 0.61018467 0.16474646 0.11934687]\n",
      " [0.33936912 0.50774099 0.09295327 0.61628149]\n",
      " [0.74284054 0.71179083 0.0597464  0.97981425]]\n",
      "[[9. 6. 1. 1.]\n",
      " [3. 5. 0. 6.]\n",
      " [7. 7. 0. 9.]]\n",
      "--------\n",
      "(3, 4)\n",
      "[9. 6. 1. 1. 3. 5. 0. 6. 7. 7. 0. 9.]\n",
      "--------\n",
      "[[9. 6.]\n",
      " [1. 1.]\n",
      " [3. 5.]\n",
      " [0. 6.]\n",
      " [7. 7.]\n",
      " [0. 9.]]\n",
      "--------\n",
      "[[9. 1. 3. 0. 7. 0.]\n",
      " [6. 1. 5. 6. 7. 9.]]\n",
      "[[9. 6. 1. 1.]\n",
      " [3. 5. 0. 6.]\n",
      " [7. 7. 0. 9.]]\n"
     ]
    }
   ],
   "source": [
    "#Return the floor of the input\n",
    "b=np.random.random((3,4))\n",
    "print(b)\n",
    "a = np.floor(10*b)\n",
    "print (a)\n",
    "print ('--------')\n",
    "print(a.shape)\n",
    "## flatten the array\n",
    "print (a.ravel())\n",
    "print ('--------')\n",
    "a.shape = (6, 2)\n",
    "print (a) \n",
    "print ('--------')\n",
    "print (a.T)\n",
    "\n",
    "#If a dimension is given as -1 in a reshaping operation, the other dimensions are automatically calculated:\n",
    "print(a.reshape(3,-1))"
   ]
  },
  {
   "cell_type": "code",
   "execution_count": 12,
   "metadata": {},
   "outputs": [
    {
     "name": "stdout",
     "output_type": "stream",
     "text": [
      "[[8. 2.]\n",
      " [6. 8.]]\n",
      "---\n",
      "[[2. 7.]\n",
      " [2. 2.]]\n",
      "---\n",
      "[[8. 2.]\n",
      " [6. 8.]\n",
      " [2. 7.]\n",
      " [2. 2.]]\n",
      "[[8. 2. 2. 7.]\n",
      " [6. 8. 2. 2.]]\n"
     ]
    }
   ],
   "source": [
    "a = np.floor(10*np.random.random((2,2)))\n",
    "b = np.floor(10*np.random.random((2,2)))\n",
    "print (a)\n",
    "print ('---')\n",
    "print (b)\n",
    "print ('---')\n",
    "print (np.vstack((a,b)))\n",
    "print(np.hstack((a,b)))"
   ]
  },
  {
   "cell_type": "code",
   "execution_count": 17,
   "metadata": {},
   "outputs": [
    {
     "name": "stdout",
     "output_type": "stream",
     "text": [
      "[[3. 3. 1. 1. 0. 9. 7. 7. 8. 6. 4. 4.]\n",
      " [6. 8. 9. 1. 1. 4. 2. 4. 6. 2. 7. 8.]]\n",
      "---\n",
      "[array([[3., 3., 1., 1.],\n",
      "       [6., 8., 9., 1.]]), array([[0., 9., 7., 7.],\n",
      "       [1., 4., 2., 4.]]), array([[8., 6., 4., 4.],\n",
      "       [6., 2., 7., 8.]])]\n",
      "---\n",
      "[array([[3., 3., 1.],\n",
      "       [6., 8., 9.]]), array([[1.],\n",
      "       [1.]]), array([[0., 9., 7., 7., 8., 6., 4., 4.],\n",
      "       [1., 4., 2., 4., 6., 2., 7., 8.]])]\n",
      "---\n",
      "[[3. 7.]\n",
      " [4. 6.]\n",
      " [4. 0.]\n",
      " [0. 5.]\n",
      " [4. 8.]\n",
      " [8. 0.]\n",
      " [8. 1.]\n",
      " [9. 6.]\n",
      " [7. 5.]\n",
      " [4. 9.]\n",
      " [6. 8.]\n",
      " [7. 0.]]\n"
     ]
    },
    {
     "data": {
      "text/plain": [
       "[array([[3., 7.],\n",
       "        [4., 6.],\n",
       "        [4., 0.],\n",
       "        [0., 5.]]), array([[4., 8.],\n",
       "        [8., 0.],\n",
       "        [8., 1.],\n",
       "        [9., 6.]]), array([[7., 5.],\n",
       "        [4., 9.],\n",
       "        [6., 8.],\n",
       "        [7., 0.]])]"
      ]
     },
     "execution_count": 17,
     "metadata": {},
     "output_type": "execute_result"
    }
   ],
   "source": [
    "a = np.floor(10*np.random.random((2,12)))\n",
    "print (a)\n",
    "print ('---')\n",
    "print (np.hsplit(a,3))\n",
    "print ('---')\n",
    "print (np.hsplit(a,(3,4)))   # Split a after the third and the fourth column\n",
    "a = np.floor(10*np.random.random((12,2)))\n",
    "print ('---')\n",
    "print (a)\n",
    "np.vsplit(a,3)"
   ]
  },
  {
   "cell_type": "code",
   "execution_count": 18,
   "metadata": {},
   "outputs": [
    {
     "name": "stdout",
     "output_type": "stream",
     "text": [
      "True\n",
      "(3, 4)\n",
      "1934150565520\n",
      "1934150565520\n"
     ]
    }
   ],
   "source": [
    "#Simple assignments make no copy of array objects or of their data.\n",
    "a = np.arange(12)\n",
    "b = a\n",
    "# a and b are two names for the same ndarray object\n",
    "print (b is a)\n",
    "b.shape = 3,4\n",
    "print (a.shape)\n",
    "print (id(a))\n",
    "print (id(b))"
   ]
  },
  {
   "cell_type": "code",
   "execution_count": 22,
   "metadata": {},
   "outputs": [
    {
     "name": "stdout",
     "output_type": "stream",
     "text": [
      "False\n",
      "(3, 4)\n",
      "[[   0    1    2    3 1234    5]\n",
      " [   6    7    8    9   10   11]]\n",
      "[[   0    1    2    3]\n",
      " [1234    5    6    7]\n",
      " [   8    9   10   11]]\n",
      "1934150565520\n",
      "1934150615888\n"
     ]
    }
   ],
   "source": [
    "#The view method creates a new array object that looks at the same data.\n",
    "c = a.view()\n",
    "print (c is a)\n",
    "c.shape = 2,6\n",
    "print (a.shape)\n",
    "c[0,4] = 1234\n",
    "print(c)\n",
    "print (a)\n",
    "print (id(a))\n",
    "print (id(c))"
   ]
  },
  {
   "cell_type": "code",
   "execution_count": 23,
   "metadata": {},
   "outputs": [
    {
     "name": "stdout",
     "output_type": "stream",
     "text": [
      "False\n",
      "[[9999    1    2    3]\n",
      " [1234    5    6    7]\n",
      " [   8    9   10   11]]\n",
      "[[   0    1    2    3]\n",
      " [1234    5    6    7]\n",
      " [   8    9   10   11]]\n"
     ]
    }
   ],
   "source": [
    "#The copy method makes a complete copy of the array and its data.\n",
    "d = a.copy() \n",
    "print(d is a)\n",
    "d[0,0] = 9999\n",
    "print (d) \n",
    "print (a)"
   ]
  },
  {
   "cell_type": "code",
   "execution_count": null,
   "metadata": {
    "collapsed": true
   },
   "outputs": [],
   "source": []
  }
 ],
 "metadata": {
  "anaconda-cloud": {},
  "kernelspec": {
   "display_name": "Python 3",
   "language": "python",
   "name": "python3"
  },
  "language_info": {
   "codemirror_mode": {
    "name": "ipython",
    "version": 3
   },
   "file_extension": ".py",
   "mimetype": "text/x-python",
   "name": "python",
   "nbconvert_exporter": "python",
   "pygments_lexer": "ipython3",
   "version": "3.6.5"
  }
 },
 "nbformat": 4,
 "nbformat_minor": 1
}
