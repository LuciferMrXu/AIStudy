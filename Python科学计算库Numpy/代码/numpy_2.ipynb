{
 "cells": [
  {
   "cell_type": "code",
   "execution_count": 1,
   "metadata": {},
   "outputs": [
    {
     "data": {
      "text/plain": [
       "array([False,  True, False, False])"
      ]
     },
     "execution_count": 1,
     "metadata": {},
     "output_type": "execute_result"
    }
   ],
   "source": [
    "import numpy\n",
    "#it will compare the second value to each element in the vector\n",
    "# If the values are equal, the Python interpreter returns True; otherwise, it returns False\n",
    "vector = numpy.array([5, 10, 15, 20])\n",
    "vector == 10"
   ]
  },
  {
   "cell_type": "code",
   "execution_count": 10,
   "metadata": {},
   "outputs": [
    {
     "data": {
      "text/plain": [
       "array([[False, False, False],\n",
       "       [False,  True, False],\n",
       "       [False, False, False]], dtype=bool)"
      ]
     },
     "execution_count": 10,
     "metadata": {},
     "output_type": "execute_result"
    }
   ],
   "source": [
    "matrix = numpy.array([\n",
    "                    [5, 10, 15], \n",
    "                    [20, 25, 30],\n",
    "                    [35, 40, 45]\n",
    "                 ])\n",
    "matrix == 25"
   ]
  },
  {
   "cell_type": "code",
   "execution_count": 2,
   "metadata": {},
   "outputs": [
    {
     "name": "stdout",
     "output_type": "stream",
     "text": [
      "[False  True False False]\n",
      "[10]\n"
     ]
    }
   ],
   "source": [
    "#Compares vector to the value 10, which generates a new Boolean vector [False, True, False, False]. It assigns this result to equal_to_ten\n",
    "vector = numpy.array([5, 10, 15, 20])\n",
    "equal_to_ten = (vector == 10)\n",
    "print(equal_to_ten)\n",
    "print(vector[equal_to_ten])"
   ]
  },
  {
   "cell_type": "code",
   "execution_count": 7,
   "metadata": {},
   "outputs": [
    {
     "name": "stdout",
     "output_type": "stream",
     "text": [
      "[False  True False]\n",
      "[25]\n"
     ]
    }
   ],
   "source": [
    "matrix = numpy.array([\n",
    "                [5, 10, 15], \n",
    "                [20, 25, 30],\n",
    "                [35, 40, 45]\n",
    "             ])\n",
    "second_column_25 = (matrix[:,1] == 25)\n",
    "print(second_column_25)\n",
    "print(matrix[second_column_25, 1])"
   ]
  },
  {
   "cell_type": "code",
   "execution_count": 9,
   "metadata": {},
   "outputs": [
    {
     "name": "stdout",
     "output_type": "stream",
     "text": [
      "[False False False False]\n"
     ]
    }
   ],
   "source": [
    "#We can also perform comparisons with multiple conditions\n",
    "vector = numpy.array([5, 10, 15, 20])\n",
    "equal_to_ten_and_five = (vector == 10) & (vector == 5)\n",
    "print(equal_to_ten_and_five)"
   ]
  },
  {
   "cell_type": "code",
   "execution_count": 10,
   "metadata": {},
   "outputs": [
    {
     "name": "stdout",
     "output_type": "stream",
     "text": [
      "[ True  True False False]\n"
     ]
    }
   ],
   "source": [
    "vector = numpy.array([5, 10, 15, 20])\n",
    "equal_to_ten_or_five = (vector == 10) | (vector == 5)\n",
    "print(equal_to_ten_or_five)"
   ]
  },
  {
   "cell_type": "code",
   "execution_count": 15,
   "metadata": {},
   "outputs": [
    {
     "name": "stdout",
     "output_type": "stream",
     "text": [
      "[111 111  15  20]\n"
     ]
    }
   ],
   "source": [
    "vector = numpy.array([5, 10, 15, 20])\n",
    "equal_to_ten_or_five = (vector == 10) | (vector == 5)\n",
    "vector[equal_to_ten_or_five] =111\n",
    "print(vector)"
   ]
  },
  {
   "cell_type": "code",
   "execution_count": 32,
   "metadata": {},
   "outputs": [
    {
     "name": "stdout",
     "output_type": "stream",
     "text": [
      "[ True False False]\n",
      "[[  5 111  15]\n",
      " [ 20  25  30]\n",
      " [ 35  40  45]]\n"
     ]
    }
   ],
   "source": [
    "matrix = numpy.array([\n",
    "            [5, 10, 15], \n",
    "            [20, 25, 30],\n",
    "            [35, 40, 45]\n",
    "         ])\n",
    "second_column_10 =(matrix[:,1]==10)\n",
    "print(second_column_10)\n",
    "matrix[second_column_10,1] = 111\n",
    "print(matrix)"
   ]
  },
  {
   "cell_type": "code",
   "execution_count": 36,
   "metadata": {},
   "outputs": [
    {
     "name": "stdout",
     "output_type": "stream",
     "text": [
      "<U1\n",
      "['1' '2' '3']\n",
      "float32\n",
      "[1. 2. 3.]\n"
     ]
    }
   ],
   "source": [
    "#We can convert the data type of an array with the ndarray.astype() method.\n",
    "vector = numpy.array([\"1\", \"2\", \"3\"])\n",
    "print (vector.dtype)\n",
    "print (vector)\n",
    "vector = vector.astype('float32')\n",
    "print (vector.dtype)\n",
    "print (vector)"
   ]
  },
  {
   "cell_type": "code",
   "execution_count": 39,
   "metadata": {},
   "outputs": [
    {
     "data": {
      "text/plain": [
       "5"
      ]
     },
     "execution_count": 39,
     "metadata": {},
     "output_type": "execute_result"
    }
   ],
   "source": [
    "vector = numpy.array([5, 10, 15, 20])\n",
    "vector.min()\n",
    "# print (help(numpy.array))"
   ]
  },
  {
   "cell_type": "code",
   "execution_count": 42,
   "metadata": {},
   "outputs": [
    {
     "data": {
      "text/plain": [
       "array([ 30,  75, 120])"
      ]
     },
     "execution_count": 42,
     "metadata": {},
     "output_type": "execute_result"
    }
   ],
   "source": [
    "# The axis dictates which dimension we perform the operation on\n",
    "#1 means that we want to perform the operation on each row, and 0 means on each column\n",
    "matrix = numpy.array([\n",
    "                [5, 10, 15], \n",
    "                [20, 25, 30],\n",
    "                [35, 40, 45]\n",
    "             ])\n",
    "matrix.sum(axis=1)"
   ]
  },
  {
   "cell_type": "code",
   "execution_count": 21,
   "metadata": {},
   "outputs": [
    {
     "data": {
      "text/plain": [
       "array([60, 75, 90])"
      ]
     },
     "execution_count": 21,
     "metadata": {},
     "output_type": "execute_result"
    }
   ],
   "source": [
    "matrix = numpy.array([\n",
    "                [5, 10, 15], \n",
    "                [20, 25, 30],\n",
    "                [35, 40, 45]\n",
    "             ])\n",
    "matrix.sum(axis=0)\n"
   ]
  },
  {
   "cell_type": "code",
   "execution_count": 46,
   "metadata": {},
   "outputs": [
    {
     "name": "stdout",
     "output_type": "stream",
     "text": [
      "[[      nan       nan       nan       nan       nan]\n",
      " [1.986e+03       nan       nan       nan 0.000e+00]\n",
      " [1.986e+03       nan       nan       nan 5.000e-01]\n",
      " ...\n",
      " [1.987e+03       nan       nan       nan 7.500e-01]\n",
      " [1.989e+03       nan       nan       nan 1.500e+00]\n",
      " [1.985e+03       nan       nan       nan 3.100e-01]]\n",
      "[ True False False False False False False False False False False False\n",
      " False False False False False False False False False False False False\n",
      " False  True False False False False  True False False False False False\n",
      " False False False False False False False False False  True False False\n",
      " False False False False False False False False False False False False\n",
      " False False False False False False False False False False False False\n",
      " False False False False False False False False False False False False\n",
      "  True False False False False False False False False False  True False\n",
      " False False False False False False  True False False False False False\n",
      " False False False False False False False False False False False False\n",
      " False False False False False False False False False False False False\n",
      " False False False False False False False False False False False False\n",
      " False False False False  True  True False False False False False False\n",
      " False False False False False False False False False False False False\n",
      " False False False False False False False False False False False False\n",
      " False False False False False False False False False False False False\n",
      " False False False False False False False False False  True False False\n",
      " False False False False False False False False False False False False\n",
      " False False False  True False False False False False  True False False\n",
      " False False False  True False False False False False False False False\n",
      "  True False False False False False False False False False False False\n",
      " False False False False False False False False False False False False\n",
      " False False False False  True False False False False False False False\n",
      " False False False False False False False False False False False False\n",
      " False False False False False False False False False  True False False\n",
      " False False False False False False False False False False False False\n",
      " False False False False False False False False False False False False\n",
      " False False False False False False  True False False False False False\n",
      " False False False False False False False False False False False False\n",
      " False False False False  True False False False False False False False\n",
      " False False False False False False False False False False  True False\n",
      " False False  True False False False False False False False False False\n",
      " False False False False False False  True False False False False False\n",
      " False False False False False False  True False  True  True False False\n",
      " False False False  True False False False False False  True False  True\n",
      " False False False False False False False False False False False False\n",
      " False False False False False False False False False False False False\n",
      " False False False False False False False False False False False False\n",
      " False False False False False False False False False False False False\n",
      " False False False False False False False False False  True False False\n",
      " False False False False False False False False  True False False False\n",
      " False False False False False False False False False False  True False\n",
      " False False False False  True False False  True False False False False\n",
      " False  True False False False False False False False False False False\n",
      " False False False False False False False False False False False False\n",
      " False False False False False False  True  True False False False False\n",
      " False  True False False False False False False False False False False\n",
      " False False False False False False False False False False False False\n",
      "  True False False False False False  True False False  True False False\n",
      "  True False False  True False False False False False False False False\n",
      " False False False False  True False False False False False False False\n",
      " False False False False False False False False False False False  True\n",
      " False False False False False False False False False False False False\n",
      " False False False False False False False  True False False False False\n",
      " False False False False False False False False False False False False\n",
      " False False False False False False False False  True  True False False\n",
      " False False False False False False False False False False False False\n",
      " False False False False False False False False False False False False\n",
      " False False False False False False False False False False False False\n",
      " False False False False False False False False False False False False\n",
      " False False False False False False False False False False False False\n",
      " False False False False False False False False False False False  True\n",
      " False False False False False False False False False False False False\n",
      " False False False  True False False False  True False False False False\n",
      " False False False False False False False False False False False  True\n",
      " False False False False False False False False False False False False\n",
      " False False False False False  True False False False False False  True\n",
      " False False False False False False False False False False False  True\n",
      " False False False False False False False False False False False False\n",
      " False False False False False False False False False False False False\n",
      " False False  True False False False False False False False False False\n",
      "  True  True False  True False False False False False False False False\n",
      " False False False False False False False False False False False False\n",
      " False False False False False False False False False False False False\n",
      " False False False False False False False False False False False  True\n",
      " False False False False False False False False False False False False\n",
      " False False False False False False False False False False False False\n",
      " False False False False False False  True  True False  True False False\n",
      "  True  True False False False False  True False False False False False\n",
      " False False False False False False False False False  True False False\n",
      " False False False False False False False False False False False False\n",
      " False False  True False False False False False False False  True False\n",
      " False  True False False False False False False False False False False\n",
      " False False]\n",
      "[0.000e+00 0.000e+00 5.000e-01 1.620e+00 4.270e+00 1.980e+00 0.000e+00\n",
      " 1.300e-01 3.900e-01 1.550e+00 6.100e+00 2.000e-01 6.200e-01 0.000e+00\n",
      " 0.000e+00 5.000e-02 7.000e-02 6.000e-02 2.230e+00 1.620e+00 1.080e+00\n",
      " 0.000e+00 4.510e+00 2.670e+00 4.400e-01 0.000e+00 0.000e+00 1.360e+00\n",
      " 2.220e+00 1.100e-01 0.000e+00 4.480e+00 0.000e+00 1.600e+00 0.000e+00\n",
      " 8.000e-01 2.240e+00 7.000e-02 3.040e+00 0.000e+00 1.000e-02 1.900e+00\n",
      " 6.820e+00 3.060e+00 3.000e-02 0.000e+00 1.900e-01 2.260e+00 4.000e-02\n",
      " 7.000e-01 1.490e+00 3.000e-01 3.880e+00 0.000e+00 0.000e+00 1.810e+00\n",
      " 4.000e-02 0.000e+00 5.100e+00 0.000e+00 0.000e+00 0.000e+00 8.000e-02\n",
      " 0.000e+00 0.000e+00 1.260e+00 0.000e+00 1.000e-02 0.000e+00 1.200e-01\n",
      " 4.200e-01 1.020e+00 5.700e-01 0.000e+00 1.000e-02 2.060e+00 0.000e+00\n",
      " 2.000e-02 1.000e-02 0.000e+00 2.090e+00 8.400e-01 2.540e+00 2.250e+00\n",
      " 0.000e+00 0.000e+00 1.000e-02 1.830e+00 1.000e-02 4.200e-01 7.000e-01\n",
      " 1.000e-02 4.430e+00 0.000e+00 0.000e+00 3.060e+00 0.000e+00 7.380e+00\n",
      " 0.000e+00 0.000e+00 0.000e+00 1.490e+00 0.000e+00 1.000e-02 3.000e-02\n",
      " 0.000e+00 1.900e-01 0.000e+00 1.960e+00 2.600e-01 6.360e+00 1.420e+00\n",
      " 2.730e+00 7.900e-01 2.020e+00 2.840e+00 7.360e+00 3.400e-01 1.640e+00\n",
      " 1.000e-02 1.170e+00 3.600e-01 0.000e+00 0.000e+00 3.550e+00 7.010e+00\n",
      " 4.120e+00 3.080e+00 1.140e+00 1.020e+00 7.200e-01 3.440e+00 1.140e+00\n",
      " 2.600e+00 7.010e+00 2.700e+00 1.000e-02 0.000e+00 1.000e-02 0.000e+00\n",
      " 0.000e+00 9.600e-01 9.000e-02 1.550e+00 7.490e+00 0.000e+00 0.000e+00\n",
      " 3.350e+00 0.000e+00 0.000e+00 4.400e-01 3.690e+00 2.990e+00 8.300e-01\n",
      " 4.610e+00 7.420e+00 1.250e+00 5.400e-01 0.000e+00 1.400e-01 3.400e-01\n",
      " 2.060e+00 2.270e+00 8.900e+00 5.800e-01 0.000e+00 1.000e-02 4.300e-01\n",
      " 1.450e+00 0.000e+00 0.000e+00 7.400e-01 1.570e+00 1.000e-02 3.120e+00\n",
      " 3.680e+00 3.490e+00 3.560e+00 2.070e+00 3.420e+00 3.000e-02 9.900e-01\n",
      " 1.000e-02 2.210e+00 0.000e+00 1.300e-01 5.000e-02 1.160e+00 4.200e-01\n",
      " 3.000e-02 0.000e+00 0.000e+00 4.810e+00 1.600e-01 1.000e-02 1.100e-01\n",
      " 2.960e+00 0.000e+00 9.600e-01 1.024e+01 7.000e-02 0.000e+00 1.690e+00\n",
      " 1.000e-02 6.400e-01 0.000e+00 2.800e-01 1.000e-02 4.500e+00 3.100e+00\n",
      " 0.000e+00 6.080e+00 1.000e-02 2.800e-01 0.000e+00 2.940e+00 1.020e+00\n",
      " 1.940e+00 0.000e+00 0.000e+00 3.020e+00 2.720e+00 3.040e+00 4.400e-01\n",
      " 1.010e+00 0.000e+00 7.000e-02 4.800e-01 1.500e-01 1.700e-01 2.760e+00\n",
      " 0.000e+00 1.800e-01 1.120e+00 7.000e-02 4.300e-01 8.000e-02 2.320e+00\n",
      " 1.000e-02 0.000e+00 0.000e+00 1.740e+00 6.730e+00 0.000e+00 5.000e-01\n",
      " 2.750e+00 0.000e+00 3.600e-01 6.490e+00 9.000e-02 1.240e+00 7.500e-01\n",
      " 3.000e-02 1.000e-02 2.500e-01 3.340e+00 1.610e+00 5.900e-01 3.000e-02\n",
      " 1.900e+00 0.000e+00 0.000e+00 3.000e-02 1.220e+00 2.500e-01 2.360e+00\n",
      " 2.000e-01 1.320e+00 0.000e+00 5.000e-02 2.300e+00 1.000e-01 5.800e-01\n",
      " 1.650e+00 1.790e+00 1.270e+00 0.000e+00 8.000e-02 3.820e+00 0.000e+00\n",
      " 0.000e+00 0.000e+00 4.360e+00 1.890e+00 0.000e+00 0.000e+00 1.750e+00\n",
      " 0.000e+00 5.200e-01 1.000e-02 0.000e+00 3.000e-02 2.100e-01 0.000e+00\n",
      " 8.330e+00 2.000e-02 7.100e-01 0.000e+00 3.720e+00 0.000e+00 1.900e-01\n",
      " 0.000e+00 0.000e+00 0.000e+00 1.710e+00 1.300e-01 0.000e+00 4.900e-01\n",
      " 0.000e+00 0.000e+00 5.160e+00 0.000e+00 1.100e-01 5.000e-02 0.000e+00\n",
      " 1.980e+00 0.000e+00 9.000e-01 0.000e+00 0.000e+00 3.000e-02 1.900e-01\n",
      " 8.700e-01 3.300e-01 0.000e+00 1.000e-02 7.730e+00 0.000e+00 0.000e+00\n",
      " 0.000e+00 0.000e+00 1.840e+00 2.000e+00 1.090e+01 0.000e+00 2.000e-02\n",
      " 0.000e+00 9.700e-01 7.000e-02 0.000e+00 1.510e+00 0.000e+00 1.510e+00\n",
      " 0.000e+00 1.800e+00 1.000e-02 7.000e+00 0.000e+00 4.600e-01 5.000e+00\n",
      " 1.620e+00 1.100e-01 0.000e+00 5.000e+00 3.000e+00 0.000e+00 0.000e+00\n",
      " 0.000e+00 0.000e+00 5.700e-01 2.960e+00 2.700e-01 0.000e+00 3.300e-01\n",
      " 1.480e+00 0.000e+00 0.000e+00 9.400e-01 2.000e-02 5.090e+00 0.000e+00\n",
      " 4.390e+00 0.000e+00 4.910e+00 0.000e+00 0.000e+00 9.000e-02 1.340e+00\n",
      " 0.000e+00 1.100e-01 0.000e+00 8.000e-02 0.000e+00 0.000e+00 1.000e-02\n",
      " 1.000e-02 0.000e+00 4.770e+00 0.000e+00 1.100e-01 0.000e+00 6.500e-01\n",
      " 1.800e-01 1.900e+00 5.400e-01 0.000e+00 2.000e-01 4.080e+00 9.000e-02\n",
      " 4.540e+00 2.000e-02 0.000e+00 0.000e+00 1.370e+00 0.000e+00 0.000e+00\n",
      " 6.000e-02 1.630e+00 2.000e-02 2.810e+00 0.000e+00 0.000e+00 0.000e+00\n",
      " 0.000e+00 3.000e-01 1.000e-02 2.900e-01 0.000e+00 6.000e-02 0.000e+00\n",
      " 1.450e+00 3.300e+00 1.000e-02 2.650e+00 1.400e-01 0.000e+00 0.000e+00\n",
      " 0.000e+00 1.180e+00 8.000e-02 1.500e-01 9.000e-01 8.800e-01 2.000e-02\n",
      " 3.560e+00 4.420e+00 1.950e+00 1.000e-02 4.800e-01 0.000e+00 6.700e-01\n",
      " 3.500e-01 0.000e+00 1.750e+00 1.200e-01 4.000e-02 0.000e+00 1.010e+00\n",
      " 7.000e-02 7.580e+00 0.000e+00 1.800e-01 6.000e-02 6.000e-02 4.000e-02\n",
      " 2.610e+00 2.500e-01 7.860e+00 0.000e+00 5.000e-02 6.500e-01 0.000e+00\n",
      " 0.000e+00 9.700e-01 4.500e-01 2.090e+00 4.000e-02 1.000e-02 7.720e+00\n",
      " 0.000e+00 2.870e+00 0.000e+00 3.210e+00 0.000e+00 1.030e+00 5.180e+00\n",
      " 1.900e+00 0.000e+00 2.600e-01 1.450e+00 0.000e+00 0.000e+00 0.000e+00\n",
      " 0.000e+00 5.600e-01 9.000e-02 2.100e+00 0.000e+00 0.000e+00 1.400e-01\n",
      " 4.000e-02 1.830e+00 0.000e+00 3.900e-01 0.000e+00 2.600e-01 8.680e+00\n",
      " 2.950e+00 0.000e+00 1.000e-01 1.320e+00 0.000e+00 0.000e+00 1.650e+00\n",
      " 2.160e+00 5.100e+00 2.220e+00 6.000e-02 0.000e+00 6.900e+00 6.970e+00\n",
      " 0.000e+00 3.600e-01 2.550e+00 1.410e+00 1.000e-02 2.500e-01 0.000e+00\n",
      " 5.400e-01 2.930e+00 0.000e+00 1.000e-02 1.000e-02 2.100e-01 6.400e-01\n",
      " 3.800e-01 4.500e-01 1.320e+00 1.000e-02 4.170e+00 1.730e+00 7.800e+00\n",
      " 4.000e-02 0.000e+00 0.000e+00 2.460e+00 3.820e+00 6.000e-02 0.000e+00\n",
      " 1.540e+00 5.210e+00 2.210e+00 0.000e+00 3.600e-01 6.620e+00 1.480e+00\n",
      " 0.000e+00 0.000e+00 4.940e+00 9.200e-01 9.000e-02 2.680e+00 8.100e-01\n",
      " 0.000e+00 3.000e-02 0.000e+00 7.200e-01 6.100e-01 2.300e-01 2.000e-02\n",
      " 0.000e+00 5.950e+00 0.000e+00 0.000e+00 2.500e-01 0.000e+00 2.390e+00\n",
      " 2.350e+00 1.650e+00 0.000e+00 1.010e+01 1.490e+00 1.300e+00 1.550e+00\n",
      " 0.000e+00 1.700e-01 0.000e+00 8.200e-01 2.000e-02 2.450e+00 1.000e-01\n",
      " 1.170e+00 0.000e+00 9.000e-02 4.040e+00 0.000e+00 4.000e-02 3.450e+00\n",
      " 0.000e+00 1.780e+00 0.000e+00 0.000e+00 1.400e-01 7.200e-01 2.030e+00\n",
      " 0.000e+00 2.450e+00 2.450e+00 1.660e+00 0.000e+00 2.900e-01 5.100e-01\n",
      " 1.120e+00 2.690e+00 0.000e+00 6.650e+00 2.030e+00 2.200e+00 0.000e+00\n",
      " 7.000e-01 1.770e+00 5.070e+00 6.000e-02 4.800e-01 0.000e+00 1.590e+00\n",
      " 0.000e+00 2.590e+00 1.260e+00 1.380e+00 1.000e-02 0.000e+00 3.280e+00\n",
      " 0.000e+00 2.000e-02 0.000e+00 2.250e+00 0.000e+00 0.000e+00 6.200e-01\n",
      " 1.200e-01 1.320e+00 6.300e-01 4.000e-02 1.600e-01 6.000e-02 7.900e-01\n",
      " 1.600e-01 0.000e+00 0.000e+00 1.120e+01 0.000e+00 8.000e-02 0.000e+00\n",
      " 2.320e+00 2.000e-02 0.000e+00 4.000e-02 3.700e+00 1.000e+00 2.070e+00\n",
      " 0.000e+00 1.660e+00 1.030e+00 8.500e-01 5.000e-02 5.000e-02 1.170e+00\n",
      " 1.840e+00 0.000e+00 1.260e+00 2.720e+00 3.000e-02 0.000e+00 1.200e-01\n",
      " 1.800e+00 3.050e+00 2.000e-02 0.000e+00 0.000e+00 1.100e-01 3.490e+00\n",
      " 0.000e+00 5.800e-01 1.000e-02 2.400e-01 1.500e-01 1.080e+00 5.140e+00\n",
      " 3.660e+00 1.100e-01 1.800e+00 1.690e+00 0.000e+00 8.000e-02 0.000e+00\n",
      " 2.470e+00 1.050e+00 5.200e-01 5.900e-01 0.000e+00 2.320e+00 1.350e+01\n",
      " 0.000e+00 8.300e-01 0.000e+00 1.000e-02 0.000e+00 1.830e+00 2.530e+00\n",
      " 0.000e+00 3.190e+00 0.000e+00 7.000e-02 1.000e-02 1.000e-02 9.000e-01\n",
      " 3.970e+00 1.140e+00 1.560e+00 9.200e-01 9.500e-01 0.000e+00 0.000e+00\n",
      " 1.650e+00 0.000e+00 9.400e-01 3.900e-01 0.000e+00 3.320e+00 0.000e+00\n",
      " 2.360e+00 3.440e+00 0.000e+00 2.700e-01 5.270e+00 3.700e+00 3.340e+00\n",
      " 0.000e+00 1.570e+00 1.300e+00 9.000e-02 5.200e-01 2.890e+00 1.410e+00\n",
      " 0.000e+00 0.000e+00 2.960e+00 2.950e+00 4.000e-02 0.000e+00 0.000e+00\n",
      " 5.100e-01 0.000e+00 1.600e-01 0.000e+00 8.000e-01 3.080e+00 5.680e+00\n",
      " 0.000e+00 0.000e+00 6.000e-02 0.000e+00 8.500e-01 2.060e+00 7.000e-02\n",
      " 4.600e-01 2.500e+00 0.000e+00 0.000e+00 1.130e+00 2.800e-01 8.000e-01\n",
      " 0.000e+00 2.950e+00 7.000e-02 2.830e+00 8.200e-01 1.150e+00 6.000e-02\n",
      " 4.440e+00 1.150e+00 0.000e+00 0.000e+00 4.700e-01 1.200e-01 3.100e-01\n",
      " 1.500e-01 8.000e-02 0.000e+00 3.030e+00 1.050e+00 3.670e+00 1.000e-01\n",
      " 2.000e-02 2.970e+00 1.550e+00 2.280e+00 0.000e+00 2.450e+00 0.000e+00\n",
      " 0.000e+00 1.600e-01 3.200e-01 3.500e-01 1.020e+00 0.000e+00 0.000e+00\n",
      " 3.000e-02 2.460e+00 4.080e+00 9.300e-01 4.110e+00 0.000e+00 1.950e+00\n",
      " 1.390e+00 3.330e+00 4.200e-01 4.000e-02 2.700e-01 1.500e-01 2.000e-02\n",
      " 3.110e+00 0.000e+00 3.100e-01 0.000e+00 1.900e-01 2.000e-02 0.000e+00\n",
      " 0.000e+00 2.000e-02 1.000e-02 1.100e-01 3.850e+00 1.000e-02 1.500e-01\n",
      " 1.320e+00 0.000e+00 9.000e-02 2.000e-02 3.600e-01 1.000e-02 4.730e+00\n",
      " 1.170e+00 1.000e-02 0.000e+00 2.200e-01 9.000e-01 0.000e+00 0.000e+00\n",
      " 1.000e-02 2.660e+00 0.000e+00 0.000e+00 1.000e-01 3.300e-01 0.000e+00\n",
      " 0.000e+00 1.300e-01 1.000e-01 2.200e-01 2.480e+00 0.000e+00 0.000e+00\n",
      " 2.800e-01 0.000e+00 7.000e-02 1.000e-02 7.400e-01 6.140e+00 1.560e+00\n",
      " 2.820e+00 1.000e-02 7.390e+00 4.000e-02 1.200e-01 0.000e+00 7.000e-02\n",
      " 2.750e+00 2.100e-01 0.000e+00 1.000e-02 2.600e-01 8.800e-01 6.100e-01\n",
      " 1.500e-01 4.380e+00 1.100e-01 1.340e+00 2.820e+00 1.000e-02 1.090e+00\n",
      " 1.000e-02 3.870e+00 0.000e+00 1.210e+00 0.000e+00 3.110e+00 0.000e+00\n",
      " 1.400e+00 1.890e+00 2.000e-02 1.000e-02 1.390e+00 5.600e-01 4.200e+00\n",
      " 0.000e+00 6.000e-02 0.000e+00 0.000e+00 3.400e-01 9.400e-01 2.190e+00\n",
      " 6.930e+00 1.720e+00 2.010e+00 9.000e-02 1.690e+00 2.490e+00 1.000e-01\n",
      " 0.000e+00 1.080e+00 1.000e-02 1.000e-02 1.900e-01 6.860e+00 3.990e+00\n",
      " 2.600e+00 0.000e+00 1.400e-01 1.100e-01 0.000e+00 7.900e-01 3.000e-02\n",
      " 1.000e-02 2.010e+00 2.960e+00 2.500e-01 8.000e-02 0.000e+00 0.000e+00\n",
      " 0.000e+00 0.000e+00 0.000e+00 4.000e-02 0.000e+00 0.000e+00 0.000e+00\n",
      " 6.550e+00 0.000e+00 4.000e-02 0.000e+00 0.000e+00 1.000e-02 1.600e-01\n",
      " 0.000e+00 5.000e-01 7.170e+00 2.320e+00 2.400e-01 4.300e-01 7.000e-02\n",
      " 1.910e+00 5.220e+00 3.600e-01 2.300e-01 1.100e-01 0.000e+00 0.000e+00\n",
      " 0.000e+00 4.900e-01 1.050e+00 0.000e+00 2.000e-02 1.510e+00 3.500e+00\n",
      " 1.800e-01 1.970e+00 1.000e-02 0.000e+00 9.800e-01 3.880e+00 0.000e+00\n",
      " 8.000e-02 0.000e+00 0.000e+00 2.040e+00 2.240e+00 0.000e+00 3.550e+00\n",
      " 0.000e+00 1.000e-02 0.000e+00 3.000e-02 1.770e+00 0.000e+00 1.690e+00\n",
      " 2.500e-01 1.850e+00 4.500e-01 8.500e-01 1.045e+01 0.000e+00 3.000e-02\n",
      " 2.410e+00 7.500e-01 1.500e+00 3.100e-01]\n",
      "[0.000e+00 0.000e+00 5.000e-01 1.620e+00 4.270e+00 1.980e+00 0.000e+00\n",
      " 1.300e-01 3.900e-01 1.550e+00 6.100e+00 2.000e-01 6.200e-01 0.000e+00\n",
      " 0.000e+00 5.000e-02 7.000e-02 6.000e-02 2.230e+00 1.620e+00 1.080e+00\n",
      " 0.000e+00 4.510e+00 2.670e+00 4.400e-01 0.000e+00 0.000e+00 1.360e+00\n",
      " 2.220e+00 1.100e-01 0.000e+00 4.480e+00 0.000e+00 1.600e+00 0.000e+00\n",
      " 8.000e-01 2.240e+00 7.000e-02 3.040e+00 0.000e+00 1.000e-02 1.900e+00\n",
      " 6.820e+00 3.060e+00 3.000e-02 0.000e+00 1.900e-01 2.260e+00 4.000e-02\n",
      " 7.000e-01 1.490e+00 3.000e-01 3.880e+00 0.000e+00 0.000e+00 1.810e+00\n",
      " 4.000e-02 0.000e+00 5.100e+00 0.000e+00 0.000e+00 0.000e+00 8.000e-02\n",
      " 0.000e+00 0.000e+00 1.260e+00 0.000e+00 1.000e-02 0.000e+00 1.200e-01\n",
      " 4.200e-01 1.020e+00 5.700e-01 0.000e+00 1.000e-02 2.060e+00 0.000e+00\n",
      " 2.000e-02 1.000e-02 0.000e+00 2.090e+00 8.400e-01 2.540e+00 2.250e+00\n",
      " 0.000e+00 0.000e+00 1.000e-02 1.830e+00 1.000e-02 4.200e-01 7.000e-01\n",
      " 1.000e-02 4.430e+00 0.000e+00 0.000e+00 3.060e+00 0.000e+00 7.380e+00\n",
      " 0.000e+00 0.000e+00 0.000e+00 1.490e+00 0.000e+00 1.000e-02 3.000e-02\n",
      " 0.000e+00 1.900e-01 0.000e+00 1.960e+00 2.600e-01 6.360e+00 1.420e+00\n",
      " 2.730e+00 7.900e-01 2.020e+00 2.840e+00 7.360e+00 3.400e-01 1.640e+00\n",
      " 1.000e-02 1.170e+00 3.600e-01 0.000e+00 0.000e+00 3.550e+00 7.010e+00\n",
      " 4.120e+00 3.080e+00 1.140e+00 1.020e+00 7.200e-01 3.440e+00 1.140e+00\n",
      " 2.600e+00 7.010e+00 2.700e+00 1.000e-02 0.000e+00 1.000e-02 0.000e+00\n",
      " 0.000e+00 9.600e-01 9.000e-02 1.550e+00 7.490e+00 0.000e+00 0.000e+00\n",
      " 3.350e+00 0.000e+00 0.000e+00 4.400e-01 3.690e+00 2.990e+00 8.300e-01\n",
      " 4.610e+00 7.420e+00 1.250e+00 5.400e-01 0.000e+00 1.400e-01 3.400e-01\n",
      " 2.060e+00 2.270e+00 8.900e+00 5.800e-01 0.000e+00 1.000e-02 4.300e-01\n",
      " 1.450e+00 0.000e+00 0.000e+00 7.400e-01 1.570e+00 1.000e-02 3.120e+00\n",
      " 3.680e+00 3.490e+00 3.560e+00 2.070e+00 3.420e+00 3.000e-02 9.900e-01\n",
      " 1.000e-02 2.210e+00 0.000e+00 1.300e-01 5.000e-02 1.160e+00 4.200e-01\n",
      " 3.000e-02 0.000e+00 0.000e+00 4.810e+00 1.600e-01 1.000e-02 1.100e-01\n",
      " 2.960e+00 0.000e+00 9.600e-01 1.024e+01 7.000e-02 0.000e+00 1.690e+00\n",
      " 1.000e-02 6.400e-01 0.000e+00 2.800e-01 1.000e-02 4.500e+00 3.100e+00\n",
      " 0.000e+00 6.080e+00 1.000e-02 2.800e-01 0.000e+00 2.940e+00 1.020e+00\n",
      " 1.940e+00 0.000e+00 0.000e+00 3.020e+00 2.720e+00 3.040e+00 4.400e-01\n",
      " 1.010e+00 0.000e+00 7.000e-02 4.800e-01 1.500e-01 1.700e-01 2.760e+00\n",
      " 0.000e+00 1.800e-01 1.120e+00 7.000e-02 4.300e-01 8.000e-02 2.320e+00\n",
      " 1.000e-02 0.000e+00 0.000e+00 1.740e+00 6.730e+00 0.000e+00 5.000e-01\n",
      " 2.750e+00 0.000e+00 3.600e-01 6.490e+00 9.000e-02 1.240e+00 7.500e-01\n",
      " 3.000e-02 1.000e-02 2.500e-01 3.340e+00 1.610e+00 5.900e-01 3.000e-02\n",
      " 1.900e+00 0.000e+00 0.000e+00 3.000e-02 1.220e+00 2.500e-01 2.360e+00\n",
      " 2.000e-01 1.320e+00 0.000e+00 5.000e-02 2.300e+00 1.000e-01 5.800e-01\n",
      " 1.650e+00 1.790e+00 1.270e+00 0.000e+00 8.000e-02 3.820e+00 0.000e+00\n",
      " 0.000e+00 0.000e+00 4.360e+00 1.890e+00 0.000e+00 0.000e+00 1.750e+00\n",
      " 0.000e+00 5.200e-01 1.000e-02 0.000e+00 3.000e-02 2.100e-01 0.000e+00\n",
      " 8.330e+00 2.000e-02 7.100e-01 0.000e+00 3.720e+00 0.000e+00 1.900e-01\n",
      " 0.000e+00 0.000e+00 0.000e+00 1.710e+00 1.300e-01 0.000e+00 4.900e-01\n",
      " 0.000e+00 0.000e+00 5.160e+00 0.000e+00 1.100e-01 5.000e-02 0.000e+00\n",
      " 1.980e+00 0.000e+00 9.000e-01 0.000e+00 0.000e+00 3.000e-02 1.900e-01\n",
      " 8.700e-01 3.300e-01 0.000e+00 1.000e-02 7.730e+00 0.000e+00 0.000e+00\n",
      " 0.000e+00 0.000e+00 1.840e+00 2.000e+00 1.090e+01 0.000e+00 2.000e-02\n",
      " 0.000e+00 9.700e-01 7.000e-02 0.000e+00 1.510e+00 0.000e+00 1.510e+00\n",
      " 0.000e+00 1.800e+00 1.000e-02 7.000e+00 0.000e+00 4.600e-01 5.000e+00\n",
      " 1.620e+00 1.100e-01 0.000e+00 5.000e+00 3.000e+00 0.000e+00 0.000e+00\n",
      " 0.000e+00 0.000e+00 5.700e-01 2.960e+00 2.700e-01 0.000e+00 3.300e-01\n",
      " 1.480e+00 0.000e+00 0.000e+00 9.400e-01 2.000e-02 5.090e+00 0.000e+00\n",
      " 4.390e+00 0.000e+00 4.910e+00 0.000e+00 0.000e+00 9.000e-02 1.340e+00\n",
      " 0.000e+00 1.100e-01 0.000e+00 8.000e-02 0.000e+00 0.000e+00 1.000e-02\n",
      " 1.000e-02 0.000e+00 4.770e+00 0.000e+00 1.100e-01 0.000e+00 6.500e-01\n",
      " 1.800e-01 1.900e+00 5.400e-01 0.000e+00 2.000e-01 4.080e+00 9.000e-02\n",
      " 4.540e+00 2.000e-02 0.000e+00 0.000e+00 1.370e+00 0.000e+00 0.000e+00\n",
      " 6.000e-02 1.630e+00 2.000e-02 2.810e+00 0.000e+00 0.000e+00 0.000e+00\n",
      " 0.000e+00 3.000e-01 1.000e-02 2.900e-01 0.000e+00 6.000e-02 0.000e+00\n",
      " 1.450e+00 3.300e+00 1.000e-02 2.650e+00 1.400e-01 0.000e+00 0.000e+00\n",
      " 0.000e+00 1.180e+00 8.000e-02 1.500e-01 9.000e-01 8.800e-01 2.000e-02\n",
      " 3.560e+00 4.420e+00 1.950e+00 1.000e-02 4.800e-01 0.000e+00 6.700e-01\n",
      " 3.500e-01 0.000e+00 1.750e+00 1.200e-01 4.000e-02 0.000e+00 1.010e+00\n",
      " 7.000e-02 7.580e+00 0.000e+00 1.800e-01 6.000e-02 6.000e-02 4.000e-02\n",
      " 2.610e+00 2.500e-01 7.860e+00 0.000e+00 5.000e-02 6.500e-01 0.000e+00\n",
      " 0.000e+00 9.700e-01 4.500e-01 2.090e+00 4.000e-02 1.000e-02 7.720e+00\n",
      " 0.000e+00 2.870e+00 0.000e+00 3.210e+00 0.000e+00 1.030e+00 5.180e+00\n",
      " 1.900e+00 0.000e+00 2.600e-01 1.450e+00 0.000e+00 0.000e+00 0.000e+00\n",
      " 0.000e+00 5.600e-01 9.000e-02 2.100e+00 0.000e+00 0.000e+00 1.400e-01\n",
      " 4.000e-02 1.830e+00 0.000e+00 3.900e-01 0.000e+00 2.600e-01 8.680e+00\n",
      " 2.950e+00 0.000e+00 1.000e-01 1.320e+00 0.000e+00 0.000e+00 1.650e+00\n",
      " 2.160e+00 5.100e+00 2.220e+00 6.000e-02 0.000e+00 6.900e+00 6.970e+00\n",
      " 0.000e+00 3.600e-01 2.550e+00 1.410e+00 1.000e-02 2.500e-01 0.000e+00\n",
      " 5.400e-01 2.930e+00 0.000e+00 1.000e-02 1.000e-02 2.100e-01 6.400e-01\n",
      " 3.800e-01 4.500e-01 1.320e+00 1.000e-02 4.170e+00 1.730e+00 7.800e+00\n",
      " 4.000e-02 0.000e+00 0.000e+00 2.460e+00 3.820e+00 6.000e-02 0.000e+00\n",
      " 1.540e+00 5.210e+00 2.210e+00 0.000e+00 3.600e-01 6.620e+00 1.480e+00\n",
      " 0.000e+00 0.000e+00 4.940e+00 9.200e-01 9.000e-02 2.680e+00 8.100e-01\n",
      " 0.000e+00 3.000e-02 0.000e+00 7.200e-01 6.100e-01 2.300e-01 2.000e-02\n",
      " 0.000e+00 5.950e+00 0.000e+00 0.000e+00 2.500e-01 0.000e+00 2.390e+00\n",
      " 2.350e+00 1.650e+00 0.000e+00 1.010e+01 1.490e+00 1.300e+00 1.550e+00\n",
      " 0.000e+00 1.700e-01 0.000e+00 8.200e-01 2.000e-02 2.450e+00 1.000e-01\n",
      " 1.170e+00 0.000e+00 9.000e-02 4.040e+00 0.000e+00 4.000e-02 3.450e+00\n",
      " 0.000e+00 1.780e+00 0.000e+00 0.000e+00 1.400e-01 7.200e-01 2.030e+00\n",
      " 0.000e+00 2.450e+00 2.450e+00 1.660e+00 0.000e+00 2.900e-01 5.100e-01\n",
      " 1.120e+00 2.690e+00 0.000e+00 6.650e+00 2.030e+00 2.200e+00 0.000e+00\n",
      " 7.000e-01 1.770e+00 5.070e+00 6.000e-02 4.800e-01 0.000e+00 1.590e+00\n",
      " 0.000e+00 2.590e+00 1.260e+00 1.380e+00 1.000e-02 0.000e+00 3.280e+00\n",
      " 0.000e+00 2.000e-02 0.000e+00 2.250e+00 0.000e+00 0.000e+00 6.200e-01\n",
      " 1.200e-01 1.320e+00 6.300e-01 4.000e-02 1.600e-01 6.000e-02 7.900e-01\n",
      " 1.600e-01 0.000e+00 0.000e+00 1.120e+01 0.000e+00 8.000e-02 0.000e+00\n",
      " 2.320e+00 2.000e-02 0.000e+00 4.000e-02 3.700e+00 1.000e+00 2.070e+00\n",
      " 0.000e+00 1.660e+00 1.030e+00 8.500e-01 5.000e-02 5.000e-02 1.170e+00\n",
      " 1.840e+00 0.000e+00 1.260e+00 2.720e+00 3.000e-02 0.000e+00 1.200e-01\n",
      " 1.800e+00 3.050e+00 2.000e-02 0.000e+00 0.000e+00 1.100e-01 3.490e+00\n",
      " 0.000e+00 5.800e-01 1.000e-02 2.400e-01 1.500e-01 1.080e+00 5.140e+00\n",
      " 3.660e+00 1.100e-01 1.800e+00 1.690e+00 0.000e+00 8.000e-02 0.000e+00\n",
      " 2.470e+00 1.050e+00 5.200e-01 5.900e-01 0.000e+00 2.320e+00 1.350e+01\n",
      " 0.000e+00 8.300e-01 0.000e+00 1.000e-02 0.000e+00 1.830e+00 2.530e+00\n",
      " 0.000e+00 3.190e+00 0.000e+00 7.000e-02 1.000e-02 1.000e-02 9.000e-01\n",
      " 3.970e+00 1.140e+00 1.560e+00 9.200e-01 9.500e-01 0.000e+00 0.000e+00\n",
      " 1.650e+00 0.000e+00 9.400e-01 3.900e-01 0.000e+00 3.320e+00 0.000e+00\n",
      " 2.360e+00 3.440e+00 0.000e+00 2.700e-01 5.270e+00 3.700e+00 3.340e+00\n",
      " 0.000e+00 1.570e+00 1.300e+00 9.000e-02 5.200e-01 2.890e+00 1.410e+00\n",
      " 0.000e+00 0.000e+00 2.960e+00 2.950e+00 4.000e-02 0.000e+00 0.000e+00\n",
      " 5.100e-01 0.000e+00 1.600e-01 0.000e+00 8.000e-01 3.080e+00 5.680e+00\n",
      " 0.000e+00 0.000e+00 6.000e-02 0.000e+00 8.500e-01 2.060e+00 7.000e-02\n",
      " 4.600e-01 2.500e+00 0.000e+00 0.000e+00 1.130e+00 2.800e-01 8.000e-01\n",
      " 0.000e+00 2.950e+00 7.000e-02 2.830e+00 8.200e-01 1.150e+00 6.000e-02\n",
      " 4.440e+00 1.150e+00 0.000e+00 0.000e+00 4.700e-01 1.200e-01 3.100e-01\n",
      " 1.500e-01 8.000e-02 0.000e+00 3.030e+00 1.050e+00 3.670e+00 1.000e-01\n",
      " 2.000e-02 2.970e+00 1.550e+00 2.280e+00 0.000e+00 2.450e+00 0.000e+00\n",
      " 0.000e+00 1.600e-01 3.200e-01 3.500e-01 1.020e+00 0.000e+00 0.000e+00\n",
      " 3.000e-02 2.460e+00 4.080e+00 9.300e-01 4.110e+00 0.000e+00 1.950e+00\n",
      " 1.390e+00 3.330e+00 4.200e-01 4.000e-02 2.700e-01 1.500e-01 2.000e-02\n",
      " 3.110e+00 0.000e+00 3.100e-01 0.000e+00 1.900e-01 2.000e-02 0.000e+00\n",
      " 0.000e+00 2.000e-02 1.000e-02 1.100e-01 3.850e+00 1.000e-02 1.500e-01\n",
      " 1.320e+00 0.000e+00 9.000e-02 2.000e-02 3.600e-01 1.000e-02 4.730e+00\n",
      " 1.170e+00 1.000e-02 0.000e+00 2.200e-01 9.000e-01 0.000e+00 0.000e+00\n",
      " 1.000e-02 2.660e+00 0.000e+00 0.000e+00 1.000e-01 3.300e-01 0.000e+00\n",
      " 0.000e+00 1.300e-01 1.000e-01 2.200e-01 2.480e+00 0.000e+00 0.000e+00\n",
      " 2.800e-01 0.000e+00 7.000e-02 1.000e-02 7.400e-01 6.140e+00 1.560e+00\n",
      " 2.820e+00 1.000e-02 7.390e+00 4.000e-02 1.200e-01 0.000e+00 7.000e-02\n",
      " 2.750e+00 2.100e-01 0.000e+00 1.000e-02 2.600e-01 8.800e-01 6.100e-01\n",
      " 1.500e-01 4.380e+00 1.100e-01 1.340e+00 2.820e+00 1.000e-02 1.090e+00\n",
      " 1.000e-02 3.870e+00 0.000e+00 1.210e+00 0.000e+00 3.110e+00 0.000e+00\n",
      " 1.400e+00 1.890e+00 2.000e-02 1.000e-02 1.390e+00 5.600e-01 4.200e+00\n",
      " 0.000e+00 6.000e-02 0.000e+00 0.000e+00 3.400e-01 9.400e-01 2.190e+00\n",
      " 6.930e+00 1.720e+00 2.010e+00 9.000e-02 1.690e+00 2.490e+00 1.000e-01\n",
      " 0.000e+00 1.080e+00 1.000e-02 1.000e-02 1.900e-01 6.860e+00 3.990e+00\n",
      " 2.600e+00 0.000e+00 1.400e-01 1.100e-01 0.000e+00 7.900e-01 3.000e-02\n",
      " 1.000e-02 2.010e+00 2.960e+00 2.500e-01 8.000e-02 0.000e+00 0.000e+00\n",
      " 0.000e+00 0.000e+00 0.000e+00 4.000e-02 0.000e+00 0.000e+00 0.000e+00\n",
      " 6.550e+00 0.000e+00 4.000e-02 0.000e+00 0.000e+00 1.000e-02 1.600e-01\n",
      " 0.000e+00 5.000e-01 7.170e+00 2.320e+00 2.400e-01 4.300e-01 7.000e-02\n",
      " 1.910e+00 5.220e+00 3.600e-01 2.300e-01 1.100e-01 0.000e+00 0.000e+00\n",
      " 0.000e+00 4.900e-01 1.050e+00 0.000e+00 2.000e-02 1.510e+00 3.500e+00\n",
      " 1.800e-01 1.970e+00 1.000e-02 0.000e+00 9.800e-01 3.880e+00 0.000e+00\n",
      " 8.000e-02 0.000e+00 0.000e+00 2.040e+00 2.240e+00 0.000e+00 3.550e+00\n",
      " 0.000e+00 1.000e-02 0.000e+00 3.000e-02 1.770e+00 0.000e+00 1.690e+00\n",
      " 2.500e-01 1.850e+00 4.500e-01 8.500e-01 1.045e+01 0.000e+00 3.000e-02\n",
      " 2.410e+00 7.500e-01 1.500e+00 3.100e-01]\n",
      "1137.78\n",
      "1.140060120240481\n"
     ]
    }
   ],
   "source": [
    "#replace nan value with 0\n",
    "world_alcohol = numpy.genfromtxt(\"world_alcohol.txt\", delimiter=\",\",dtype=float)\n",
    "print (world_alcohol)\n",
    "is_value_empty = numpy.isnan(world_alcohol[:,4])\n",
    "print (is_value_empty)\n",
    "world_alcohol[is_value_empty, 4] = '0'\n",
    "alcohol_consumption = world_alcohol[:,4]\n",
    "print(alcohol_consumption)\n",
    "alcohol_consumption = alcohol_consumption.astype(float)\n",
    "print(alcohol_consumption)\n",
    "total_alcohol = alcohol_consumption.sum()\n",
    "average_alcohol = alcohol_consumption.mean()\n",
    "print (total_alcohol)\n",
    "print (average_alcohol)"
   ]
  },
  {
   "cell_type": "code",
   "execution_count": null,
   "metadata": {},
   "outputs": [],
   "source": []
  }
 ],
 "metadata": {
  "anaconda-cloud": {},
  "kernelspec": {
   "display_name": "Python 3",
   "language": "python",
   "name": "python3"
  },
  "language_info": {
   "codemirror_mode": {
    "name": "ipython",
    "version": 3
   },
   "file_extension": ".py",
   "mimetype": "text/x-python",
   "name": "python",
   "nbconvert_exporter": "python",
   "pygments_lexer": "ipython3",
   "version": "3.6.5"
  }
 },
 "nbformat": 4,
 "nbformat_minor": 1
}
