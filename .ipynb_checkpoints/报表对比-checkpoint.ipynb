{
 "cells": [
  {
   "cell_type": "code",
   "execution_count": 5,
   "metadata": {},
   "outputs": [],
   "source": [
    "# -*- coding: utf-8 -*-\n",
    "import pandas as pd\n",
    "import random\n",
    "import numpy as np\n",
    "import os\n",
    "pd.set_option('display.unicode.ambiguous_as_wide', True)\n",
    "pd.set_option('display.unicode.east_asian_width', True)"
   ]
  },
  {
   "cell_type": "code",
   "execution_count": 11,
   "metadata": {},
   "outputs": [],
   "source": [
    "list1=[['true','true','true'],[3.0,4.0,5.0],[2.3,6.7,8.9]]\n",
    "list2=[['true','true','true'],[3.0,4.0,5.0],[2.2,4.4,5.5]]\n",
    "data1 = pd.DataFrame(list1,index=['a','b','c'],columns=['A','B','C'])\n",
    "data2 = pd.DataFrame(list2,index=['a','b','c'],columns=['A','B','C'])"
   ]
  },
  {
   "cell_type": "code",
   "execution_count": 29,
   "metadata": {},
   "outputs": [],
   "source": [
    "def getCompResult(matrix1,matrix2,rows=None,cols=None,output=False,mode=1):\n",
    "    if matrix1.shape == matrix2.shape:\n",
    "        new=[]\n",
    "        old=[]\n",
    "        percent=[]\n",
    "        if cols == None and rows != None:            \n",
    "            for row in rows:\n",
    "                mat1=matrix1.iloc[row-1,:]\n",
    "                print(mat1.dtypes)\n",
    "                mat2=matrix2.iloc[row-1,:]\n",
    "                if mat1.dtypes==object:\n",
    "                    print(\"haha\")\n",
    "                else:\n",
    "                    print('wuwu')\n",
    "                    rate=((mat1-mat2)/mat1)*100  \n",
    "                    new.append(mat1)\n",
    "                    old.append(mat2)\n",
    "                    percent.append(rate)    \n",
    "            if mode==1:      \n",
    "                matrix1=pd.concat(new,axis=1).T\n",
    "                matrix2=pd.concat(old,axis=1).T\n",
    "            matrix3=pd.concat(percent,axis=1).T   \n",
    "            matrix1.insert(len(matrix1.columns),'报表对比','当前版本')\n",
    "            matrix2.insert(len(matrix2.columns),'报表对比','历史版本')\n",
    "            #matrix3.insert(len(matrix3.columns),'报表对比','涨跌幅%')\n",
    "            #df=pd.concat([matrix1,matrix2,matrix3],axis=0)\n",
    "            #df=df.set_index(['报表对比',df.index])\n",
    "\n",
    "\n",
    "        elif rows == None and cols != None:\n",
    "            for col in cols:\n",
    "                mat1=matrix1.iloc[:,col-1]\n",
    "                print(mat1.dtypes)\n",
    "                mat2=matrix2.iloc[:,col-1]\n",
    "                if mat1.dtypes==object:\n",
    "                    print(\"haha\")\n",
    "                else:\n",
    "                    print('wuwu')\n",
    "                    rate=((mat1-mat2)/mat1)*100\n",
    "                    new.append(mat1)\n",
    "                    old.append(mat2)\n",
    "                    percent.append(rate)\n",
    "            if mode==1:  \n",
    "                matrix1=pd.concat(new,axis=1)\n",
    "                matrix2=pd.concat(old,axis=1)\n",
    "            matrix3=pd.concat(percent,axis=1).T    \n",
    "            matrix1=matrix1.T\n",
    "            matrix1.insert(len(matrix1.columns),'报表对比','当前版本')\n",
    "            matrix2=matrix2.T\n",
    "            matrix2.insert(len(matrix2.columns),'报表对比','历史版本')\n",
    "            matrix3.insert(len(matrix3.columns),'报表对比','涨跌幅%')\n",
    "            df=pd.concat([matrix1,matrix2,matrix3],axis=0)\n",
    "            df=df.set_index(['报表对比',df.index]) \n",
    "            df=df.T\n",
    "\n",
    "\n",
    "            \n",
    "        else:\n",
    "            output = None\n",
    "            print('wrong!')\n",
    "            return np.zeros_like(matrix1.values)\n",
    "            \n",
    "        if output:\n",
    "            with pd.ExcelWriter(output,engine='xlsxwriter') as ew:\n",
    "                workbook = ew.book\n",
    "                format_normal=workbook.add_format({'font_name':'微软雅黑','font_size':'12','bold':False,'align':'center','valign':'vcenter','border':1,'num_format':'[RED]0.00;[GREEN]-0.00;[BLUE]0.00'})\n",
    "                df.to_excel(ew,sheet_name='对比结果')\n",
    "                worksheet=ew.sheets['对比结果']\n",
    "                worksheet.set_column(\"A:Z\",25,format_normal)\n",
    "\n",
    " \n",
    "        #print(df)  \n",
    "        #return df\n",
    "\n",
    "            \n",
    "    else:\n",
    "        print('Wrong!')\n",
    "        "
   ]
  },
  {
   "cell_type": "code",
   "execution_count": 30,
   "metadata": {},
   "outputs": [
    {
     "name": "stdout",
     "output_type": "stream",
     "text": [
      "object\n",
      "haha\n",
      "object\n",
      "haha\n"
     ]
    },
    {
     "ename": "ValueError",
     "evalue": "No objects to concatenate",
     "output_type": "error",
     "traceback": [
      "\u001b[1;31m---------------------------------------------------------------------------\u001b[0m",
      "\u001b[1;31mValueError\u001b[0m                                Traceback (most recent call last)",
      "\u001b[1;32m<ipython-input-30-00fa7293aa5b>\u001b[0m in \u001b[0;36m<module>\u001b[1;34m\u001b[0m\n\u001b[1;32m----> 1\u001b[1;33m \u001b[0mgetCompResult\u001b[0m\u001b[1;33m(\u001b[0m\u001b[0mdata1\u001b[0m\u001b[1;33m,\u001b[0m \u001b[0mdata2\u001b[0m\u001b[1;33m,\u001b[0m\u001b[0mrows\u001b[0m\u001b[1;33m=\u001b[0m\u001b[1;33m[\u001b[0m\u001b[1;36m1\u001b[0m\u001b[1;33m,\u001b[0m\u001b[1;36m3\u001b[0m\u001b[1;33m]\u001b[0m\u001b[1;33m)\u001b[0m\u001b[1;33m\u001b[0m\u001b[1;33m\u001b[0m\u001b[0m\n\u001b[0m",
      "\u001b[1;32m<ipython-input-29-c1d81c1214e4>\u001b[0m in \u001b[0;36mgetCompResult\u001b[1;34m(matrix1, matrix2, rows, cols, output, mode)\u001b[0m\n\u001b[0;32m     18\u001b[0m                     \u001b[0mpercent\u001b[0m\u001b[1;33m.\u001b[0m\u001b[0mappend\u001b[0m\u001b[1;33m(\u001b[0m\u001b[0mrate\u001b[0m\u001b[1;33m)\u001b[0m\u001b[1;33m\u001b[0m\u001b[1;33m\u001b[0m\u001b[0m\n\u001b[0;32m     19\u001b[0m             \u001b[1;32mif\u001b[0m \u001b[0mmode\u001b[0m\u001b[1;33m==\u001b[0m\u001b[1;36m1\u001b[0m\u001b[1;33m:\u001b[0m\u001b[1;33m\u001b[0m\u001b[1;33m\u001b[0m\u001b[0m\n\u001b[1;32m---> 20\u001b[1;33m                 \u001b[0mmatrix1\u001b[0m\u001b[1;33m=\u001b[0m\u001b[0mpd\u001b[0m\u001b[1;33m.\u001b[0m\u001b[0mconcat\u001b[0m\u001b[1;33m(\u001b[0m\u001b[0mnew\u001b[0m\u001b[1;33m,\u001b[0m\u001b[0maxis\u001b[0m\u001b[1;33m=\u001b[0m\u001b[1;36m1\u001b[0m\u001b[1;33m)\u001b[0m\u001b[1;33m.\u001b[0m\u001b[0mT\u001b[0m\u001b[1;33m\u001b[0m\u001b[1;33m\u001b[0m\u001b[0m\n\u001b[0m\u001b[0;32m     21\u001b[0m                 \u001b[0mmatrix2\u001b[0m\u001b[1;33m=\u001b[0m\u001b[0mpd\u001b[0m\u001b[1;33m.\u001b[0m\u001b[0mconcat\u001b[0m\u001b[1;33m(\u001b[0m\u001b[0mold\u001b[0m\u001b[1;33m,\u001b[0m\u001b[0maxis\u001b[0m\u001b[1;33m=\u001b[0m\u001b[1;36m1\u001b[0m\u001b[1;33m)\u001b[0m\u001b[1;33m.\u001b[0m\u001b[0mT\u001b[0m\u001b[1;33m\u001b[0m\u001b[1;33m\u001b[0m\u001b[0m\n\u001b[0;32m     22\u001b[0m             \u001b[0mmatrix3\u001b[0m\u001b[1;33m=\u001b[0m\u001b[0mpd\u001b[0m\u001b[1;33m.\u001b[0m\u001b[0mconcat\u001b[0m\u001b[1;33m(\u001b[0m\u001b[0mpercent\u001b[0m\u001b[1;33m,\u001b[0m\u001b[0maxis\u001b[0m\u001b[1;33m=\u001b[0m\u001b[1;36m1\u001b[0m\u001b[1;33m)\u001b[0m\u001b[1;33m.\u001b[0m\u001b[0mT\u001b[0m\u001b[1;33m\u001b[0m\u001b[1;33m\u001b[0m\u001b[0m\n",
      "\u001b[1;32mD:\\ananconda\\lib\\site-packages\\pandas\\core\\reshape\\concat.py\u001b[0m in \u001b[0;36mconcat\u001b[1;34m(objs, axis, join, join_axes, ignore_index, keys, levels, names, verify_integrity, sort, copy)\u001b[0m\n\u001b[0;32m    253\u001b[0m         \u001b[0mverify_integrity\u001b[0m\u001b[1;33m=\u001b[0m\u001b[0mverify_integrity\u001b[0m\u001b[1;33m,\u001b[0m\u001b[1;33m\u001b[0m\u001b[1;33m\u001b[0m\u001b[0m\n\u001b[0;32m    254\u001b[0m         \u001b[0mcopy\u001b[0m\u001b[1;33m=\u001b[0m\u001b[0mcopy\u001b[0m\u001b[1;33m,\u001b[0m\u001b[1;33m\u001b[0m\u001b[1;33m\u001b[0m\u001b[0m\n\u001b[1;32m--> 255\u001b[1;33m         \u001b[0msort\u001b[0m\u001b[1;33m=\u001b[0m\u001b[0msort\u001b[0m\u001b[1;33m,\u001b[0m\u001b[1;33m\u001b[0m\u001b[1;33m\u001b[0m\u001b[0m\n\u001b[0m\u001b[0;32m    256\u001b[0m     )\n\u001b[0;32m    257\u001b[0m \u001b[1;33m\u001b[0m\u001b[0m\n",
      "\u001b[1;32mD:\\ananconda\\lib\\site-packages\\pandas\\core\\reshape\\concat.py\u001b[0m in \u001b[0;36m__init__\u001b[1;34m(self, objs, axis, join, join_axes, keys, levels, names, ignore_index, verify_integrity, copy, sort)\u001b[0m\n\u001b[0;32m    302\u001b[0m \u001b[1;33m\u001b[0m\u001b[0m\n\u001b[0;32m    303\u001b[0m         \u001b[1;32mif\u001b[0m \u001b[0mlen\u001b[0m\u001b[1;33m(\u001b[0m\u001b[0mobjs\u001b[0m\u001b[1;33m)\u001b[0m \u001b[1;33m==\u001b[0m \u001b[1;36m0\u001b[0m\u001b[1;33m:\u001b[0m\u001b[1;33m\u001b[0m\u001b[1;33m\u001b[0m\u001b[0m\n\u001b[1;32m--> 304\u001b[1;33m             \u001b[1;32mraise\u001b[0m \u001b[0mValueError\u001b[0m\u001b[1;33m(\u001b[0m\u001b[1;34m\"No objects to concatenate\"\u001b[0m\u001b[1;33m)\u001b[0m\u001b[1;33m\u001b[0m\u001b[1;33m\u001b[0m\u001b[0m\n\u001b[0m\u001b[0;32m    305\u001b[0m \u001b[1;33m\u001b[0m\u001b[0m\n\u001b[0;32m    306\u001b[0m         \u001b[1;32mif\u001b[0m \u001b[0mkeys\u001b[0m \u001b[1;32mis\u001b[0m \u001b[1;32mNone\u001b[0m\u001b[1;33m:\u001b[0m\u001b[1;33m\u001b[0m\u001b[1;33m\u001b[0m\u001b[0m\n",
      "\u001b[1;31mValueError\u001b[0m: No objects to concatenate"
     ]
    }
   ],
   "source": [
    "getCompResult(data1, data2,rows=[1,3])"
   ]
  },
  {
   "cell_type": "code",
   "execution_count": null,
   "metadata": {},
   "outputs": [],
   "source": []
  }
 ],
 "metadata": {
  "kernelspec": {
   "display_name": "Python 3",
   "language": "python",
   "name": "python3"
  },
  "language_info": {
   "codemirror_mode": {
    "name": "ipython",
    "version": 3
   },
   "file_extension": ".py",
   "mimetype": "text/x-python",
   "name": "python",
   "nbconvert_exporter": "python",
   "pygments_lexer": "ipython3",
   "version": "3.7.5"
  }
 },
 "nbformat": 4,
 "nbformat_minor": 2
}
