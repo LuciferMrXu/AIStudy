{
 "cells": [
  {
   "cell_type": "code",
   "execution_count": 1,
   "metadata": {},
   "outputs": [],
   "source": [
    "import surprise\n",
    "from surprise import Dataset, Reader\n",
    "from surprise import model_selection, print_perf"
   ]
  },
  {
   "cell_type": "code",
   "execution_count": 2,
   "metadata": {},
   "outputs": [],
   "source": [
    "# 加载数据\n",
    "data = Dataset.load_builtin('ml-100k')\n",
    "# 数据进行交叉验证\n",
    "# data.split(n_folds=3)"
   ]
  },
  {
   "cell_type": "markdown",
   "metadata": {},
   "source": [
    "#### SlopneOne"
   ]
  },
  {
   "cell_type": "code",
   "execution_count": 3,
   "metadata": {},
   "outputs": [
    {
     "name": "stdout",
     "output_type": "stream",
     "text": [
      "Evaluating RMSE, MAE, FCP of algorithm SlopeOne on 5 split(s).\n",
      "\n",
      "                  Fold 1  Fold 2  Fold 3  Fold 4  Fold 5  Mean    Std     \n",
      "RMSE (testset)    0.9472  0.9445  0.9446  0.9432  0.9448  0.9449  0.0013  \n",
      "MAE (testset)     0.7435  0.7432  0.7432  0.7403  0.7426  0.7426  0.0012  \n",
      "FCP (testset)     0.6964  0.6970  0.6973  0.6978  0.7043  0.6986  0.0029  \n",
      "Fit time          1.69    2.05    1.69    1.75    1.77    1.79    0.13    \n",
      "Test time         8.37    7.37    6.82    7.01    7.06    7.33    0.55    \n"
     ]
    },
    {
     "data": {
      "text/plain": [
       "Prediction(uid='1', iid='10', r_ui=None, est=3.931814445960917, details={'was_impossible': False})"
      ]
     },
     "execution_count": 3,
     "metadata": {},
     "output_type": "execute_result"
    }
   ],
   "source": [
    "from surprise import SlopeOne\n",
    "\n",
    "# 1. 加载数据\n",
    "data = Dataset.load_builtin('ml-100k')\n",
    "\n",
    "# 3. 模型构建\n",
    "algo = SlopeOne()\n",
    "\n",
    "# 4. 模型效果评估（通过交叉验证参看一下模型在各个不同数据集上的效果）(默认是5折)\n",
    "model_selection.cross_validate(algo, data, measures=['rmse', 'mae', 'fcp'], cv=5, verbose=True)\n",
    "\n",
    "\n",
    "# 5. 如果模型效果不错，那么进行后续操作；否则需要修改前面的评分矩阵的构建、模型的参数或者模型对象来使得模型的效果变好\n",
    "# 6. 预测值获取（获得得到的其实是用户对物品的评分，基于这个我们可以构建用户-物品的评分矩阵）\n",
    "algo.predict('1', '10')"
   ]
  },
  {
   "cell_type": "code",
   "execution_count": null,
   "metadata": {
    "collapsed": true
   },
   "outputs": [],
   "source": []
  }
 ],
 "metadata": {
  "kernelspec": {
   "display_name": "Python 3",
   "language": "python",
   "name": "python3"
  },
  "language_info": {
   "codemirror_mode": {
    "name": "ipython",
    "version": 3
   },
   "file_extension": ".py",
   "mimetype": "text/x-python",
   "name": "python",
   "nbconvert_exporter": "python",
   "pygments_lexer": "ipython3",
   "version": "3.7.1"
  }
 },
 "nbformat": 4,
 "nbformat_minor": 2
}
