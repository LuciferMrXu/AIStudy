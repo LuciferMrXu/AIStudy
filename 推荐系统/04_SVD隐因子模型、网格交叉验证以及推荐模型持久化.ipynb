{
 "cells": [
  {
   "cell_type": "code",
   "execution_count": 1,
   "metadata": {},
   "outputs": [],
   "source": [
    "import surprise\n",
    "from surprise import Dataset, Reader\n",
    "from surprise import model_selection, print_perf\n",
    "from surprise import SVD"
   ]
  },
  {
   "cell_type": "markdown",
   "metadata": {},
   "source": [
    "## SVD\n",
    "\n",
    "FunkSVD和BiasSVD的思想实现\n",
    "SVD的参数参考：http://surprise.readthedocs.io/en/stable/matrix_factorization.html#surprise.prediction_algorithms.matrix_factorization.SVD\n",
    "主要参数：\n",
    "1. n_factors：给定隐因子的数目，默认为100\n",
    "2. n_epochs：梯度下降的迭代次数，默认为20\n",
    "3. biased：给定模型中是否使用偏置项，默认为True，即BiasSVD分解模型；设置为False，表示用FunkSVD\n",
    "4. lr_all：给定学习率，全部参数使用相同的学习率，默认为0.005\n",
    "5. reg_all：给定正则化系数，全部参数使用相同的正则化系数，默认为0.02\n",
    "\n",
    "## SVDpp\n",
    "SVD++算法的思想实现\n",
    "\n",
    "## NMF\n",
    "非负矩阵分解的思想实现<br/>\n",
    "备注:也支持bias偏置项的转换"
   ]
  },
  {
   "cell_type": "code",
   "execution_count": 2,
   "metadata": {},
   "outputs": [
    {
     "data": {
      "text/plain": [
       "<surprise.prediction_algorithms.matrix_factorization.SVD at 0x1dbffd5e390>"
      ]
     },
     "execution_count": 2,
     "metadata": {},
     "output_type": "execute_result"
    }
   ],
   "source": [
    "# 1. 加载数据\n",
    "data = Dataset.load_builtin('ml-100k')\n",
    "\n",
    "# 2. 将数据转换为Dataset训练集\n",
    "dataset = data.build_full_trainset()\n",
    "\n",
    "\n",
    "# 模型对象构建\n",
    "algo = SVD(n_factors=10, n_epochs=10, reg_all=0.2, lr_all=0.05)\n",
    "\n",
    "# TODO: 在模型训练之前，一定需要将数据进行build成为训练集, data.build_full_trainset\n",
    "# 模型训练\n",
    "algo.fit(dataset)"
   ]
  },
  {
   "cell_type": "markdown",
   "metadata": {},
   "source": [
    "# <br/>"
   ]
  },
  {
   "cell_type": "markdown",
   "metadata": {},
   "source": [
    "## 算法模型调参\n",
    "\n",
    "也就是给定一个合适的超参；同样使用类似sklearn中的网格交叉验证（GridSearchCV）来选择最优的参数\n",
    "\n",
    "### 如果安装的是numpy+mkl的库的话，必须将numpy的core文件中所有以mkl_开头的动态链接库(dll文件)放到根目录(即Python.exe所在的文件夹)"
   ]
  },
  {
   "cell_type": "code",
   "execution_count": 4,
   "metadata": {},
   "outputs": [
    {
     "name": "stdout",
     "output_type": "stream",
     "text": [
      "0.9486001452404732\n",
      "{'n_epochs': 20, 'lr_all': 0.1, 'reg_all': 0.1}\n",
      "0.7491353886691188\n",
      "{'n_epochs': 10, 'lr_all': 0.1, 'reg_all': 0.1}\n",
      "0.6999145004694014\n",
      "{'n_epochs': 20, 'lr_all': 0.1, 'reg_all': 0.1}\n"
     ]
    }
   ],
   "source": [
    "from surprise import GridSearch\n",
    "from surprise import SVD\n",
    "\n",
    "# 定义可选的参数列表\n",
    "param_grid = {\n",
    "    'n_epochs': [10, 20], # 迭代次数\n",
    "    'lr_all': [0.1, 0.5], # 学习率\n",
    "    'reg_all': [0.1, 0.5] # 正则化系数\n",
    "}\n",
    "\n",
    "# 定义网格搜索的对象\n",
    "# NOTE: 第一个参数不是算法对象，而是算法所对应的Class\n",
    "grid_search = model_selection.GridSearchCV(algo_class=SVD, param_grid=param_grid, measures=['rmse', 'mae', 'fcp'], cv=5)\n",
    "\n",
    "# 加载数据&数据进行K-Flod\n",
    "# 进行模型训练\n",
    "grid_search.fit(data)\n",
    "\n",
    "# 输出调优的参数列表\n",
    "## 输出最优的RMSE的值\n",
    "print(grid_search.best_score['rmse'])\n",
    "print(grid_search.best_params['rmse'])\n",
    "\n",
    "## 输出最优的MAE的值\n",
    "print(grid_search.best_score['mae'])\n",
    "print(grid_search.best_params['mae'])\n",
    "\n",
    "## 输出最优的FCP的值\n",
    "print(grid_search.best_score['fcp'])\n",
    "print(grid_search.best_params['fcp'])"
   ]
  },
  {
   "cell_type": "markdown",
   "metadata": {},
   "source": [
    "# <br/>"
   ]
  },
  {
   "cell_type": "markdown",
   "metadata": {},
   "source": [
    "## 模型的持久化\n",
    "1. 可以将模型的预测结果持久化,直接调用algo.predict获取用户对物品的评分，并将这些评分输出保存；\n",
    "2. 将模型保存成为文件的形式，然后在需要的程序中再加载进来"
   ]
  },
  {
   "cell_type": "code",
   "execution_count": 5,
   "metadata": {},
   "outputs": [
    {
     "name": "stdout",
     "output_type": "stream",
     "text": [
      "用户1对于物品10的评分为:4.060\n"
     ]
    }
   ],
   "source": [
    "import surprise\n",
    "\n",
    "## 模型保存\n",
    "surprise.dump.dump('./model/svd.recommender.model', algo=algo)\n",
    "\n",
    "# 模型加载使用\n",
    "algo2 = surprise.dump.load('./model/svd.recommender.model')[1]\n",
    "print(\"用户1对于物品10的评分为:%.3f\" % algo2.predict('1', '10').est)"
   ]
  },
  {
   "cell_type": "code",
   "execution_count": null,
   "metadata": {
    "collapsed": true
   },
   "outputs": [],
   "source": []
  }
 ],
 "metadata": {
  "kernelspec": {
   "display_name": "Python 3",
   "language": "python",
   "name": "python3"
  },
  "language_info": {
   "codemirror_mode": {
    "name": "ipython",
    "version": 3
   },
   "file_extension": ".py",
   "mimetype": "text/x-python",
   "name": "python",
   "nbconvert_exporter": "python",
   "pygments_lexer": "ipython3",
   "version": "3.7.1"
  }
 },
 "nbformat": 4,
 "nbformat_minor": 2
}
