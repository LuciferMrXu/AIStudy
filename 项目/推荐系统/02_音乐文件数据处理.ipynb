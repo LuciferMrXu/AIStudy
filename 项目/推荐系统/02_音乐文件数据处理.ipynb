{
 "cells": [
  {
   "cell_type": "code",
   "execution_count": 17,
   "metadata": {
    "collapsed": true
   },
   "outputs": [],
   "source": [
    "import numpy as np\n",
    "import json\n",
    "import random\n",
    "import time\n",
    "import pickle"
   ]
  },
  {
   "cell_type": "code",
   "execution_count": 18,
   "metadata": {
    "collapsed": true
   },
   "outputs": [],
   "source": [
    "def random_sample_playlist(in_file, out_file, max_sample=10, seed=None):\n",
    "    \"\"\"\n",
    "    从给定的输入文件in_file中提取出最多max_sample条样本数据，并将其输入到out_file文件中\n",
    "    :param in_file:\n",
    "    :param out_file:\n",
    "    :param max_sample:\n",
    "    :param seed:\n",
    "    :return:\n",
    "    \"\"\"\n",
    "    # 设置给定的随机数种子\n",
    "    if seed:\n",
    "        random.seed(seed)\n",
    "\n",
    "    # 进行数据的随机抽取过程\n",
    "    with open(out_file, 'w', encoding='utf-8') as writer:\n",
    "        with open(in_file, 'r', encoding='utf-8') as reader:\n",
    "            count = 0\n",
    "            for line in reader:\n",
    "                if random.random() < 0.8:\n",
    "                    writer.writelines(line)\n",
    "                    count += 1\n",
    "                    if count % 100 == 0:\n",
    "                        print(\"已经抽取%d个歌单数据!!\" % count)\n",
    "\n",
    "                    if count >= max_sample:\n",
    "                        break\n",
    "            print(\"实际抽取的总歌单数据为:%d条\" % count)"
   ]
  },
  {
   "cell_type": "code",
   "execution_count": 19,
   "metadata": {
    "collapsed": true
   },
   "outputs": [],
   "source": [
    "def parse_playlist_2_song(playlist_json):\n",
    "    \"\"\"\n",
    "    将传入的json格式的歌单数据转换为具体的特征数据\n",
    "    :param playlist_json:\n",
    "    :return:\n",
    "    \"\"\"\n",
    "    try:\n",
    "        # 将字符串转换为json对象 --> 类似dict\n",
    "        data = json.loads(playlist_json)\n",
    "\n",
    "        # 开始获取数据\n",
    "        result_data = data['result']\n",
    "        # 1. 获取歌单数据（用户id，歌单id，歌单名称，最近的更新时间，订阅数，播放数）\n",
    "        user_id = result_data['userId']\n",
    "        playlist_id = result_data['id']\n",
    "        playlist_name = result_data['name'].replace('\\t', '')\n",
    "        playlist_subscribed_count = result_data['subscribedCount']\n",
    "        playlist_play_count = result_data['playCount']\n",
    "        playlist_update_time = result_data['updateTime']\n",
    "        # 2. 获取歌曲信息\n",
    "        song_info = ''\n",
    "        songs = result_data['tracks']\n",
    "        for song in songs:\n",
    "            # 歌曲id，歌曲名称，歌曲热度\n",
    "            song_id = song['id']\n",
    "            song_name = song['name'].replace('\\t', '')\n",
    "            song_popularity = song['popularity']\n",
    "            song_info += '\\t' + '::::'.join([str(song_id), song_name, str(song_popularity)])\n",
    "\n",
    "        return '##'.join(\n",
    "            [str(user_id), str(playlist_id), playlist_name, str(playlist_update_time), str(playlist_subscribed_count),\n",
    "             str(playlist_play_count)]) + song_info\n",
    "    except Exception as e:\n",
    "        return False"
   ]
  },
  {
   "cell_type": "code",
   "execution_count": 20,
   "metadata": {
    "collapsed": true
   },
   "outputs": [],
   "source": [
    "def parse_playlist_file(in_file, out_file):\n",
    "    \"\"\"\n",
    "    从给定的歌单原始数据文件中提取有关的特征数据，并将其保存到给定的输出文件中\n",
    "    :param in_file:\n",
    "    :param out_file:\n",
    "    :return:\n",
    "    \"\"\"\n",
    "    with open(out_file, 'w', encoding='utf-8') as writer:\n",
    "        with open(in_file, 'r', encoding='utf-8') as reader:\n",
    "            for line in reader:\n",
    "                # 1. 对当前的歌单数据line进行处理\n",
    "                result = parse_playlist_2_song(line)\n",
    "\n",
    "                # 2. 对于处理的结果进行判断，如果处理成功并且有值，那么直接输出\n",
    "                if result:\n",
    "                    writer.writelines(result)\n",
    "                    writer.writelines('\\n')\n",
    "                else:\n",
    "                    print(\"提取歌单主要特征数据失败:{}\".format(line))"
   ]
  },
  {
   "cell_type": "code",
   "execution_count": 21,
   "metadata": {
    "collapsed": true
   },
   "outputs": [],
   "source": [
    "def is_last_time(update_time):\n",
    "    return int(time.time()) * 1000 - update_time < 31536000000"
   ]
  },
  {
   "cell_type": "code",
   "execution_count": 22,
   "metadata": {
    "collapsed": true
   },
   "outputs": [],
   "source": [
    "def parse_user_song_rating(user_id, update_time, subscribed_count, play_count, song_info):\n",
    "    \"\"\"\n",
    "    基于输入的参数，构建一个评分\n",
    "    :param user_id:\n",
    "    :param update_time:\n",
    "    :param subscribed_count:\n",
    "    :param play_count:\n",
    "    :param song_info:\n",
    "    :return:\n",
    "    \"\"\"\n",
    "    try:\n",
    "        # 提取特征\n",
    "        song_id, _, song_popularity = song_info.split('::::')\n",
    "\n",
    "        # 计算当前用户对于单个歌曲的评分\n",
    "        # TODO: 由于我们的数据原因，没法直接获取用用户对于歌曲的评分信息，那么将歌曲的热度作为评分值，并且结合播放次数、订阅次数、更新时间等做一个加权变化；并且我们只要这个歌单中存在这个歌曲，那么表示这个人对于这个歌曲是比较偏好的，所以评分一定是正向的，假设评分的取值范围[1~10], 那么认为原始数据中的评分一定是超过5分的\n",
    "        w = 1.0\n",
    "        if play_count > 10000 and subscribed_count > 1000 and is_last_time(update_time):\n",
    "            w = 1.1\n",
    "        elif play_count <= 10000 and subscribed_count <= 1000 and (not is_last_time(update_time)):\n",
    "            w = 0.9\n",
    "        # rating评分范围为:[0,110]\n",
    "        rating = float(song_popularity) * w\n",
    "        # 首先将评分截断为[1,10]， 如果评分超过10分，那么设置为10；如果低于1分，那么设置为1\n",
    "        rating = np.clip(rating / 11, 1.0, 10.0)\n",
    "        # 认为数据实在存在，那么一定是喜好的，所以评分一定是超过5分的\n",
    "        rating = ((rating - 1.0) / 9.0) * 5.0 + 5.0\n",
    "\n",
    "        return ','.join([user_id, song_id, str(rating)])\n",
    "    except:\n",
    "        return ''"
   ]
  },
  {
   "cell_type": "code",
   "execution_count": 23,
   "metadata": {
    "collapsed": true
   },
   "outputs": [],
   "source": [
    "def parse_user_song_rating_file(in_file, out_file):\n",
    "    \"\"\"\n",
    "    对输入的特征属性的文件内容进行用户-歌曲评分的构建，并将结果保存到out_file\n",
    "    :param in_file:\n",
    "    :param out_file:\n",
    "    :return:\n",
    "    \"\"\"\n",
    "    with open(out_file, 'w', encoding='utf-8') as writer:\n",
    "        with open(in_file, 'r', encoding='utf-8') as reader:\n",
    "            for line in reader:\n",
    "                # 获取歌单信息和歌单中的歌曲数据\n",
    "                contents = line.split('\\t')\n",
    "                playlist_content, song_contents = contents[0], contents[1:]\n",
    "                # 获取具体的歌单数据\n",
    "                user_id, _, _, update_time, subscribed_count, play_count = playlist_content.split(\"##\")\n",
    "                update_time = float(update_time)\n",
    "                subscribed_count = float(subscribed_count)\n",
    "                play_count = float(play_count)\n",
    "                # 获取当前用户user_id对于所有songs的分别的评分信息(user-song-rating)\n",
    "                user_song_info = map(\n",
    "                    lambda song: parse_user_song_rating(user_id, update_time, subscribed_count, play_count, song),\n",
    "                    song_contents)\n",
    "                user_song_info = filter(lambda t: len(t.split(',')) == 3, user_song_info)\n",
    "\n",
    "                # 输出数据\n",
    "                result = '\\n'.join(user_song_info)\n",
    "                if result:\n",
    "                    writer.writelines(result)\n",
    "                    writer.writelines('\\n')"
   ]
  },
  {
   "cell_type": "code",
   "execution_count": 24,
   "metadata": {
    "collapsed": true
   },
   "outputs": [],
   "source": [
    "def parse_playlist_song_rating(playlist_id, song_info):\n",
    "    \"\"\"\n",
    "    基于给定的数据，得到歌单-歌曲的评分值\n",
    "    :param playlist_id:\n",
    "    :param song_info:\n",
    "    :return:\n",
    "    \"\"\"\n",
    "    try:\n",
    "        # 提取歌曲信息\n",
    "        song_id, _, _ = song_info.split('::::')\n",
    "\n",
    "        # 在这里计算的评分矩阵主要是为了实现需求：计算歌单之间的相似度，然后将相似歌单作为当前歌单的推荐数据\n",
    "        # 可以认为如果两个歌单中，出现的歌曲的重复度越高，那么这两个歌单就越相似度；也就是说只要这两个歌单中的歌曲列表是一致的，那么就可以认为是歌单的相似的---->基于jaccard相似度计算 ---> 不需要考虑具体的评分值\n",
    "        rating = 1.0\n",
    "\n",
    "        return ','.join([playlist_id, song_id, str(rating)])\n",
    "    except:\n",
    "        return ''"
   ]
  },
  {
   "cell_type": "code",
   "execution_count": 25,
   "metadata": {
    "collapsed": true
   },
   "outputs": [],
   "source": [
    "def parse_playlist_song_rating_file(in_file, out_file):\n",
    "    \"\"\"\n",
    "    构建歌单-歌曲之间的评分矩阵\n",
    "    :param in_file:\n",
    "    :param out_file:\n",
    "    :return:\n",
    "    \"\"\"\n",
    "    with open(out_file, 'w', encoding='utf-8') as writer:\n",
    "        with open(in_file, 'r', encoding='utf-8') as reader:\n",
    "            for line in reader:\n",
    "                # 获取歌单信息和歌单中的歌曲数据\n",
    "                contents = line.split('\\t')\n",
    "                playlist_content, song_contents = contents[0], contents[1:]\n",
    "                # 获取具体的歌单数据\n",
    "                _, playlist_id, _, _, _, _ = playlist_content.split(\"##\")\n",
    "                # 获取当前歌单playlist_id对于所有songs的分别的评分信息(playlist-song-rating)\n",
    "                playlist_song_info = map(lambda song: parse_playlist_song_rating(playlist_id, song), song_contents)\n",
    "                playlist_song_info = filter(lambda t: len(t.split(',')) == 3, playlist_song_info)\n",
    "\n",
    "                # 输出数据\n",
    "                result = '\\n'.join(playlist_song_info)\n",
    "                if result:\n",
    "                    writer.writelines(result)\n",
    "                    writer.writelines('\\n')"
   ]
  },
  {
   "cell_type": "code",
   "execution_count": 26,
   "metadata": {},
   "outputs": [],
   "source": [
    "def parse_playlist_song_id_2_name(in_file, out_playlist, out_song):\n",
    "    \"\"\"\n",
    "    提取id和name映射关系到文件中\n",
    "    :param in_file:\n",
    "    :param out_playlist:\n",
    "    :param out_song:\n",
    "    :return:\n",
    "    \"\"\"\n",
    "    # 歌单id和歌单名称的映射字典\n",
    "    playlist_id_2_name = {}\n",
    "    # 歌曲id和歌曲名称的映射字典\n",
    "    song_id_2_name = {}\n",
    "\n",
    "    # 从输入数据中进行处理\n",
    "    with open(in_file, 'r', encoding='utf-8') as reader:\n",
    "        for line in reader:\n",
    "            try:\n",
    "                # 划分数据\n",
    "                contents = line.split(\"\\t\")\n",
    "                try:\n",
    "                    # 提取歌单id和歌单名称\n",
    "                    _, playlist_id, playlist_name, _, _, _ = contents[0].split('##')\n",
    "                    playlist_id_2_name[playlist_id] = playlist_name\n",
    "                    # 提取歌曲id和歌曲名称\n",
    "                    for song in contents[1:]:\n",
    "                        try:\n",
    "                            song_id, song_name, _ = song.split(\"::::\")\n",
    "                            song_id_2_name[song_id] = song_name\n",
    "                        except:\n",
    "                            print(\"Fetch the song id throw error:{}\".format(song))\n",
    "                except:\n",
    "                    print(\"Fetch the playlist id throw error:{}\".format(contents[0]))\n",
    "            except:\n",
    "                print(\"Fetch error!\")\n",
    "\n",
    "    # 输出数据\n",
    "    with open(out_playlist, 'wb') as playlist_writer:\n",
    "        pickle.dump(playlist_id_2_name, playlist_writer)\n",
    "    with open(out_song, 'wb') as song_writer:\n",
    "        pickle.dump(song_id_2_name, song_writer)"
   ]
  },
  {
   "cell_type": "code",
   "execution_count": 27,
   "metadata": {
    "collapsed": true
   },
   "outputs": [],
   "source": [
    "all_music_playlist_file_path = 'D:/music/playlist_detail_music_all.json'\n",
    "sample_playlist_file_pth = 'D:/music/playlist_detail_music_500.json'\n",
    "music_playlist_song_file_path = 'D:/music/163_music_playlist_song.txt'\n",
    "music_user_song_rating_file_path = 'D:/music/163_music_user_song_rating.txt'\n",
    "music_playlist_song_rating_file_path = 'D:/music/163_music_playlist_song_rating.txt'\n",
    "playlist_id_2_name_file_path = 'D:/music/163_playlist_id_2_name.pkl'\n",
    "song_id_2_name_file_path = 'D:/music/163_song_id_2_name.pkl'"
   ]
  },
  {
   "cell_type": "code",
   "execution_count": 28,
   "metadata": {},
   "outputs": [
    {
     "name": "stdout",
     "output_type": "stream",
     "text": [
      "已经抽取100个歌单数据!!\n",
      "已经抽取200个歌单数据!!\n",
      "已经抽取300个歌单数据!!\n",
      "已经抽取400个歌单数据!!\n",
      "已经抽取500个歌单数据!!\n",
      "实际抽取的总歌单数据为:500条\n"
     ]
    }
   ],
   "source": [
    "# 1. 样本数据的抽取\n",
    "random_sample_playlist(all_music_playlist_file_path, sample_playlist_file_pth, 500)"
   ]
  },
  {
   "cell_type": "code",
   "execution_count": 29,
   "metadata": {
    "collapsed": true
   },
   "outputs": [],
   "source": [
    "# 2. 特征属性的提取\n",
    "parse_playlist_file(sample_playlist_file_pth, music_playlist_song_file_path)"
   ]
  },
  {
   "cell_type": "code",
   "execution_count": 30,
   "metadata": {
    "collapsed": true
   },
   "outputs": [],
   "source": [
    "# 3. 构建用户-歌曲评分矩阵\n",
    "parse_user_song_rating_file(music_playlist_song_file_path, music_user_song_rating_file_path)"
   ]
  },
  {
   "cell_type": "code",
   "execution_count": 31,
   "metadata": {
    "collapsed": true
   },
   "outputs": [],
   "source": [
    "# 4. 构建歌单-歌曲评分矩阵\n",
    "parse_playlist_song_rating_file(music_playlist_song_file_path, music_playlist_song_rating_file_path)"
   ]
  },
  {
   "cell_type": "code",
   "execution_count": 32,
   "metadata": {
    "collapsed": true
   },
   "outputs": [],
   "source": [
    "# 5. 提取id和name的映射\n",
    "parse_playlist_song_id_2_name(music_playlist_song_file_path, playlist_id_2_name_file_path, song_id_2_name_file_path)"
   ]
  },
  {
   "cell_type": "code",
   "execution_count": null,
   "metadata": {
    "collapsed": true
   },
   "outputs": [],
   "source": []
  }
 ],
 "metadata": {
  "kernelspec": {
   "display_name": "Python 3",
   "language": "python",
   "name": "python3"
  },
  "language_info": {
   "codemirror_mode": {
    "name": "ipython",
    "version": 3
   },
   "file_extension": ".py",
   "mimetype": "text/x-python",
   "name": "python",
   "nbconvert_exporter": "python",
   "pygments_lexer": "ipython3",
   "version": "3.7.1"
  }
 },
 "nbformat": 4,
 "nbformat_minor": 2
}
