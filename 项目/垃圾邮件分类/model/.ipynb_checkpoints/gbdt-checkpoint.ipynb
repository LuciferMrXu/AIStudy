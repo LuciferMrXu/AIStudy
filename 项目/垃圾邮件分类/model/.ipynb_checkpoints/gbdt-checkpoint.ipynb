{
 "cells": [
  {
   "cell_type": "code",
   "execution_count": 1,
   "metadata": {
    "collapsed": false
   },
   "outputs": [],
   "source": [
    "import pandas as pd\n",
    "import numpy as np\n",
    "import matplotlib as mpl\n",
    "import matplotlib.pyplot as plt\n",
    "\n",
    "from sklearn.feature_extraction.text import CountVectorizer, TfidfTransformer\n",
    "from sklearn.decomposition import TruncatedSVD\n",
    "from sklearn.ensemble import GradientBoostingClassifier\n",
    "from sklearn.model_selection import train_test_split\n",
    "from sklearn.metrics import f1_score,precision_score, recall_score"
   ]
  },
  {
   "cell_type": "code",
   "execution_count": 2,
   "metadata": {
    "collapsed": false
   },
   "outputs": [],
   "source": [
    "## 设置字符集，防止中文乱码\n",
    "mpl.rcParams['font.sans-serif']=[u'simHei']\n",
    "mpl.rcParams['axes.unicode_minus']=False"
   ]
  },
  {
   "cell_type": "code",
   "execution_count": 3,
   "metadata": {
    "collapsed": true
   },
   "outputs": [],
   "source": [
    "# jupyter展示图片，非内嵌显示\n",
    "# tk: 显示出来，inline：内嵌显示，默认为inline\n",
    "%matplotlib tk"
   ]
  },
  {
   "cell_type": "code",
   "execution_count": 4,
   "metadata": {
    "collapsed": false
   },
   "outputs": [
    {
     "data": {
      "text/html": [
       "<div>\n",
       "<table border=\"1\" class=\"dataframe\">\n",
       "  <thead>\n",
       "    <tr style=\"text-align: right;\">\n",
       "      <th></th>\n",
       "      <th>label</th>\n",
       "      <th>from_12</th>\n",
       "      <th>from_163</th>\n",
       "      <th>from_126</th>\n",
       "      <th>from_tom</th>\n",
       "      <th>from_unknown</th>\n",
       "      <th>from_tsinghua</th>\n",
       "      <th>from_cernet</th>\n",
       "      <th>has_not_date</th>\n",
       "      <th>jieba_cut_content</th>\n",
       "      <th>content_length</th>\n",
       "      <th>content_length_type</th>\n",
       "      <th>content_sema</th>\n",
       "    </tr>\n",
       "  </thead>\n",
       "  <tbody>\n",
       "    <tr>\n",
       "      <th>0</th>\n",
       "      <td>1.0</td>\n",
       "      <td>0</td>\n",
       "      <td>0</td>\n",
       "      <td>0</td>\n",
       "      <td>0</td>\n",
       "      <td>1</td>\n",
       "      <td>0</td>\n",
       "      <td>0</td>\n",
       "      <td>0</td>\n",
       "      <td>非  财务  纠淼  牟  莆  窆  芾  -  （  沙盘  模拟  ）  -  -  ...</td>\n",
       "      <td>1798</td>\n",
       "      <td>5</td>\n",
       "      <td>8.456151</td>\n",
       "    </tr>\n",
       "    <tr>\n",
       "      <th>1</th>\n",
       "      <td>0.0</td>\n",
       "      <td>0</td>\n",
       "      <td>0</td>\n",
       "      <td>0</td>\n",
       "      <td>0</td>\n",
       "      <td>0</td>\n",
       "      <td>0</td>\n",
       "      <td>0</td>\n",
       "      <td>0</td>\n",
       "      <td>讲  的  是  孔子  后人  的  故事  。  一个  老  领导  回到  家乡  ...</td>\n",
       "      <td>193</td>\n",
       "      <td>2</td>\n",
       "      <td>7.486084</td>\n",
       "    </tr>\n",
       "    <tr>\n",
       "      <th>2</th>\n",
       "      <td>1.0</td>\n",
       "      <td>0</td>\n",
       "      <td>0</td>\n",
       "      <td>0</td>\n",
       "      <td>0</td>\n",
       "      <td>0</td>\n",
       "      <td>0</td>\n",
       "      <td>0</td>\n",
       "      <td>0</td>\n",
       "      <td>尊敬  的  贵  公司  (  财务  /  经理  )  负责人  您好  ！  我  ...</td>\n",
       "      <td>255</td>\n",
       "      <td>2</td>\n",
       "      <td>7.175171</td>\n",
       "    </tr>\n",
       "    <tr>\n",
       "      <th>3</th>\n",
       "      <td>1.0</td>\n",
       "      <td>1</td>\n",
       "      <td>0</td>\n",
       "      <td>0</td>\n",
       "      <td>0</td>\n",
       "      <td>0</td>\n",
       "      <td>0</td>\n",
       "      <td>0</td>\n",
       "      <td>0</td>\n",
       "      <td>贵  公司  负责人  (  经理  /  财务  ）  您好  ：  深圳市  华龙  公...</td>\n",
       "      <td>177</td>\n",
       "      <td>2</td>\n",
       "      <td>7.565682</td>\n",
       "    </tr>\n",
       "    <tr>\n",
       "      <th>4</th>\n",
       "      <td>1.0</td>\n",
       "      <td>0</td>\n",
       "      <td>0</td>\n",
       "      <td>0</td>\n",
       "      <td>0</td>\n",
       "      <td>0</td>\n",
       "      <td>0</td>\n",
       "      <td>0</td>\n",
       "      <td>0</td>\n",
       "      <td>这是  一封  HTML  格式  信件  ！  -  -  -  -  -  -  -  ...</td>\n",
       "      <td>15969</td>\n",
       "      <td>11</td>\n",
       "      <td>2.063409</td>\n",
       "    </tr>\n",
       "    <tr>\n",
       "      <th>5</th>\n",
       "      <td>1.0</td>\n",
       "      <td>0</td>\n",
       "      <td>1</td>\n",
       "      <td>0</td>\n",
       "      <td>0</td>\n",
       "      <td>0</td>\n",
       "      <td>0</td>\n",
       "      <td>0</td>\n",
       "      <td>0</td>\n",
       "      <td>TO  ：  贵  公司  经理  、  财务  您好  ！  深圳市  春洋  贸易  有...</td>\n",
       "      <td>261</td>\n",
       "      <td>2</td>\n",
       "      <td>7.143747</td>\n",
       "    </tr>\n",
       "    <tr>\n",
       "      <th>6</th>\n",
       "      <td>0.0</td>\n",
       "      <td>0</td>\n",
       "      <td>0</td>\n",
       "      <td>0</td>\n",
       "      <td>0</td>\n",
       "      <td>0</td>\n",
       "      <td>0</td>\n",
       "      <td>0</td>\n",
       "      <td>0</td>\n",
       "      <td>那  他  为什么  不  愿意  起诉  ，  既然  这样  了  ！  起诉  后  ...</td>\n",
       "      <td>474</td>\n",
       "      <td>2</td>\n",
       "      <td>4.807568</td>\n",
       "    </tr>\n",
       "    <tr>\n",
       "      <th>7</th>\n",
       "      <td>1.0</td>\n",
       "      <td>0</td>\n",
       "      <td>0</td>\n",
       "      <td>0</td>\n",
       "      <td>1</td>\n",
       "      <td>0</td>\n",
       "      <td>0</td>\n",
       "      <td>0</td>\n",
       "      <td>0</td>\n",
       "      <td>尊敬  的  负责人  （  经理  ／  财务  ）  ：  您好  ！  我  是  深...</td>\n",
       "      <td>351</td>\n",
       "      <td>2</td>\n",
       "      <td>6.593684</td>\n",
       "    </tr>\n",
       "    <tr>\n",
       "      <th>8</th>\n",
       "      <td>1.0</td>\n",
       "      <td>0</td>\n",
       "      <td>0</td>\n",
       "      <td>0</td>\n",
       "      <td>0</td>\n",
       "      <td>0</td>\n",
       "      <td>0</td>\n",
       "      <td>0</td>\n",
       "      <td>0</td>\n",
       "      <td>您好     以下  是  特别  为  阁下  发  的  香港  信息  (  图片  ...</td>\n",
       "      <td>168</td>\n",
       "      <td>2</td>\n",
       "      <td>7.611074</td>\n",
       "    </tr>\n",
       "    <tr>\n",
       "      <th>9</th>\n",
       "      <td>0.0</td>\n",
       "      <td>0</td>\n",
       "      <td>0</td>\n",
       "      <td>0</td>\n",
       "      <td>0</td>\n",
       "      <td>0</td>\n",
       "      <td>0</td>\n",
       "      <td>0</td>\n",
       "      <td>0</td>\n",
       "      <td>我  觉得  ，  负债  不要紧  ，  最  重要  的  是  能  负得起  这个 ...</td>\n",
       "      <td>280</td>\n",
       "      <td>2</td>\n",
       "      <td>7.041340</td>\n",
       "    </tr>\n",
       "  </tbody>\n",
       "</table>\n",
       "</div>"
      ],
      "text/plain": [
       "   label  from_12  from_163  from_126  from_tom  from_unknown  from_tsinghua  \\\n",
       "0    1.0        0         0         0         0             1              0   \n",
       "1    0.0        0         0         0         0             0              0   \n",
       "2    1.0        0         0         0         0             0              0   \n",
       "3    1.0        1         0         0         0             0              0   \n",
       "4    1.0        0         0         0         0             0              0   \n",
       "5    1.0        0         1         0         0             0              0   \n",
       "6    0.0        0         0         0         0             0              0   \n",
       "7    1.0        0         0         0         1             0              0   \n",
       "8    1.0        0         0         0         0             0              0   \n",
       "9    0.0        0         0         0         0             0              0   \n",
       "\n",
       "   from_cernet  has_not_date  \\\n",
       "0            0             0   \n",
       "1            0             0   \n",
       "2            0             0   \n",
       "3            0             0   \n",
       "4            0             0   \n",
       "5            0             0   \n",
       "6            0             0   \n",
       "7            0             0   \n",
       "8            0             0   \n",
       "9            0             0   \n",
       "\n",
       "                                   jieba_cut_content  content_length  \\\n",
       "0  非  财务  纠淼  牟  莆  窆  芾  -  （  沙盘  模拟  ）  -  -  ...            1798   \n",
       "1  讲  的  是  孔子  后人  的  故事  。  一个  老  领导  回到  家乡  ...             193   \n",
       "2  尊敬  的  贵  公司  (  财务  /  经理  )  负责人  您好  ！  我  ...             255   \n",
       "3  贵  公司  负责人  (  经理  /  财务  ）  您好  ：  深圳市  华龙  公...             177   \n",
       "4  这是  一封  HTML  格式  信件  ！  -  -  -  -  -  -  -  ...           15969   \n",
       "5  TO  ：  贵  公司  经理  、  财务  您好  ！  深圳市  春洋  贸易  有...             261   \n",
       "6  那  他  为什么  不  愿意  起诉  ，  既然  这样  了  ！  起诉  后  ...             474   \n",
       "7  尊敬  的  负责人  （  经理  ／  财务  ）  ：  您好  ！  我  是  深...             351   \n",
       "8  您好     以下  是  特别  为  阁下  发  的  香港  信息  (  图片  ...             168   \n",
       "9  我  觉得  ，  负债  不要紧  ，  最  重要  的  是  能  负得起  这个 ...             280   \n",
       "\n",
       "   content_length_type  content_sema  \n",
       "0                    5      8.456151  \n",
       "1                    2      7.486084  \n",
       "2                    2      7.175171  \n",
       "3                    2      7.565682  \n",
       "4                   11      2.063409  \n",
       "5                    2      7.143747  \n",
       "6                    2      4.807568  \n",
       "7                    2      6.593684  \n",
       "8                    2      7.611074  \n",
       "9                    2      7.041340  "
      ]
     },
     "execution_count": 4,
     "metadata": {},
     "output_type": "execute_result"
    }
   ],
   "source": [
    "# 1. 文件数据读取\n",
    "df = pd.read_csv('../data/result_process02', sep=',')\n",
    "# 如果有某值为nan，进行删除操作\n",
    "df.dropna(axis=0, how='any', inplace=True)\n",
    "df.head(10)"
   ]
  },
  {
   "cell_type": "code",
   "execution_count": 5,
   "metadata": {
    "collapsed": false
   },
   "outputs": [
    {
     "name": "stdout",
     "output_type": "stream",
     "text": [
      "<class 'pandas.core.frame.DataFrame'>\n",
      "Int64Index: 64284 entries, 0 to 64618\n",
      "Data columns (total 13 columns):\n",
      "label                  64284 non-null float64\n",
      "from_12                64284 non-null int64\n",
      "from_163               64284 non-null int64\n",
      "from_126               64284 non-null int64\n",
      "from_tom               64284 non-null int64\n",
      "from_unknown           64284 non-null int64\n",
      "from_tsinghua          64284 non-null int64\n",
      "from_cernet            64284 non-null int64\n",
      "has_not_date           64284 non-null int64\n",
      "jieba_cut_content      64284 non-null object\n",
      "content_length         64284 non-null int64\n",
      "content_length_type    64284 non-null int64\n",
      "content_sema           64284 non-null float64\n",
      "dtypes: float64(2), int64(10), object(1)\n",
      "memory usage: 6.9+ MB\n"
     ]
    }
   ],
   "source": [
    "df.info()"
   ]
  },
  {
   "cell_type": "code",
   "execution_count": 6,
   "metadata": {
    "collapsed": false
   },
   "outputs": [
    {
     "name": "stdout",
     "output_type": "stream",
     "text": [
      "训练数据集大小:51427\n",
      "测试数据集大小:12857\n"
     ]
    }
   ],
   "source": [
    "# 2. 数据分割\n",
    "x_train, x_test, y_train, y_test = train_test_split(df[['has_not_date','jieba_cut_content','content_sema']], df['label'], test_size=0.2, random_state=0)\n",
    "print(\"训练数据集大小:%d\" % x_train.shape[0])\n",
    "print(\"测试数据集大小:%d\" % x_test.shape[0])"
   ]
  },
  {
   "cell_type": "code",
   "execution_count": 7,
   "metadata": {
    "collapsed": false
   },
   "outputs": [
    {
     "data": {
      "text/html": [
       "<div>\n",
       "<table border=\"1\" class=\"dataframe\">\n",
       "  <thead>\n",
       "    <tr style=\"text-align: right;\">\n",
       "      <th></th>\n",
       "      <th>has_not_date</th>\n",
       "      <th>jieba_cut_content</th>\n",
       "      <th>content_sema</th>\n",
       "    </tr>\n",
       "  </thead>\n",
       "  <tbody>\n",
       "    <tr>\n",
       "      <th>18809</th>\n",
       "      <td>0</td>\n",
       "      <td>尊敬  的  公司  （  工厂  ）  经理  负责人  你好  ：  我  公司  是 ...</td>\n",
       "      <td>6.849239</td>\n",
       "    </tr>\n",
       "    <tr>\n",
       "      <th>61631</th>\n",
       "      <td>0</td>\n",
       "      <td>声音  变换器  ：  适用  于  不同  型号  的  手机  ，  电话  ，  网络...</td>\n",
       "      <td>7.242064</td>\n",
       "    </tr>\n",
       "    <tr>\n",
       "      <th>5822</th>\n",
       "      <td>0</td>\n",
       "      <td>http  :  /  /  tengyingge  .  blogchina  .  co...</td>\n",
       "      <td>8.289843</td>\n",
       "    </tr>\n",
       "    <tr>\n",
       "      <th>5881</th>\n",
       "      <td>0</td>\n",
       "      <td>刚  开始  ，  是  会  有点  不  习惯  的  。  慢慢来  。  ps  ：...</td>\n",
       "      <td>7.063309</td>\n",
       "    </tr>\n",
       "    <tr>\n",
       "      <th>26337</th>\n",
       "      <td>0</td>\n",
       "      <td>尊敬  的  公司  （  工厂  ）  经理  负责人  你好  ：  我  公司  是 ...</td>\n",
       "      <td>6.700159</td>\n",
       "    </tr>\n",
       "  </tbody>\n",
       "</table>\n",
       "</div>"
      ],
      "text/plain": [
       "       has_not_date                                  jieba_cut_content  \\\n",
       "18809             0  尊敬  的  公司  （  工厂  ）  经理  负责人  你好  ：  我  公司  是 ...   \n",
       "61631             0  声音  变换器  ：  适用  于  不同  型号  的  手机  ，  电话  ，  网络...   \n",
       "5822              0  http  :  /  /  tengyingge  .  blogchina  .  co...   \n",
       "5881              0  刚  开始  ，  是  会  有点  不  习惯  的  。  慢慢来  。  ps  ：...   \n",
       "26337             0  尊敬  的  公司  （  工厂  ）  经理  负责人  你好  ：  我  公司  是 ...   \n",
       "\n",
       "       content_sema  \n",
       "18809      6.849239  \n",
       "61631      7.242064  \n",
       "5822       8.289843  \n",
       "5881       7.063309  \n",
       "26337      6.700159  "
      ]
     },
     "execution_count": 7,
     "metadata": {},
     "output_type": "execute_result"
    }
   ],
   "source": [
    "x_train.head(5)"
   ]
  },
  {
   "cell_type": "code",
   "execution_count": 8,
   "metadata": {
    "collapsed": false,
    "scrolled": true
   },
   "outputs": [
    {
     "name": "stdout",
     "output_type": "stream",
     "text": [
      "         0         1         2         3         4         5         6   \\\n",
      "0  0.340289  0.220013 -0.237480 -0.039960 -0.070103  0.002773 -0.161355   \n",
      "1  0.014968  0.064738  0.027002 -0.004685  0.008153  0.007458  0.016430   \n",
      "2  0.011862  0.072031  0.047004  0.001416 -0.002079  0.035895  0.009215   \n",
      "3  0.019714  0.117439  0.132450  0.060416 -0.103500 -0.074859 -0.012239   \n",
      "4  0.346257  0.215339 -0.234032 -0.043134 -0.071015  0.000229 -0.163201   \n",
      "\n",
      "         7         8         9         10        11        12        13  \\\n",
      "0 -0.008678  0.199735 -0.010297 -0.207711  0.031156 -0.060811 -0.405411   \n",
      "1  0.046081  0.029426 -0.000614  0.008233  0.023869  0.041403  0.010741   \n",
      "2 -0.012044 -0.016838  0.000096  0.001073 -0.003911 -0.002445  0.003750   \n",
      "3 -0.005420 -0.027484  0.000722 -0.017493 -0.013852 -0.003129 -0.015360   \n",
      "4 -0.007977  0.196945 -0.009864 -0.203600  0.029320 -0.057192 -0.392162   \n",
      "\n",
      "         14        15        16        17        18        19  \n",
      "0 -0.475034  0.200241  0.085401 -0.299094 -0.132558  0.139087  \n",
      "1  0.013281  0.001337 -0.005345 -0.024615 -0.007350  0.011626  \n",
      "2 -0.002713 -0.005659  0.001507  0.011808  0.022843  0.012511  \n",
      "3  0.001651  0.007537 -0.031614  0.002408 -0.000216  0.003741  \n",
      "4 -0.464964  0.193093  0.091796 -0.295573 -0.135796  0.140114  \n",
      "<class 'pandas.core.frame.DataFrame'>\n",
      "RangeIndex: 51427 entries, 0 to 51426\n",
      "Data columns (total 20 columns):\n",
      "0     51427 non-null float64\n",
      "1     51427 non-null float64\n",
      "2     51427 non-null float64\n",
      "3     51427 non-null float64\n",
      "4     51427 non-null float64\n",
      "5     51427 non-null float64\n",
      "6     51427 non-null float64\n",
      "7     51427 non-null float64\n",
      "8     51427 non-null float64\n",
      "9     51427 non-null float64\n",
      "10    51427 non-null float64\n",
      "11    51427 non-null float64\n",
      "12    51427 non-null float64\n",
      "13    51427 non-null float64\n",
      "14    51427 non-null float64\n",
      "15    51427 non-null float64\n",
      "16    51427 non-null float64\n",
      "17    51427 non-null float64\n",
      "18    51427 non-null float64\n",
      "19    51427 non-null float64\n",
      "dtypes: float64(20)\n",
      "memory usage: 7.8 MB\n",
      "None\n"
     ]
    }
   ],
   "source": [
    "# 3. 开始模型训练\n",
    "# 3.1 特征工程，将文本数据转换为数值型数据\n",
    "vectorizer = CountVectorizer()\n",
    "transfromer = TfidfTransformer(norm='l2', use_idf=True)\n",
    "svd = TruncatedSVD(n_components=20)\n",
    "jieba_cut_content = list(x_train['jieba_cut_content'].astype('str'))\n",
    "vectorizer_model = vectorizer.fit(jieba_cut_content)\n",
    "df0 = vectorizer_model.transform(jieba_cut_content)\n",
    "transfromer_model = transfromer.fit(df0)\n",
    "df1 = transfromer_model.transform(df0)\n",
    "svd_model = svd.fit(df1)\n",
    "df2 = svd_model.transform(df1)\n",
    "data = pd.DataFrame(df2)\n",
    "print(data.head(5))\n",
    "print(data.info())"
   ]
  },
  {
   "cell_type": "code",
   "execution_count": 9,
   "metadata": {
    "collapsed": false,
    "scrolled": true
   },
   "outputs": [
    {
     "name": "stdout",
     "output_type": "stream",
     "text": [
      "          0         1         2         3         4         5         6  \\\n",
      "0  0.340289  0.220013 -0.237480 -0.039960 -0.070103  0.002773 -0.161355   \n",
      "1  0.014968  0.064738  0.027002 -0.004685  0.008153  0.007458  0.016430   \n",
      "2  0.011862  0.072031  0.047004  0.001416 -0.002079  0.035895  0.009215   \n",
      "3  0.019714  0.117439  0.132450  0.060416 -0.103500 -0.074859 -0.012239   \n",
      "4  0.346257  0.215339 -0.234032 -0.043134 -0.071015  0.000229 -0.163201   \n",
      "\n",
      "          7         8         9      ...             12        13        14  \\\n",
      "0 -0.008678  0.199735 -0.010297      ...      -0.060811 -0.405411 -0.475034   \n",
      "1  0.046081  0.029426 -0.000614      ...       0.041403  0.010741  0.013281   \n",
      "2 -0.012044 -0.016838  0.000096      ...      -0.002445  0.003750 -0.002713   \n",
      "3 -0.005420 -0.027484  0.000722      ...      -0.003129 -0.015360  0.001651   \n",
      "4 -0.007977  0.196945 -0.009864      ...      -0.057192 -0.392162 -0.464964   \n",
      "\n",
      "         15        16        17        18        19  has_not_date  \\\n",
      "0  0.200241  0.085401 -0.299094 -0.132558  0.139087             0   \n",
      "1  0.001337 -0.005345 -0.024615 -0.007350  0.011626             0   \n",
      "2 -0.005659  0.001507  0.011808  0.022843  0.012511             0   \n",
      "3  0.007537 -0.031614  0.002408 -0.000216  0.003741             0   \n",
      "4  0.193093  0.091796 -0.295573 -0.135796  0.140114             0   \n",
      "\n",
      "   content_sema  \n",
      "0      6.849239  \n",
      "1      7.242064  \n",
      "2      8.289843  \n",
      "3      7.063309  \n",
      "4      6.700159  \n",
      "\n",
      "[5 rows x 22 columns]\n",
      "<class 'pandas.core.frame.DataFrame'>\n",
      "RangeIndex: 51427 entries, 0 to 51426\n",
      "Data columns (total 22 columns):\n",
      "0               51427 non-null float64\n",
      "1               51427 non-null float64\n",
      "2               51427 non-null float64\n",
      "3               51427 non-null float64\n",
      "4               51427 non-null float64\n",
      "5               51427 non-null float64\n",
      "6               51427 non-null float64\n",
      "7               51427 non-null float64\n",
      "8               51427 non-null float64\n",
      "9               51427 non-null float64\n",
      "10              51427 non-null float64\n",
      "11              51427 non-null float64\n",
      "12              51427 non-null float64\n",
      "13              51427 non-null float64\n",
      "14              51427 non-null float64\n",
      "15              51427 non-null float64\n",
      "16              51427 non-null float64\n",
      "17              51427 non-null float64\n",
      "18              51427 non-null float64\n",
      "19              51427 non-null float64\n",
      "has_not_date    51427 non-null int64\n",
      "content_sema    51427 non-null float64\n",
      "dtypes: float64(21), int64(1)\n",
      "memory usage: 8.6 MB\n",
      "None\n"
     ]
    }
   ],
   "source": [
    "# 3.2 数据合并\n",
    "data['has_not_date'] = list(x_train['has_not_date'])\n",
    "data['content_sema'] = list(x_train['content_sema'])\n",
    "print(data.head(5))\n",
    "print(data.info())"
   ]
  },
  {
   "cell_type": "code",
   "execution_count": 10,
   "metadata": {
    "collapsed": false
   },
   "outputs": [
    {
     "name": "stdout",
     "output_type": "stream",
     "text": [
      "Wall time: 36.8 s\n"
     ]
    }
   ],
   "source": [
    "%%time\n",
    "gb = GradientBoostingClassifier(learning_rate=0.01, n_estimators=100, max_depth=3, min_samples_split=50, loss='deviance', random_state=0)\n",
    "model = gb.fit(data, y_train)"
   ]
  },
  {
   "cell_type": "code",
   "execution_count": 11,
   "metadata": {
    "collapsed": false,
    "scrolled": true
   },
   "outputs": [
    {
     "name": "stdout",
     "output_type": "stream",
     "text": [
      "          0         1         2         3         4         5         6  \\\n",
      "0  0.537283  0.009059 -0.087592  0.029038  0.000890 -0.032719 -0.157976   \n",
      "1  0.210902  0.131680 -0.090068 -0.086932 -0.033318  0.039737  0.006906   \n",
      "2  0.045151  0.277279  0.233893  0.051061 -0.073945 -0.016249  0.010115   \n",
      "3  0.032907  0.163065  0.113485  0.002436  0.053738  0.008289  0.004222   \n",
      "4  0.035278  0.065202  0.026078 -0.023790  0.072929 -0.005744 -0.003057   \n",
      "\n",
      "          7         8         9      ...             12        13        14  \\\n",
      "0  0.009226 -0.136376  0.015494      ...       0.080579  0.007399 -0.016357   \n",
      "1 -0.008202  0.011263  0.000967      ...      -0.025871 -0.080297 -0.060504   \n",
      "2 -0.014234  0.098993 -0.002427      ...      -0.066506  0.043785 -0.027983   \n",
      "3 -0.019994  0.117494 -0.002910      ...      -0.062422  0.057049 -0.011039   \n",
      "4 -0.008185  0.008577 -0.000544      ...      -0.002325  0.000178  0.004930   \n",
      "\n",
      "         15        16        17        18        19  has_not_date  \\\n",
      "0 -0.122135  0.054765 -0.067479  0.090905 -0.058098             0   \n",
      "1  0.024479 -0.051604  0.020873 -0.024593 -0.014970             0   \n",
      "2  0.005739  0.180850  0.074030  0.049585 -0.064360             0   \n",
      "3 -0.021590  0.064403  0.000024 -0.008945 -0.040152             0   \n",
      "4 -0.003031 -0.002616  0.027066  0.144270  0.273947             0   \n",
      "\n",
      "   content_sema  \n",
      "0      6.773350  \n",
      "1      6.747166  \n",
      "2      8.568723  \n",
      "3      7.120973  \n",
      "4      5.434929  \n",
      "\n",
      "[5 rows x 22 columns]\n",
      "<class 'pandas.core.frame.DataFrame'>\n",
      "RangeIndex: 12857 entries, 0 to 12856\n",
      "Data columns (total 22 columns):\n",
      "0               12857 non-null float64\n",
      "1               12857 non-null float64\n",
      "2               12857 non-null float64\n",
      "3               12857 non-null float64\n",
      "4               12857 non-null float64\n",
      "5               12857 non-null float64\n",
      "6               12857 non-null float64\n",
      "7               12857 non-null float64\n",
      "8               12857 non-null float64\n",
      "9               12857 non-null float64\n",
      "10              12857 non-null float64\n",
      "11              12857 non-null float64\n",
      "12              12857 non-null float64\n",
      "13              12857 non-null float64\n",
      "14              12857 non-null float64\n",
      "15              12857 non-null float64\n",
      "16              12857 non-null float64\n",
      "17              12857 non-null float64\n",
      "18              12857 non-null float64\n",
      "19              12857 non-null float64\n",
      "has_not_date    12857 non-null int64\n",
      "content_sema    12857 non-null float64\n",
      "dtypes: float64(21), int64(1)\n",
      "memory usage: 2.2 MB\n",
      "None\n"
     ]
    }
   ],
   "source": [
    "# 4.1 对测试数据进行特征转换\n",
    "jieba_cut_content_test = list(x_test['jieba_cut_content'].astype('str'))\n",
    "data_test = pd.DataFrame(svd_model.transform(transfromer_model.transform(vectorizer_model.transform(jieba_cut_content_test))))\n",
    "data_test['has_not_date'] = list(x_test['has_not_date'])\n",
    "data_test['content_sema'] = list(x_test['content_sema'])\n",
    "print(data_test.head(5))\n",
    "print(data_test.info())"
   ]
  },
  {
   "cell_type": "code",
   "execution_count": 12,
   "metadata": {
    "collapsed": false
   },
   "outputs": [],
   "source": [
    "# 4.2 对测试数据进行预测\n",
    "y_predict = model.predict(data_test)"
   ]
  },
  {
   "cell_type": "code",
   "execution_count": 14,
   "metadata": {
    "collapsed": false
   },
   "outputs": [
    {
     "name": "stdout",
     "output_type": "stream",
     "text": [
      "精确率为:0.94765\n",
      "召回率为:0.98973\n",
      "F1值为:0.96823\n"
     ]
    }
   ],
   "source": [
    "# 5. 效果评估\n",
    "print(\"精确率为:%.5f\" % precision_score(y_test, y_predict))\n",
    "print(\"召回率为:%.5f\" % recall_score(y_test, y_predict))\n",
    "print(\"F1值为:%.5f\" % f1_score(y_test, y_predict))"
   ]
  },
  {
   "cell_type": "code",
   "execution_count": null,
   "metadata": {
    "collapsed": true
   },
   "outputs": [],
   "source": []
  }
 ],
 "metadata": {
  "kernelspec": {
   "display_name": "Python 3",
   "language": "python",
   "name": "python3"
  },
  "language_info": {
   "codemirror_mode": {
    "name": "ipython",
    "version": 3
   },
   "file_extension": ".py",
   "mimetype": "text/x-python",
   "name": "python",
   "nbconvert_exporter": "python",
   "pygments_lexer": "ipython3",
   "version": "3.6.0"
  }
 },
 "nbformat": 4,
 "nbformat_minor": 2
}
