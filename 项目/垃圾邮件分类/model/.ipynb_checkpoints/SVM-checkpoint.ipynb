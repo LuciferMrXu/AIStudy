{
 "cells": [
  {
   "cell_type": "code",
   "execution_count": 1,
   "metadata": {
    "collapsed": false
   },
   "outputs": [],
   "source": [
    "import pandas as pd\n",
    "import numpy as np\n",
    "import matplotlib as mpl\n",
    "import matplotlib.pyplot as plt\n",
    "\n",
    "from sklearn.feature_extraction.text import CountVectorizer, TfidfTransformer\n",
    "from sklearn.decomposition import TruncatedSVD\n",
    "from sklearn.svm import SVC\n",
    "from sklearn.model_selection import train_test_split\n",
    "from sklearn.metrics import f1_score,precision_score, recall_score"
   ]
  },
  {
   "cell_type": "code",
   "execution_count": 2,
   "metadata": {
    "collapsed": false
   },
   "outputs": [],
   "source": [
    "## 设置字符集，防止中文乱码\n",
    "mpl.rcParams['font.sans-serif']=[u'simHei']\n",
    "mpl.rcParams['axes.unicode_minus']=False"
   ]
  },
  {
   "cell_type": "code",
   "execution_count": 3,
   "metadata": {
    "collapsed": true
   },
   "outputs": [],
   "source": [
    "# jupyter展示图片，非内嵌显示\n",
    "# tk: 显示出来，inline：内嵌显示，默认为inline\n",
    "%matplotlib tk"
   ]
  },
  {
   "cell_type": "code",
   "execution_count": 4,
   "metadata": {
    "collapsed": false
   },
   "outputs": [
    {
     "data": {
      "text/html": [
       "<div>\n",
       "<table border=\"1\" class=\"dataframe\">\n",
       "  <thead>\n",
       "    <tr style=\"text-align: right;\">\n",
       "      <th></th>\n",
       "      <th>label</th>\n",
       "      <th>from_12</th>\n",
       "      <th>from_163</th>\n",
       "      <th>from_126</th>\n",
       "      <th>from_tom</th>\n",
       "      <th>from_unknown</th>\n",
       "      <th>from_tsinghua</th>\n",
       "      <th>from_cernet</th>\n",
       "      <th>has_not_date</th>\n",
       "      <th>jieba_cut_content</th>\n",
       "      <th>content_length</th>\n",
       "      <th>content_length_type</th>\n",
       "      <th>content_sema</th>\n",
       "    </tr>\n",
       "  </thead>\n",
       "  <tbody>\n",
       "    <tr>\n",
       "      <th>0</th>\n",
       "      <td>1.0</td>\n",
       "      <td>0</td>\n",
       "      <td>0</td>\n",
       "      <td>0</td>\n",
       "      <td>0</td>\n",
       "      <td>1</td>\n",
       "      <td>0</td>\n",
       "      <td>0</td>\n",
       "      <td>0</td>\n",
       "      <td>非  财务  纠淼  牟  莆  窆  芾  -  （  沙盘  模拟  ）  -  -  ...</td>\n",
       "      <td>1798</td>\n",
       "      <td>5</td>\n",
       "      <td>8.456151</td>\n",
       "    </tr>\n",
       "    <tr>\n",
       "      <th>1</th>\n",
       "      <td>0.0</td>\n",
       "      <td>0</td>\n",
       "      <td>0</td>\n",
       "      <td>0</td>\n",
       "      <td>0</td>\n",
       "      <td>0</td>\n",
       "      <td>0</td>\n",
       "      <td>0</td>\n",
       "      <td>0</td>\n",
       "      <td>讲  的  是  孔子  后人  的  故事  。  一个  老  领导  回到  家乡  ...</td>\n",
       "      <td>193</td>\n",
       "      <td>2</td>\n",
       "      <td>7.486084</td>\n",
       "    </tr>\n",
       "    <tr>\n",
       "      <th>2</th>\n",
       "      <td>1.0</td>\n",
       "      <td>0</td>\n",
       "      <td>0</td>\n",
       "      <td>0</td>\n",
       "      <td>0</td>\n",
       "      <td>0</td>\n",
       "      <td>0</td>\n",
       "      <td>0</td>\n",
       "      <td>0</td>\n",
       "      <td>尊敬  的  贵  公司  (  财务  /  经理  )  负责人  您好  ！  我  ...</td>\n",
       "      <td>255</td>\n",
       "      <td>2</td>\n",
       "      <td>7.175171</td>\n",
       "    </tr>\n",
       "    <tr>\n",
       "      <th>3</th>\n",
       "      <td>1.0</td>\n",
       "      <td>1</td>\n",
       "      <td>0</td>\n",
       "      <td>0</td>\n",
       "      <td>0</td>\n",
       "      <td>0</td>\n",
       "      <td>0</td>\n",
       "      <td>0</td>\n",
       "      <td>0</td>\n",
       "      <td>贵  公司  负责人  (  经理  /  财务  ）  您好  ：  深圳市  华龙  公...</td>\n",
       "      <td>177</td>\n",
       "      <td>2</td>\n",
       "      <td>7.565682</td>\n",
       "    </tr>\n",
       "    <tr>\n",
       "      <th>4</th>\n",
       "      <td>1.0</td>\n",
       "      <td>0</td>\n",
       "      <td>0</td>\n",
       "      <td>0</td>\n",
       "      <td>0</td>\n",
       "      <td>0</td>\n",
       "      <td>0</td>\n",
       "      <td>0</td>\n",
       "      <td>0</td>\n",
       "      <td>这是  一封  HTML  格式  信件  ！  -  -  -  -  -  -  -  ...</td>\n",
       "      <td>15969</td>\n",
       "      <td>11</td>\n",
       "      <td>2.063409</td>\n",
       "    </tr>\n",
       "    <tr>\n",
       "      <th>5</th>\n",
       "      <td>1.0</td>\n",
       "      <td>0</td>\n",
       "      <td>1</td>\n",
       "      <td>0</td>\n",
       "      <td>0</td>\n",
       "      <td>0</td>\n",
       "      <td>0</td>\n",
       "      <td>0</td>\n",
       "      <td>0</td>\n",
       "      <td>TO  ：  贵  公司  经理  、  财务  您好  ！  深圳市  春洋  贸易  有...</td>\n",
       "      <td>261</td>\n",
       "      <td>2</td>\n",
       "      <td>7.143747</td>\n",
       "    </tr>\n",
       "    <tr>\n",
       "      <th>6</th>\n",
       "      <td>0.0</td>\n",
       "      <td>0</td>\n",
       "      <td>0</td>\n",
       "      <td>0</td>\n",
       "      <td>0</td>\n",
       "      <td>0</td>\n",
       "      <td>0</td>\n",
       "      <td>0</td>\n",
       "      <td>0</td>\n",
       "      <td>那  他  为什么  不  愿意  起诉  ，  既然  这样  了  ！  起诉  后  ...</td>\n",
       "      <td>474</td>\n",
       "      <td>2</td>\n",
       "      <td>4.807568</td>\n",
       "    </tr>\n",
       "    <tr>\n",
       "      <th>7</th>\n",
       "      <td>1.0</td>\n",
       "      <td>0</td>\n",
       "      <td>0</td>\n",
       "      <td>0</td>\n",
       "      <td>1</td>\n",
       "      <td>0</td>\n",
       "      <td>0</td>\n",
       "      <td>0</td>\n",
       "      <td>0</td>\n",
       "      <td>尊敬  的  负责人  （  经理  ／  财务  ）  ：  您好  ！  我  是  深...</td>\n",
       "      <td>351</td>\n",
       "      <td>2</td>\n",
       "      <td>6.593684</td>\n",
       "    </tr>\n",
       "    <tr>\n",
       "      <th>8</th>\n",
       "      <td>1.0</td>\n",
       "      <td>0</td>\n",
       "      <td>0</td>\n",
       "      <td>0</td>\n",
       "      <td>0</td>\n",
       "      <td>0</td>\n",
       "      <td>0</td>\n",
       "      <td>0</td>\n",
       "      <td>0</td>\n",
       "      <td>您好     以下  是  特别  为  阁下  发  的  香港  信息  (  图片  ...</td>\n",
       "      <td>168</td>\n",
       "      <td>2</td>\n",
       "      <td>7.611074</td>\n",
       "    </tr>\n",
       "    <tr>\n",
       "      <th>9</th>\n",
       "      <td>0.0</td>\n",
       "      <td>0</td>\n",
       "      <td>0</td>\n",
       "      <td>0</td>\n",
       "      <td>0</td>\n",
       "      <td>0</td>\n",
       "      <td>0</td>\n",
       "      <td>0</td>\n",
       "      <td>0</td>\n",
       "      <td>我  觉得  ，  负债  不要紧  ，  最  重要  的  是  能  负得起  这个 ...</td>\n",
       "      <td>280</td>\n",
       "      <td>2</td>\n",
       "      <td>7.041340</td>\n",
       "    </tr>\n",
       "  </tbody>\n",
       "</table>\n",
       "</div>"
      ],
      "text/plain": [
       "   label  from_12  from_163  from_126  from_tom  from_unknown  from_tsinghua  \\\n",
       "0    1.0        0         0         0         0             1              0   \n",
       "1    0.0        0         0         0         0             0              0   \n",
       "2    1.0        0         0         0         0             0              0   \n",
       "3    1.0        1         0         0         0             0              0   \n",
       "4    1.0        0         0         0         0             0              0   \n",
       "5    1.0        0         1         0         0             0              0   \n",
       "6    0.0        0         0         0         0             0              0   \n",
       "7    1.0        0         0         0         1             0              0   \n",
       "8    1.0        0         0         0         0             0              0   \n",
       "9    0.0        0         0         0         0             0              0   \n",
       "\n",
       "   from_cernet  has_not_date  \\\n",
       "0            0             0   \n",
       "1            0             0   \n",
       "2            0             0   \n",
       "3            0             0   \n",
       "4            0             0   \n",
       "5            0             0   \n",
       "6            0             0   \n",
       "7            0             0   \n",
       "8            0             0   \n",
       "9            0             0   \n",
       "\n",
       "                                   jieba_cut_content  content_length  \\\n",
       "0  非  财务  纠淼  牟  莆  窆  芾  -  （  沙盘  模拟  ）  -  -  ...            1798   \n",
       "1  讲  的  是  孔子  后人  的  故事  。  一个  老  领导  回到  家乡  ...             193   \n",
       "2  尊敬  的  贵  公司  (  财务  /  经理  )  负责人  您好  ！  我  ...             255   \n",
       "3  贵  公司  负责人  (  经理  /  财务  ）  您好  ：  深圳市  华龙  公...             177   \n",
       "4  这是  一封  HTML  格式  信件  ！  -  -  -  -  -  -  -  ...           15969   \n",
       "5  TO  ：  贵  公司  经理  、  财务  您好  ！  深圳市  春洋  贸易  有...             261   \n",
       "6  那  他  为什么  不  愿意  起诉  ，  既然  这样  了  ！  起诉  后  ...             474   \n",
       "7  尊敬  的  负责人  （  经理  ／  财务  ）  ：  您好  ！  我  是  深...             351   \n",
       "8  您好     以下  是  特别  为  阁下  发  的  香港  信息  (  图片  ...             168   \n",
       "9  我  觉得  ，  负债  不要紧  ，  最  重要  的  是  能  负得起  这个 ...             280   \n",
       "\n",
       "   content_length_type  content_sema  \n",
       "0                    5      8.456151  \n",
       "1                    2      7.486084  \n",
       "2                    2      7.175171  \n",
       "3                    2      7.565682  \n",
       "4                   11      2.063409  \n",
       "5                    2      7.143747  \n",
       "6                    2      4.807568  \n",
       "7                    2      6.593684  \n",
       "8                    2      7.611074  \n",
       "9                    2      7.041340  "
      ]
     },
     "execution_count": 4,
     "metadata": {},
     "output_type": "execute_result"
    }
   ],
   "source": [
    "# 1. 文件数据读取\n",
    "df = pd.read_csv('../data/result_process02', sep=',')\n",
    "# 如果有某值为nan，进行删除操作\n",
    "df.dropna(axis=0, how='any', inplace=True)\n",
    "df.head(10)"
   ]
  },
  {
   "cell_type": "code",
   "execution_count": 5,
   "metadata": {
    "collapsed": false
   },
   "outputs": [
    {
     "name": "stdout",
     "output_type": "stream",
     "text": [
      "<class 'pandas.core.frame.DataFrame'>\n",
      "Int64Index: 64284 entries, 0 to 64618\n",
      "Data columns (total 13 columns):\n",
      "label                  64284 non-null float64\n",
      "from_12                64284 non-null int64\n",
      "from_163               64284 non-null int64\n",
      "from_126               64284 non-null int64\n",
      "from_tom               64284 non-null int64\n",
      "from_unknown           64284 non-null int64\n",
      "from_tsinghua          64284 non-null int64\n",
      "from_cernet            64284 non-null int64\n",
      "has_not_date           64284 non-null int64\n",
      "jieba_cut_content      64284 non-null object\n",
      "content_length         64284 non-null int64\n",
      "content_length_type    64284 non-null int64\n",
      "content_sema           64284 non-null float64\n",
      "dtypes: float64(2), int64(10), object(1)\n",
      "memory usage: 6.9+ MB\n"
     ]
    }
   ],
   "source": [
    "df.info()"
   ]
  },
  {
   "cell_type": "code",
   "execution_count": 6,
   "metadata": {
    "collapsed": false
   },
   "outputs": [
    {
     "name": "stdout",
     "output_type": "stream",
     "text": [
      "训练数据集大小:51427\n",
      "测试数据集大小:12857\n"
     ]
    }
   ],
   "source": [
    "# 2. 数据分割\n",
    "x_train, x_test, y_train, y_test = train_test_split(df[['has_not_date','jieba_cut_content','content_sema']], df['label'], test_size=0.2, random_state=0)\n",
    "print(\"训练数据集大小:%d\" % x_train.shape[0])\n",
    "print(\"测试数据集大小:%d\" % x_test.shape[0])"
   ]
  },
  {
   "cell_type": "code",
   "execution_count": 7,
   "metadata": {
    "collapsed": false
   },
   "outputs": [
    {
     "data": {
      "text/html": [
       "<div>\n",
       "<table border=\"1\" class=\"dataframe\">\n",
       "  <thead>\n",
       "    <tr style=\"text-align: right;\">\n",
       "      <th></th>\n",
       "      <th>has_not_date</th>\n",
       "      <th>jieba_cut_content</th>\n",
       "      <th>content_sema</th>\n",
       "    </tr>\n",
       "  </thead>\n",
       "  <tbody>\n",
       "    <tr>\n",
       "      <th>18809</th>\n",
       "      <td>0</td>\n",
       "      <td>尊敬  的  公司  （  工厂  ）  经理  负责人  你好  ：  我  公司  是 ...</td>\n",
       "      <td>6.849239</td>\n",
       "    </tr>\n",
       "    <tr>\n",
       "      <th>61631</th>\n",
       "      <td>0</td>\n",
       "      <td>声音  变换器  ：  适用  于  不同  型号  的  手机  ，  电话  ，  网络...</td>\n",
       "      <td>7.242064</td>\n",
       "    </tr>\n",
       "    <tr>\n",
       "      <th>5822</th>\n",
       "      <td>0</td>\n",
       "      <td>http  :  /  /  tengyingge  .  blogchina  .  co...</td>\n",
       "      <td>8.289843</td>\n",
       "    </tr>\n",
       "    <tr>\n",
       "      <th>5881</th>\n",
       "      <td>0</td>\n",
       "      <td>刚  开始  ，  是  会  有点  不  习惯  的  。  慢慢来  。  ps  ：...</td>\n",
       "      <td>7.063309</td>\n",
       "    </tr>\n",
       "    <tr>\n",
       "      <th>26337</th>\n",
       "      <td>0</td>\n",
       "      <td>尊敬  的  公司  （  工厂  ）  经理  负责人  你好  ：  我  公司  是 ...</td>\n",
       "      <td>6.700159</td>\n",
       "    </tr>\n",
       "  </tbody>\n",
       "</table>\n",
       "</div>"
      ],
      "text/plain": [
       "       has_not_date                                  jieba_cut_content  \\\n",
       "18809             0  尊敬  的  公司  （  工厂  ）  经理  负责人  你好  ：  我  公司  是 ...   \n",
       "61631             0  声音  变换器  ：  适用  于  不同  型号  的  手机  ，  电话  ，  网络...   \n",
       "5822              0  http  :  /  /  tengyingge  .  blogchina  .  co...   \n",
       "5881              0  刚  开始  ，  是  会  有点  不  习惯  的  。  慢慢来  。  ps  ：...   \n",
       "26337             0  尊敬  的  公司  （  工厂  ）  经理  负责人  你好  ：  我  公司  是 ...   \n",
       "\n",
       "       content_sema  \n",
       "18809      6.849239  \n",
       "61631      7.242064  \n",
       "5822       8.289843  \n",
       "5881       7.063309  \n",
       "26337      6.700159  "
      ]
     },
     "execution_count": 7,
     "metadata": {},
     "output_type": "execute_result"
    }
   ],
   "source": [
    "x_train.head(5)"
   ]
  },
  {
   "cell_type": "code",
   "execution_count": 8,
   "metadata": {
    "collapsed": false,
    "scrolled": true
   },
   "outputs": [
    {
     "name": "stdout",
     "output_type": "stream",
     "text": [
      "         0         1         2         3         4         5         6   \\\n",
      "0  0.340289  0.220014 -0.237470 -0.039914 -0.070163  0.002503 -0.160672   \n",
      "1  0.014968  0.064740  0.027004 -0.004671  0.008163  0.007443  0.016394   \n",
      "2  0.011862  0.072032  0.047007  0.001425 -0.002086  0.035893  0.009219   \n",
      "3  0.019714  0.117441  0.132449  0.060416 -0.103502 -0.074865 -0.012203   \n",
      "4  0.346257  0.215339 -0.234021 -0.043093 -0.071072 -0.000045 -0.162491   \n",
      "\n",
      "         7         8         9         10        11        12        13  \\\n",
      "0 -0.010336  0.201765 -0.010268 -0.199690  0.038106 -0.064801  0.440315   \n",
      "1  0.046039  0.029311 -0.000213  0.007713  0.023300  0.041713 -0.011966   \n",
      "2 -0.012289 -0.016741  0.000246  0.001168 -0.004088 -0.002343 -0.003424   \n",
      "3 -0.005654 -0.027454  0.000370 -0.017065 -0.013517 -0.002953  0.018424   \n",
      "4 -0.009662  0.199088 -0.010059 -0.195232  0.036359 -0.061233  0.427966   \n",
      "\n",
      "         14        15        16        17        18        19  \n",
      "0 -0.467051  0.206025  0.093544 -0.255745 -0.161120  0.138284  \n",
      "1  0.014060  0.000432 -0.005475 -0.020444 -0.013397  0.007590  \n",
      "2 -0.003030 -0.004837  0.001810  0.005174  0.030404  0.007931  \n",
      "3  0.003664  0.007345 -0.028456 -0.007694  0.014178  0.000602  \n",
      "4 -0.457660  0.199609  0.102233 -0.254938 -0.159593  0.141896  \n",
      "<class 'pandas.core.frame.DataFrame'>\n",
      "RangeIndex: 51427 entries, 0 to 51426\n",
      "Data columns (total 20 columns):\n",
      "0     51427 non-null float64\n",
      "1     51427 non-null float64\n",
      "2     51427 non-null float64\n",
      "3     51427 non-null float64\n",
      "4     51427 non-null float64\n",
      "5     51427 non-null float64\n",
      "6     51427 non-null float64\n",
      "7     51427 non-null float64\n",
      "8     51427 non-null float64\n",
      "9     51427 non-null float64\n",
      "10    51427 non-null float64\n",
      "11    51427 non-null float64\n",
      "12    51427 non-null float64\n",
      "13    51427 non-null float64\n",
      "14    51427 non-null float64\n",
      "15    51427 non-null float64\n",
      "16    51427 non-null float64\n",
      "17    51427 non-null float64\n",
      "18    51427 non-null float64\n",
      "19    51427 non-null float64\n",
      "dtypes: float64(20)\n",
      "memory usage: 7.8 MB\n",
      "None\n"
     ]
    }
   ],
   "source": [
    "# 3. 开始模型训练\n",
    "# 3.1 特征工程，将文本数据转换为数值型数据\n",
    "vectorizer = CountVectorizer()\n",
    "transfromer = TfidfTransformer(norm='l2', use_idf=True)\n",
    "svd = TruncatedSVD(n_components=20)\n",
    "jieba_cut_content = list(x_train['jieba_cut_content'].astype('str'))\n",
    "vectorizer_model = vectorizer.fit(jieba_cut_content)\n",
    "df0 = vectorizer_model.transform(jieba_cut_content)\n",
    "transfromer_model = transfromer.fit(df0)\n",
    "df1 = transfromer_model.transform(df0)\n",
    "svd_model = svd.fit(df1)\n",
    "df2 = svd_model.transform(df1)\n",
    "data = pd.DataFrame(df2)\n",
    "print(data.head(5))\n",
    "print(data.info())"
   ]
  },
  {
   "cell_type": "code",
   "execution_count": 9,
   "metadata": {
    "collapsed": false,
    "scrolled": true
   },
   "outputs": [
    {
     "name": "stdout",
     "output_type": "stream",
     "text": [
      "          0         1         2         3         4         5         6  \\\n",
      "0  0.340289  0.220014 -0.237470 -0.039914 -0.070163  0.002503 -0.160672   \n",
      "1  0.014968  0.064740  0.027004 -0.004671  0.008163  0.007443  0.016394   \n",
      "2  0.011862  0.072032  0.047007  0.001425 -0.002086  0.035893  0.009219   \n",
      "3  0.019714  0.117441  0.132449  0.060416 -0.103502 -0.074865 -0.012203   \n",
      "4  0.346257  0.215339 -0.234021 -0.043093 -0.071072 -0.000045 -0.162491   \n",
      "\n",
      "          7         8         9      ...             12        13        14  \\\n",
      "0 -0.010336  0.201765 -0.010268      ...      -0.064801  0.440315 -0.467051   \n",
      "1  0.046039  0.029311 -0.000213      ...       0.041713 -0.011966  0.014060   \n",
      "2 -0.012289 -0.016741  0.000246      ...      -0.002343 -0.003424 -0.003030   \n",
      "3 -0.005654 -0.027454  0.000370      ...      -0.002953  0.018424  0.003664   \n",
      "4 -0.009662  0.199088 -0.010059      ...      -0.061233  0.427966 -0.457660   \n",
      "\n",
      "         15        16        17        18        19  has_not_date  \\\n",
      "0  0.206025  0.093544 -0.255745 -0.161120  0.138284             0   \n",
      "1  0.000432 -0.005475 -0.020444 -0.013397  0.007590             0   \n",
      "2 -0.004837  0.001810  0.005174  0.030404  0.007931             0   \n",
      "3  0.007345 -0.028456 -0.007694  0.014178  0.000602             0   \n",
      "4  0.199609  0.102233 -0.254938 -0.159593  0.141896             0   \n",
      "\n",
      "   content_sema  \n",
      "0      6.849239  \n",
      "1      7.242064  \n",
      "2      8.289843  \n",
      "3      7.063309  \n",
      "4      6.700159  \n",
      "\n",
      "[5 rows x 22 columns]\n",
      "<class 'pandas.core.frame.DataFrame'>\n",
      "RangeIndex: 51427 entries, 0 to 51426\n",
      "Data columns (total 22 columns):\n",
      "0               51427 non-null float64\n",
      "1               51427 non-null float64\n",
      "2               51427 non-null float64\n",
      "3               51427 non-null float64\n",
      "4               51427 non-null float64\n",
      "5               51427 non-null float64\n",
      "6               51427 non-null float64\n",
      "7               51427 non-null float64\n",
      "8               51427 non-null float64\n",
      "9               51427 non-null float64\n",
      "10              51427 non-null float64\n",
      "11              51427 non-null float64\n",
      "12              51427 non-null float64\n",
      "13              51427 non-null float64\n",
      "14              51427 non-null float64\n",
      "15              51427 non-null float64\n",
      "16              51427 non-null float64\n",
      "17              51427 non-null float64\n",
      "18              51427 non-null float64\n",
      "19              51427 non-null float64\n",
      "has_not_date    51427 non-null int64\n",
      "content_sema    51427 non-null float64\n",
      "dtypes: float64(21), int64(1)\n",
      "memory usage: 8.6 MB\n",
      "None\n"
     ]
    }
   ],
   "source": [
    "# 3.2 数据合并\n",
    "data['has_not_date'] = list(x_train['has_not_date'])\n",
    "data['content_sema'] = list(x_train['content_sema'])\n",
    "print(data.head(5))\n",
    "print(data.info())"
   ]
  },
  {
   "cell_type": "code",
   "execution_count": 10,
   "metadata": {
    "collapsed": false
   },
   "outputs": [
    {
     "name": "stdout",
     "output_type": "stream",
     "text": [
      "Wall time: 3min 18s\n"
     ]
    }
   ],
   "source": [
    "%%time\n",
    "svc = SVC(C = 1, kernel='rbf', degree=3, gamma=0.001)\n",
    "model = svc.fit(data, y_train)"
   ]
  },
  {
   "cell_type": "code",
   "execution_count": 11,
   "metadata": {
    "collapsed": false,
    "scrolled": true
   },
   "outputs": [
    {
     "name": "stdout",
     "output_type": "stream",
     "text": [
      "          0         1         2         3         4         5         6  \\\n",
      "0  0.537283  0.009051 -0.087593  0.028998  0.000884 -0.032714 -0.157628   \n",
      "1  0.210902  0.131679 -0.090067 -0.086951 -0.033303  0.039730  0.006972   \n",
      "2  0.045151  0.277282  0.233898  0.051088 -0.074042 -0.016353  0.010556   \n",
      "3  0.032907  0.163066  0.113484  0.002471  0.053721  0.008246  0.004299   \n",
      "4  0.035278  0.065206  0.026081 -0.023765  0.072959 -0.005855 -0.003147   \n",
      "\n",
      "          7         8         9      ...             12        13        14  \\\n",
      "0  0.008807 -0.134740  0.009570      ...       0.079760  0.003370 -0.019413   \n",
      "1 -0.008156  0.011764 -0.000274      ...      -0.025889  0.082151 -0.056044   \n",
      "2 -0.015496  0.099428 -0.002580      ...      -0.067978 -0.033711 -0.027252   \n",
      "3 -0.020446  0.117419 -0.002556      ...      -0.062182 -0.057061 -0.012849   \n",
      "4 -0.008075  0.007914  0.000467      ...      -0.001617 -0.004282 -0.000578   \n",
      "\n",
      "         15        16        17        18        19  has_not_date  \\\n",
      "0 -0.115462  0.082802 -0.087326  0.055081 -0.045361             0   \n",
      "1  0.024863 -0.056235  0.011281 -0.008988  0.001654             0   \n",
      "2  0.009586  0.176841  0.092722  0.036728 -0.082111             0   \n",
      "3 -0.021067  0.063807  0.017896 -0.032700 -0.038216             0   \n",
      "4 -0.011023 -0.001478  0.015168  0.120300  0.349256             0   \n",
      "\n",
      "   content_sema  \n",
      "0      6.773350  \n",
      "1      6.747166  \n",
      "2      8.568723  \n",
      "3      7.120973  \n",
      "4      5.434929  \n",
      "\n",
      "[5 rows x 22 columns]\n",
      "<class 'pandas.core.frame.DataFrame'>\n",
      "RangeIndex: 12857 entries, 0 to 12856\n",
      "Data columns (total 22 columns):\n",
      "0               12857 non-null float64\n",
      "1               12857 non-null float64\n",
      "2               12857 non-null float64\n",
      "3               12857 non-null float64\n",
      "4               12857 non-null float64\n",
      "5               12857 non-null float64\n",
      "6               12857 non-null float64\n",
      "7               12857 non-null float64\n",
      "8               12857 non-null float64\n",
      "9               12857 non-null float64\n",
      "10              12857 non-null float64\n",
      "11              12857 non-null float64\n",
      "12              12857 non-null float64\n",
      "13              12857 non-null float64\n",
      "14              12857 non-null float64\n",
      "15              12857 non-null float64\n",
      "16              12857 non-null float64\n",
      "17              12857 non-null float64\n",
      "18              12857 non-null float64\n",
      "19              12857 non-null float64\n",
      "has_not_date    12857 non-null int64\n",
      "content_sema    12857 non-null float64\n",
      "dtypes: float64(21), int64(1)\n",
      "memory usage: 2.2 MB\n",
      "None\n"
     ]
    }
   ],
   "source": [
    "# 4.1 对测试数据进行特征转换\n",
    "jieba_cut_content_test = list(x_test['jieba_cut_content'].astype('str'))\n",
    "data_test = pd.DataFrame(svd_model.transform(transfromer_model.transform(vectorizer_model.transform(jieba_cut_content_test))))\n",
    "data_test['has_not_date'] = list(x_test['has_not_date'])\n",
    "data_test['content_sema'] = list(x_test['content_sema'])\n",
    "print(data_test.head(5))\n",
    "print(data_test.info())"
   ]
  },
  {
   "cell_type": "code",
   "execution_count": 12,
   "metadata": {
    "collapsed": false
   },
   "outputs": [],
   "source": [
    "# 4.2 对测试数据进行预测\n",
    "y_predict = model.predict(data_test)"
   ]
  },
  {
   "cell_type": "code",
   "execution_count": 13,
   "metadata": {
    "collapsed": false
   },
   "outputs": [
    {
     "name": "stdout",
     "output_type": "stream",
     "text": [
      "精确率为:0.87596\n",
      "召回率为:0.98642\n",
      "F1值为:0.92791\n"
     ]
    }
   ],
   "source": [
    "# 5. 效果评估\n",
    "print(\"精确率为:%.5f\" % precision_score(y_test, y_predict))\n",
    "print(\"召回率为:%.5f\" % recall_score(y_test, y_predict))\n",
    "print(\"F1值为:%.5f\" % f1_score(y_test, y_predict))"
   ]
  },
  {
   "cell_type": "code",
   "execution_count": null,
   "metadata": {
    "collapsed": true
   },
   "outputs": [],
   "source": []
  }
 ],
 "metadata": {
  "kernelspec": {
   "display_name": "Python 3",
   "language": "python",
   "name": "python3"
  },
  "language_info": {
   "codemirror_mode": {
    "name": "ipython",
    "version": 3
   },
   "file_extension": ".py",
   "mimetype": "text/x-python",
   "name": "python",
   "nbconvert_exporter": "python",
   "pygments_lexer": "ipython3",
   "version": "3.6.0"
  }
 },
 "nbformat": 4,
 "nbformat_minor": 2
}
