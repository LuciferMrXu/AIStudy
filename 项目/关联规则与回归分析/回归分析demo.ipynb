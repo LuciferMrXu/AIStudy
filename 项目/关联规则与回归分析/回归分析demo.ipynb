{
 "cells": [
  {
   "cell_type": "code",
   "execution_count": 5,
   "metadata": {},
   "outputs": [
    {
     "name": "stdout",
     "output_type": "stream",
     "text": [
      "评分结果： 0.7158756137479542\n",
      "系数: [0.54]\n",
      "截距： 5.633333333333329\n",
      "预测结果: [ 8.33333333 13.73333333 19.13333333 24.53333333 29.93333333 35.33333333]\n"
     ]
    }
   ],
   "source": [
    "import numpy as np\n",
    "from sklearn.linear_model import LinearRegression\n",
    "\n",
    "# 一元线性回归\n",
    "#x = np.array([5, 15, 25, 35, 45, 55]).reshape((-1, 1))\n",
    "x = np.array([[5], [15], [25], [35], [45], [55]])\n",
    "y = np.array([5, 20, 14, 32, 22, 38])\n",
    "model = LinearRegression()\n",
    "model.fit(x, y)\n",
    "# 确定系数\n",
    "r_sq = model.score(x, y)\n",
    "print('评分结果：', r_sq)\n",
    "print('系数:', model.coef_)\n",
    "print('截距：', model.intercept_)\n",
    "y_pred = model.predict(x)\n",
    "print('预测结果:', y_pred)"
   ]
  },
  {
   "cell_type": "code",
   "execution_count": 6,
   "metadata": {},
   "outputs": [
    {
     "name": "stdout",
     "output_type": "stream",
     "text": [
      "评分结果： 0.8615939258756776\n",
      "系数: [0.44706965 0.25502548]\n",
      "截距： 5.52257927519819\n",
      "预测结果: [ 5.77760476  8.012953   12.73867497 17.9744479  23.97529728 29.4660957\n",
      " 38.78227633 41.27265006]\n"
     ]
    }
   ],
   "source": [
    "# 多元线性回归\n",
    "x = [[0, 1], [5, 1], [15, 2], [25, 5], [35, 11], [45, 15], [55, 34], [60, 35]]\n",
    "y = [4, 5, 20, 14, 32, 22, 38, 43]\n",
    "model = LinearRegression()\n",
    "model.fit(x, y)\n",
    "# 确定系数\n",
    "r_sq = model.score(x, y)\n",
    "print('评分结果：', r_sq)\n",
    "print('系数:', model.coef_)\n",
    "print('截距：', model.intercept_)\n",
    "y_pred = model.predict(x)\n",
    "print('预测结果:', y_pred)"
   ]
  },
  {
   "cell_type": "code",
   "execution_count": 8,
   "metadata": {},
   "outputs": [
    {
     "name": "stdout",
     "output_type": "stream",
     "text": [
      "[[   5.   25.]\n",
      " [  15.  225.]\n",
      " [  25.  625.]\n",
      " [  35. 1225.]\n",
      " [  45. 2025.]\n",
      " [  55. 3025.]]\n",
      "评分结果： 0.8908516262498563\n",
      "系数: [-1.32357143  0.02839286]\n",
      "截距： 21.372321428571436\n",
      "预测结果: [15.46428571  7.90714286  6.02857143  9.82857143 19.30714286 34.46428571]\n"
     ]
    }
   ],
   "source": [
    "# 多项式回归\n",
    "from sklearn.preprocessing import PolynomialFeatures\n",
    "\n",
    "x = np.array([5, 15, 25, 35, 45, 55]).reshape((-1, 1))\n",
    "y = np.array([15, 11, 2, 8, 25, 32])\n",
    "transformer = PolynomialFeatures(degree=2, include_bias=False)\n",
    "x2 = transformer.fit_transform(x)\n",
    "print(x2)\n",
    "\n",
    "model = LinearRegression()\n",
    "model.fit(x2, y)\n",
    "# 确定系数\n",
    "r_sq = model.score(x2, y)\n",
    "print('评分结果：', r_sq)\n",
    "print('系数:', model.coef_)\n",
    "print('截距：', model.intercept_)\n",
    "y_pred = model.predict(x2)\n",
    "print('预测结果:', y_pred)\n",
    "# Youtube推荐系统，有 example age（视频创建的时长，到目前为主，视频出生的时长）\n",
    "#x, x**2, x**0.5"
   ]
  }
 ],
 "metadata": {
  "kernelspec": {
   "display_name": "Python 3 (ipykernel)",
   "language": "python",
   "name": "python3"
  },
  "language_info": {
   "codemirror_mode": {
    "name": "ipython",
    "version": 3
   },
   "file_extension": ".py",
   "mimetype": "text/x-python",
   "name": "python",
   "nbconvert_exporter": "python",
   "pygments_lexer": "ipython3",
   "version": "3.8.12"
  },
  "toc": {
   "base_numbering": 1,
   "nav_menu": {},
   "number_sections": false,
   "sideBar": true,
   "skip_h1_title": false,
   "title_cell": "Table of Contents",
   "title_sidebar": "Contents",
   "toc_cell": false,
   "toc_position": {},
   "toc_section_display": true,
   "toc_window_display": false
  }
 },
 "nbformat": 4,
 "nbformat_minor": 4
}
