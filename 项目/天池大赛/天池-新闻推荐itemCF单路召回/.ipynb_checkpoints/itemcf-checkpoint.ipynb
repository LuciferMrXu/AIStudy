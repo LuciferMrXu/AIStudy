{
 "cells": [
  {
   "cell_type": "code",
   "execution_count": 1,
   "metadata": {
    "ExecuteTime": {
     "end_time": "2020-12-18T01:55:34.939056Z",
     "start_time": "2020-12-18T01:55:34.629272Z"
    }
   },
   "outputs": [
    {
     "data": {
      "text/plain": [
       "<function _signal.default_int_handler>"
      ]
     },
     "execution_count": 1,
     "metadata": {},
     "output_type": "execute_result"
    }
   ],
   "source": [
    "import pandas as pd\n",
    "from collections import defaultdict\n",
    "from tqdm import tqdm\n",
    "import pickle\n",
    "import multitasking\n",
    "import os\n",
    "import signal\n",
    "import math\n",
    "import numpy as np\n",
    "from utils import evaluate\n",
    "from random import shuffle\n",
    "import warnings\n",
    "import math\n",
    "\n",
    "warnings.filterwarnings('ignore')\n",
    "\n",
    "multitasking.set_max_threads(10)\n",
    "multitasking.set_engine('process')\n",
    "signal.signal(signal.SIGINT, multitasking.killall)"
   ]
  },
  {
   "cell_type": "code",
   "execution_count": 2,
   "metadata": {
    "ExecuteTime": {
     "end_time": "2020-12-18T01:55:34.976786Z",
     "start_time": "2020-12-18T01:55:34.940518Z"
    }
   },
   "outputs": [],
   "source": [
    "df_query = pd.read_pickle('data/query.pkl')\n",
    "df_click = pd.read_pickle('data/click.pkl')"
   ]
  },
  {
   "cell_type": "code",
   "execution_count": 3,
   "metadata": {
    "ExecuteTime": {
     "end_time": "2020-12-18T01:55:34.989166Z",
     "start_time": "2020-12-18T01:55:34.978334Z"
    }
   },
   "outputs": [
    {
     "data": {
      "text/html": [
       "<div>\n",
       "<style scoped>\n",
       "    .dataframe tbody tr th:only-of-type {\n",
       "        vertical-align: middle;\n",
       "    }\n",
       "\n",
       "    .dataframe tbody tr th {\n",
       "        vertical-align: top;\n",
       "    }\n",
       "\n",
       "    .dataframe thead th {\n",
       "        text-align: right;\n",
       "    }\n",
       "</style>\n",
       "<table border=\"1\" class=\"dataframe\">\n",
       "  <thead>\n",
       "    <tr style=\"text-align: right;\">\n",
       "      <th></th>\n",
       "      <th>user_id</th>\n",
       "      <th>click_article_id</th>\n",
       "      <th>click_timestamp</th>\n",
       "      <th>click_environment</th>\n",
       "      <th>click_deviceGroup</th>\n",
       "      <th>click_os</th>\n",
       "      <th>click_country</th>\n",
       "      <th>click_region</th>\n",
       "      <th>click_referrer_type</th>\n",
       "    </tr>\n",
       "  </thead>\n",
       "  <tbody>\n",
       "    <tr>\n",
       "      <th>0</th>\n",
       "      <td>0</td>\n",
       "      <td>30760</td>\n",
       "      <td>1508211672520</td>\n",
       "      <td>4</td>\n",
       "      <td>1</td>\n",
       "      <td>17</td>\n",
       "      <td>1</td>\n",
       "      <td>25</td>\n",
       "      <td>2</td>\n",
       "    </tr>\n",
       "    <tr>\n",
       "      <th>1</th>\n",
       "      <td>0</td>\n",
       "      <td>157507</td>\n",
       "      <td>1508211702520</td>\n",
       "      <td>4</td>\n",
       "      <td>1</td>\n",
       "      <td>17</td>\n",
       "      <td>1</td>\n",
       "      <td>25</td>\n",
       "      <td>2</td>\n",
       "    </tr>\n",
       "    <tr>\n",
       "      <th>2</th>\n",
       "      <td>1</td>\n",
       "      <td>289197</td>\n",
       "      <td>1508211316889</td>\n",
       "      <td>4</td>\n",
       "      <td>1</td>\n",
       "      <td>17</td>\n",
       "      <td>1</td>\n",
       "      <td>25</td>\n",
       "      <td>6</td>\n",
       "    </tr>\n",
       "    <tr>\n",
       "      <th>3</th>\n",
       "      <td>1</td>\n",
       "      <td>63746</td>\n",
       "      <td>1508211346889</td>\n",
       "      <td>4</td>\n",
       "      <td>1</td>\n",
       "      <td>17</td>\n",
       "      <td>1</td>\n",
       "      <td>25</td>\n",
       "      <td>6</td>\n",
       "    </tr>\n",
       "    <tr>\n",
       "      <th>4</th>\n",
       "      <td>2</td>\n",
       "      <td>36162</td>\n",
       "      <td>1508211438695</td>\n",
       "      <td>4</td>\n",
       "      <td>3</td>\n",
       "      <td>20</td>\n",
       "      <td>1</td>\n",
       "      <td>25</td>\n",
       "      <td>2</td>\n",
       "    </tr>\n",
       "  </tbody>\n",
       "</table>\n",
       "</div>"
      ],
      "text/plain": [
       "   user_id  click_article_id  click_timestamp  click_environment  \\\n",
       "0        0             30760    1508211672520                  4   \n",
       "1        0            157507    1508211702520                  4   \n",
       "2        1            289197    1508211316889                  4   \n",
       "3        1             63746    1508211346889                  4   \n",
       "4        2             36162    1508211438695                  4   \n",
       "\n",
       "   click_deviceGroup  click_os  click_country  click_region  \\\n",
       "0                  1        17              1            25   \n",
       "1                  1        17              1            25   \n",
       "2                  1        17              1            25   \n",
       "3                  1        17              1            25   \n",
       "4                  3        20              1            25   \n",
       "\n",
       "   click_referrer_type  \n",
       "0                    2  \n",
       "1                    2  \n",
       "2                    6  \n",
       "3                    6  \n",
       "4                    2  "
      ]
     },
     "execution_count": 3,
     "metadata": {},
     "output_type": "execute_result"
    }
   ],
   "source": [
    "df_click.head()"
   ]
  },
  {
   "cell_type": "code",
   "execution_count": 4,
   "metadata": {
    "ExecuteTime": {
     "end_time": "2020-12-18T01:55:34.996548Z",
     "start_time": "2020-12-18T01:55:34.990221Z"
    },
    "code_folding": []
   },
   "outputs": [],
   "source": [
    "def cal_item_sim(df):\n",
    "    user_item_ = df.groupby('user_id')['click_article_id'].agg(\n",
    "        lambda x: list(x)).reset_index()\n",
    "    user_item_dict = dict(\n",
    "        zip(user_item_['user_id'], user_item_['click_article_id']))\n",
    "\n",
    "    item_cnt = defaultdict(int)\n",
    "    sim_dict = {}\n",
    "\n",
    "    for user, items in tqdm(user_item_dict.items()):\n",
    "        for item in items:\n",
    "            item_cnt[item] += 1\n",
    "            sim_dict.setdefault(item, {})\n",
    "\n",
    "            for relate_item in items:\n",
    "                if item == relate_item:\n",
    "                    continue\n",
    "\n",
    "                sim_dict[item].setdefault(relate_item, 0)\n",
    "\n",
    "                sim_dict[item][relate_item] += 1 / math.log(1 + len(items))\n",
    "\n",
    "    sim_dict_corr = sim_dict.copy()\n",
    "    for item, relate_items in tqdm(sim_dict.items()):\n",
    "        for relate_item, cij in relate_items.items():\n",
    "            sim_dict_corr[item][relate_item] = cij / \\\n",
    "                math.sqrt(item_cnt[item] * item_cnt[relate_item])\n",
    "\n",
    "    return sim_dict_corr, user_item_dict"
   ]
  },
  {
   "cell_type": "code",
   "execution_count": 5,
   "metadata": {
    "ExecuteTime": {
     "end_time": "2020-12-18T01:55:35.509181Z",
     "start_time": "2020-12-18T01:55:34.997701Z"
    }
   },
   "outputs": [
    {
     "name": "stderr",
     "output_type": "stream",
     "text": [
      "100%|█████████████████████████████████████████████████████████████████████████████| 4232/4232 [00:00<00:00, 295085.77it/s]\n",
      "100%|█████████████████████████████████████████████████████████████████████████████| 1869/1869 [00:00<00:00, 475821.19it/s]\n"
     ]
    }
   ],
   "source": [
    "item_sim, user_item_dict = cal_item_sim(df_click)"
   ]
  },
  {
   "cell_type": "code",
   "execution_count": 6,
   "metadata": {
    "ExecuteTime": {
     "end_time": "2020-12-18T01:55:35.517669Z",
     "start_time": "2020-12-18T01:55:35.510206Z"
    },
    "code_folding": []
   },
   "outputs": [],
   "source": [
    "def recall(df_query, item_sim, user_item_dict):\n",
    "    data_list = []\n",
    "\n",
    "    for user_id, item_id in tqdm(df_query.values):\n",
    "        rank = defaultdict(int)\n",
    "        \n",
    "        if user_id not in user_item_dict:\n",
    "            continue\n",
    "        \n",
    "        interacted_items = user_item_dict[user_id]\n",
    "        interacted_items = interacted_items[::-1]\n",
    "\n",
    "        for loc, item in enumerate(interacted_items):\n",
    "            for relate_item, wij in sorted(item_sim[item].items(), key=lambda d: d[1], reverse=True)[0:100]:\n",
    "                if relate_item not in interacted_items:\n",
    "                    rank.setdefault(relate_item, 0)\n",
    "                    rank[relate_item] += wij\n",
    "\n",
    "        sim_items = sorted(\n",
    "            rank.items(), key=lambda d: d[1],  reverse=True)[:50]\n",
    "        item_ids = [item[0] for item in sim_items]\n",
    "        item_sim_scores = [item[1] for item in sim_items]\n",
    "\n",
    "        df_temp = pd.DataFrame()\n",
    "        df_temp['article_id'] = item_ids\n",
    "        df_temp['sim_score'] = item_sim_scores\n",
    "        df_temp['user_id'] = user_id\n",
    "\n",
    "        if item_id == -1:\n",
    "            df_temp['label'] = np.nan\n",
    "        else:\n",
    "            df_temp['label'] = 0\n",
    "            df_temp.loc[df_temp['article_id'] == item_id, 'label'] = 1\n",
    "\n",
    "        df_temp = df_temp[[\n",
    "            'user_id',  'article_id', 'sim_score', 'label'\n",
    "        ]]\n",
    "        df_temp['user_id'] = df_temp['user_id'].astype('int')\n",
    "        df_temp['article_id'] = df_temp['article_id'].astype('int')\n",
    "\n",
    "        data_list.append(df_temp)\n",
    "\n",
    "    df_data = pd.concat(data_list, sort=False)\n",
    "    return df_data"
   ]
  },
  {
   "cell_type": "code",
   "execution_count": 7,
   "metadata": {
    "ExecuteTime": {
     "end_time": "2020-12-18T01:55:38.119949Z",
     "start_time": "2020-12-18T01:55:35.519493Z"
    }
   },
   "outputs": [
    {
     "name": "stderr",
     "output_type": "stream",
     "text": [
      "100%|████████████████████████████████████████████████████████████████████████████| 90258/90258 [00:02<00:00, 37926.50it/s]\n"
     ]
    }
   ],
   "source": [
    "df_data = recall(df_query, item_sim, user_item_dict)"
   ]
  },
  {
   "cell_type": "code",
   "execution_count": 8,
   "metadata": {
    "ExecuteTime": {
     "end_time": "2020-12-18T01:55:38.127611Z",
     "start_time": "2020-12-18T01:55:38.121229Z"
    }
   },
   "outputs": [
    {
     "data": {
      "text/html": [
       "<div>\n",
       "<style scoped>\n",
       "    .dataframe tbody tr th:only-of-type {\n",
       "        vertical-align: middle;\n",
       "    }\n",
       "\n",
       "    .dataframe tbody tr th {\n",
       "        vertical-align: top;\n",
       "    }\n",
       "\n",
       "    .dataframe thead th {\n",
       "        text-align: right;\n",
       "    }\n",
       "</style>\n",
       "<table border=\"1\" class=\"dataframe\">\n",
       "  <thead>\n",
       "    <tr style=\"text-align: right;\">\n",
       "      <th></th>\n",
       "      <th>user_id</th>\n",
       "      <th>article_id</th>\n",
       "      <th>sim_score</th>\n",
       "      <th>label</th>\n",
       "    </tr>\n",
       "  </thead>\n",
       "  <tbody>\n",
       "    <tr>\n",
       "      <th>0</th>\n",
       "      <td>8</td>\n",
       "      <td>209122</td>\n",
       "      <td>0.152326</td>\n",
       "      <td>0</td>\n",
       "    </tr>\n",
       "    <tr>\n",
       "      <th>1</th>\n",
       "      <td>8</td>\n",
       "      <td>205824</td>\n",
       "      <td>0.110495</td>\n",
       "      <td>0</td>\n",
       "    </tr>\n",
       "    <tr>\n",
       "      <th>2</th>\n",
       "      <td>8</td>\n",
       "      <td>50644</td>\n",
       "      <td>0.098697</td>\n",
       "      <td>1</td>\n",
       "    </tr>\n",
       "    <tr>\n",
       "      <th>3</th>\n",
       "      <td>8</td>\n",
       "      <td>258195</td>\n",
       "      <td>0.078657</td>\n",
       "      <td>0</td>\n",
       "    </tr>\n",
       "    <tr>\n",
       "      <th>4</th>\n",
       "      <td>8</td>\n",
       "      <td>70677</td>\n",
       "      <td>0.066742</td>\n",
       "      <td>0</td>\n",
       "    </tr>\n",
       "  </tbody>\n",
       "</table>\n",
       "</div>"
      ],
      "text/plain": [
       "   user_id  article_id  sim_score  label\n",
       "0        8      209122   0.152326      0\n",
       "1        8      205824   0.110495      0\n",
       "2        8       50644   0.098697      1\n",
       "3        8      258195   0.078657      0\n",
       "4        8       70677   0.066742      0"
      ]
     },
     "execution_count": 8,
     "metadata": {},
     "output_type": "execute_result"
    }
   ],
   "source": [
    "df_data.head()"
   ]
  },
  {
   "cell_type": "code",
   "execution_count": 9,
   "metadata": {
    "ExecuteTime": {
     "end_time": "2020-12-18T01:55:38.135788Z",
     "start_time": "2020-12-18T01:55:38.128513Z"
    },
    "scrolled": true
   },
   "outputs": [],
   "source": [
    "# 必须加，对其进行排序\n",
    "df_data = df_data.sort_values(['user_id', 'sim_score'], ascending=[\n",
    "                              True, False]).reset_index(drop=True)"
   ]
  },
  {
   "cell_type": "code",
   "execution_count": 10,
   "metadata": {
    "ExecuteTime": {
     "end_time": "2020-12-18T01:55:38.195375Z",
     "start_time": "2020-12-18T01:55:38.136726Z"
    }
   },
   "outputs": [
    {
     "data": {
      "text/html": [
       "<div>\n",
       "<style scoped>\n",
       "    .dataframe tbody tr th:only-of-type {\n",
       "        vertical-align: middle;\n",
       "    }\n",
       "\n",
       "    .dataframe tbody tr th {\n",
       "        vertical-align: top;\n",
       "    }\n",
       "\n",
       "    .dataframe thead th {\n",
       "        text-align: right;\n",
       "    }\n",
       "</style>\n",
       "<table border=\"1\" class=\"dataframe\">\n",
       "  <thead>\n",
       "    <tr style=\"text-align: right;\">\n",
       "      <th></th>\n",
       "      <th>user_id</th>\n",
       "      <th>article_id</th>\n",
       "      <th>sim_score</th>\n",
       "      <th>label</th>\n",
       "    </tr>\n",
       "  </thead>\n",
       "  <tbody>\n",
       "    <tr>\n",
       "      <th>0</th>\n",
       "      <td>8</td>\n",
       "      <td>209122</td>\n",
       "      <td>0.152326</td>\n",
       "      <td>0</td>\n",
       "    </tr>\n",
       "    <tr>\n",
       "      <th>1</th>\n",
       "      <td>8</td>\n",
       "      <td>205824</td>\n",
       "      <td>0.110495</td>\n",
       "      <td>0</td>\n",
       "    </tr>\n",
       "    <tr>\n",
       "      <th>2</th>\n",
       "      <td>8</td>\n",
       "      <td>50644</td>\n",
       "      <td>0.098697</td>\n",
       "      <td>1</td>\n",
       "    </tr>\n",
       "    <tr>\n",
       "      <th>3</th>\n",
       "      <td>8</td>\n",
       "      <td>258195</td>\n",
       "      <td>0.078657</td>\n",
       "      <td>0</td>\n",
       "    </tr>\n",
       "    <tr>\n",
       "      <th>4</th>\n",
       "      <td>8</td>\n",
       "      <td>70677</td>\n",
       "      <td>0.066742</td>\n",
       "      <td>0</td>\n",
       "    </tr>\n",
       "  </tbody>\n",
       "</table>\n",
       "</div>"
      ],
      "text/plain": [
       "   user_id  article_id  sim_score  label\n",
       "0        8      209122   0.152326      0\n",
       "1        8      205824   0.110495      0\n",
       "2        8       50644   0.098697      1\n",
       "3        8      258195   0.078657      0\n",
       "4        8       70677   0.066742      0"
      ]
     },
     "execution_count": 10,
     "metadata": {},
     "output_type": "execute_result"
    }
   ],
   "source": [
    "df_data.head()"
   ]
  },
  {
   "cell_type": "code",
   "execution_count": 11,
   "metadata": {
    "ExecuteTime": {
     "end_time": "2020-12-18T01:56:27.119612Z",
     "start_time": "2020-12-18T01:55:38.196370Z"
    },
    "code_folding": [
     2
    ],
    "scrolled": true
   },
   "outputs": [
    {
     "name": "stderr",
     "output_type": "stream",
     "text": [
      "100%|█████████████████████████████████████████████████████████████████████████████| 50000/50000 [00:48<00:00, 1028.87it/s]\n"
     ]
    }
   ],
   "source": [
    "from random import sample\n",
    "prediction = df_data[df_data['label'].isnull()]\n",
    "prediction.sort_values(['user_id', 'sim_score'],\n",
    "                       inplace=True,\n",
    "                       ascending=[True, False])\n",
    "\n",
    "all_articles = set(df_click['click_article_id'].values)\n",
    "\n",
    "lines = []\n",
    "test_users = df_query[df_query['click_article_id'] == -1]['user_id'].unique()\n",
    "\n",
    "for test_user in tqdm(test_users):\n",
    "    g = prediction[prediction['user_id'] == test_user]\n",
    "    g = g.head(5)\n",
    "    items = g['article_id'].values.tolist()\n",
    "    \n",
    "    if len(set(items)) < 5:\n",
    "        buchong = all_articles - set(items)\n",
    "        buchong = sample(buchong, 5 - len(set(items)))\n",
    "        items += buchong\n",
    "    \n",
    "    assert len(set(items)) == 5\n",
    "\n",
    "    lines.append([test_user] + items)\n",
    "\n",
    "df_sub = pd.DataFrame(lines)\n",
    "df_sub.columns = ['user_id', 'article_1', 'article_2',\n",
    "                  'article_3', 'article_4', 'article_5']\n",
    "df_sub.sort_values(['user_id'], inplace=True)\n",
    "os.makedirs('sub', exist_ok=True)\n",
    "df_sub.to_csv('sub/itemcf.csv', index=False)"
   ]
  },
  {
   "cell_type": "code",
   "execution_count": 12,
   "metadata": {
    "ExecuteTime": {
     "end_time": "2020-12-18T01:56:27.535268Z",
     "start_time": "2020-12-18T01:56:27.120729Z"
    },
    "scrolled": true
   },
   "outputs": [
    {
     "name": "stderr",
     "output_type": "stream",
     "text": [
      "100%|█████████████████████████████████████████████████████████████████████████████████| 408/408 [00:00<00:00, 1136.26it/s]\n"
     ]
    },
    {
     "data": {
      "text/plain": [
       "(0.0028814148740622983,\n",
       " 0.0016530875850762588,\n",
       " 0.0038501664265487606,\n",
       " 0.0017861874244456599,\n",
       " 0.0049431168960206665,\n",
       " 0.0018621919580733314,\n",
       " 0.005862188881712952,\n",
       " 0.001893809905259774,\n",
       " 0.006160266282478017,\n",
       " 0.001900411180311219)"
      ]
     },
     "execution_count": 12,
     "metadata": {},
     "output_type": "execute_result"
    }
   ],
   "source": [
    "df_query = pd.read_pickle('data/query.pkl')\n",
    "total = df_query[df_query['click_article_id'] != -1].user_id.nunique()\n",
    "\n",
    "hitrate_5, mrr_5, hitrate_10, mrr_10, hitrate_20, mrr_20, hitrate_40, mrr_40, hitrate_50, mrr_50 = evaluate(df_data[df_data['label'].notnull()], total)\n",
    "hitrate_5, mrr_5, hitrate_10, mrr_10, hitrate_20, mrr_20, hitrate_40, mrr_40, hitrate_50, mrr_50"
   ]
  },
  {
   "cell_type": "code",
   "execution_count": null,
   "metadata": {},
   "outputs": [],
   "source": []
  }
 ],
 "metadata": {
  "kernelspec": {
   "display_name": "Python 3",
   "language": "python",
   "name": "python3"
  },
  "language_info": {
   "codemirror_mode": {
    "name": "ipython",
    "version": 3
   },
   "file_extension": ".py",
   "mimetype": "text/x-python",
   "name": "python",
   "nbconvert_exporter": "python",
   "pygments_lexer": "ipython3",
   "version": "3.7.7"
  },
  "nbTranslate": {
   "displayLangs": [
    "*"
   ],
   "hotkey": "alt-t",
   "langInMainMenu": true,
   "sourceLang": "en",
   "targetLang": "fr",
   "useGoogleTranslate": true
  },
  "toc": {
   "base_numbering": 1,
   "nav_menu": {},
   "number_sections": true,
   "sideBar": true,
   "skip_h1_title": false,
   "title_cell": "Table of Contents",
   "title_sidebar": "Contents",
   "toc_cell": false,
   "toc_position": {},
   "toc_section_display": true,
   "toc_window_display": false
  }
 },
 "nbformat": 4,
 "nbformat_minor": 2
}
