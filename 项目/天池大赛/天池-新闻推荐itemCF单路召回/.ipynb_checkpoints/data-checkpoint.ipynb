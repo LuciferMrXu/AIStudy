{
 "cells": [
  {
   "cell_type": "code",
   "execution_count": 2,
   "metadata": {
    "ExecuteTime": {
     "end_time": "2020-12-10T07:52:37.490623Z",
     "start_time": "2020-12-10T07:52:37.193004Z"
    }
   },
   "outputs": [],
   "source": [
    "import pandas as pd\n",
    "from tqdm import tqdm\n",
    "\n",
    "import os\n",
    "# from utils import reduce_mem_usage\n",
    "import numpy as np\n",
    "\n",
    "import random\n",
    "from random import sample\n",
    "\n",
    "random.seed(2020)"
   ]
  },
  {
   "cell_type": "code",
   "execution_count": 3,
   "metadata": {
    "ExecuteTime": {
     "end_time": "2020-12-10T07:52:38.087045Z",
     "start_time": "2020-12-10T07:52:37.492177Z"
    }
   },
   "outputs": [
    {
     "data": {
      "text/plain": [
       "((1112623, 9), (518010, 9))"
      ]
     },
     "execution_count": 3,
     "metadata": {},
     "output_type": "execute_result"
    }
   ],
   "source": [
    "df_train_click = pd.read_csv('input/train_click_log.csv')\n",
    "df_test_click = pd.read_csv('input/testA_click_log.csv')\n",
    "\n",
    "df_train_click.shape, df_test_click.shape"
   ]
  },
  {
   "cell_type": "code",
   "execution_count": 4,
   "metadata": {
    "ExecuteTime": {
     "end_time": "2020-12-10T07:52:38.090167Z",
     "start_time": "2020-12-10T07:52:38.088391Z"
    }
   },
   "outputs": [],
   "source": [
    "# # 训练集采样\n",
    "# all_user_ids = df_train_click.user_id.unique()\n",
    "# sample_nums = len(all_user_ids) // 2\n",
    "\n",
    "# sample_user_ids = np.random.choice(all_user_ids, size=sample_nums, replace=False)\n",
    "# df_train_click = df_train_click[df_train_click['user_id'].isin(sample_user_ids)]\n",
    "\n",
    "# df_train_click.shape, df_test_click.shape"
   ]
  },
  {
   "cell_type": "code",
   "execution_count": 5,
   "metadata": {
    "ExecuteTime": {
     "end_time": "2020-12-10T07:52:38.164841Z",
     "start_time": "2020-12-10T07:52:38.091076Z"
    }
   },
   "outputs": [
    {
     "data": {
      "text/plain": [
       "40258"
      ]
     },
     "execution_count": 5,
     "metadata": {},
     "output_type": "execute_result"
    }
   ],
   "source": [
    "train_users = df_train_click['user_id'].values.tolist()\n",
    "# 随机采样出一部分样本\n",
    "val_users  = sample(train_users, 50000)\n",
    "len(set(val_users))"
   ]
  },
  {
   "cell_type": "code",
   "execution_count": null,
   "metadata": {
    "ExecuteTime": {
     "end_time": "2020-12-10T07:57:08.255149Z",
     "start_time": "2020-12-10T07:52:38.165912Z"
    }
   },
   "outputs": [
    {
     "name": "stderr",
     "output_type": "stream",
     "text": [
      " 12%|████████▋                                                                 | 23499/200000 [01:01<08:31, 345.01it/s]"
     ]
    }
   ],
   "source": [
    "# 训练集用户 抽出行为数据最后一条作为label\n",
    "click_list = []\n",
    "train_query_list = []\n",
    "\n",
    "groups = df_train_click.groupby(['user_id'])\n",
    "for user_id, g in tqdm(groups):\n",
    "    if user_id in val_users:\n",
    "        train_query = g.tail(1)\n",
    "        train_query_list.append(train_query[['user_id', 'click_article_id']])\n",
    "\n",
    "        train_click = g.head(g.shape[0] - 1)\n",
    "        click_list.append(train_click)\n",
    "    else:\n",
    "        click_list.append(g)\n",
    "\n",
    "df_train_click = pd.concat(click_list, sort=False)\n",
    "df_train_query = pd.concat(train_query_list, sort=False)\n",
    "\n",
    "print(df_train_click.shape, df_train_query.shape)"
   ]
  },
  {
   "cell_type": "code",
   "execution_count": 6,
   "metadata": {
    "ExecuteTime": {
     "end_time": "2020-12-10T07:57:08.263362Z",
     "start_time": "2020-12-10T07:57:08.257778Z"
    }
   },
   "outputs": [
    {
     "data": {
      "text/plain": [
       "((1072365, 9), (518010, 9))"
      ]
     },
     "execution_count": 6,
     "metadata": {},
     "output_type": "execute_result"
    }
   ],
   "source": [
    "df_train_click.shape, df_test_click.shape"
   ]
  },
  {
   "cell_type": "code",
   "execution_count": 7,
   "metadata": {
    "ExecuteTime": {
     "end_time": "2020-12-10T07:57:08.325447Z",
     "start_time": "2020-12-10T07:57:08.265194Z"
    }
   },
   "outputs": [
    {
     "name": "stderr",
     "output_type": "stream",
     "text": [
      "100%|██████████████████████████████████████████████████████████████████████████| 50000/50000 [00:00<00:00, 2046221.55it/s]\n"
     ]
    }
   ],
   "source": [
    "test_users = df_test_click['user_id'].unique()\n",
    "test_query_list = []\n",
    "\n",
    "for user in tqdm(test_users):\n",
    "    test_query_list.append([user, -1])\n",
    "\n",
    "df_test_query = pd.DataFrame(test_query_list, columns=[\n",
    "                             'user_id', 'click_article_id'])"
   ]
  },
  {
   "cell_type": "code",
   "execution_count": 8,
   "metadata": {
    "ExecuteTime": {
     "end_time": "2020-12-10T07:57:08.329775Z",
     "start_time": "2020-12-10T07:57:08.326723Z"
    }
   },
   "outputs": [
    {
     "data": {
      "text/plain": [
       "((40258, 2), (50000, 2))"
      ]
     },
     "execution_count": 8,
     "metadata": {},
     "output_type": "execute_result"
    }
   ],
   "source": [
    "df_train_query.shape, df_test_query.shape"
   ]
  },
  {
   "cell_type": "code",
   "execution_count": 9,
   "metadata": {
    "ExecuteTime": {
     "end_time": "2020-12-10T07:57:08.458359Z",
     "start_time": "2020-12-10T07:57:08.330856Z"
    }
   },
   "outputs": [],
   "source": [
    "df_query = pd.concat([df_train_query, df_test_query],\n",
    "                     sort=False).reset_index(drop=True)\n",
    "df_click = pd.concat([df_train_click, df_test_click],\n",
    "                     sort=False).reset_index(drop=True)"
   ]
  },
  {
   "cell_type": "code",
   "execution_count": 10,
   "metadata": {
    "ExecuteTime": {
     "end_time": "2020-12-10T07:57:08.467109Z",
     "start_time": "2020-12-10T07:57:08.459582Z"
    }
   },
   "outputs": [
    {
     "data": {
      "text/html": [
       "<div>\n",
       "<style scoped>\n",
       "    .dataframe tbody tr th:only-of-type {\n",
       "        vertical-align: middle;\n",
       "    }\n",
       "\n",
       "    .dataframe tbody tr th {\n",
       "        vertical-align: top;\n",
       "    }\n",
       "\n",
       "    .dataframe thead th {\n",
       "        text-align: right;\n",
       "    }\n",
       "</style>\n",
       "<table border=\"1\" class=\"dataframe\">\n",
       "  <thead>\n",
       "    <tr style=\"text-align: right;\">\n",
       "      <th></th>\n",
       "      <th>user_id</th>\n",
       "      <th>click_article_id</th>\n",
       "    </tr>\n",
       "  </thead>\n",
       "  <tbody>\n",
       "    <tr>\n",
       "      <th>0</th>\n",
       "      <td>8</td>\n",
       "      <td>50644</td>\n",
       "    </tr>\n",
       "    <tr>\n",
       "      <th>1</th>\n",
       "      <td>13</td>\n",
       "      <td>277107</td>\n",
       "    </tr>\n",
       "    <tr>\n",
       "      <th>2</th>\n",
       "      <td>20</td>\n",
       "      <td>285300</td>\n",
       "    </tr>\n",
       "    <tr>\n",
       "      <th>3</th>\n",
       "      <td>22</td>\n",
       "      <td>107190</td>\n",
       "    </tr>\n",
       "    <tr>\n",
       "      <th>4</th>\n",
       "      <td>24</td>\n",
       "      <td>156279</td>\n",
       "    </tr>\n",
       "  </tbody>\n",
       "</table>\n",
       "</div>"
      ],
      "text/plain": [
       "   user_id  click_article_id\n",
       "0        8             50644\n",
       "1       13            277107\n",
       "2       20            285300\n",
       "3       22            107190\n",
       "4       24            156279"
      ]
     },
     "execution_count": 10,
     "metadata": {},
     "output_type": "execute_result"
    }
   ],
   "source": [
    "df_query.head()"
   ]
  },
  {
   "cell_type": "code",
   "execution_count": 11,
   "metadata": {
    "ExecuteTime": {
     "end_time": "2020-12-10T07:57:09.244271Z",
     "start_time": "2020-12-10T07:57:08.468012Z"
    }
   },
   "outputs": [],
   "source": [
    "df_click = df_click.sort_values(\n",
    "    ['user_id', 'click_timestamp']).reset_index(drop=True)"
   ]
  },
  {
   "cell_type": "code",
   "execution_count": 12,
   "metadata": {
    "ExecuteTime": {
     "end_time": "2020-12-10T07:57:09.258739Z",
     "start_time": "2020-12-10T07:57:09.246936Z"
    }
   },
   "outputs": [
    {
     "data": {
      "text/html": [
       "<div>\n",
       "<style scoped>\n",
       "    .dataframe tbody tr th:only-of-type {\n",
       "        vertical-align: middle;\n",
       "    }\n",
       "\n",
       "    .dataframe tbody tr th {\n",
       "        vertical-align: top;\n",
       "    }\n",
       "\n",
       "    .dataframe thead th {\n",
       "        text-align: right;\n",
       "    }\n",
       "</style>\n",
       "<table border=\"1\" class=\"dataframe\">\n",
       "  <thead>\n",
       "    <tr style=\"text-align: right;\">\n",
       "      <th></th>\n",
       "      <th>user_id</th>\n",
       "      <th>click_article_id</th>\n",
       "      <th>click_timestamp</th>\n",
       "      <th>click_environment</th>\n",
       "      <th>click_deviceGroup</th>\n",
       "      <th>click_os</th>\n",
       "      <th>click_country</th>\n",
       "      <th>click_region</th>\n",
       "      <th>click_referrer_type</th>\n",
       "    </tr>\n",
       "  </thead>\n",
       "  <tbody>\n",
       "    <tr>\n",
       "      <th>0</th>\n",
       "      <td>0</td>\n",
       "      <td>30760</td>\n",
       "      <td>1508211672520</td>\n",
       "      <td>4</td>\n",
       "      <td>1</td>\n",
       "      <td>17</td>\n",
       "      <td>1</td>\n",
       "      <td>25</td>\n",
       "      <td>2</td>\n",
       "    </tr>\n",
       "    <tr>\n",
       "      <th>1</th>\n",
       "      <td>0</td>\n",
       "      <td>157507</td>\n",
       "      <td>1508211702520</td>\n",
       "      <td>4</td>\n",
       "      <td>1</td>\n",
       "      <td>17</td>\n",
       "      <td>1</td>\n",
       "      <td>25</td>\n",
       "      <td>2</td>\n",
       "    </tr>\n",
       "    <tr>\n",
       "      <th>2</th>\n",
       "      <td>1</td>\n",
       "      <td>289197</td>\n",
       "      <td>1508211316889</td>\n",
       "      <td>4</td>\n",
       "      <td>1</td>\n",
       "      <td>17</td>\n",
       "      <td>1</td>\n",
       "      <td>25</td>\n",
       "      <td>6</td>\n",
       "    </tr>\n",
       "    <tr>\n",
       "      <th>3</th>\n",
       "      <td>1</td>\n",
       "      <td>63746</td>\n",
       "      <td>1508211346889</td>\n",
       "      <td>4</td>\n",
       "      <td>1</td>\n",
       "      <td>17</td>\n",
       "      <td>1</td>\n",
       "      <td>25</td>\n",
       "      <td>6</td>\n",
       "    </tr>\n",
       "    <tr>\n",
       "      <th>4</th>\n",
       "      <td>2</td>\n",
       "      <td>36162</td>\n",
       "      <td>1508211438695</td>\n",
       "      <td>4</td>\n",
       "      <td>3</td>\n",
       "      <td>20</td>\n",
       "      <td>1</td>\n",
       "      <td>25</td>\n",
       "      <td>2</td>\n",
       "    </tr>\n",
       "  </tbody>\n",
       "</table>\n",
       "</div>"
      ],
      "text/plain": [
       "   user_id  click_article_id  click_timestamp  click_environment  \\\n",
       "0        0             30760    1508211672520                  4   \n",
       "1        0            157507    1508211702520                  4   \n",
       "2        1            289197    1508211316889                  4   \n",
       "3        1             63746    1508211346889                  4   \n",
       "4        2             36162    1508211438695                  4   \n",
       "\n",
       "   click_deviceGroup  click_os  click_country  click_region  \\\n",
       "0                  1        17              1            25   \n",
       "1                  1        17              1            25   \n",
       "2                  1        17              1            25   \n",
       "3                  1        17              1            25   \n",
       "4                  3        20              1            25   \n",
       "\n",
       "   click_referrer_type  \n",
       "0                    2  \n",
       "1                    2  \n",
       "2                    6  \n",
       "3                    6  \n",
       "4                    2  "
      ]
     },
     "execution_count": 12,
     "metadata": {},
     "output_type": "execute_result"
    }
   ],
   "source": [
    "df_click.head()"
   ]
  },
  {
   "cell_type": "code",
   "execution_count": 13,
   "metadata": {
    "ExecuteTime": {
     "end_time": "2020-12-10T07:57:09.547825Z",
     "start_time": "2020-12-10T07:57:09.259767Z"
    }
   },
   "outputs": [
    {
     "name": "stdout",
     "output_type": "stream",
     "text": [
      "Mem. usage decreased to 33.37 Mb (69.4% reduction)\n",
      "Mem. usage decreased to  0.69 Mb (50.0% reduction)\n"
     ]
    }
   ],
   "source": [
    "df_click = reduce_mem_usage(df_click)\n",
    "df_query = reduce_mem_usage(df_query)"
   ]
  },
  {
   "cell_type": "code",
   "execution_count": 14,
   "metadata": {
    "ExecuteTime": {
     "end_time": "2020-12-10T07:57:09.597195Z",
     "start_time": "2020-12-10T07:57:09.548931Z"
    },
    "scrolled": true
   },
   "outputs": [],
   "source": [
    "os.makedirs('data', exist_ok=True)\n",
    "df_click.to_pickle('data/click.pkl')\n",
    "df_query.to_pickle('data/query.pkl')"
   ]
  },
  {
   "cell_type": "code",
   "execution_count": null,
   "metadata": {},
   "outputs": [],
   "source": []
  }
 ],
 "metadata": {
  "kernelspec": {
   "display_name": "Python 3",
   "language": "python",
   "name": "python3"
  },
  "language_info": {
   "codemirror_mode": {
    "name": "ipython",
    "version": 3
   },
   "file_extension": ".py",
   "mimetype": "text/x-python",
   "name": "python",
   "nbconvert_exporter": "python",
   "pygments_lexer": "ipython3",
   "version": "3.7.7"
  },
  "nbTranslate": {
   "displayLangs": [
    "*"
   ],
   "hotkey": "alt-t",
   "langInMainMenu": true,
   "sourceLang": "en",
   "targetLang": "fr",
   "useGoogleTranslate": true
  },
  "toc": {
   "base_numbering": 1,
   "nav_menu": {},
   "number_sections": true,
   "sideBar": true,
   "skip_h1_title": false,
   "title_cell": "Table of Contents",
   "title_sidebar": "Contents",
   "toc_cell": false,
   "toc_position": {},
   "toc_section_display": true,
   "toc_window_display": false
  }
 },
 "nbformat": 4,
 "nbformat_minor": 2
}
