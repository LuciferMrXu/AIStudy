{
 "cells": [
  {
   "cell_type": "markdown",
   "metadata": {},
   "source": [
    "# Traveling Salesman Problem\n",
    "* 旅行商问题：一辆车的旅行\n",
    "* 从北京出发，经过其他城市一次，回到北京，总距离最小"
   ]
  },
  {
   "cell_type": "code",
   "execution_count": 29,
   "metadata": {},
   "outputs": [],
   "source": [
    "import pandas as pd\n",
    "from ortools.constraint_solver import routing_enums_pb2\n",
    "from ortools.constraint_solver import pywrapcp\n",
    "class tsp(object):\n",
    "    def __init__(self, city_names=None,num_vehicles=1):\n",
    "        self.num_vehicles = num_vehicles\n",
    "        # 获取城市的名称，经纬度\n",
    "        self.df = pd.read_excel('./cities.xlsx')\n",
    "        self.all_city = self.df['name'].values\n",
    "        \n",
    "        if city_names is not None:\n",
    "            # 指定某些城市的旅行商问题\n",
    "            self.city_names = city_names\n",
    "            # 如果不筛选df，下标会不对应 北京0 天津1 上海2\n",
    "            # 筛选出来有city_names的行和列\n",
    "            self.df = self.df[self.df['name'].isin(city_names)]\n",
    "        else:\n",
    "            self.city_names = self.all_city\n",
    "        \n",
    "    # 设置数据，初始化data，得到data字典，记录distance_matrix，num_vehicles， depot等数据\n",
    "    def create_data_model(self):\n",
    "        temp = pd.read_excel('./distance.xlsx', index_col=0)\n",
    "        # 按照city_names进行筛选 两点之间的距离\n",
    "        temp = temp[(temp.index.isin(self.city_names))][self.city_names]\n",
    "        \n",
    "        data = {}\n",
    "        # 设置3个维度： 邻接矩阵（城市之间距离），车的数量，起始点\n",
    "        data['distance_matrix'] = temp.values / 1000 # 采用公里计算\n",
    "        # data['num_vehicles'] = 4\n",
    "        data['depot'] = 0 #起始点的ID，从北京出发\n",
    "#         print('distance_matrix=\\n', data['distance_matrix'])\n",
    "        return data\n",
    "\n",
    "    # 输出结果，返回路径(这里为index list，比如[0, 1, 2]) 以及总距离\n",
    "    def print_solution(self, manager, routing, solution):\n",
    "        # 记录每辆车的总里程\n",
    "        distance_list = []\n",
    "        # 记录每辆车的路径\n",
    "        route_list = []\n",
    "        # loss function = cost + 惩罚项\n",
    "        print('总Cost: {} 公里'.format(solution.ObjectiveValue()))\n",
    "        # 遍历每辆车\n",
    "        for vehicle_id in range(self.num_vehicles):\n",
    "            # 初始化距离为0\n",
    "            route_distance = 0\n",
    "            # 针对vehicle_id车辆进行规划\n",
    "            route = []\n",
    "            # 从vehicle_id的起始节点出发\n",
    "            index = routing.Start(vehicle_id)\n",
    "            plan_output = '车辆的路径:\\n'\n",
    "            route_distance = 0 \n",
    "            # 判断是否达到终点\n",
    "            while not routing.IsEnd(index):\n",
    "                # 显示输出的路径规划\n",
    "                #print(manager.IndexToNode(index))\n",
    "                #plan_output += ' {} ->'.format(self.city_names[manager.IndexToNode(index)])\n",
    "                index_show = manager.IndexToNode(index)\n",
    "                route.append(index_show)\n",
    "                previous_index = index\n",
    "                # 得到下一个城市\n",
    "                index = solution.Value(routing.NextVar(index))\n",
    "                # 计算距离 => 添加到总距离中\n",
    "                route_distance += routing.GetArcCostForVehicle(previous_index, index, 0)\n",
    "            # 添加到route_list\n",
    "            route_list.append(route)\n",
    "            distance_list.append(route_distance)\n",
    "                \n",
    "                \n",
    "        # 输出最后一个城市\n",
    "        # plan_output += self.city_names[manager.IndexToNode(index)]\n",
    "        # print(plan_output)\n",
    "        # print('{}公里'.format(route_distance))\n",
    "        return route_list,distance_list\n",
    "\n",
    "    def work(self):\n",
    "        # 初始化数据\n",
    "        data = self.create_data_model()\n",
    "\n",
    "        # 创建路线管理，tsp_size (邻接矩阵表的大小), num_vehicles（车的数量）, depot（原点）\n",
    "        manager = pywrapcp.RoutingIndexManager(len(data['distance_matrix']),\n",
    "                                               self.num_vehicles, data['depot'])\n",
    "\n",
    "        # 创建路径规划模型 Routing Model.\n",
    "        routing = pywrapcp.RoutingModel(manager)\n",
    "\n",
    "        # 计算两点之间的距离\n",
    "        def distance_callback(from_index, to_index):\n",
    "            # 从Index => NodeIndex的转换\n",
    "            # Convert from routing variable Index to distance matrix NodeIndex.\n",
    "            from_node = manager.IndexToNode(from_index)\n",
    "            to_node = manager.IndexToNode(to_index)\n",
    "            # 从distance_matrix中的起点、终点 找到距离\n",
    "            return data['distance_matrix'][from_node][to_node]\n",
    "\n",
    "        # 创建距离回调函数，用于计算两个节点之间的距离\n",
    "        transit_callback_index = routing.RegisterTransitCallback(distance_callback)\n",
    "        # 对所有的车辆，采用相同的distance callback的计算\n",
    "        routing.SetArcCostEvaluatorOfAllVehicles(transit_callback_index)\n",
    "\n",
    "        \n",
    "        # 添加距离约束 \n",
    "        dimension_name = 'Distance' \n",
    "        routing.AddDimension( \n",
    "            transit_callback_index, \n",
    "            0, # no slack \n",
    "            10000, # 车辆最大行驶距离 \n",
    "            True, # start cumul to zero \n",
    "            dimension_name) \n",
    "        distance_dimension = routing.GetDimensionOrDie(dimension_name) \n",
    "        # 尽量减少车辆的最大距离 \n",
    "        distance_dimension.SetGlobalSpanCostCoefficient(100) \n",
    "        \n",
    "        \n",
    "        # 设置启发式方法（距离成本最短 PATH_CHEAPEST_ARC）\n",
    "        search_parameters = pywrapcp.DefaultRoutingSearchParameters()\n",
    "        # 初始化的解\n",
    "        search_parameters.first_solution_strategy = (\n",
    "            routing_enums_pb2.FirstSolutionStrategy.PATH_CHEAPEST_ARC)\n",
    "        # 在初始解的基础上，进一步优化（通过邻居调整）\n",
    "        search_parameters.local_search_metaheuristic = (\n",
    "            routing_enums_pb2.LocalSearchMetaheuristic.GUIDED_LOCAL_SEARCH)\n",
    "        search_parameters.time_limit.seconds = 5\n",
    "\n",
    "        #print(routing)\n",
    "        # 求解路径规划\n",
    "        solution = routing.SolveWithParameters(search_parameters)\n",
    "        # 输出结果\n",
    "        if solution:\n",
    "            route,route_distance = self.print_solution(manager, routing, solution)\n",
    "        else:\n",
    "            route,route_distance = None,None\n",
    "            \n",
    "        return route,route_distance"
   ]
  },
  {
   "cell_type": "code",
   "execution_count": 30,
   "metadata": {},
   "outputs": [
    {
     "name": "stdout",
     "output_type": "stream",
     "text": [
      "总Cost: 736631 公里\n"
     ]
    }
   ],
   "source": [
    "if __name__ == '__main__':\n",
    "    # 指定旅行的城市\n",
    "    city_names = ['北京', '天津', '上海', '南京']\n",
    "    # 创建一个tsp类的实例\n",
    "    # model = tsp(city_names=city_names)\n",
    "    model = tsp(num_vehicles=4)\n",
    "    route,route_distance = model.work()\n",
    "# 19799 33个城市的旅行规划\n",
    "# 19383 33个城市的旅行规划"
   ]
  },
  {
   "cell_type": "code",
   "execution_count": 31,
   "metadata": {},
   "outputs": [
    {
     "data": {
      "text/plain": [
       "[[0, 7, 18, 19, 17, 22, 6],\n",
       " [0, 21],\n",
       " [0, 5, 20, 23, 24, 26, 27, 25, 12, 32, 11, 31, 30, 13, 16],\n",
       " [0, 14, 28, 29, 10, 9, 8, 15, 1, 4, 2, 3]]"
      ]
     },
     "execution_count": 31,
     "metadata": {},
     "output_type": "execute_result"
    }
   ],
   "source": [
    "route"
   ]
  },
  {
   "cell_type": "code",
   "execution_count": 32,
   "metadata": {},
   "outputs": [
    {
     "data": {
      "text/plain": [
       "[6341, 7096, 6749, 6845]"
      ]
     },
     "execution_count": 32,
     "metadata": {},
     "output_type": "execute_result"
    }
   ],
   "source": [
    "route_distance"
   ]
  },
  {
   "cell_type": "code",
   "execution_count": 33,
   "metadata": {},
   "outputs": [
    {
     "data": {
      "text/plain": [
       "736631"
      ]
     },
     "execution_count": 33,
     "metadata": {},
     "output_type": "execute_result"
    }
   ],
   "source": [
    "7096*100+(6341+7096+6749+6845)"
   ]
  },
  {
   "cell_type": "code",
   "execution_count": null,
   "metadata": {},
   "outputs": [],
   "source": []
  }
 ],
 "metadata": {
  "kernelspec": {
   "display_name": "Python 3 (ipykernel)",
   "language": "python",
   "name": "python3"
  },
  "language_info": {
   "codemirror_mode": {
    "name": "ipython",
    "version": 3
   },
   "file_extension": ".py",
   "mimetype": "text/x-python",
   "name": "python",
   "nbconvert_exporter": "python",
   "pygments_lexer": "ipython3",
   "version": "3.8.12"
  },
  "toc": {
   "base_numbering": 1,
   "nav_menu": {},
   "number_sections": false,
   "sideBar": true,
   "skip_h1_title": false,
   "title_cell": "Table of Contents",
   "title_sidebar": "Contents",
   "toc_cell": false,
   "toc_position": {},
   "toc_section_display": true,
   "toc_window_display": false
  }
 },
 "nbformat": 4,
 "nbformat_minor": 4
}
