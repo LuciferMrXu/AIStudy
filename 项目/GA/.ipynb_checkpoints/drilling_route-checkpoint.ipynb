{
 "cells": [
  {
   "cell_type": "code",
   "execution_count": 6,
   "metadata": {},
   "outputs": [],
   "source": [
    "\"\"\"\n",
    "   自动钻孔机\n",
    "\"\"\"\n",
    "import math\n",
    "import pandas as pd\n",
    "from ortools.constraint_solver import pywrapcp\n",
    "from ortools.constraint_solver import routing_enums_pb2\n",
    "# 数据加载\n",
    "df = pd.read_csv(\"./drilling.csv\")\n",
    "\n",
    "# 创建距离的矩阵\n",
    "# 计算两点之间的距离\n",
    "size = df.shape[0] #点的个数\n",
    "dist_matrix = {}  # 计算点与点之间的距离\n",
    "\n",
    "# 欧式距离计算\n",
    "def euclid_distance(x1, y1, x2, y2):\n",
    "    dist = math.sqrt((x1 - x2) ** 2 + (y1 - y2) ** 2)\n",
    "    return dist\n",
    "\n",
    "for from_node in range(size):\n",
    "    dist_matrix[from_node] = {}\n",
    "    for to_node in range(size):\n",
    "        x1 = df.loc[from_node, 'x']\n",
    "        y1 = df.loc[from_node, 'y']\n",
    "        x2 = df.loc[to_node, 'x']\n",
    "        y2 = df.loc[to_node, 'y']\n",
    "        dist_matrix[from_node][to_node] = euclid_distance(x1, y1, x2, y2)\n",
    "        \n",
    "# 计算两点之间的距离\n",
    "def distance_callback(from_index, to_index):\n",
    "    # 从Index => NodeIndex的转换\n",
    "    # Convert from routing variable Index to distance matrix NodeIndex.\n",
    "    from_node = manager.IndexToNode(from_index)\n",
    "    to_node = manager.IndexToNode(to_index)\n",
    "    return dist_matrix[from_node][to_node]"
   ]
  },
  {
   "cell_type": "code",
   "execution_count": 7,
   "metadata": {},
   "outputs": [
    {
     "name": "stdout",
     "output_type": "stream",
     "text": [
      "280\n",
      "1\n",
      "0\n"
     ]
    },
    {
     "data": {
      "text/plain": [
       "<ortools.constraint_solver.pywrapcp.RoutingModel; proxy of <Swig Object of type 'operations_research::RoutingModel *' at 0x00000282732D56C0> >"
      ]
     },
     "execution_count": 7,
     "metadata": {},
     "output_type": "execute_result"
    }
   ],
   "source": [
    "tsp_size = df.shape[0]\n",
    "num_routes = 1\n",
    "depot = 0\n",
    "\n",
    "# 创建路径规划模型Create routing model.\n",
    "print(tsp_size)\n",
    "print(num_routes)\n",
    "print(depot)\n",
    "#建路线管理，tsp_size, num_vehicles（车的数量）, depot（原点）\n",
    "manager = pywrapcp.RoutingIndexManager(tsp_size, num_routes, depot)\n",
    "routing = pywrapcp.RoutingModel(manager)\n",
    "routing"
   ]
  },
  {
   "cell_type": "code",
   "execution_count": 14,
   "metadata": {},
   "outputs": [],
   "source": [
    "# 设置启发式方法（距离成本最短 PATH_CHEAPEST_ARC）\n",
    "search_parameters = pywrapcp.DefaultRoutingSearchParameters()\n",
    "search_parameters.first_solution_strategy = (routing_enums_pb2.FirstSolutionStrategy.PATH_CHEAPEST_ARC)\n",
    "# 在初始解的基础上，进一步优化（通过邻居调整）\n",
    "search_parameters.local_search_metaheuristic = (\n",
    "    routing_enums_pb2.LocalSearchMetaheuristic.GUIDED_LOCAL_SEARCH)\n",
    "# 搜索时间限制\n",
    "search_parameters.time_limit.seconds = 5\n",
    "\n",
    "# 创建距离回调函数，用于计算两个节点之间的距离\n",
    "transit_callback_index = routing.RegisterTransitCallback(distance_callback)\n",
    "routing.SetArcCostEvaluatorOfAllVehicles(transit_callback_index)\n",
    "\n",
    "# 求解路径规划\n",
    "#solution = routing.SolveWithParameters(search_parameters)\n",
    "search_parameters\n",
    "\n",
    "# 求解路径规划\n",
    "solution = routing.SolveWithParameters(search_parameters)"
   ]
  },
  {
   "cell_type": "code",
   "execution_count": 15,
   "metadata": {},
   "outputs": [
    {
     "name": "stdout",
     "output_type": "stream",
     "text": [
      "Total distance: 2633\n",
      "\n",
      "Route:\n",
      "\n",
      "0 -> 1 -> 279 -> 2 -> 278 -> 277 -> 3 -> 276 -> 275 -> 274 -> 273 -> 272 -> 271 -> 270 -> 15 -> 16 -> 133 -> 269 -> 268 -> 134 -> 135 -> 267 -> 266 -> 136 -> 137 -> 138 -> 147 -> 148 -> 149 -> 178 -> 179 -> 192 -> 196 -> 197 -> 198 -> 144 -> 143 -> 142 -> 145 -> 146 -> 141 -> 140 -> 139 -> 265 -> 264 -> 263 -> 262 -> 261 -> 260 -> 259 -> 258 -> 257 -> 256 -> 255 -> 248 -> 247 -> 243 -> 242 -> 241 -> 240 -> 239 -> 238 -> 245 -> 244 -> 246 -> 249 -> 250 -> 229 -> 228 -> 231 -> 230 -> 237 -> 236 -> 235 -> 234 -> 233 -> 232 -> 227 -> 226 -> 225 -> 224 -> 223 -> 222 -> 221 -> 220 -> 219 -> 218 -> 217 -> 216 -> 215 -> 214 -> 213 -> 212 -> 211 -> 210 -> 209 -> 208 -> 251 -> 254 -> 253 -> 252 -> 207 -> 206 -> 205 -> 204 -> 203 -> 202 -> 201 -> 199 -> 200 -> 195 -> 194 -> 193 -> 191 -> 190 -> 189 -> 188 -> 187 -> 186 -> 185 -> 184 -> 183 -> 182 -> 181 -> 180 -> 175 -> 176 -> 177 -> 150 -> 151 -> 155 -> 152 -> 154 -> 153 -> 128 -> 129 -> 130 -> 131 -> 132 -> 17 -> 18 -> 19 -> 20 -> 127 -> 126 -> 125 -> 124 -> 123 -> 122 -> 121 -> 120 -> 119 -> 118 -> 156 -> 157 -> 158 -> 159 -> 174 -> 160 -> 161 -> 162 -> 163 -> 164 -> 165 -> 166 -> 167 -> 168 -> 169 -> 171 -> 170 -> 173 -> 172 -> 105 -> 106 -> 104 -> 103 -> 107 -> 109 -> 110 -> 113 -> 114 -> 116 -> 117 -> 61 -> 62 -> 63 -> 65 -> 64 -> 84 -> 85 -> 115 -> 112 -> 86 -> 83 -> 82 -> 87 -> 111 -> 108 -> 89 -> 90 -> 91 -> 102 -> 101 -> 100 -> 99 -> 98 -> 97 -> 96 -> 95 -> 94 -> 93 -> 92 -> 79 -> 88 -> 81 -> 80 -> 78 -> 77 -> 76 -> 75 -> 74 -> 73 -> 72 -> 71 -> 70 -> 69 -> 66 -> 68 -> 67 -> 57 -> 56 -> 55 -> 54 -> 53 -> 52 -> 51 -> 50 -> 49 -> 48 -> 47 -> 46 -> 45 -> 44 -> 43 -> 58 -> 60 -> 59 -> 42 -> 41 -> 40 -> 39 -> 38 -> 37 -> 36 -> 35 -> 34 -> 33 -> 32 -> 31 -> 30 -> 29 -> 28 -> 27 -> 26 -> 25 -> 21 -> 24 -> 22 -> 23 -> 13 -> 12 -> 14 -> 11 -> 10 -> 9 -> 7 -> 8 -> 6 -> 5 -> 4 -> 0\n"
     ]
    }
   ],
   "source": [
    "if solution:\n",
    "    # Solution cost.\n",
    "    print(\"Total distance: \" + str(solution.ObjectiveValue()) + \"\\n\")\n",
    "\n",
    "    # Inspect solution.\n",
    "    # Only one route here; otherwise iterate from 0 to routing.vehicles() - 1.\n",
    "    route_number = 0\n",
    "    node = routing.Start(route_number)\n",
    "    start_node = node\n",
    "    route = ''\n",
    "\n",
    "    while not routing.IsEnd(node):\n",
    "        route += str(node) + ' -> '\n",
    "        node = solution.Value(routing.NextVar(node))\n",
    "    route += '0'\n",
    "    print(\"Route:\\n\\n\" + route)\n",
    "else:\n",
    "    print('No solution found.')"
   ]
  }
 ],
 "metadata": {
  "kernelspec": {
   "display_name": "Python 3 (ipykernel)",
   "language": "python",
   "name": "python3"
  },
  "language_info": {
   "codemirror_mode": {
    "name": "ipython",
    "version": 3
   },
   "file_extension": ".py",
   "mimetype": "text/x-python",
   "name": "python",
   "nbconvert_exporter": "python",
   "pygments_lexer": "ipython3",
   "version": "3.8.12"
  },
  "toc": {
   "base_numbering": 1,
   "nav_menu": {},
   "number_sections": false,
   "sideBar": true,
   "skip_h1_title": false,
   "title_cell": "Table of Contents",
   "title_sidebar": "Contents",
   "toc_cell": false,
   "toc_position": {},
   "toc_section_display": true,
   "toc_window_display": false
  }
 },
 "nbformat": 4,
 "nbformat_minor": 4
}
