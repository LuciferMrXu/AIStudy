{
 "cells": [
  {
   "cell_type": "code",
   "execution_count": 49,
   "metadata": {},
   "outputs": [
    {
     "name": "stdout",
     "output_type": "stream",
     "text": [
      "hello python\n",
      "tangyudi 123\n",
      "ML 456\n",
      "DL 789\n",
      "data 234\n"
     ]
    }
   ],
   "source": [
    "#Files\n",
    "#To open a file in Python, we use the open() function\n",
    "f = open(\"test.txt\", \"r\")\n",
    "\n",
    "g = f.read()\n",
    "print(g)\n",
    "\n",
    "f.close()"
   ]
  },
  {
   "cell_type": "code",
   "execution_count": 50,
   "metadata": {},
   "outputs": [],
   "source": [
    "f = open(\"test_write.txt\", \"w\")\n",
    "\n",
    "f.write('123456')\n",
    "f.write('\\n')\n",
    "f.write('234567')\n",
    "\n",
    "f.close()"
   ]
  },
  {
   "cell_type": "code",
   "execution_count": 3,
   "metadata": {},
   "outputs": [
    {
     "name": "stdout",
     "output_type": "stream",
     "text": [
      "['john', 'plastic', 'joe']\n",
      "['How much wood', 'can a woodchuck chuck', 'if a woodchuck', 'could chuck wood?']\n",
      "['hello python', 'tangyudi 123', 'ML 456']\n"
     ]
    }
   ],
   "source": [
    "# We can split a string into a list.\n",
    "sample = \"john,plastic,joe\"\n",
    "split_list = sample.split(\",\")\n",
    "print(split_list)\n",
    "\n",
    "# Here's another example.\n",
    "string_two = \"How much wood\\ncan a woodchuck chuck\\nif a woodchuck\\ncould chuck wood?\"\n",
    "split_string_two = string_two.split('\\n')\n",
    "print(split_string_two)\n",
    "\n",
    "# Code from previous cells\n",
    "f = open('test.txt', 'r')\n",
    "data = f.read()\n",
    "rows = data.split('\\n')\n",
    "print(rows[0:3])"
   ]
  },
  {
   "cell_type": "code",
   "execution_count": 26,
   "metadata": {},
   "outputs": [
    {
     "name": "stdout",
     "output_type": "stream",
     "text": [
      "Austin\n",
      "Dallas\n",
      "Houston\n",
      "123\n"
     ]
    }
   ],
   "source": [
    "#loop\n",
    "cities = [\"Austin\", \"Dallas\", \"Houston\"]\n",
    "for city in cities:     \n",
    "    print(city)\n",
    "print ('123')"
   ]
  },
  {
   "cell_type": "code",
   "execution_count": 24,
   "metadata": {},
   "outputs": [
    {
     "name": "stdout",
     "output_type": "stream",
     "text": [
      "1\n",
      "2\n",
      "3\n"
     ]
    }
   ],
   "source": [
    "i = 0\n",
    "while i < 3:\n",
    "    i += 1\n",
    "    print (i)"
   ]
  },
  {
   "cell_type": "code",
   "execution_count": 2,
   "metadata": {},
   "outputs": [
    {
     "name": "stdout",
     "output_type": "stream",
     "text": [
      "0\n",
      "1\n",
      "2\n",
      "3\n",
      "4\n",
      "5\n",
      "6\n",
      "7\n",
      "8\n",
      "9\n",
      "10\n",
      "11\n",
      "12\n",
      "13\n",
      "14\n"
     ]
    }
   ],
   "source": [
    "for i in range(15):\n",
    "    print (i)"
   ]
  },
  {
   "cell_type": "code",
   "execution_count": 30,
   "metadata": {
    "scrolled": true
   },
   "outputs": [
    {
     "name": "stdout",
     "output_type": "stream",
     "text": [
      "['Austin', 'Dallas', 'Houston']\n",
      "['Haerbin', 'Shanghai', 'Beijing']\n",
      "Austin\n",
      "Dallas\n",
      "Houston\n",
      "Haerbin\n",
      "Shanghai\n",
      "Beijing\n"
     ]
    }
   ],
   "source": [
    "cities = [[\"Austin\", \"Dallas\", \"Houston\"],['Haerbin','Shanghai','Beijing']]\n",
    "#print (cities)\n",
    "for city in cities:\n",
    "    print(city)\n",
    "    \n",
    "\n",
    "for i in cities:\n",
    "    for j in i:\n",
    "        print (j)"
   ]
  },
  {
   "cell_type": "code",
   "execution_count": 8,
   "metadata": {},
   "outputs": [
    {
     "name": "stdout",
     "output_type": "stream",
     "text": [
      "<class 'bool'>\n"
     ]
    }
   ],
   "source": [
    "#Booleans\n",
    "\n",
    "cat = True\n",
    "dog = False\n",
    "print(type(cat))"
   ]
  },
  {
   "cell_type": "code",
   "execution_count": 4,
   "metadata": {},
   "outputs": [
    {
     "name": "stdout",
     "output_type": "stream",
     "text": [
      "True\n",
      "False\n",
      "False\n",
      "True\n",
      "True\n",
      "True\n",
      "True\n"
     ]
    }
   ],
   "source": [
    "print(8 == 8) # True\n",
    "print(8 != 8) # False\n",
    "print(8 == 10) # False\n",
    "print(8 != 10) # True\n",
    "\n",
    "print (\"abc\" == \"abc\")\n",
    "print ([\"January\", \"February\"] == [\"January\", \"February\"])\n",
    "print (5.0 == 5.0)"
   ]
  },
  {
   "cell_type": "code",
   "execution_count": 15,
   "metadata": {},
   "outputs": [
    {
     "name": "stdout",
     "output_type": "stream",
     "text": [
      "False\n",
      "True\n"
     ]
    }
   ],
   "source": [
    "rates = [10, 15, 20]\n",
    "\n",
    "print (rates[0] > rates[1]) # False\n",
    "print (rates[0] >= rates[0]) # True"
   ]
  },
  {
   "cell_type": "code",
   "execution_count": 9,
   "metadata": {},
   "outputs": [
    {
     "name": "stdout",
     "output_type": "stream",
     "text": [
      "700\n"
     ]
    }
   ],
   "source": [
    "#If Statements\n",
    "sample_rate = 700\n",
    "greater = (sample_rate > 5)\n",
    "if greater:                    #This is the conditional statement.\n",
    "    print(sample_rate)\n",
    "else:\n",
    "    print('less than')"
   ]
  },
  {
   "cell_type": "code",
   "execution_count": 42,
   "metadata": {},
   "outputs": [
    {
     "name": "stdout",
     "output_type": "stream",
     "text": [
      "Now you see me\n",
      "Now you don't\n"
     ]
    }
   ],
   "source": [
    "t = True\n",
    "f = True\n",
    "\n",
    "if t:\n",
    "    print(\"Now you see me\")\n",
    "if f:\n",
    "    print(\"Now you don't\")"
   ]
  },
  {
   "cell_type": "code",
   "execution_count": null,
   "metadata": {
    "collapsed": true
   },
   "outputs": [],
   "source": []
  }
 ],
 "metadata": {
  "anaconda-cloud": {},
  "kernelspec": {
   "display_name": "Python 3",
   "language": "python",
   "name": "python3"
  },
  "language_info": {
   "codemirror_mode": {
    "name": "ipython",
    "version": 3
   },
   "file_extension": ".py",
   "mimetype": "text/x-python",
   "name": "python",
   "nbconvert_exporter": "python",
   "pygments_lexer": "ipython3",
   "version": "3.6.5"
  }
 },
 "nbformat": 4,
 "nbformat_minor": 1
}
