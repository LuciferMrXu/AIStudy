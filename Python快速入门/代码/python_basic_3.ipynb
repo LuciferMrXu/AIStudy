{
 "cells": [
  {
   "cell_type": "code",
   "execution_count": 9,
   "metadata": {},
   "outputs": [
    {
     "name": "stdout",
     "output_type": "stream",
     "text": [
      "['Casey,176544.3281', 'Riley,154860.6652', 'Jessie,136381.8307', 'Jackie,132928.7887', 'Avery,121797.4195']\n"
     ]
    }
   ],
   "source": [
    "f = open('dq_unisex_names.csv', 'r')\n",
    "names = f.read()\n",
    "names_list = names.split('\\n')\n",
    "first_five = names_list[0:5]\n",
    "print (first_five)"
   ]
  },
  {
   "cell_type": "code",
   "execution_count": 15,
   "metadata": {},
   "outputs": [
    {
     "name": "stdout",
     "output_type": "stream",
     "text": [
      "[['Casey', '176544.3281'], ['Riley', '154860.6652'], ['Jessie', '136381.8307'], ['Jackie', '132928.7887'], ['Avery', '121797.4195']]\n"
     ]
    }
   ],
   "source": [
    "#Convert The List Of Strings To A List Of Lists\n",
    "f = open('dq_unisex_names.csv', 'r')\n",
    "names = f.read()\n",
    "names_list = names.split('\\n')\n",
    "nested_list = []\n",
    "for line in names_list:\n",
    "    comma_list = line.split(',')\n",
    "    nested_list.append(comma_list)\n",
    "print(nested_list[0:5])"
   ]
  },
  {
   "cell_type": "code",
   "execution_count": 19,
   "metadata": {},
   "outputs": [
    {
     "name": "stdout",
     "output_type": "stream",
     "text": [
      "[['Casey', 176544.3281], ['Riley', 154860.6652], ['Jessie', 136381.8307], ['Jackie', 132928.7887], ['Avery', 121797.4195]]\n"
     ]
    }
   ],
   "source": [
    "nested_list = [['Casey', '176544.3281'], ['Riley', '154860.6652'], ['Jessie', '136381.8307'], ['Jackie', '132928.7887'], ['Avery', '121797.4195']]\n",
    "numerical_list = []\n",
    "for line in nested_list:\n",
    "    name = line[0]\n",
    "    count = float(line[1])\n",
    "    new_list = [name, count]\n",
    "    numerical_list.append(new_list)\n",
    "print(numerical_list[0:5])"
   ]
  },
  {
   "cell_type": "code",
   "execution_count": null,
   "metadata": {},
   "outputs": [],
   "source": []
  },
  {
   "cell_type": "code",
   "execution_count": null,
   "metadata": {
    "collapsed": true
   },
   "outputs": [],
   "source": []
  }
 ],
 "metadata": {
  "anaconda-cloud": {},
  "kernelspec": {
   "display_name": "Python 3",
   "language": "python",
   "name": "python3"
  },
  "language_info": {
   "codemirror_mode": {
    "name": "ipython",
    "version": 3
   },
   "file_extension": ".py",
   "mimetype": "text/x-python",
   "name": "python",
   "nbconvert_exporter": "python",
   "pygments_lexer": "ipython3",
   "version": "3.6.5"
  }
 },
 "nbformat": 4,
 "nbformat_minor": 1
}
