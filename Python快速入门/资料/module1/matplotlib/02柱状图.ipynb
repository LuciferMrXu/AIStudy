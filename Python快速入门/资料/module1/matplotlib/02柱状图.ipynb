{
 "cells": [
  {
   "cell_type": "code",
   "execution_count": 1,
   "metadata": {
    "collapsed": true
   },
   "outputs": [],
   "source": [
    "import matplotlib.pyplot as plt\n",
    "import matplotlib as mpl\n",
    "import numpy as np\n",
    "import pandas as pd\n",
    "\n",
    "# 设置中文显示\n",
    "mpl.rcParams['font.sans-serif'] = ['SimHei']\n",
    "mpl.rcParams['axes.unicode_minus'] = False\n",
    "\n",
    "\n",
    "# 设置jupyter中 的显示方式\n",
    "# %matplotlib tk    \n",
    "%matplotlib inline "
   ]
  },
  {
   "cell_type": "code",
   "execution_count": 26,
   "metadata": {},
   "outputs": [
    {
     "data": {
      "image/png": "[encoded data removed]",
      "text/plain": [
       "<matplotlib.figure.Figure at 0x1f05b050d68>"
      ]
     },
     "metadata": {},
     "output_type": "display_data"
    }
   ],
   "source": [
    "# 设置数据\n",
    "height = np.array([100,200,300,400])  # y\n",
    "\n",
    "# 设置数据标量\n",
    "left = np.arange(1,5,1)  # 4 x\n",
    "\n",
    "# 设置柱子宽度\n",
    "n = 4\n",
    "width = 0.8/4\n",
    "\n",
    "# 创建figure\n",
    "plt.figure()\n",
    "\n",
    "# 画图\n",
    "plt.bar(left,height,width = width,color = 'lightskyblue',align = 'center',label = '上海')\n",
    "plt.bar(left-width,height+20,width = width,color = 'red',align = 'center',label = '北京')      \n",
    "plt.bar(left+width,height+10,width = width,color = 'yellowgreen',align = 'center',label = '深圳')  \n",
    "\n",
    "\n",
    "# 生成图例\n",
    "plt.legend(loc='upper left')\n",
    "\n",
    "#设置标题\n",
    "plt.title('旅游人数')  #要改\n",
    "\n",
    "# 设置x/y轴标签                # 要改\n",
    "plt.xlabel('月份')\n",
    "plt.ylabel('人次/百万') \n",
    "\n",
    "# 设置图标的刻度\n",
    "plt.xticks(np.arange(1,5,1),['1月','2月','3月','4月'])  # 要改\n",
    "# plt.xticks(np.arange(1,6,1),[str(i)+'月' for i in range(1,6,1)])\n",
    "plt.yticks(np.arange(100,600,100))\n",
    "\n",
    "# 获取坐标轴信息\n",
    "ax = plt.gca()\n",
    "ax.spines['right'].set_color(None)\n",
    "ax.spines['top'].set_color(None)\n",
    "\n",
    "# 展示图片\n",
    "plt.show()\n",
    "\n",
    "\n",
    "\n",
    "\n"
   ]
  },
  {
   "cell_type": "code",
   "execution_count": null,
   "metadata": {
    "collapsed": true
   },
   "outputs": [],
   "source": []
  }
 ],
 "metadata": {
  "kernelspec": {
   "display_name": "Python 3",
   "language": "python",
   "name": "python3"
  },
  "language_info": {
   "codemirror_mode": {
    "name": "ipython",
    "version": 3
   },
   "file_extension": ".py",
   "mimetype": "text/x-python",
   "name": "python",
   "nbconvert_exporter": "python",
   "pygments_lexer": "ipython3",
   "version": "3.6.2"
  }
 },
 "nbformat": 4,
 "nbformat_minor": 2
}
