{
 "cells": [
  {
   "cell_type": "code",
   "execution_count": 40,
   "metadata": {
    "collapsed": false
   },
   "outputs": [],
   "source": [
    "import numpy as np\n",
    "import pandas as pd\n",
    "import matplotlib as mpl\n",
    "import matplotlib.pyplot as plt\n",
    "import warnings\n",
    "\n",
    "from sklearn import svm #svm导入\n",
    "from sklearn.model_selection import train_test_split\n",
    "from sklearn.metrics import accuracy_score\n",
    "from sklearn.exceptions import ChangedBehaviorWarning"
   ]
  },
  {
   "cell_type": "code",
   "execution_count": 41,
   "metadata": {
    "collapsed": true
   },
   "outputs": [],
   "source": [
    "## 设置属性防止中文乱码\n",
    "mpl.rcParams['font.sans-serif'] = [u'SimHei']\n",
    "mpl.rcParams['axes.unicode_minus'] = False"
   ]
  },
  {
   "cell_type": "code",
   "execution_count": 42,
   "metadata": {
    "collapsed": false
   },
   "outputs": [],
   "source": [
    "warnings.filterwarnings('ignore', category=ChangedBehaviorWarning)"
   ]
  },
  {
   "cell_type": "code",
   "execution_count": 43,
   "metadata": {
    "collapsed": false
   },
   "outputs": [],
   "source": [
    "## 读取数据\n",
    "# 'sepal length', 'sepal width', 'petal length', 'petal width'\n",
    "iris_feature = u'花萼长度', u'花萼宽度', u'花瓣长度', u'花瓣宽度'\n",
    "path = './datas/iris.data'  # 数据文件路径\n",
    "data = pd.read_csv(path, header=None)\n",
    "x, y = data[list(range(4))], data[4]\n",
    "y = pd.Categorical(y).codes #把文本数据进行编码，比如a b c编码为 0 1 2; 可以通过pd.Categorical(y).categories获取index对应的原始值\n",
    "x = x[[0, 1]] # 获取第一列和第二列"
   ]
  },
  {
   "cell_type": "code",
   "execution_count": 44,
   "metadata": {
    "collapsed": false
   },
   "outputs": [],
   "source": [
    "## 数据分割\n",
    "x_train, x_test, y_train, y_test = train_test_split(x, y, random_state=0, train_size=0.8)"
   ]
  },
  {
   "cell_type": "code",
   "execution_count": 45,
   "metadata": {
    "collapsed": false
   },
   "outputs": [
    {
     "name": "stdout",
     "output_type": "stream",
     "text": [
      "训练数据格式:(120, 2)\n"
     ]
    }
   ],
   "source": [
    "print(\"训练数据格式:{}\".format(x_train.shape))"
   ]
  },
  {
   "cell_type": "code",
   "execution_count": 46,
   "metadata": {
    "collapsed": false
   },
   "outputs": [
    {
     "data": {
      "text/plain": [
       "array([2, 1, 0, 2, 2, 1, 0, 1, 1, 1, 2, 0, 2, 0, 0, 1, 2, 2, 2, 2, 1, 2, 1,\n",
       "       1, 2, 2, 2, 2, 1, 2, 1, 0, 2, 1, 1, 1, 1, 2, 0, 0, 2, 1, 0, 0, 1, 0,\n",
       "       2, 1, 0, 1, 2, 1, 0, 2, 2, 2, 2, 0, 0, 2, 2, 0, 2, 0, 2, 2, 0, 0, 2,\n",
       "       0, 0, 0, 1, 2, 2, 0, 0, 0, 1, 1, 0, 0, 1, 0, 2, 1, 2, 1, 0, 2, 0, 2,\n",
       "       0, 0, 2, 0, 2, 1, 1, 1, 2, 2, 1, 1, 0, 1, 2, 2, 0, 1, 1, 1, 1, 0, 0,\n",
       "       0, 2, 1, 2, 0], dtype=int8)"
      ]
     },
     "execution_count": 46,
     "metadata": {},
     "output_type": "execute_result"
    }
   ],
   "source": [
    "y_train"
   ]
  },
  {
   "cell_type": "code",
   "execution_count": 47,
   "metadata": {
    "collapsed": false,
    "scrolled": false
   },
   "outputs": [],
   "source": [
    "# svm.SVC API说明：\n",
    "# 功能：使用SVM分类器进行模型构建\n",
    "# 参数说明：\n",
    "# C: 误差项的惩罚系数，默认为1.0；一般为大于0的一个数字，C越大表示在训练过程中对于总误差的关注度越高，也就是说当C越大的时候，对于训练集的表现会越好，\n",
    "# 但是有可能引发过度拟合的问题(overfiting)\n",
    "# kernel：指定SVM内部函数的类型，可选值：linear、poly、rbf、sigmoid、precomputed(基本不用，有前提要求，要求特征属性数目和样本数目一样)；默认是rbf；\n",
    "# degree：当使用多项式函数作为svm内部的函数的时候，给定多项式的项数，默认为3\n",
    "# gamma：当SVM内部使用poly、rbf、sigmoid的时候，核函数的系数值，当默认值为auto的时候，实际系数为1/n_features\n",
    "# coef0: 当核函数为poly或者sigmoid的时候，给定的独立系数，默认为0\n",
    "# probability：是否启用概率估计，默认不启动，不太建议启动\n",
    "# shrinking：是否开启收缩启发式计算，默认为True\n",
    "# tol: 模型构建收敛参数，当模型的的误差变化率小于该值的时候，结束模型构建过程，默认值:1e-3\n",
    "# cache_size：在模型构建过程中，缓存数据的最大内存大小，默认为空，单位MB\n",
    "# class_weight：给定各个类别的权重，默认为空\n",
    "# max_iter：最大迭代次数，默认-1表示不限制\n",
    "# decision_function_shape: 决策函数，可选值：ovo和ovr，默认为None；推荐使用ovr；（1.7以上版本才有）\n",
    "# '''"
   ]
  },
  {
   "cell_type": "code",
   "execution_count": 48,
   "metadata": {
    "collapsed": false
   },
   "outputs": [
    {
     "data": {
      "text/plain": [
       "SVC(C=1, cache_size=200, class_weight=None, coef0=0.0,\n",
       "  decision_function_shape='ovr', degree=3, gamma='auto', kernel='linear',\n",
       "  max_iter=-1, probability=False, random_state=None, shrinking=True,\n",
       "  tol=0.001, verbose=False)"
      ]
     },
     "execution_count": 48,
     "metadata": {},
     "output_type": "execute_result"
    }
   ],
   "source": [
    "## 数据SVM分类器构建\n",
    "clf = svm.SVC(C=1,kernel='linear', decision_function_shape='ovr')\n",
    "#gamma值越大，训练集的拟合就越好，但是会造成过拟合，导致测试集拟合变差\n",
    "#gamma值越小，模型的泛化能力越好，训练集和测试集的拟合相近，但是会导致训练集出现欠拟合问题，\n",
    "#从而，准确率变低，导致测试集准确率也变低。\n",
    "## 模型训练\n",
    "clf.fit(x_train, y_train)"
   ]
  },
  {
   "cell_type": "code",
   "execution_count": 49,
   "metadata": {
    "collapsed": false
   },
   "outputs": [
    {
     "name": "stdout",
     "output_type": "stream",
     "text": [
      "参数w:\n",
      "[[ -2.22299764e+00   2.22646367e+00]\n",
      " [ -2.07334604e+00   1.58574863e+00]\n",
      " [ -1.81885117e+00   2.22941915e-06]]\n",
      "截距项:\n",
      "[  4.99123168   6.68269802  11.18611737]\n"
     ]
    }
   ],
   "source": [
    "print(\"参数w:\\n{}\".format(clf.coef_))\n",
    "print(\"截距项:\\n{}\".format(clf.intercept_))"
   ]
  },
  {
   "cell_type": "code",
   "execution_count": 50,
   "metadata": {
    "collapsed": false
   },
   "outputs": [
    {
     "name": "stdout",
     "output_type": "stream",
     "text": [
      "预测值:\n",
      " [2 1 0 1 2 1 0 1 1 1 2 0 2 0 0 1 2 2 1 2 1 2 2 1 2 2 1 2 2 2 1 0 1 1 1 1 1\n",
      " 2 0 0 2 1 0 0 2 0 1 1 0 2 2 1 0 2 2 2 2 0 0 2 2 0 2 0 1 2 0 0 2 0 0 0 1 2\n",
      " 2 0 0 0 1 2 0 0 2 0 2 1 2 2 0 1 0 2 0 0 2 0 2 1 1 1 2 2 2 2 0 1 2 1 0 2 1\n",
      " 1 2 0 0 0 2 1 2 0]\n"
     ]
    }
   ],
   "source": [
    "print ('预测值:\\n', clf.predict(x_train))"
   ]
  },
  {
   "cell_type": "code",
   "execution_count": 51,
   "metadata": {
    "collapsed": false,
    "scrolled": false
   },
   "outputs": [
    {
     "name": "stdout",
     "output_type": "stream",
     "text": [
      "decision_function:\n",
      " [[-0.17418034  1.08173999  2.09244035]\n",
      " [ 0.99609917  2.07384603 -0.0699452 ]\n",
      " [ 2.11637297  1.02191306 -0.13828603]\n",
      " [-0.13470274  2.08615025  1.0485525 ]\n",
      " [-0.22392144  1.11079048  2.11313096]\n",
      " [ 0.98373004  2.09938103 -0.08311108]\n",
      " [ 2.07268413  1.0016513  -0.07433543]\n",
      " [-0.16575785  2.11344299  1.05231486]\n",
      " [-0.09733077  2.08263476  1.01469601]\n",
      " [-0.14496625  2.119611    1.02535525]\n",
      " [-0.26550465  1.09845446  2.16705019]\n",
      " [ 2.16006181  1.04217483 -0.20223663]\n",
      " [-0.26761027  1.09052871  2.17708157]\n",
      " [ 2.15374494  1.01839757 -0.17214251]\n",
      " [ 2.11216173  1.00606156 -0.11822328]\n",
      " [-0.09496054  2.16365002  0.93131052]\n",
      " [-0.20944669  1.09318123  2.11626547]\n",
      " [-0.19707757  1.06764623  2.12943134]\n",
      " [-0.24865968  2.16186048  1.08679921]\n",
      " [-0.3297205   1.1451142   2.1846063 ]\n",
      " [-0.12417464  2.12577901  0.99839563]\n",
      " [-0.43367854  1.11427416  2.31940437]\n",
      " [-0.12233362  1.06061525  2.06171837]\n",
      " [-0.12206902  2.13370476  0.98836426]\n",
      " [-0.22181582  1.11871623  2.10309959]\n",
      " [-0.20523545  1.10903273  2.09620272]\n",
      " [ 1.00662727  2.11347479 -0.12010207]\n",
      " [-0.25497655  1.13808322  2.11689333]\n",
      " [-0.2697159   1.08260296  2.18711294]\n",
      " [-0.20944669  1.09318123  2.11626547]\n",
      " [-0.04969529  2.04565852  1.00403678]\n",
      " [ 2.12479545  1.05361607 -0.17841152]\n",
      " [-0.12838588  2.1099275   1.01845838]\n",
      " [-0.09101391  2.10641201  0.98460189]\n",
      " [-0.05785317  2.08704502  0.97080815]\n",
      " [-0.10548865  2.12402126  0.98146739]\n",
      " [-0.13470274  2.08615025  1.0485525 ]\n",
      " [-0.30708787  1.08611845  2.22096942]\n",
      " [ 2.13084771  1.00430381 -0.13515153]\n",
      " [ 2.20164502  1.05451084 -0.25615586]\n",
      " [-0.2405018   1.12047397  2.12002783]\n",
      " [-0.0599588   2.07911927  0.98083953]\n",
      " [ 2.06242063  1.03511205 -0.09753268]\n",
      " [ 2.17216633  0.94355032 -0.11571664]\n",
      " [-0.26761027  1.09052871  2.17708157]\n",
      " [ 2.16216743  1.05010058 -0.21226801]\n",
      " [-0.09733077  2.08263476  1.01469601]\n",
      " [ 0.9692553   2.11699028 -0.08624558]\n",
      " [ 2.21190853  1.02105009 -0.23295861]\n",
      " [-0.28603166  1.16537597  2.12065569]\n",
      " [-0.24076641  1.04738446  2.19338195]\n",
      " [-0.07653916  2.08880277  0.9877364 ]\n",
      " [ 2.10821509  1.06329957 -0.17151465]\n",
      " [-0.32156261  1.1037277   2.21783492]\n",
      " [-0.25102991  1.08084521  2.1701847 ]\n",
      " [-0.20944669  1.09318123  2.11626547]\n",
      " [-0.22392144  1.11079048  2.11313096]\n",
      " [ 2.18480005  0.99110483 -0.17590488]\n",
      " [ 2.17453655  1.02456558 -0.19910213]\n",
      " [-0.17628596  1.07381423  2.10247173]\n",
      " [-0.19707757  1.06764623  2.12943134]\n",
      " [ 2.04821049  1.12581081 -0.1740213 ]\n",
      " [-0.08706727  1.04917401  2.03789326]\n",
      " [ 2.0895291   1.06505731 -0.15458641]\n",
      " [-0.14286062  2.12753675  1.01532387]\n",
      " [-0.26761027  1.09052871  2.17708157]\n",
      " [ 2.21611977  1.03690159 -0.25302136]\n",
      " [ 2.17032531  1.00871407 -0.17903938]\n",
      " [-0.3402486   1.10548544  2.23476316]\n",
      " [ 2.13505896  1.02015532 -0.15521427]\n",
      " [ 2.18295904  1.05626859 -0.23922762]\n",
      " [ 2.14532246  0.98669456 -0.13201702]\n",
      " [-0.13864938  2.14338826  0.99526113]\n",
      " [-0.23234392  1.07908747  2.15325645]\n",
      " [-0.41499255  1.11251642  2.30247613]\n",
      " [ 2.13505896  1.02015532 -0.15521427]\n",
      " [ 2.10610947  1.05537381 -0.16148328]\n",
      " [ 2.0997926   1.03159656 -0.13138916]\n",
      " [-0.09311953  2.09848626  0.99463327]\n",
      " [-0.22813268  1.09493897  2.13319371]\n",
      " [ 2.10400385  1.04744806 -0.15145191]\n",
      " [ 2.10189822  1.03952231 -0.14142053]\n",
      " [-0.20734107  1.10110698  2.10623409]\n",
      " [ 2.06242063  1.03511205 -0.09753268]\n",
      " [-0.5         1.15300815  2.34699185]\n",
      " [ 0.99004691  2.12315829 -0.1132052 ]\n",
      " [-0.33840758  1.04032168  2.2980859 ]\n",
      " [-0.2302383   1.08701322  2.14322508]\n",
      " [ 2.21585516  0.96381208 -0.17966724]\n",
      " [-0.11601676  2.0843925   1.03162425]\n",
      " [ 2.08715888  0.98404205 -0.07120092]\n",
      " [-0.46683927  1.13364116  2.33319811]\n",
      " [ 2.18480005  0.99110483 -0.17590488]\n",
      " [ 2.16006181  1.04217483 -0.20223663]\n",
      " [-0.41078131  1.12836792  2.28241338]\n",
      " [ 2.12058421  1.03776456 -0.15834878]\n",
      " [-0.10575325  1.05093175  2.0548215 ]\n",
      " [-0.09311953  2.09848626  0.99463327]\n",
      " [-0.12838588  2.1099275   1.01845838]\n",
      " [-0.12628026  2.11785326  1.008427  ]\n",
      " [-0.15759997  1.07205649  2.08554348]\n",
      " [-0.24681867  1.09669672  2.15012195]\n",
      " [-0.25497655  1.13808322  2.11689333]\n",
      " [-0.24681867  1.09669672  2.15012195]\n",
      " [ 2.07084311  1.06681505 -0.13765817]\n",
      " [-0.12206902  2.13370476  0.98836426]\n",
      " [-0.2302383   1.08701322  2.14322508]\n",
      " [-0.12838588  2.1099275   1.01845838]\n",
      " [ 2.11847859  1.02983881 -0.1483174 ]\n",
      " [-0.24471304  1.10462247  2.14009058]\n",
      " [-0.04127281  2.07736152  0.96391128]\n",
      " [-0.06417004  2.06326776  1.00090227]\n",
      " [-0.28813728  1.15745021  2.13068706]\n",
      " [ 2.06031501  1.0271863  -0.0875013 ]\n",
      " [ 2.16821969  1.00078832 -0.16900801]\n",
      " [ 2.10610947  1.05537381 -0.16148328]\n",
      " [-0.18865508  1.09934923  2.08930585]\n",
      " [-0.12838588  2.1099275   1.01845838]\n",
      " [-0.30103561  1.03680619  2.26422942]\n",
      " [ 2.17874779  1.04041708 -0.21916488]]\n"
     ]
    }
   ],
   "source": [
    "print ('decision_function:\\n', clf.decision_function(x_train))"
   ]
  },
  {
   "cell_type": "code",
   "execution_count": 52,
   "metadata": {
    "collapsed": false
   },
   "outputs": [
    {
     "name": "stdout",
     "output_type": "stream",
     "text": [
      "0    6.4\n",
      "1    3.1\n",
      "Name: 137, dtype: float64\n"
     ]
    }
   ],
   "source": [
    "print(x_train.iloc[0])"
   ]
  },
  {
   "cell_type": "code",
   "execution_count": 53,
   "metadata": {
    "collapsed": false,
    "scrolled": true
   },
   "outputs": [
    {
     "name": "stdout",
     "output_type": "stream",
     "text": [
      "0.841666666667\n",
      "训练集准确率： 0.841666666667\n",
      "0.733333333333\n",
      "测试集准确率： 0.733333333333\n",
      "decision_function:\n",
      " [[-0.17418034  1.08173999  2.09244035]\n",
      " [ 0.99609917  2.07384603 -0.0699452 ]\n",
      " [ 2.11637297  1.02191306 -0.13828603]\n",
      " [-0.13470274  2.08615025  1.0485525 ]\n",
      " [-0.22392144  1.11079048  2.11313096]\n",
      " [ 0.98373004  2.09938103 -0.08311108]\n",
      " [ 2.07268413  1.0016513  -0.07433543]\n",
      " [-0.16575785  2.11344299  1.05231486]\n",
      " [-0.09733077  2.08263476  1.01469601]\n",
      " [-0.14496625  2.119611    1.02535525]\n",
      " [-0.26550465  1.09845446  2.16705019]\n",
      " [ 2.16006181  1.04217483 -0.20223663]\n",
      " [-0.26761027  1.09052871  2.17708157]\n",
      " [ 2.15374494  1.01839757 -0.17214251]\n",
      " [ 2.11216173  1.00606156 -0.11822328]\n",
      " [-0.09496054  2.16365002  0.93131052]\n",
      " [-0.20944669  1.09318123  2.11626547]\n",
      " [-0.19707757  1.06764623  2.12943134]\n",
      " [-0.24865968  2.16186048  1.08679921]\n",
      " [-0.3297205   1.1451142   2.1846063 ]\n",
      " [-0.12417464  2.12577901  0.99839563]\n",
      " [-0.43367854  1.11427416  2.31940437]\n",
      " [-0.12233362  1.06061525  2.06171837]\n",
      " [-0.12206902  2.13370476  0.98836426]\n",
      " [-0.22181582  1.11871623  2.10309959]\n",
      " [-0.20523545  1.10903273  2.09620272]\n",
      " [ 1.00662727  2.11347479 -0.12010207]\n",
      " [-0.25497655  1.13808322  2.11689333]\n",
      " [-0.2697159   1.08260296  2.18711294]\n",
      " [-0.20944669  1.09318123  2.11626547]\n",
      " [-0.04969529  2.04565852  1.00403678]\n",
      " [ 2.12479545  1.05361607 -0.17841152]\n",
      " [-0.12838588  2.1099275   1.01845838]\n",
      " [-0.09101391  2.10641201  0.98460189]\n",
      " [-0.05785317  2.08704502  0.97080815]\n",
      " [-0.10548865  2.12402126  0.98146739]\n",
      " [-0.13470274  2.08615025  1.0485525 ]\n",
      " [-0.30708787  1.08611845  2.22096942]\n",
      " [ 2.13084771  1.00430381 -0.13515153]\n",
      " [ 2.20164502  1.05451084 -0.25615586]\n",
      " [-0.2405018   1.12047397  2.12002783]\n",
      " [-0.0599588   2.07911927  0.98083953]\n",
      " [ 2.06242063  1.03511205 -0.09753268]\n",
      " [ 2.17216633  0.94355032 -0.11571664]\n",
      " [-0.26761027  1.09052871  2.17708157]\n",
      " [ 2.16216743  1.05010058 -0.21226801]\n",
      " [-0.09733077  2.08263476  1.01469601]\n",
      " [ 0.9692553   2.11699028 -0.08624558]\n",
      " [ 2.21190853  1.02105009 -0.23295861]\n",
      " [-0.28603166  1.16537597  2.12065569]\n",
      " [-0.24076641  1.04738446  2.19338195]\n",
      " [-0.07653916  2.08880277  0.9877364 ]\n",
      " [ 2.10821509  1.06329957 -0.17151465]\n",
      " [-0.32156261  1.1037277   2.21783492]\n",
      " [-0.25102991  1.08084521  2.1701847 ]\n",
      " [-0.20944669  1.09318123  2.11626547]\n",
      " [-0.22392144  1.11079048  2.11313096]\n",
      " [ 2.18480005  0.99110483 -0.17590488]\n",
      " [ 2.17453655  1.02456558 -0.19910213]\n",
      " [-0.17628596  1.07381423  2.10247173]\n",
      " [-0.19707757  1.06764623  2.12943134]\n",
      " [ 2.04821049  1.12581081 -0.1740213 ]\n",
      " [-0.08706727  1.04917401  2.03789326]\n",
      " [ 2.0895291   1.06505731 -0.15458641]\n",
      " [-0.14286062  2.12753675  1.01532387]\n",
      " [-0.26761027  1.09052871  2.17708157]\n",
      " [ 2.21611977  1.03690159 -0.25302136]\n",
      " [ 2.17032531  1.00871407 -0.17903938]\n",
      " [-0.3402486   1.10548544  2.23476316]\n",
      " [ 2.13505896  1.02015532 -0.15521427]\n",
      " [ 2.18295904  1.05626859 -0.23922762]\n",
      " [ 2.14532246  0.98669456 -0.13201702]\n",
      " [-0.13864938  2.14338826  0.99526113]\n",
      " [-0.23234392  1.07908747  2.15325645]\n",
      " [-0.41499255  1.11251642  2.30247613]\n",
      " [ 2.13505896  1.02015532 -0.15521427]\n",
      " [ 2.10610947  1.05537381 -0.16148328]\n",
      " [ 2.0997926   1.03159656 -0.13138916]\n",
      " [-0.09311953  2.09848626  0.99463327]\n",
      " [-0.22813268  1.09493897  2.13319371]\n",
      " [ 2.10400385  1.04744806 -0.15145191]\n",
      " [ 2.10189822  1.03952231 -0.14142053]\n",
      " [-0.20734107  1.10110698  2.10623409]\n",
      " [ 2.06242063  1.03511205 -0.09753268]\n",
      " [-0.5         1.15300815  2.34699185]\n",
      " [ 0.99004691  2.12315829 -0.1132052 ]\n",
      " [-0.33840758  1.04032168  2.2980859 ]\n",
      " [-0.2302383   1.08701322  2.14322508]\n",
      " [ 2.21585516  0.96381208 -0.17966724]\n",
      " [-0.11601676  2.0843925   1.03162425]\n",
      " [ 2.08715888  0.98404205 -0.07120092]\n",
      " [-0.46683927  1.13364116  2.33319811]\n",
      " [ 2.18480005  0.99110483 -0.17590488]\n",
      " [ 2.16006181  1.04217483 -0.20223663]\n",
      " [-0.41078131  1.12836792  2.28241338]\n",
      " [ 2.12058421  1.03776456 -0.15834878]\n",
      " [-0.10575325  1.05093175  2.0548215 ]\n",
      " [-0.09311953  2.09848626  0.99463327]\n",
      " [-0.12838588  2.1099275   1.01845838]\n",
      " [-0.12628026  2.11785326  1.008427  ]\n",
      " [-0.15759997  1.07205649  2.08554348]\n",
      " [-0.24681867  1.09669672  2.15012195]\n",
      " [-0.25497655  1.13808322  2.11689333]\n",
      " [-0.24681867  1.09669672  2.15012195]\n",
      " [ 2.07084311  1.06681505 -0.13765817]\n",
      " [-0.12206902  2.13370476  0.98836426]\n",
      " [-0.2302383   1.08701322  2.14322508]\n",
      " [-0.12838588  2.1099275   1.01845838]\n",
      " [ 2.11847859  1.02983881 -0.1483174 ]\n",
      " [-0.24471304  1.10462247  2.14009058]\n",
      " [-0.04127281  2.07736152  0.96391128]\n",
      " [-0.06417004  2.06326776  1.00090227]\n",
      " [-0.28813728  1.15745021  2.13068706]\n",
      " [ 2.06031501  1.0271863  -0.0875013 ]\n",
      " [ 2.16821969  1.00078832 -0.16900801]\n",
      " [ 2.10610947  1.05537381 -0.16148328]\n",
      " [-0.18865508  1.09934923  2.08930585]\n",
      " [-0.12838588  2.1099275   1.01845838]\n",
      " [-0.30103561  1.03680619  2.26422942]\n",
      " [ 2.17874779  1.04041708 -0.21916488]]\n",
      "\n",
      "predict:\n",
      " [2 1 0 1 2 1 0 1 1 1 2 0 2 0 0 1 2 2 1 2 1 2 2 1 2 2 1 2 2 2 1 0 1 1 1 1 1\n",
      " 2 0 0 2 1 0 0 2 0 1 1 0 2 2 1 0 2 2 2 2 0 0 2 2 0 2 0 1 2 0 0 2 0 0 0 1 2\n",
      " 2 0 0 0 1 2 0 0 2 0 2 1 2 2 0 1 0 2 0 0 2 0 2 1 1 1 2 2 2 2 0 1 2 1 0 2 1\n",
      " 1 2 0 0 0 2 1 2 0]\n"
     ]
    }
   ],
   "source": [
    "## 计算模型的准确率/精度\n",
    "print (clf.score(x_train, y_train)) \n",
    "print ('训练集准确率：', accuracy_score(y_train, clf.predict(x_train)))\n",
    "print (clf.score(x_test, y_test))\n",
    "print ('测试集准确率：', accuracy_score(y_test, clf.predict(x_test)))\n",
    "\n",
    "## 计算决策函数的结构值以及预测值(decision_function计算的是样本x到各个分割平面的距离<也就是决策函数的值>)\n",
    "print ('decision_function:\\n', clf.decision_function(x_train))\n",
    "print ('\\npredict:\\n', clf.predict(x_train))"
   ]
  },
  {
   "cell_type": "code",
   "execution_count": 54,
   "metadata": {
    "collapsed": false
   },
   "outputs": [
    {
     "data": {
      "text/plain": [
       "array([2, 1, 0, 1, 2, 1, 0, 1, 1, 1, 2, 0, 2, 0, 0, 1, 2, 2, 1, 2, 1, 2, 2,\n",
       "       1, 2, 2, 1, 2, 2, 2, 1, 0, 1, 1, 1, 1, 1, 2, 0, 0, 2, 1, 0, 0, 2, 0,\n",
       "       1, 1, 0, 2, 2, 1, 0, 2, 2, 2, 2, 0, 0, 2, 2, 0, 2, 0, 1, 2, 0, 0, 2,\n",
       "       0, 0, 0, 1, 2, 2, 0, 0, 0, 1, 2, 0, 0, 2, 0, 2, 1, 2, 2, 0, 1, 0, 2,\n",
       "       0, 0, 2, 0, 2, 1, 1, 1, 2, 2, 2, 2, 0, 1, 2, 1, 0, 2, 1, 1, 2, 0, 0,\n",
       "       0, 2, 1, 2, 0], dtype=int8)"
      ]
     },
     "execution_count": 54,
     "metadata": {},
     "output_type": "execute_result"
    }
   ],
   "source": [
    "clf.predict(x_train)"
   ]
  },
  {
   "cell_type": "code",
   "execution_count": 55,
   "metadata": {
    "collapsed": false,
    "scrolled": false
   },
   "outputs": [
    {
     "data": {
      "image/png": "[encoded data removed]",
      "text/plain": [
       "<matplotlib.figure.Figure at 0x1e4d84a6b70>"
      ]
     },
     "metadata": {},
     "output_type": "display_data"
    }
   ],
   "source": [
    "# 画图\n",
    "N = 500\n",
    "x1_min, x2_min = x.min()\n",
    "x1_max, x2_max = x.max()\n",
    "\n",
    "t1 = np.linspace(x1_min, x1_max, N)\n",
    "t2 = np.linspace(x2_min, x2_max, N)\n",
    "x1, x2 = np.meshgrid(t1, t2)  # 生成网格采样点\n",
    "grid_show = np.dstack((x1.flat, x2.flat))[0] # 测试点\n",
    "\n",
    "\n",
    "grid_hat = clf.predict(grid_show)       # 预测分类值\n",
    "grid_hat = grid_hat.reshape(x1.shape)  # 使之与输入的形状相同\n",
    "\n",
    "cm_light = mpl.colors.ListedColormap(['#00FFCC', '#FFA0A0', '#A0A0FF'])\n",
    "cm_dark = mpl.colors.ListedColormap(['g', 'r', 'b'])\n",
    "plt.figure(facecolor='w')\n",
    "## 区域图\n",
    "plt.pcolormesh(x1, x2, grid_hat, cmap=cm_light)\n",
    "## 所以样本点\n",
    "plt.scatter(x[0], x[1], c=y, edgecolors='k', s=50, cmap=cm_dark)      # 样本\n",
    "## 测试数据集\n",
    "plt.scatter(x_test[0], x_test[1], s=120, facecolors='None', edgecolors='k', zorder=10)     # 圈中测试集样本\n",
    "## lable列表\n",
    "plt.xlabel(iris_feature[0], fontsize=13)\n",
    "plt.ylabel(iris_feature[1], fontsize=13)\n",
    "plt.xlim(x1_min, x1_max)\n",
    "plt.ylim(x2_min, x2_max)\n",
    "plt.title(u'鸢尾花SVM特征分类', fontsize=16)\n",
    "plt.grid(b=True, ls=':')\n",
    "plt.tight_layout(pad=1.5)\n",
    "plt.show()"
   ]
  },
  {
   "cell_type": "code",
   "execution_count": null,
   "metadata": {
    "collapsed": true
   },
   "outputs": [],
   "source": []
  }
 ],
 "metadata": {
  "kernelspec": {
   "display_name": "Python 3",
   "language": "python",
   "name": "python3"
  },
  "language_info": {
   "codemirror_mode": {
    "name": "ipython",
    "version": 3
   },
   "file_extension": ".py",
   "mimetype": "text/x-python",
   "name": "python",
   "nbconvert_exporter": "python",
   "pygments_lexer": "ipython3",
   "version": "3.6.6"
  }
 },
 "nbformat": 4,
 "nbformat_minor": 0
}
