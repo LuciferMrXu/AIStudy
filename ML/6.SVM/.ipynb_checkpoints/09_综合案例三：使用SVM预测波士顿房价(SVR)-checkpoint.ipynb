{
 "cells": [
  {
   "cell_type": "code",
   "execution_count": 1,
   "metadata": {
    "collapsed": false
   },
   "outputs": [],
   "source": [
    "import numpy as np\n",
    "import matplotlib as mpl\n",
    "import matplotlib.pyplot as plt\n",
    "import pandas as pd\n",
    "import warnings\n",
    "\n",
    "import sklearn\n",
    "from sklearn.svm import SVR#对比SVC，是svm的回归形式\n",
    "from sklearn.model_selection import train_test_split\n",
    "from sklearn.model_selection import GridSearchCV"
   ]
  },
  {
   "cell_type": "code",
   "execution_count": 2,
   "metadata": {
    "collapsed": true
   },
   "outputs": [],
   "source": [
    "## 设置属性防止中文乱码\n",
    "mpl.rcParams['font.sans-serif'] = [u'SimHei']\n",
    "mpl.rcParams['axes.unicode_minus'] = False"
   ]
  },
  {
   "cell_type": "code",
   "execution_count": 3,
   "metadata": {
    "collapsed": true
   },
   "outputs": [],
   "source": [
    "def notEmpty(s):\n",
    "    return s != ''"
   ]
  },
  {
   "cell_type": "code",
   "execution_count": 4,
   "metadata": {
    "collapsed": false
   },
   "outputs": [
    {
     "name": "stdout",
     "output_type": "stream",
     "text": [
      "样本数据量:506, 特征个数：13\n",
      "target样本数据量:506\n"
     ]
    }
   ],
   "source": [
    "## 加载数据\n",
    "names = ['CRIM','ZN', 'INDUS','CHAS','NOX','RM','AGE','DIS','RAD','TAX','PTRATIO','B','LSTAT']\n",
    "path = \"datas/boston_housing.data\"\n",
    "## 由于数据文件格式不统一，所以读取的时候，先按照一行一个字段属性读取数据，然后再安装每行数据进行处理\n",
    "fd = pd.read_csv(path, header=None)\n",
    "data = np.empty((len(fd), 14))\n",
    "for i, d in enumerate(fd.values):\n",
    "    d = map(float, filter(notEmpty, d[0].split(' ')))\n",
    "    data[i] = list(d)\n",
    "\n",
    "## 分割数据\n",
    "x, y = np.split(data, (13,), axis=1)\n",
    "y = y.ravel() # 转换格式\n",
    "\n",
    "print (\"样本数据量:%d, 特征个数：%d\" % x.shape)\n",
    "print (\"target样本数据量:%d\" % y.shape[0])"
   ]
  },
  {
   "cell_type": "code",
   "execution_count": null,
   "metadata": {
    "collapsed": false
   },
   "outputs": [],
   "source": [
    "# 数据分割\n",
    "x_train, x_test, y_train, y_test = train_test_split(x, y, test_size=0.2, random_state=28)"
   ]
  },
  {
   "cell_type": "code",
   "execution_count": null,
   "metadata": {
    "collapsed": false
   },
   "outputs": [],
   "source": [
    "## 模型构建（参数类型和SVC基本一样）\n",
    "parameters = {\n",
    "    'kernel': ['linear', 'rbf'],\n",
    "    'C': [0.1, 0.5,0.9,1,5],\n",
    "    'gamma': [0.001,0.01,0.1,1]\n",
    "}\n",
    "model = GridSearchCV(SVR(), param_grid=parameters, cv=3)\n",
    "model.fit(x_train, y_train)"
   ]
  },
  {
   "cell_type": "code",
   "execution_count": null,
   "metadata": {
    "collapsed": false
   },
   "outputs": [],
   "source": [
    "## 获取最优参数\n",
    "print (\"最优参数列表:\", model.best_params_)\n",
    "print (\"最优模型:\", model.best_estimator_)\n",
    "print (\"最优准确率:\", model.best_score_)"
   ]
  },
  {
   "cell_type": "code",
   "execution_count": null,
   "metadata": {
    "collapsed": false
   },
   "outputs": [],
   "source": [
    "## 模型效果输出\n",
    "print (\"训练集准确率:%.2f%%\" % (model.score(x_train, y_train) * 100))\n",
    "print (\"测试集准确率:%.2f%%\" % (model.score(x_test, y_test) * 100))"
   ]
  },
  {
   "cell_type": "code",
   "execution_count": null,
   "metadata": {
    "collapsed": false
   },
   "outputs": [],
   "source": [
    "## 画图\n",
    "colors = ['g-', 'b-']\n",
    "ln_x_test = range(len(x_test))\n",
    "y_predict = model.predict(x_test)\n",
    "\n",
    "plt.figure(figsize=(16,8), facecolor='w')\n",
    "plt.plot(ln_x_test, y_test, 'r-', lw=2, label=u'真实值')\n",
    "plt.plot(ln_x_test, y_predict, 'g-', lw = 3, label=u'SVR算法估计值,$R^2$=%.3f' % (model.best_score_))\n",
    "\n",
    "# 图形显示\n",
    "plt.legend(loc = 'upper left')\n",
    "plt.grid(True)\n",
    "plt.title(u\"波士顿房屋价格预测(SVM)\")\n",
    "plt.xlim(0, 101)\n",
    "plt.show()\n"
   ]
  },
  {
   "cell_type": "code",
   "execution_count": null,
   "metadata": {
    "collapsed": true
   },
   "outputs": [],
   "source": []
  }
 ],
 "metadata": {
  "kernelspec": {
   "display_name": "Python 3",
   "language": "python",
   "name": "python3"
  },
  "language_info": {
   "codemirror_mode": {
    "name": "ipython",
    "version": 3
   },
   "file_extension": ".py",
   "mimetype": "text/x-python",
   "name": "python",
   "nbconvert_exporter": "python",
   "pygments_lexer": "ipython3",
   "version": "3.6.6"
  }
 },
 "nbformat": 4,
 "nbformat_minor": 0
}
