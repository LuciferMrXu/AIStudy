{
 "cells": [
  {
   "cell_type": "code",
   "execution_count": 1,
   "metadata": {
    "collapsed": true
   },
   "outputs": [],
   "source": [
    "import numpy as np\n",
    "import matplotlib as mpl\n",
    "import matplotlib.pyplot as plt\n",
    "import math\n",
    "from mpl_toolkits.mplot3d import Axes3D"
   ]
  },
  {
   "cell_type": "code",
   "execution_count": 2,
   "metadata": {
    "collapsed": true
   },
   "outputs": [],
   "source": [
    "# 设置在jupyter中matplotlib的显示情况\n",
    "%matplotlib tk"
   ]
  },
  {
   "cell_type": "code",
   "execution_count": 3,
   "metadata": {
    "collapsed": true
   },
   "outputs": [],
   "source": [
    "# 解决中文显示问题\n",
    "mpl.rcParams['font.sans-serif'] = [u'SimHei']\n",
    "mpl.rcParams['axes.unicode_minus'] = False"
   ]
  },
  {
   "cell_type": "code",
   "execution_count": 12,
   "metadata": {
    "collapsed": false
   },
   "outputs": [],
   "source": [
    "# 拉格朗日乘子法理解\n",
    "def f(x, y):\n",
    "    return x**2 / 2.0 + y**2 / 3.0 - 1\n",
    "\n",
    "# 构建数据\n",
    "X1 = np.arange(-8, 8, 0.2)\n",
    "X2 = np.arange(-8, 8, 0.2)\n",
    "X1, X2 = np.meshgrid(X1, X2)\n",
    "Y = np.array(list(map(lambda t: f(t[0], t[1]), zip(X1.flatten(), X2.flatten()))))\n",
    "Y.shape = X1.shape\n",
    "\n",
    "# 限制条件\n",
    "X3 = np.arange(-4, 4, 0.2)\n",
    "X3.shape = 1,-1\n",
    "X4 = np.array(list(map(lambda t: t ** 2 -  t +1, X3)))\n",
    "\n",
    "# 画图\n",
    "fig = plt.figure(facecolor='w')\n",
    "ax = Axes3D(fig)\n",
    "ax.plot_surface(X1, X2, Y, rstride=1, cstride=1, cmap=plt.cm.jet)\n",
    "ax.plot(X3, X4 , 'ro--', linewidth=2)\n",
    "\n",
    "\n",
    "ax.set_title(u'函数$y=0.6 * (θ1 + θ2)^2 - θ1 * θ2')\n",
    "ax.set_xlabel('x')\n",
    "ax.set_zlabel('z')\n",
    "ax.set_ylabel('y')\n",
    "plt.show()"
   ]
  },
  {
   "cell_type": "code",
   "execution_count": null,
   "metadata": {
    "collapsed": true
   },
   "outputs": [],
   "source": []
  }
 ],
 "metadata": {
  "kernelspec": {
   "display_name": "Python 3",
   "language": "python",
   "name": "python3"
  },
  "language_info": {
   "codemirror_mode": {
    "name": "ipython",
    "version": 3
   },
   "file_extension": ".py",
   "mimetype": "text/x-python",
   "name": "python",
   "nbconvert_exporter": "python",
   "pygments_lexer": "ipython3",
   "version": "3.6.0"
  }
 },
 "nbformat": 4,
 "nbformat_minor": 2
}
