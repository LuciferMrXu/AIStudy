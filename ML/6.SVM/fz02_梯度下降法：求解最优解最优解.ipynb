{
 "cells": [
  {
   "cell_type": "code",
   "execution_count": 1,
   "metadata": {
    "collapsed": true
   },
   "outputs": [],
   "source": [
    "import numpy as np\n",
    "import matplotlib as mpl\n",
    "import matplotlib.pyplot as plt\n",
    "import math\n",
    "from mpl_toolkits.mplot3d import Axes3D"
   ]
  },
  {
   "cell_type": "code",
   "execution_count": 2,
   "metadata": {
    "collapsed": true
   },
   "outputs": [],
   "source": [
    "# 设置在jupyter中matplotlib的显示情况\n",
    "%matplotlib tk"
   ]
  },
  {
   "cell_type": "code",
   "execution_count": 3,
   "metadata": {
    "collapsed": true
   },
   "outputs": [],
   "source": [
    "# 解决中文显示问题\n",
    "mpl.rcParams['font.sans-serif'] = [u'SimHei']\n",
    "mpl.rcParams['axes.unicode_minus'] = False"
   ]
  },
  {
   "cell_type": "code",
   "execution_count": 4,
   "metadata": {
    "collapsed": false
   },
   "outputs": [
    {
     "name": "stdout",
     "output_type": "stream",
     "text": [
      "最终结果为:(0.25001, 0.00000)\n",
      "迭代过程中X的取值，迭代次数:19\n",
      "[4, 2.125, 1.1875, 0.71875, 0.484375, 0.3671875, 0.30859375, 0.279296875, 0.2646484375, 0.25732421875, 0.253662109375, 0.2518310546875, 0.25091552734375, 0.250457763671875, 0.2502288818359375, 0.25011444091796875, 0.2500572204589844, 0.2500286102294922, 0.2500143051147461, 0.25000715255737305]\n"
     ]
    }
   ],
   "source": [
    "# 一维原始图像\n",
    "def f1(x):\n",
    "    return 0.5 * (x - 0.25) ** 2\n",
    "# 导函数\n",
    "def h1(x):\n",
    "    return 0.5 * 2 * (x - 0.25)\n",
    "\n",
    "# 使用梯度下降法求解\n",
    "GD_X = []\n",
    "GD_Y = []\n",
    "x = 4\n",
    "alpha = 0.5\n",
    "f_change = f1(x)\n",
    "f_current = f_change\n",
    "GD_X.append(x)\n",
    "GD_Y.append(f_current)\n",
    "iter_num = 0\n",
    "while f_change > 1e-10 and iter_num < 100:\n",
    "    iter_num += 1\n",
    "    x = x - alpha * h1(x)\n",
    "    tmp = f1(x)\n",
    "    f_change = np.abs(f_current - tmp)\n",
    "    f_current  = tmp\n",
    "    GD_X.append(x)\n",
    "    GD_Y.append(f_current)\n",
    "print(u\"最终结果为:(%.5f, %.5f)\" % (x, f_current))\n",
    "print(u\"迭代过程中X的取值，迭代次数:%d\" % iter_num)\n",
    "print(GD_X)\n",
    "\n",
    "\n",
    "# 构建数据\n",
    "X = np.arange(-4, 4.5, 0.05)\n",
    "Y = np.array(list(map(lambda t: f1(t), X)))\n",
    "\n",
    "# 画图\n",
    "plt.figure(facecolor='w')\n",
    "plt.plot(X, Y, 'r-', linewidth=2)\n",
    "plt.plot(GD_X, GD_Y, 'bo--', linewidth=2)\n",
    "plt.title(u'函数$y=0.5 * (θ - 0.25)^2$; \\n学习率:%.3f; 最终解:(%.3f, %.3f);迭代次数:%d' % (alpha, x, f_current, iter_num))\n",
    "plt.show()\n"
   ]
  },
  {
   "cell_type": "code",
   "execution_count": 5,
   "metadata": {
    "collapsed": false
   },
   "outputs": [
    {
     "name": "stdout",
     "output_type": "stream",
     "text": [
      "最终结果为:(0.00000, 0.00000, 0.00000)\n",
      "迭代过程中X的取值，迭代次数:12\n",
      "[4, 1.2000000000000002, 0.3600000000000001, 0.10800000000000004, 0.03240000000000001, 0.009720000000000006, 0.002916000000000002, 0.0008748000000000007, 0.0002624400000000003, 7.873200000000009e-05, 2.3619600000000034e-05, 7.0858800000000115e-06, 2.125764000000004e-06]\n"
     ]
    }
   ],
   "source": [
    "# 二维原始图像\n",
    "def f2(x, y):\n",
    "    return 0.6 * (x + y) ** 2 - x * y\n",
    "# 导函数\n",
    "def hx2(x, y):\n",
    "    return 0.6 * 2 * (x + y) - y\n",
    "def hy2(x, y):\n",
    "    return 0.6 * 2 * (x + y) - x\n",
    "\n",
    "# 使用梯度下降法求解\n",
    "GD_X1 = []\n",
    "GD_X2 = []\n",
    "GD_Y = []\n",
    "x1 = 4\n",
    "x2 = 4\n",
    "alpha = 0.5\n",
    "f_change = f2(x1, x2)\n",
    "f_current = f_change\n",
    "GD_X1.append(x1)\n",
    "GD_X2.append(x2)\n",
    "GD_Y.append(f_current)\n",
    "iter_num = 0\n",
    "while f_change > 1e-10 and iter_num < 100:\n",
    "    iter_num += 1\n",
    "    prex1 = x1\n",
    "    prex2 = x2\n",
    "    x1 = x1 - alpha * hx2(prex1, prex2)\n",
    "    x2 = x2 - alpha * hy2(prex1, prex2)\n",
    "    \n",
    "    tmp = f2(x1, x2)\n",
    "    f_change = np.abs(f_current - tmp)\n",
    "    f_current  = tmp\n",
    "    GD_X1.append(x1)\n",
    "    GD_X2.append(x2)\n",
    "    GD_Y.append(f_current)\n",
    "print(u\"最终结果为:(%.5f, %.5f, %.5f)\" % (x1, x2, f_current))\n",
    "print(u\"迭代过程中X的取值，迭代次数:%d\" % iter_num)\n",
    "print(GD_X1)\n",
    "\n",
    "\n",
    "# 构建数据\n",
    "X1 = np.arange(-4, 4.5, 0.2)\n",
    "X2 = np.arange(-4, 4.5, 0.2)\n",
    "X1, X2 = np.meshgrid(X1, X2)\n",
    "Y = np.array(list(map(lambda t: f2(t[0], t[1]), zip(X1.flatten(), X2.flatten()))))\n",
    "Y.shape = X1.shape\n",
    "\n",
    "\n",
    "# 画图\n",
    "fig = plt.figure(facecolor='w')\n",
    "ax = Axes3D(fig)\n",
    "ax.plot_surface(X1, X2, Y, rstride=1, cstride=1, cmap=plt.cm.jet)\n",
    "ax.plot(GD_X1, GD_X2, GD_Y, 'bo--')\n",
    "\n",
    "ax.set_title(u'函数$y=0.6 * (θ1 + θ2)^2 - θ1 * θ2$;\\n学习率:%.3f; 最终解:(%.3f, %.3f, %.3f);迭代次数:%d' % (alpha, x1, x2, f_current, iter_num))\n",
    "plt.show()\n"
   ]
  },
  {
   "cell_type": "code",
   "execution_count": 25,
   "metadata": {
    "collapsed": false
   },
   "outputs": [
    {
     "name": "stdout",
     "output_type": "stream",
     "text": [
      "最终结果为:(-0.26514, 0.23121, 0.01145)\n",
      "迭代过程中X的取值，迭代次数:58\n",
      "[4, 1.2437500000000004, 0.4018281250000001, 0.10764167968750005, -0.020251824511718725, -0.09072903259106443, -0.13665442183532897, -0.1692451675603763, -0.19321986254564413, -0.2111035034347064, -0.22451318574939427, -0.23458748520858907, -0.24216134745348197, -0.2478568516346237, -0.2521402459632734, -0.25536175233244196, -0.25778465207644113, -0.2596069270566862, -0.2609774714894122, -0.2620082671887549, -0.26278353575420116, -0.26336662064597083, -0.2638051628706461, -0.2641349935482922, -0.26438306151128765, -0.26456963516415805, -0.26470995851564694, -0.264815496691451, -0.2648948726929125, -0.2649545719397508, -0.26499947216157443, -0.2650332419329969, -0.2650586404146882, -0.2650777427907201, -0.2650921098215726, -0.26510291536613795, -0.2651110422919135, -0.26511715460972984, -0.2651217517267848, -0.2651252092507311, -0.26512780967871585, -0.2651297654788229, -0.2651312364497865, -0.2651323427773544, -0.2651331748540696, -0.265133800664797, -0.26513427134142975, -0.265134625340623, -0.2651348915858965, -0.26513509183083206, -0.26513524243645115, -0.26513535570799246, -0.2651354409003123, -0.26513550497405297, -0.2651355531643622, -0.26513558940863147, -0.2651356166682003, -0.265135637170313, -0.26513565259009564]\n"
     ]
    }
   ],
   "source": [
    "# 二维原始图像\n",
    "def f2(x, y):\n",
    "    return 0.15 * (x + 0.5) ** 2 + 0.25 * (y  - 0.25) ** 2 + 0.35 * (1.5 * x - 0.2 * y + 0.35 ) ** 2  \n",
    "## 偏函数\n",
    "def hx2(x, y):\n",
    "    return 0.15 * 2 * (x + 0.5) + 0.25 * 2 * (1.5 * x - 0.2 * y + 0.35 ) * 1.5\n",
    "def hy2(x, y):\n",
    "    return 0.25 * 2 * (y  - 0.25) - 0.25 * 2 * (1.5 * x - 0.2 * y + 0.35 ) * 0.2\n",
    "\n",
    "# 使用梯度下降法求解\n",
    "GD_X1 = []\n",
    "GD_X2 = []\n",
    "GD_Y = []\n",
    "x1 = 4\n",
    "x2 = 4\n",
    "alpha = 0.5\n",
    "f_change = f2(x1, x2)\n",
    "f_current = f_change\n",
    "GD_X1.append(x1)\n",
    "GD_X2.append(x2)\n",
    "GD_Y.append(f_current)\n",
    "iter_num = 0\n",
    "while f_change > 1e-10 and iter_num < 100:\n",
    "    iter_num += 1\n",
    "    prex1 = x1\n",
    "    prex2 = x2\n",
    "    x1 = x1 - alpha * hx2(prex1, prex2)\n",
    "    x2 = x2 - alpha * hy2(prex1, prex2)\n",
    "    \n",
    "    tmp = f2(x1, x2)\n",
    "    f_change = np.abs(f_current - tmp)\n",
    "    f_current  = tmp\n",
    "    GD_X1.append(x1)\n",
    "    GD_X2.append(x2)\n",
    "    GD_Y.append(f_current)\n",
    "print(u\"最终结果为:(%.5f, %.5f, %.5f)\" % (x1, x2, f_current))\n",
    "print(u\"迭代过程中X的取值，迭代次数:%d\" % iter_num)\n",
    "print(GD_X1)\n",
    "\n",
    "\n",
    "# 构建数据\n",
    "X1 = np.arange(-4, 4.5, 0.2)\n",
    "X2 = np.arange(-4, 4.5, 0.2)\n",
    "X1, X2 = np.meshgrid(X1, X2)\n",
    "Y = np.array(list(map(lambda t: f2(t[0], t[1]), zip(X1.flatten(), X2.flatten()))))\n",
    "Y.shape = X1.shape\n",
    "\n",
    "\n",
    "# 画图\n",
    "fig = plt.figure(facecolor='w')\n",
    "ax = Axes3D(fig)\n",
    "ax.plot_surface(X1, X2, Y, rstride=1, cstride=1, cmap=plt.cm.jet)\n",
    "ax.plot(GD_X1, GD_X2, GD_Y, 'ko--')\n",
    "ax.set_xlabel('x')\n",
    "ax.set_ylabel('y')\n",
    "ax.set_zlabel('z')\n",
    "\n",
    "ax.set_title(u'函数;\\n学习率:%.3f; 最终解:(%.3f, %.3f, %.3f);迭代次数:%d' % (alpha, x1, x2, f_current, iter_num))\n",
    "plt.show()"
   ]
  },
  {
   "cell_type": "code",
   "execution_count": null,
   "metadata": {
    "collapsed": true
   },
   "outputs": [],
   "source": []
  }
 ],
 "metadata": {
  "kernelspec": {
   "display_name": "Python 3",
   "language": "python",
   "name": "python3"
  },
  "language_info": {
   "codemirror_mode": {
    "name": "ipython",
    "version": 3
   },
   "file_extension": ".py",
   "mimetype": "text/x-python",
   "name": "python",
   "nbconvert_exporter": "python",
   "pygments_lexer": "ipython3",
   "version": "3.6.6"
  }
 },
 "nbformat": 4,
 "nbformat_minor": 2
}
