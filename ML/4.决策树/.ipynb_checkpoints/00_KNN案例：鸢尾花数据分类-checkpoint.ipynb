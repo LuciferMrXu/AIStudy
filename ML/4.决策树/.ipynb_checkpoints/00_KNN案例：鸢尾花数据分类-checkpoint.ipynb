{
 "cells": [
  {
   "cell_type": "code",
   "execution_count": 1,
   "metadata": {
    "collapsed": false
   },
   "outputs": [],
   "source": [
    "import numpy as np\n",
    "import matplotlib as mpl\n",
    "import matplotlib.pyplot as plt\n",
    "import pandas as pd\n",
    "import warnings\n",
    "\n",
    "import sklearn\n",
    "from sklearn.model_selection import train_test_split\n",
    "from sklearn.neighbors import KNeighborsClassifier#KNN\n",
    "from sklearn.preprocessing import label_binarize\n",
    "from sklearn import metrics"
   ]
  },
  {
   "cell_type": "code",
   "execution_count": 2,
   "metadata": {
    "collapsed": false
   },
   "outputs": [],
   "source": [
    "## 设置字符集，防止中文乱码\n",
    "mpl.rcParams['font.sans-serif']=[u'simHei']\n",
    "mpl.rcParams['axes.unicode_minus']=False"
   ]
  },
  {
   "cell_type": "code",
   "execution_count": 3,
   "metadata": {
    "collapsed": false
   },
   "outputs": [
    {
     "data": {
      "text/html": [
       "<div>\n",
       "<table border=\"1\" class=\"dataframe\">\n",
       "  <thead>\n",
       "    <tr style=\"text-align: right;\">\n",
       "      <th></th>\n",
       "      <th>sepal length</th>\n",
       "      <th>sepal width</th>\n",
       "      <th>petal length</th>\n",
       "      <th>petal width</th>\n",
       "      <th>cla</th>\n",
       "    </tr>\n",
       "  </thead>\n",
       "  <tbody>\n",
       "    <tr>\n",
       "      <th>0</th>\n",
       "      <td>5.1</td>\n",
       "      <td>3.5</td>\n",
       "      <td>1.4</td>\n",
       "      <td>0.2</td>\n",
       "      <td>Iris-setosa</td>\n",
       "    </tr>\n",
       "    <tr>\n",
       "      <th>1</th>\n",
       "      <td>4.9</td>\n",
       "      <td>3.0</td>\n",
       "      <td>1.4</td>\n",
       "      <td>0.2</td>\n",
       "      <td>Iris-setosa</td>\n",
       "    </tr>\n",
       "    <tr>\n",
       "      <th>2</th>\n",
       "      <td>4.7</td>\n",
       "      <td>3.2</td>\n",
       "      <td>1.3</td>\n",
       "      <td>0.2</td>\n",
       "      <td>Iris-setosa</td>\n",
       "    </tr>\n",
       "    <tr>\n",
       "      <th>3</th>\n",
       "      <td>4.6</td>\n",
       "      <td>3.1</td>\n",
       "      <td>1.5</td>\n",
       "      <td>0.2</td>\n",
       "      <td>Iris-setosa</td>\n",
       "    </tr>\n",
       "    <tr>\n",
       "      <th>4</th>\n",
       "      <td>5.0</td>\n",
       "      <td>3.6</td>\n",
       "      <td>1.4</td>\n",
       "      <td>0.2</td>\n",
       "      <td>Iris-setosa</td>\n",
       "    </tr>\n",
       "  </tbody>\n",
       "</table>\n",
       "</div>"
      ],
      "text/plain": [
       "   sepal length  sepal width  petal length  petal width          cla\n",
       "0           5.1          3.5           1.4          0.2  Iris-setosa\n",
       "1           4.9          3.0           1.4          0.2  Iris-setosa\n",
       "2           4.7          3.2           1.3          0.2  Iris-setosa\n",
       "3           4.6          3.1           1.5          0.2  Iris-setosa\n",
       "4           5.0          3.6           1.4          0.2  Iris-setosa"
      ]
     },
     "execution_count": 3,
     "metadata": {},
     "output_type": "execute_result"
    }
   ],
   "source": [
    "## 数据加载\n",
    "path = \"datas/iris.data\"\n",
    "names = ['sepal length', 'sepal width', 'petal length', 'petal width', 'cla']\n",
    "df = pd.read_csv(path, header=None, names=names)\n",
    "df['cla'].value_counts()\n",
    "df.head()"
   ]
  },
  {
   "cell_type": "code",
   "execution_count": 4,
   "metadata": {
    "collapsed": true
   },
   "outputs": [],
   "source": [
    "def parseRecord(record):\n",
    "    result=[]\n",
    "    r = zip(names,record)\n",
    "    for name,v in r:\n",
    "        if name == 'cla':\n",
    "            if v == 'Iris-setosa':\n",
    "                result.append(1)\n",
    "            elif v == 'Iris-versicolor':\n",
    "                result.append(2)\n",
    "            elif v == 'Iris-virginica':\n",
    "                result.append(3)\n",
    "            else:\n",
    "                result.append(np.nan)\n",
    "        else:\n",
    "            result.append(float(v))\n",
    "    return result"
   ]
  },
  {
   "cell_type": "code",
   "execution_count": 5,
   "metadata": {
    "collapsed": false
   },
   "outputs": [],
   "source": [
    "### 1. 数据转换为数字以及分割\n",
    "## 数据转换\n",
    "datas = df.apply(lambda r: parseRecord(r), axis=1)\n",
    "## 异常数据删除\n",
    "datas = datas.dropna(how='any')\n",
    "## 数据分割\n",
    "X = datas[names[0:-1]]\n",
    "Y = datas[names[-1]]\n",
    "## 数据抽样(训练数据和测试数据分割)\n",
    "X_train,X_test,Y_train,Y_test = train_test_split(X, Y, test_size=0.4, random_state=0)"
   ]
  },
  {
   "cell_type": "code",
   "execution_count": 6,
   "metadata": {
    "collapsed": false
   },
   "outputs": [
    {
     "name": "stdout",
     "output_type": "stream",
     "text": [
      "原始数据条数:150；训练数据条数:90；特征个数:4；测试样本条数:60\n"
     ]
    }
   ],
   "source": [
    "print (\"原始数据条数:%d；训练数据条数:%d；特征个数:%d；测试样本条数:%d\" % (len(X), len(X_train), X_train.shape[1], X_test.shape[0]))"
   ]
  },
  {
   "cell_type": "code",
   "execution_count": 7,
   "metadata": {
    "collapsed": false
   },
   "outputs": [
    {
     "name": "stdout",
     "output_type": "stream",
     "text": [
      "KNN算法R值： 0.9888888888888889\n",
      "KNN算法AUC值： 0.9700000000000001\n"
     ]
    }
   ],
   "source": [
    "##### KNN算法实现\n",
    "# a. 模型构建\n",
    "# 模型中介绍的K值：n_neighbors\n",
    "knn = KNeighborsClassifier(n_neighbors=3)\n",
    "knn.fit(X_train, Y_train)\n",
    "\n",
    "# b. 模型效果输出\n",
    "## 将正确的数据转换为矩阵形式\n",
    "y_test_hot = label_binarize(Y_test,classes=(1,2,3))\n",
    "## 得到预测属于某个类别的概率值\n",
    "knn_y_score = knn.predict_proba(X_test)\n",
    "## 计算roc的值\n",
    "knn_fpr, knn_tpr, knn_threasholds = metrics.roc_curve(y_test_hot.ravel(),knn_y_score.ravel())\n",
    "## 计算auc的值\n",
    "knn_auc = metrics.auc(knn_fpr, knn_tpr)\n",
    "print (\"KNN算法R值：\", knn.score(X_train, Y_train))\n",
    "print (\"KNN算法AUC值：\", knn_auc)\n",
    "\n",
    "# c. 模型预测\n",
    "knn_y_predict = knn.predict(X_test)"
   ]
  },
  {
   "cell_type": "code",
   "execution_count": 8,
   "metadata": {
    "collapsed": false
   },
   "outputs": [
    {
     "data": {
      "image/png": "[encoded data removed]",
      "text/plain": [
       "<matplotlib.figure.Figure at 0x60ebda74e0>"
      ]
     },
     "metadata": {},
     "output_type": "display_data"
    }
   ],
   "source": [
    "## 画图2：预测结果画图\n",
    "x_test_len = range(len(X_test))\n",
    "plt.figure(figsize=(12, 9), facecolor='w')\n",
    "plt.ylim(0.5,3.5)\n",
    "plt.plot(x_test_len, Y_test, 'ro',markersize = 6, zorder=3, label=u'真实值')\n",
    "plt.plot(x_test_len, knn_y_predict, 'yo', markersize = 16, zorder=1, label=u'KNN算法预测值,$R^2$=%.3f' % knn.score(X_test, Y_test))\n",
    "plt.legend(loc = 'lower right')\n",
    "plt.xlabel(u'数据编号', fontsize=18)\n",
    "plt.ylabel(u'种类', fontsize=18)\n",
    "plt.title(u'鸢尾花数据分类', fontsize=20)\n",
    "plt.show()"
   ]
  },
  {
   "cell_type": "code",
   "execution_count": null,
   "metadata": {
    "collapsed": true
   },
   "outputs": [],
   "source": []
  }
 ],
 "metadata": {
  "anaconda-cloud": {},
  "kernelspec": {
   "display_name": "Python 3",
   "language": "python",
   "name": "python3"
  },
  "language_info": {
   "codemirror_mode": {
    "name": "ipython",
    "version": 3
   },
   "file_extension": ".py",
   "mimetype": "text/x-python",
   "name": "python",
   "nbconvert_exporter": "python",
   "pygments_lexer": "ipython3",
   "version": "3.6.0"
  }
 },
 "nbformat": 4,
 "nbformat_minor": 1
}
