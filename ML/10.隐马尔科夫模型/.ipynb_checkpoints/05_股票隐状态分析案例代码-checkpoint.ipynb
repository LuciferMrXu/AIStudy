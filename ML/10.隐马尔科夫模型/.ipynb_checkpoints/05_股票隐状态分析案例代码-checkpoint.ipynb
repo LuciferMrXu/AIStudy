{
 "cells": [
  {
   "cell_type": "code",
   "execution_count": 52,
   "metadata": {
    "collapsed": true
   },
   "outputs": [],
   "source": [
    "import pickle\n",
    "import numpy as np\n",
    "import matplotlib as mpl\n",
    "from matplotlib import pyplot as plt"
   ]
  },
  {
   "cell_type": "code",
   "execution_count": 53,
   "metadata": {
    "collapsed": false
   },
   "outputs": [],
   "source": [
    "mpl.rcParams['font.sans-serif'] = [u'SimHei']\n",
    "mpl.rcParams['axes.unicode_minus'] = False"
   ]
  },
  {
   "cell_type": "code",
   "execution_count": 54,
   "metadata": {
    "collapsed": false
   },
   "outputs": [
    {
     "name": "stdout",
     "output_type": "stream",
     "text": [
      "样本形状:(1509,)\n",
      "[ 10.12   9.88   9.56 ...,  17.93  18.3   18.2 ]\n"
     ]
    }
   ],
   "source": [
    "# 0. 加载价格（以开盘价进行操作）\n",
    "x = np.loadtxt('SH600000.txt', delimiter='\\t', skiprows=2, usecols=1)\n",
    "buy_price = x[2:]\n",
    "print(\"样本形状:{}\".format(np.shape(buy_price)))\n",
    "print(buy_price)"
   ]
  },
  {
   "cell_type": "code",
   "execution_count": 55,
   "metadata": {
    "collapsed": false
   },
   "outputs": [
    {
     "name": "stdout",
     "output_type": "stream",
     "text": [
      "总状态数目:1509\n"
     ]
    }
   ],
   "source": [
    "# 1. 加载隐状态\n",
    "n = 30\n",
    "states = pickle.load(open('./hmm_states_{}.pkl'.format(n), 'rb'))\n",
    "states = states\n",
    "print(\"总状态数目:{}\".format(len(states)))"
   ]
  },
  {
   "cell_type": "code",
   "execution_count": 56,
   "metadata": {
    "collapsed": true
   },
   "outputs": [],
   "source": [
    "def calc_rate_of_return_by_state(buy_price, buy_infos, initial_capital=100000.0):\n",
    "    \"\"\"\n",
    "    buy_infos: 购买信息，True表示购买，False表示卖出\n",
    "    :param buy_price: 价格信息\n",
    "    :param buy_infos:\n",
    "    :param initial_capital: 初始资本\n",
    "    :return:\n",
    "    \"\"\"\n",
    "    # 资本\n",
    "    capital = initial_capital\n",
    "    # 持有的股本\n",
    "    hold_equity = 0.0\n",
    "\n",
    "    flag = False\n",
    "    for idx, buy_flag in enumerate(buy_infos):\n",
    "        if buy_flag:\n",
    "            # 当需要进行购买操作的时候，两种情况：如果之前就是购买，那就继续持有；否则全部买入\n",
    "            if not flag:\n",
    "                # 买入\n",
    "                hold_equity = 1.0 * capital / buy_price[idx]\n",
    "                flag = True\n",
    "                capital = 0.0\n",
    "        else:\n",
    "            # 当需要进行卖出操作的时候，两种情况：如果之前就是卖出, 那么继续不买入；否则卖出\n",
    "            if flag:\n",
    "                # 卖出\n",
    "                flag = False\n",
    "                capital = hold_equity * buy_price[idx]\n",
    "                hold_equity = 0.0\n",
    "\n",
    "    # 计算最终的金额以及收益率\n",
    "    total_capital = capital + hold_equity * buy_price[-1]\n",
    "    return total_capital, (total_capital - initial_capital) / initial_capital\n"
   ]
  },
  {
   "cell_type": "code",
   "execution_count": 57,
   "metadata": {
    "collapsed": false
   },
   "outputs": [
    {
     "name": "stdout",
     "output_type": "stream",
     "text": [
      "总的状态类别:[ 0  1  2  3  4  5  6  7  8  9 10 11 12 13 14 15 16 17 18 19 20 21 22 23 24\n",
      " 25 26 27 28 29]\n",
      "状态0--最终本金+收益:127798.44679118233, 收益率:0.2779844679118233\n",
      "状态1--最终本金+收益:82407.30384928742, 收益率:-0.1759269615071258\n",
      "状态2--最终本金+收益:99736.53713923767, 收益率:-0.0026346286076233084\n",
      "状态3--最终本金+收益:94335.6926608003, 收益率:-0.05664307339199702\n",
      "状态4--最终本金+收益:110527.44610452547, 收益率:0.10527446104525472\n",
      "状态5--最终本金+收益:154669.91059709628, 收益率:0.5466991059709628\n",
      "状态6--最终本金+收益:98985.17406414285, 收益率:-0.010148259358571523\n",
      "状态7--最终本金+收益:119165.58809142903, 收益率:0.1916558809142903\n",
      "状态8--最终本金+收益:94531.19117381114, 收益率:-0.054688088261888625\n",
      "状态9--最终本金+收益:122520.78199394316, 收益率:0.22520781993943165\n",
      "状态10--最终本金+收益:141041.39196539897, 收益率:0.4104139196539897\n",
      "状态11--最终本金+收益:92853.907198846, 收益率:-0.07146092801153994\n",
      "状态12--最终本金+收益:107366.50861412603, 收益率:0.07366508614126026\n",
      "状态13--最终本金+收益:89991.84174408781, 收益率:-0.10008158255912189\n",
      "状态14--最终本金+收益:91161.8704131345, 收益率:-0.088381295868655\n",
      "状态15--最终本金+收益:104293.75552762882, 收益率:0.04293755527628818\n",
      "状态16--最终本金+收益:104710.68186878983, 收益率:0.04710681868789834\n",
      "状态17--最终本金+收益:92915.97500043637, 收益率:-0.07084024999563626\n",
      "状态18--最终本金+收益:98013.04438962502, 收益率:-0.019869556103749783\n",
      "状态19--最终本金+收益:105786.83686937144, 收益率:0.057868368693714436\n",
      "状态20--最终本金+收益:126506.8091605895, 收益率:0.265068091605895\n",
      "状态21--最终本金+收益:99462.85371096987, 收益率:-0.005371462890301337\n",
      "状态22--最终本金+收益:85327.0556052447, 收益率:-0.14672944394755294\n",
      "状态23--最终本金+收益:99726.15389259378, 收益率:-0.0027384610740622158\n",
      "状态24--最终本金+收益:92836.01527318727, 收益率:-0.07163984726812735\n",
      "状态25--最终本金+收益:81793.25455200575, 收益率:-0.18206745447994255\n",
      "状态26--最终本金+收益:110733.47949893653, 收益率:0.10733479498936532\n",
      "状态27--最终本金+收益:88332.52129673549, 收益率:-0.11667478703264511\n",
      "状态28--最终本金+收益:96247.26744582289, 收益率:-0.037527325541771135\n",
      "状态29--最终本金+收益:83658.0285208798, 收益率:-0.163419714791202\n"
     ]
    }
   ],
   "source": [
    "# 2. 对所有隐状态进行分析（计算各个状态的收益以及收益率）\n",
    "unique_states = np.unique(states)\n",
    "print(\"总的状态类别:{}\".format(unique_states))\n",
    "for state in unique_states:\n",
    "    # 把状态state当做买入信号，其他状态值当做卖出信号，做一个模拟的购买行为，\n",
    "    # 从而得到收益信息 ====> 购买策略 \n",
    "    total_capital, rate_of_return = calc_rate_of_return_by_state(buy_price, states == state)\n",
    "    print(\"状态{}--最终本金+收益:{}, 收益率:{}\".format(state, total_capital, rate_of_return))"
   ]
  },
  {
   "cell_type": "code",
   "execution_count": 58,
   "metadata": {
    "collapsed": false
   },
   "outputs": [
    {
     "name": "stdout",
     "output_type": "stream",
     "text": [
      "总的状态类别:[ 0  1  2  3  4  5  6  7  8  9 10 11 12 13 14 15 16 17 18 19 20 21 22 23 24\n",
      " 25 26 27 28 29]\n",
      "状态0--最终本金+收益:127798.44679118233, 收益率:0.2779844679118233\n",
      "状态1--最终本金+收益:82407.30384928742, 收益率:-0.1759269615071258\n",
      "状态2--最终本金+收益:99736.53713923767, 收益率:-0.0026346286076233084\n",
      "状态3--最终本金+收益:94335.6926608003, 收益率:-0.05664307339199702\n",
      "状态4--最终本金+收益:110527.44610452547, 收益率:0.10527446104525472\n",
      "状态5--最终本金+收益:154669.91059709628, 收益率:0.5466991059709628\n",
      "状态6--最终本金+收益:98985.17406414285, 收益率:-0.010148259358571523\n",
      "状态7--最终本金+收益:119165.58809142903, 收益率:0.1916558809142903\n",
      "状态8--最终本金+收益:94531.19117381114, 收益率:-0.054688088261888625\n",
      "状态9--最终本金+收益:122520.78199394316, 收益率:0.22520781993943165\n",
      "状态10--最终本金+收益:141041.39196539897, 收益率:0.4104139196539897\n",
      "状态11--最终本金+收益:92853.907198846, 收益率:-0.07146092801153994\n",
      "状态12--最终本金+收益:107366.50861412603, 收益率:0.07366508614126026\n",
      "状态13--最终本金+收益:89991.84174408781, 收益率:-0.10008158255912189\n",
      "状态14--最终本金+收益:91161.8704131345, 收益率:-0.088381295868655\n",
      "状态15--最终本金+收益:104293.75552762882, 收益率:0.04293755527628818\n",
      "状态16--最终本金+收益:104710.68186878983, 收益率:0.04710681868789834\n",
      "状态17--最终本金+收益:92915.97500043637, 收益率:-0.07084024999563626\n",
      "状态18--最终本金+收益:98013.04438962502, 收益率:-0.019869556103749783\n",
      "状态19--最终本金+收益:105786.83686937144, 收益率:0.057868368693714436\n",
      "状态20--最终本金+收益:126506.8091605895, 收益率:0.265068091605895\n",
      "状态21--最终本金+收益:99462.85371096987, 收益率:-0.005371462890301337\n",
      "状态22--最终本金+收益:85327.0556052447, 收益率:-0.14672944394755294\n",
      "状态23--最终本金+收益:99726.15389259378, 收益率:-0.0027384610740622158\n",
      "状态24--最终本金+收益:92836.01527318727, 收益率:-0.07163984726812735\n",
      "状态25--最终本金+收益:81793.25455200575, 收益率:-0.18206745447994255\n",
      "状态26--最终本金+收益:110733.47949893653, 收益率:0.10733479498936532\n",
      "状态27--最终本金+收益:88332.52129673549, 收益率:-0.11667478703264511\n",
      "状态28--最终本金+收益:96247.26744582289, 收益率:-0.037527325541771135\n",
      "状态29--最终本金+收益:83658.0285208798, 收益率:-0.163419714791202\n",
      "推荐购买信息为：[0, 4, 5, 7, 9, 10, 12, 15, 16, 19, 20, 26]\n",
      "推荐卖出信息为：[1, 2, 3, 6, 8, 11, 13, 14, 17, 18, 21, 22, 23, 24, 25, 27, 28, 29]\n",
      "推荐波动持有信号为：[]\n"
     ]
    }
   ],
   "source": [
    "# 2. 对所有隐状态进行分析（计算各个状态的收益以及收益率）\n",
    "x = []\n",
    "y = []\n",
    "# 分别存储购买状态、卖出状态、持有状态\n",
    "buy_states = set()\n",
    "sell_states = set()\n",
    "hold_states = set()\n",
    "\n",
    "unique_states = np.unique(states)\n",
    "print(\"总的状态类别:{}\".format(unique_states))\n",
    "for state in unique_states:\n",
    "    total_capital, rate_of_return = calc_rate_of_return_by_state(buy_price, states == state)\n",
    "    print(\"状态{}--最终本金+收益:{}, 收益率:{}\".format(state, total_capital, rate_of_return))\n",
    "    x.append(state)\n",
    "    y.append(rate_of_return)\n",
    "    if rate_of_return > 0.2:\n",
    "        buy_states.add(state)\n",
    "    elif rate_of_return < -0.1:\n",
    "        sell_states.add(state)\n",
    "    else:\n",
    "        hold_states.add(state)\n",
    "\n",
    "buy_states = list(buy_states)\n",
    "sell_states = list(sell_states)\n",
    "hold_states = list(hold_states)\n",
    "print(\"推荐购买信息为：{}\".format(buy_states))\n",
    "print(\"推荐卖出信息为：{}\".format(sell_states))\n",
    "print(\"推荐波动持有信号为：{}\".format(hold_states))"
   ]
  },
  {
   "cell_type": "code",
   "execution_count": 59,
   "metadata": {
    "collapsed": false
   },
   "outputs": [
    {
     "data": {
      "image/png": "[encoded data removed]",
      "text/plain": [
       "<matplotlib.figure.Figure at 0x2b64d675860>"
      ]
     },
     "metadata": {},
     "output_type": "display_data"
    }
   ],
   "source": [
    "# 画柱状图\n",
    "t = list(np.array(range(len(x))) + 0.2)\n",
    "width = 0.6\n",
    "\n",
    "plt.bar(t, y, width=width, label='收益率', fc='r', tick_label=x)\n",
    "plt.legend()\n",
    "plt.show()"
   ]
  },
  {
   "cell_type": "code",
   "execution_count": 60,
   "metadata": {
    "collapsed": false
   },
   "outputs": [
    {
     "name": "stdout",
     "output_type": "stream",
     "text": [
      "使用[0, 4, 5, 7, 9, 10, 12, 15, 16, 19, 20, 26]作为购买信号：781720.2389458375-6.817202389458375\n",
      "使用[1, 2, 3, 6, 8, 11, 13, 14, 17, 18, 21, 22, 23, 24, 25, 27, 28, 29]作为购买信号:23005.915450740005--0.7699408454925999\n",
      "使用[]作为购买信号:100000.0-0.0\n"
     ]
    }
   ],
   "source": [
    "# 分别基于以各种不同信号买入的收益率\n",
    "def calc_rate_of_return_by_state2(buy_price, states, buy_states, initial_capital=100000.0):\n",
    "    # 资本\n",
    "    capital = initial_capital\n",
    "    # 持有的股本\n",
    "    hold_equity = 0.0\n",
    "\n",
    "    flag = False\n",
    "    for idx, state in enumerate(states):\n",
    "        if state in buy_states:\n",
    "            # 当需要进行购买操作的时候，两种情况：如果之前就是购买，那就继续持有；否则全部买入\n",
    "            if not flag:\n",
    "                # 买入\n",
    "                hold_equity = 1.0 * capital / buy_price[idx]\n",
    "                flag = True\n",
    "                capital = 0.0\n",
    "        else:\n",
    "            # 当需要进行卖出操作的时候，两种情况：如果之前就是卖出, 那么继续不买入；否则卖出\n",
    "            if flag:\n",
    "                # 卖出\n",
    "                flag = False\n",
    "                capital = hold_equity * buy_price[idx]\n",
    "                hold_equity = 0.0\n",
    "\n",
    "    # 计算最终的金额以及收益率\n",
    "    total_capital = capital + hold_equity * buy_price[-1]\n",
    "    return total_capital, (total_capital - initial_capital) / initial_capital\n",
    "print(\"使用{}作为购买信号：{}-{}\".format(buy_states, *calc_rate_of_return_by_state2(buy_price, states, buy_states)))\n",
    "print(\"使用{}作为购买信号:{}-{}\".format(sell_states, *calc_rate_of_return_by_state2(buy_price, states, sell_states)))\n",
    "print(\"使用{}作为购买信号:{}-{}\".format(hold_states, *calc_rate_of_return_by_state2(buy_price, states, hold_states)))"
   ]
  },
  {
   "cell_type": "code",
   "execution_count": 61,
   "metadata": {
    "collapsed": false
   },
   "outputs": [
    {
     "name": "stdout",
     "output_type": "stream",
     "text": [
      "最终收益:781720.2389458375-6.817202389458375\n"
     ]
    }
   ],
   "source": [
    "# 计算最终收益率\n",
    "def calc_rate_of_return_by_state3(buy_price, states, buy_states, sell_states, initial_capital=100000.0):\n",
    "    # 资本\n",
    "    capital = initial_capital\n",
    "    # 持有的股本\n",
    "    hold_equity = 0.0\n",
    "\n",
    "    # flag为True表示持有股票，False表示未持有股票\n",
    "    flag = False\n",
    "    for idx, state in enumerate(states):\n",
    "        if state in buy_states:\n",
    "            # 当需要进行购买操作的时候，两种情况：如果之前就是购买，那就继续持有；否则全部买入\n",
    "            if not flag:\n",
    "                # 买入\n",
    "                hold_equity = 1.0 * capital / buy_price[idx]\n",
    "                flag = True\n",
    "                capital = 0.0\n",
    "        elif state in sell_states:\n",
    "            # 当需要进行卖出操作的时候，两种情况：如果之前就是卖出, 那么继续不买入；否则卖出\n",
    "            if flag:\n",
    "                # 卖出\n",
    "                flag = False\n",
    "                capital = hold_equity * buy_price[idx]\n",
    "                hold_equity = 0.0\n",
    "\n",
    "    # 计算最终的金额以及收益率\n",
    "    total_capital = capital + hold_equity * buy_price[-1]\n",
    "    return total_capital, (total_capital - initial_capital) / initial_capital\n",
    "print(\"最终收益:{}-{}\".format(*calc_rate_of_return_by_state3(buy_price, states, buy_states, sell_states)))"
   ]
  },
  {
   "cell_type": "code",
   "execution_count": null,
   "metadata": {
    "collapsed": true
   },
   "outputs": [],
   "source": []
  }
 ],
 "metadata": {
  "kernelspec": {
   "display_name": "Python 3",
   "language": "python",
   "name": "python3"
  },
  "language_info": {
   "codemirror_mode": {
    "name": "ipython",
    "version": 3
   },
   "file_extension": ".py",
   "mimetype": "text/x-python",
   "name": "python",
   "nbconvert_exporter": "python",
   "pygments_lexer": "ipython3",
   "version": "3.6.6"
  }
 },
 "nbformat": 4,
 "nbformat_minor": 2
}
