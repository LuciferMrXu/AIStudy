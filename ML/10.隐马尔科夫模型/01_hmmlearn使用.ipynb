{
 "cells": [
  {
   "cell_type": "markdown",
   "metadata": {},
   "source": [
    "# hmmlearn框架说明\n",
    "\n",
    "hmmlearn中主要有两种模型，分布为：GaussianHMM和MultinomialHMM；如果观测值是连续的，那么建议使用GaussianHMM，否则使用MultinomialHMM；参数：初始的隐藏状态概率π参数为: startprob_；状态转移矩阵A参数为: transmat_; 状态和观测值之间的转移矩阵B参数为: emissionprob_(MultinomialHMM模型中)或者在GaussianHMM模型中直接给定均值(means)和方差/协方差矩阵(covars)。"
   ]
  },
  {
   "cell_type": "code",
   "execution_count": 4,
   "metadata": {},
   "outputs": [
    {
     "ename": "ImportError",
     "evalue": "cannot import name 'distribute_covar_matrix_to_match_covariance_type'",
     "output_type": "error",
     "traceback": [
      "\u001b[1;31m---------------------------------------------------------------------------\u001b[0m",
      "\u001b[1;31mImportError\u001b[0m                               Traceback (most recent call last)",
      "\u001b[1;32m<ipython-input-4-8fb496b87a7f>\u001b[0m in \u001b[0;36m<module>\u001b[1;34m\u001b[0m\n\u001b[0;32m      1\u001b[0m \u001b[1;31m## MultinomialHMM案例\u001b[0m\u001b[1;33m\u001b[0m\u001b[1;33m\u001b[0m\u001b[1;33m\u001b[0m\u001b[0m\n\u001b[0;32m      2\u001b[0m \u001b[1;32mimport\u001b[0m \u001b[0mnumpy\u001b[0m \u001b[1;32mas\u001b[0m \u001b[0mnp\u001b[0m\u001b[1;33m\u001b[0m\u001b[1;33m\u001b[0m\u001b[0m\n\u001b[1;32m----> 3\u001b[1;33m \u001b[1;32mimport\u001b[0m \u001b[0mhmmlearn\u001b[0m\u001b[1;33m.\u001b[0m\u001b[0mhmm\u001b[0m \u001b[1;32mas\u001b[0m \u001b[0mhmm\u001b[0m\u001b[1;33m\u001b[0m\u001b[1;33m\u001b[0m\u001b[0m\n\u001b[0m\u001b[0;32m      4\u001b[0m \u001b[1;33m\u001b[0m\u001b[0m\n\u001b[0;32m      5\u001b[0m \u001b[1;33m\u001b[0m\u001b[0m\n",
      "\u001b[1;32mG:\\py\\anaconda64\\lib\\site-packages\\hmmlearn\\hmm.py\u001b[0m in \u001b[0;36m<module>\u001b[1;34m\u001b[0m\n\u001b[0;32m     14\u001b[0m \u001b[1;32mfrom\u001b[0m \u001b[0mscipy\u001b[0m\u001b[1;33m.\u001b[0m\u001b[0mmisc\u001b[0m \u001b[1;32mimport\u001b[0m \u001b[0mlogsumexp\u001b[0m\u001b[1;33m\u001b[0m\u001b[1;33m\u001b[0m\u001b[0m\n\u001b[0;32m     15\u001b[0m \u001b[1;32mfrom\u001b[0m \u001b[0msklearn\u001b[0m \u001b[1;32mimport\u001b[0m \u001b[0mcluster\u001b[0m\u001b[1;33m\u001b[0m\u001b[1;33m\u001b[0m\u001b[0m\n\u001b[1;32m---> 16\u001b[1;33m from sklearn.mixture import (\n\u001b[0m\u001b[0;32m     17\u001b[0m     \u001b[0mdistribute_covar_matrix_to_match_covariance_type\u001b[0m\u001b[1;33m,\u001b[0m \u001b[0m_validate_covars\u001b[0m\u001b[1;33m\u001b[0m\u001b[1;33m\u001b[0m\u001b[0m\n\u001b[0;32m     18\u001b[0m )\n",
      "\u001b[1;31mImportError\u001b[0m: cannot import name 'distribute_covar_matrix_to_match_covariance_type'"
     ]
    }
   ],
   "source": [
    "## MultinomialHMM案例\n",
    "import numpy as np\n",
    "import hmmlearn.hmm as hmm\n",
    "\n",
    "\n",
    "# 定义变量\n",
    "states = ['盒子1', '盒子2', '盒子3']\n",
    "obs = ['白球', '黑球']\n",
    "n_states = len(states)\n",
    "m_obs = len(obs)\n",
    "start_probability = np.array([0.2, 0.5, 0.3])\n",
    "transition_probability = np.array([\n",
    "    [0.5, 0.4, 0.1],\n",
    "    [0.2, 0.2, 0.6],\n",
    "    [0.2, 0.5, 0.3]\n",
    "])\n",
    "emission_probalitity = np.array([\n",
    "    [0.4, 0.6],\n",
    "    [0.8, 0.2],\n",
    "    [0.5, 0.5]\n",
    "])\n",
    "\n",
    "# 定义模型\n",
    "model = hmm.MultinomialHMM(n_components=n_states)\n",
    "\n",
    "# 模型属性设置，模型的属性要不通过fit来训练训练数据得到，要不直接给定模型参数\n",
    "model.startprob_ = start_probability\n",
    "model.transmat_ = transition_probability\n",
    "model.emissionprob_ = emission_probalitity\n",
    "\n",
    "\n",
    "# 运行viterbi预测的问题\n",
    "se = np.array([\n",
    "    [0, 1, 0, 0, 1] # 白，黑，白，白，黑\n",
    "]).T\n",
    "logprod, box_index = model.decode(se, algorithm='viterbi')\n",
    "print(\"颜色:\", end=\"\")\n",
    "print(\" \".join(map(lambda t: obs[t], [0, 1, 0, 0, 1])))\n",
    "print(\"盒子:\", end=\"\")\n",
    "print(\" \".join(map(lambda t: states[t], box_index)))\n",
    "print(\"概率值:\", end=\"\")\n",
    "print(np.exp(logprod)) # 这个是因为在hmmlearn底层将概率进行了对数化，防止出现乘积为0的情况"
   ]
  },
  {
   "cell_type": "code",
   "execution_count": 8,
   "metadata": {},
   "outputs": [
    {
     "name": "stdout",
     "output_type": "stream",
     "text": [
      "(25, 1)\n",
      "输出根据数据训练出来的π\n",
      "[  2.20057582e-01   7.79942405e-01   1.26182480e-08]\n",
      "输出根据数据训练出来的A\n",
      "[[  4.07750166e-02   2.37630989e-02   9.35461884e-01]\n",
      " [  3.97277636e-01   5.09576499e-04   6.02212788e-01]\n",
      " [  4.46265281e-02   9.31227409e-01   2.41460631e-02]]\n",
      "输出根据数据训练出来的B\n",
      "[[ 0.05543401  0.94456599]\n",
      " [ 0.99499589  0.00500411]\n",
      " [ 0.35467269  0.64532731]]\n",
      "[1 0 2 1 2]\n",
      "颜色:白球 黑球 白球 白球 黑球\n",
      "盒子:状态2 状态1 状态3 状态2 状态3\n",
      "概率值:0.0347913389725\n"
     ]
    }
   ],
   "source": [
    "# 使用MultinomialHMM进行参数的训练\n",
    "import numpy as np\n",
    "import hmmlearn.hmm as hmm\n",
    "\n",
    "model2 = hmm.MultinomialHMM(n_components=3, n_iter=20, tol=0.001, random_state=14)\n",
    "# 给定的任意一个随机一个序列数据集\n",
    "# 备注：序列与序列之间是独立互不相关的\n",
    "X2 = np.array([\n",
    "    [0, 1, 0, 0, 1], # 第一个序列: 白，黑，白，白，黑\n",
    "    [0, 0, 0, 1, 1], # 第二个序列：白，白，白，黑，黑\n",
    "    [1, 1, 0, 1, 0], # 第三个序列：黑，黑，白，黑，白\n",
    "    [0, 1, 0, 1, 1], # 第四个序列：白，黑，白，黑，黑\n",
    "    [0, 0, 0, 1, 0]  # 第五个序列：白，白，白，黑，白\n",
    "])\n",
    "X2 = X2.reshape((-1,1))\n",
    "print(X2.shape)\n",
    "lengths = [5 for i in range(X2.shape[0] // 5)]\n",
    "model2.fit(X2, lengths=lengths)\n",
    "print(\"输出根据数据训练出来的π\")\n",
    "print(model2.startprob_)\n",
    "print(\"输出根据数据训练出来的A\")\n",
    "print(model2.transmat_)\n",
    "print(\"输出根据数据训练出来的B\")\n",
    "print(model2.emissionprob_)\n",
    "\n",
    "# 运行viterbi预测的问题\n",
    "se = np.array([\n",
    "    [0, 1, 0, 0, 1] # 白，黑，白，白，黑\n",
    "]).T\n",
    "print(model2.predict(se))\n",
    "states2 = ['状态1', '状态2', '状态3']\n",
    "logprod, box_index = model2.decode(se, algorithm='viterbi')\n",
    "print(\"颜色:\", end=\"\")\n",
    "print(\" \".join(map(lambda t: obs[t], [0, 1, 0, 0, 1])))\n",
    "print(\"盒子:\", end=\"\")\n",
    "print(\" \".join(map(lambda t: states2[t], box_index)))\n",
    "print(\"概率值:\", end=\"\")\n",
    "print(np.exp(logprod))"
   ]
  },
  {
   "cell_type": "code",
   "execution_count": null,
   "metadata": {
    "collapsed": true
   },
   "outputs": [],
   "source": []
  }
 ],
 "metadata": {
  "kernelspec": {
   "display_name": "Python 3",
   "language": "python",
   "name": "python3"
  },
  "language_info": {
   "codemirror_mode": {
    "name": "ipython",
    "version": 3
   },
   "file_extension": ".py",
   "mimetype": "text/x-python",
   "name": "python",
   "nbconvert_exporter": "python",
   "pygments_lexer": "ipython3",
   "version": "3.6.8"
  }
 },
 "nbformat": 4,
 "nbformat_minor": 2
}
