{
 "cells": [
  {
   "cell_type": "code",
   "execution_count": 88,
   "metadata": {},
   "outputs": [],
   "source": [
    "import numpy as np\n",
    "from numpy import random\n",
    "import math\n",
    "from sklearn.datasets.samples_generator import make_blobs  "
   ]
  },
  {
   "cell_type": "code",
   "execution_count": 92,
   "metadata": {},
   "outputs": [],
   "source": [
    "#初始化三个中心\n",
    "centers = [[1, 1], [-1, -1], [1, -1]] \n",
    "clusters = len(centers)  #聚类的数目为3    \n",
    "#产生3000组二维的数据，中心是意思三个中心点，标准差是.5\n",
    "X, Y = make_blobs(n_samples=300, centers=centers, cluster_std=0.5, random_state=28)  "
   ]
  },
  {
   "cell_type": "code",
   "execution_count": 29,
   "metadata": {},
   "outputs": [],
   "source": [
    "arr = np.array([\n",
    "    [1,2,3],\n",
    "    [2,3,4],\n",
    "    [3,4,5],\n",
    "    [4,5,6],\n",
    "    [4,4,3],\n",
    "    [11,12,13],\n",
    "    [11,11,12],\n",
    "    [14,12,13],\n",
    "    [21,14,15],\n",
    "    [22,21,23]\n",
    "])"
   ]
  },
  {
   "cell_type": "code",
   "execution_count": 30,
   "metadata": {},
   "outputs": [
    {
     "data": {
      "text/plain": [
       "array([9.3, 8.8, 9.7])"
      ]
     },
     "execution_count": 30,
     "metadata": {},
     "output_type": "execute_result"
    }
   ],
   "source": [
    "np.mean(arr,axis=0)"
   ]
  },
  {
   "cell_type": "code",
   "execution_count": 31,
   "metadata": {},
   "outputs": [],
   "source": [
    "#计算欧式距离\n",
    "def euc_distence(x,z):\n",
    "    x = x.ravel()\n",
    "    z = z.ravel()\n",
    "    return np.sqrt(sum(np.power(x-z,2)))"
   ]
  },
  {
   "cell_type": "code",
   "execution_count": 32,
   "metadata": {},
   "outputs": [],
   "source": [
    "#想法1 是把原始数据中的一条数据和中心点传进去，然后返回原始数据分别属于哪些中心点，也就是哪些簇\n",
    "def cluser_center(x, center):\n",
    "    for idx,c in enumerate(center):\n",
    "        if idx == 0:\n",
    "            best_idx = idx\n",
    "            best_distence = euc_distence(x,c)\n",
    "        else:\n",
    "            now_distence = euc_distence(x,c)\n",
    "            if now_distence < best_distence:\n",
    "                best_idx = idx\n",
    "                best_distence = now_distence\n",
    "    return best_idx"
   ]
  },
  {
   "cell_type": "code",
   "execution_count": 74,
   "metadata": {},
   "outputs": [],
   "source": [
    "#想法2 利用分好的簇，计算新得中心点\n",
    "def recount_center(x, cluster_index, k):\n",
    "    new_centers = []\n",
    "    for cluster in range(k):\n",
    "        cluster_data = x[np.array(cluster_index)==cluster]\n",
    "        new_center = np.mean(cluster_data, axis=0)\n",
    "        new_centers.append(new_center)\n",
    "    return new_centers"
   ]
  },
  {
   "cell_type": "code",
   "execution_count": 108,
   "metadata": {},
   "outputs": [],
   "source": [
    "def Kmeans(x, k, max_iter=10):\n",
    "    #选初始点\n",
    "    init_index = random.randint(0,10,k)\n",
    "    init_center = x[init_index]\n",
    "    cluster_indexs = []\n",
    "    cluster_value = []\n",
    "    cluster_value.append(init_center)\n",
    "    for i,iters in enumerate(range(max_iter)):\n",
    "        #print(\"开始第%d轮迭代：\\n\"%i)\n",
    "    #一次迭代的过程\n",
    "        cluster_index = []\n",
    "        for one_data in x:\n",
    "            data_cluster = cluser_center(one_data, cluster_value[i])\n",
    "            cluster_index.append(data_cluster)\n",
    "        new_centers = recount_center(x, cluster_index, k)\n",
    "        cluster_indexs.append(cluster_index)\n",
    "        #print(\"当前轮次的中心点为：\",new_centers)\n",
    "        cluster_value.append(new_centers)\n",
    "        \n",
    "        #停止条件\n",
    "        if i > 0 :\n",
    "            change = []\n",
    "            for c1,c2 in zip(cluster_value[i+1],cluster_value[i]):\n",
    "                change_dist = euc_distence(c1,c2)\n",
    "                change.append(change_dist)\n",
    "            result =  np.mean(change)\n",
    "            if result < 0.1:\n",
    "                break\n",
    "    return cluster_indexs, cluster_value"
   ]
  },
  {
   "cell_type": "code",
   "execution_count": 133,
   "metadata": {},
   "outputs": [
    {
     "data": {
      "text/plain": [
       "0.9533333333333334"
      ]
     },
     "execution_count": 133,
     "metadata": {},
     "output_type": "execute_result"
    }
   ],
   "source": [
    "y_cluster, cluster_center = Kmeans(X,3,100)\n",
    "np.mean(y_cluster[-1] == Y)"
   ]
  },
  {
   "cell_type": "code",
   "execution_count": 105,
   "metadata": {},
   "outputs": [
    {
     "data": {
      "text/plain": [
       "0.35"
      ]
     },
     "execution_count": 105,
     "metadata": {},
     "output_type": "execute_result"
    }
   ],
   "source": []
  },
  {
   "cell_type": "code",
   "execution_count": null,
   "metadata": {},
   "outputs": [],
   "source": []
  },
  {
   "cell_type": "code",
   "execution_count": null,
   "metadata": {},
   "outputs": [],
   "source": []
  }
 ],
 "metadata": {
  "kernelspec": {
   "display_name": "Python 3",
   "language": "python",
   "name": "python3"
  },
  "language_info": {
   "codemirror_mode": {
    "name": "ipython",
    "version": 3
   },
   "file_extension": ".py",
   "mimetype": "text/x-python",
   "name": "python",
   "nbconvert_exporter": "python",
   "pygments_lexer": "ipython3",
   "version": "3.6.8"
  }
 },
 "nbformat": 4,
 "nbformat_minor": 2
}
