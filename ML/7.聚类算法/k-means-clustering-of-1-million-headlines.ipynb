{
 "cells": [
  {
   "cell_type": "markdown",
   "metadata": {
    "_cell_guid": "8b9d6583-6ae1-4bb6-970c-c80d42dfebdb",
    "_uuid": "d56b7961b91d7f67554ec48bd1d2485fb7419120"
   },
   "source": [
    "# 1 数据集信息\n",
    "澳大利亚广播公司 ABC 发布的新闻头条数据"
   ]
  },
  {
   "cell_type": "code",
   "execution_count": 1,
   "metadata": {
    "_cell_guid": "b1076dfc-b9ad-4769-8c92-a6c4dae69d19",
    "_uuid": "8f2839f25d086af736a60e9eeb907d3b93b6e0e5"
   },
   "outputs": [],
   "source": [
    "import numpy as np \n",
    "import pandas as pd \n",
    "import matplotlib.pyplot as plt\n",
    "import seaborn as sns\n",
    "from sklearn.feature_extraction import text\n",
    "from sklearn.feature_extraction.text import TfidfVectorizer\n",
    "from sklearn.cluster import KMeans\n",
    "from nltk.tokenize import RegexpTokenizer\n",
    "from nltk.stem.snowball import SnowballStemmer\n",
    "%matplotlib inline"
   ]
  },
  {
   "cell_type": "code",
   "execution_count": 17,
   "metadata": {
    "_cell_guid": "79c7e3d0-c299-4dcb-8224-4455121ee9b0",
    "_uuid": "d629ff2d2480ee46fbb7e2d37f6b5fab8052498a",
    "scrolled": true
   },
   "outputs": [],
   "source": [
    "# 读取数据集\n",
    "data = pd.read_csv(\"/data/course_data/abcnews-date-text/abcnews-date-text.csv\",error_bad_lines=False,usecols =[\"headline_text\"])\n",
    "data.head()\n",
    "data = data.head(10000)  # 获取部分数据快速运行，你可以尝试修改使用的数据量查看后续的建模效果，不过注意使用的数据越多后续模型训练的时间越长"
   ]
  },
  {
   "cell_type": "code",
   "execution_count": 18,
   "metadata": {
    "_cell_guid": "3e44d856-a323-45ac-b7cc-80d77385060f",
    "_uuid": "a498ee778ab763e0801b8f9cf14e1d4d01f38846"
   },
   "outputs": [
    {
     "name": "stdout",
     "output_type": "stream",
     "text": [
      "<class 'pandas.core.frame.DataFrame'>\n",
      "RangeIndex: 10000 entries, 0 to 9999\n",
      "Data columns (total 1 columns):\n",
      " #   Column         Non-Null Count  Dtype \n",
      "---  ------         --------------  ----- \n",
      " 0   headline_text  10000 non-null  object\n",
      "dtypes: object(1)\n",
      "memory usage: 78.2+ KB\n"
     ]
    }
   ],
   "source": [
    "# 打印数据信息\n",
    "data.info()"
   ]
  },
  {
   "cell_type": "markdown",
   "metadata": {
    "_cell_guid": "ff887c6d-0470-4f62-860b-9457b223bb8c",
    "_uuid": "eb590852f097f66ea53be9a970789430fc3f6a63"
   },
   "source": [
    "## 1.1 删除重复数据"
   ]
  },
  {
   "cell_type": "code",
   "execution_count": 19,
   "metadata": {
    "_cell_guid": "42392880-315c-41bf-98e8-a1cbfab72f6e",
    "_uuid": "1e0143660cbb59acf14ed07c847fd9bc3ca85045"
   },
   "outputs": [
    {
     "data": {
      "text/html": [
       "<div>\n",
       "<style scoped>\n",
       "    .dataframe tbody tr th:only-of-type {\n",
       "        vertical-align: middle;\n",
       "    }\n",
       "\n",
       "    .dataframe tbody tr th {\n",
       "        vertical-align: top;\n",
       "    }\n",
       "\n",
       "    .dataframe thead th {\n",
       "        text-align: right;\n",
       "    }\n",
       "</style>\n",
       "<table border=\"1\" class=\"dataframe\">\n",
       "  <thead>\n",
       "    <tr style=\"text-align: right;\">\n",
       "      <th></th>\n",
       "      <th>headline_text</th>\n",
       "    </tr>\n",
       "  </thead>\n",
       "  <tbody>\n",
       "    <tr>\n",
       "      <th>9253</th>\n",
       "      <td>5 australian sars cases being monitored</td>\n",
       "    </tr>\n",
       "    <tr>\n",
       "      <th>9458</th>\n",
       "      <td>5 australian sars cases being monitored</td>\n",
       "    </tr>\n",
       "    <tr>\n",
       "      <th>6402</th>\n",
       "      <td>all walks of life follow protest path</td>\n",
       "    </tr>\n",
       "    <tr>\n",
       "      <th>6192</th>\n",
       "      <td>all walks of life follow protest path</td>\n",
       "    </tr>\n",
       "    <tr>\n",
       "      <th>6197</th>\n",
       "      <td>asio briefs crean on terrorist risk</td>\n",
       "    </tr>\n",
       "    <tr>\n",
       "      <th>6409</th>\n",
       "      <td>asio briefs crean on terrorist risk</td>\n",
       "    </tr>\n",
       "    <tr>\n",
       "      <th>6609</th>\n",
       "      <td>australia celebrates world cup victory</td>\n",
       "    </tr>\n",
       "    <tr>\n",
       "      <th>6813</th>\n",
       "      <td>australia celebrates world cup victory</td>\n",
       "    </tr>\n",
       "  </tbody>\n",
       "</table>\n",
       "</div>"
      ],
      "text/plain": [
       "                                headline_text\n",
       "9253  5 australian sars cases being monitored\n",
       "9458  5 australian sars cases being monitored\n",
       "6402    all walks of life follow protest path\n",
       "6192    all walks of life follow protest path\n",
       "6197      asio briefs crean on terrorist risk\n",
       "6409      asio briefs crean on terrorist risk\n",
       "6609   australia celebrates world cup victory\n",
       "6813   australia celebrates world cup victory"
      ]
     },
     "execution_count": 19,
     "metadata": {},
     "output_type": "execute_result"
    }
   ],
   "source": [
    "# 查看重复的数据行，pandas.DataFrame.duplicated 使用方法详见：https://pandas.pydata.org/pandas-docs/stable/reference/api/pandas.DataFrame.duplicated.html\n",
    "data[data['headline_text'].duplicated(keep=False)].sort_values('headline_text').head(8)"
   ]
  },
  {
   "cell_type": "code",
   "execution_count": 20,
   "metadata": {
    "_cell_guid": "9f5ff611-397e-45b7-9616-7bc33f6e81bb",
    "_uuid": "4e5e82d7c6fb0e7b14f8b5772bea14e448f88fcc"
   },
   "outputs": [],
   "source": [
    "# 删除重复行，pandas.DataFrame.drop_duplicates 使用方法详见：https://pandas.pydata.org/pandas-docs/stable/reference/api/pandas.DataFrame.drop_duplicates.html\n",
    "########## 第一题 ～ 1行 ##########\n",
    "######### your code #########\n",
    "data.drop_duplicates('headline_text','first',inplace=True)"
   ]
  },
  {
   "cell_type": "markdown",
   "metadata": {
    "_cell_guid": "f1bb8d35-27aa-4ff4-9a39-4329517aa6a4",
    "_uuid": "f022fdf6441499ed52b34c063240f4f28b2ff3a5"
   },
   "source": [
    "# 2 数据预处理 "
   ]
  },
  {
   "cell_type": "markdown",
   "metadata": {
    "_cell_guid": "7ecba7c7-84d0-426b-aa9c-9ca05d45da75",
    "_uuid": "d2f1e1b88fb7b29fd47c249be3af044ef1e2a246"
   },
   "source": [
    "## 2.1 为向量化表示进行前处理\n",
    "进行自然语言处理时，必须将单词转换为机器学习算法可以利用的向量。如果目标是对文本数据进行机器学习建模，例如电影评论或推文或其他任何内容，则需要将文本数据转换为数字。此过程称为“嵌入”或“向量化”。  \n",
    "进行向量化时，请务必记住，它不仅仅是将单个单词变成单个数字。单词可以转换为数字，整个文档就可以转换为向量。向量的维度往往不止一个，而且对于文本数据，向量通常是高维的。这是因为特征数据的每个维度将对应一个单词，而我们所处理的文档通常包含数千个单词。\n",
    "\n",
    "## 2.2 TF-IDF\n",
    "在信息检索中，tf–idf 或 TFIDF（term frequency–inverse document frequency）是一种数值统计，旨在反映单词对语料库中文档的重要性。在信息检索，文本挖掘和用户建模的搜索中，它通常用作加权因子。 tf-idf 值与单词在文档中出现的次数成正比，同时被单词在语料库中的出现频率所抵消，这有助于调整某些单词通常会更频繁出现的事实。 如今，tf-idf是最流行的术语加权方案之一。在数字图书馆领域，有83％的基于文本的推荐系统使用tf-idf。\n",
    "\n",
    "搜索引擎经常使用tf–idf加权方案的变体作为在给定用户查询时对文档相关性进行评分和排名的主要工具。tf–idf可成功用于各种领域的停用词过滤，包括文本摘要和分类。\n",
    "\n",
    "排名函数中最简单的是通过将每个查询词的tf–idf相加得出，许多更复杂的排名函数是此简单模型的变体。"
   ]
  },
  {
   "cell_type": "code",
   "execution_count": 21,
   "metadata": {
    "_cell_guid": "c7e595ab-440c-4ad7-98e4-4358cc724d8c",
    "_uuid": "9c1c23ecabae8217a9aa8f90371f2a30053cc6f1"
   },
   "outputs": [],
   "source": [
    "punc = ['.', ',', '\"', \"'\", '?', '!', ':', ';', '(', ')', '[', ']', '{', '}',\"%\"]\n",
    "stop_words = text.ENGLISH_STOP_WORDS.union(punc)\n",
    "desc = data['headline_text'].values\n",
    "############ 第二题 ～ 1行 ############\n",
    "############ your code start ############\n",
    "# TfidfVectorizer 使用方法详见：http://scikit-learn.org/stable/modules/generated/sklearn.feature_extraction.text.TfidfVectorizer.html\n",
    "vectorizer = TfidfVectorizer(stop_words=stop_words, sublinear_tf = True, max_df = 0.5)\n",
    "############ your code end ############\n",
    "X = vectorizer.fit_transform(desc)"
   ]
  },
  {
   "cell_type": "code",
   "execution_count": 22,
   "metadata": {
    "_cell_guid": "eb56971e-5412-4138-a4cd-0e14844796be",
    "_uuid": "10af64e15e2f08c30da71b847432eedc2aece199"
   },
   "outputs": [
    {
     "name": "stdout",
     "output_type": "stream",
     "text": [
      "9820\n",
      "['later', 'latest', 'latham', 'latif', 'latrobe', 'laughing', 'launceston', 'launch', 'launched', 'launches', 'laundering', 'laureates', 'laureus', 'lavender', 'laverton', 'law', 'lawful', 'lawnmowers', 'laws', 'lawyer', 'lawyers', 'lax', 'lay', 'lazaridis', 'lazio', 'lazios', 'lead', 'leader', 'leaderboard', 'leaders', 'leadership', 'leading', 'leads', 'league', 'leagues', 'leak', 'leaks', 'leaney', 'leap', 'learn', 'learner', 'learning', 'learns', 'lease', 'leases', 'leave', 'leaves', 'leaving', 'lebouc', 'lecturer', 'led', 'lee', 'leeds', 'lees', 'left', 'leg', 'legal', 'legality', 'legend', 'legionella', 'legislation', 'legislative', 'legitimacy', 'lehmann', 'leicester', 'leisel', 'leisure', 'lemon', 'lend', 'length', 'leniency', 'lennox', 'lens', 'lent', 'lenton', 'leonard', 'leone', 'leopards', 'lesbian', 'lessen', 'lester', 'let', 'lethal', 'letter', 'letters', 'letting', 'levee', 'level', 'levels', 'leven', 'leverkusen', 'levy', 'lewdness', 'lewis', 'lewiss', 'lga', 'liability', 'liable', 'liaison', 'lib']\n"
     ]
    }
   ],
   "source": [
    "word_features = vectorizer.get_feature_names()\n",
    "print(len(word_features))\n",
    "print(word_features[5000:5100])"
   ]
  },
  {
   "cell_type": "markdown",
   "metadata": {
    "_cell_guid": "871b1bd6-c411-4ff6-a784-9b376a0db4e6",
    "_uuid": "e480f5b88938660f05c09f75af5f9f58d7110096"
   },
   "source": [
    "## 2.3 Stemming\n",
    "stemming 是将单词还原为词干（即词根形式）的过程。 词根形式不一定是单词本身，而是可以通过连接正确的后缀来生成单词。 例如，“fish”，“fishes”和“fishing”这几个词的词干都是“fish”，这是一个正确的单词。 另一方面，“study”，“studies”和“studying”一词源于“studi”，这不是一个正确的英语单词。\n",
    "\n",
    "## 2.4 Tokenizing\n",
    "Tokenization 将句子分解为单词和标点符号"
   ]
  },
  {
   "cell_type": "code",
   "execution_count": 25,
   "metadata": {
    "_cell_guid": "536a1a88-48a3-43d0-b368-ccf31947e5b1",
    "_uuid": "5d25104db183624b990a1d64e10cc618fd8ee715"
   },
   "outputs": [],
   "source": [
    "stemmer = SnowballStemmer('english')  # SnowballStemmer 使用方法详见： https://www.kite.com/python/docs/nltk.SnowballStemmer\n",
    "tokenizer = RegexpTokenizer(r'[a-zA-Z\\']+')  #  RegexpTokenizer 使用方法详见： https://www.kite.com/python/docs/nltk.RegexpTokenizer\n",
    "\n",
    "def tokenize(text):\n",
    "    \"\"\"先进行 stemming 然后 tokenize\n",
    "    params:\n",
    "    text: 一个句子\n",
    "    \n",
    "    return:\n",
    "    tokens 列表\n",
    "    \"\"\"\n",
    "    ############ 第三题 ～ 1行 （使用列表推导） ############ \n",
    "    ############ your code start ############\n",
    "#     return tokenizer.tokenize(stemmer.stem(text))   \n",
    "    return [stemmer.stem(val) for val in tokenizer.tokenize(text)]\n",
    "    ############ your code end ############"
   ]
  },
  {
   "cell_type": "code",
   "execution_count": 28,
   "metadata": {},
   "outputs": [
    {
     "name": "stderr",
     "output_type": "stream",
     "text": [
      "/opt/conda/lib/python3.7/site-packages/sklearn/feature_extraction/text.py:385: UserWarning: Your stop_words may be inconsistent with your preprocessing. Tokenizing the stop words generated tokens ['abov', 'afterward', 'alon', 'alreadi', 'alway', 'ani', 'anoth', 'anyon', 'anyth', 'anywher', 'becam', 'becaus', 'becom', 'befor', 'besid', 'cri', 'describ', 'dure', 'els', 'elsewher', 'empti', 'everi', 'everyon', 'everyth', 'everywher', 'fifti', 'forti', 'henc', 'hereaft', 'herebi', 'howev', 'hundr', 'inde', 'mani', 'meanwhil', 'moreov', 'nobodi', 'noon', 'noth', 'nowher', 'onc', 'onli', 'otherwis', 'ourselv', 'perhap', 'pleas', 'sever', 'sinc', 'sincer', 'sixti', 'someon', 'someth', 'sometim', 'somewher', 'themselv', 'thenc', 'thereaft', 'therebi', 'therefor', 'togeth', 'twelv', 'twenti', 'veri', 'whatev', 'whenc', 'whenev', 'wherea', 'whereaft', 'wherebi', 'wherev', 'whi', 'yourselv'] not in stop_words.\n",
      "  'stop_words.' % sorted(inconsistent))\n"
     ]
    },
    {
     "name": "stdout",
     "output_type": "stream",
     "text": [
      "6909\n",
      "['aa', 'aac', 'ab', 'aba', 'abalon', 'abandon', 'abar', 'abattoir', 'abbott', 'abc', 'abdic', 'abduct', 'abid', 'abigroup', 'abil', 'abl', 'ablaz', 'aboard', 'abolit', 'aborigin', 'abort', 'abov', 'abreast', 'abroad', 'absenc', 'absent', 'abu', 'abund', 'abus', 'abysm', 'ac', 'aca', 'academ', 'academi', 'acapulco', 'acb', 'accc', 'accent', 'accept', 'access', 'accid', 'accident', 'accommod', 'account', 'accredit', 'accus', 'ace', 'aceh', 'achiev', 'acid']\n"
     ]
    }
   ],
   "source": [
    "vectorizer2 = TfidfVectorizer(stop_words = stop_words, tokenizer = tokenize)\n",
    "X2 = vectorizer2.fit_transform(desc)\n",
    "word_features2 = vectorizer2.get_feature_names()\n",
    "print(len(word_features2))\n",
    "print(word_features2[:50]) "
   ]
  },
  {
   "cell_type": "code",
   "execution_count": 29,
   "metadata": {
    "_cell_guid": "acdc11f4-7b5c-4aee-8c42-1a752bffbc2e",
    "_uuid": "244a3015e5b4f4f84c174586fa875f5cf49cff1d"
   },
   "outputs": [
    {
     "name": "stderr",
     "output_type": "stream",
     "text": [
      "/opt/conda/lib/python3.7/site-packages/sklearn/feature_extraction/text.py:385: UserWarning: Your stop_words may be inconsistent with your preprocessing. Tokenizing the stop words generated tokens ['abov', 'afterward', 'alon', 'alreadi', 'alway', 'ani', 'anoth', 'anyon', 'anyth', 'anywher', 'becam', 'becaus', 'becom', 'befor', 'besid', 'cri', 'describ', 'dure', 'els', 'elsewher', 'empti', 'everi', 'everyon', 'everyth', 'everywher', 'fifti', 'forti', 'henc', 'hereaft', 'herebi', 'howev', 'hundr', 'inde', 'mani', 'meanwhil', 'moreov', 'nobodi', 'noon', 'noth', 'nowher', 'onc', 'onli', 'otherwis', 'ourselv', 'perhap', 'pleas', 'sever', 'sinc', 'sincer', 'sixti', 'someon', 'someth', 'sometim', 'somewher', 'themselv', 'thenc', 'thereaft', 'therebi', 'therefor', 'togeth', 'twelv', 'twenti', 'veri', 'whatev', 'whenc', 'whenev', 'wherea', 'whereaft', 'wherebi', 'wherev', 'whi', 'yourselv'] not in stop_words.\n",
      "  'stop_words.' % sorted(inconsistent))\n"
     ]
    }
   ],
   "source": [
    "vectorizer3 = TfidfVectorizer(stop_words = stop_words, tokenizer = tokenize, max_features = 1000)\n",
    "X3 = vectorizer3.fit_transform(desc)\n",
    "words = vectorizer3.get_feature_names()"
   ]
  },
  {
   "cell_type": "markdown",
   "metadata": {
    "_cell_guid": "e8a8c1ed-8970-49e0-bae5-0e0d85abea84",
    "_uuid": "b5f2e66c25d17527b78ae1a1fe174f1ac6310286"
   },
   "source": [
    "# 3 K-Means 聚类"
   ]
  },
  {
   "cell_type": "markdown",
   "metadata": {
    "_cell_guid": "c9a1312e-45f7-44e4-9407-13012bdf97ce",
    "_uuid": "39ba3fa0f53454111495da2f7e7719572afec93a"
   },
   "source": [
    "## 3.1 使用手肘法选择聚类簇的数量\n",
    "随着聚类数k的增大,样本划分会更加的精细,每个簇的聚合程度会逐渐提高,那么误差平方和SSE自然会逐渐变小,并且当k小于真实的簇类数时,由于k的增大会大幅增加每个簇的聚合程度,因此SSE的下降幅度会很大,而当k到达真实聚类数时,再增加k所得到的聚合程度回报会迅速变小,所以SSE的下降幅度会骤减,然后随着k值的继续增大而趋于平缓,也就是说SSE和k的关系类似于手肘的形状,而这个肘部对应的k值就是数据的真实聚类数.因此这种方法被称为手肘法."
   ]
  },
  {
   "cell_type": "code",
   "execution_count": 30,
   "metadata": {
    "_cell_guid": "c72b26ab-4bef-44e6-b854-5bca3cd1f217",
    "_uuid": "992bea80b2647c4f4e564bb020ce8eab07db6b78",
    "scrolled": true
   },
   "outputs": [
    {
     "data": {
      "image/png": "[encoded data removed]",
      "text/plain": [
       "<Figure size 432x288 with 1 Axes>"
      ]
     },
     "metadata": {
      "needs_background": "light"
     },
     "output_type": "display_data"
    }
   ],
   "source": [
    "from sklearn.cluster import KMeans  # 使用方法详见： http://scikit-learn.org/stable/modules/generated/sklearn.cluster.KMeans.html\n",
    "wcss = []\n",
    "for i in range(1,11):\n",
    "    ############ 第四题 ～ 1行 （初始化 KMeans） ############ \n",
    "    ############ your code start ############     \n",
    "    kmeans = KMeans(n_clusters = i, random_state=0)\n",
    "    ############ your code end ############\n",
    "    kmeans.fit(X3)\n",
    "    wcss.append(kmeans.inertia_)\n",
    "plt.plot(range(1,11),wcss)\n",
    "plt.title('The Elbow Method')\n",
    "plt.xlabel('Number of clusters')\n",
    "plt.ylabel('WCSS')\n",
    "plt.savefig('elbow.png')\n",
    "plt.show()"
   ]
  },
  {
   "cell_type": "markdown",
   "metadata": {
    "_cell_guid": "2dd63611-35d6-4c6e-b076-c10e18a3b10c",
    "_uuid": "d5184cf4e47df719970d89c5ea8e15d4b9eaa1e5"
   },
   "source": [
    "由于可能产生多个肘点，所以有时候不得不通过反复试验来选择合适数量的簇。下面展示不同数量簇的结果，以找出合适数量的簇。"
   ]
  },
  {
   "cell_type": "code",
   "execution_count": 31,
   "metadata": {
    "_cell_guid": "e096b262-a06c-4f0a-9c50-2ef4bda9b926",
    "_uuid": "0ed982322b3a0fecb997e88ef0fb2f681c5a801c",
    "scrolled": false
   },
   "outputs": [
    {
     "name": "stdout",
     "output_type": "stream",
     "text": [
      "['death', 'debat', 'decid', 'decis', 'declar', 'defeat', 'defenc', 'defend', 'delay', 'demand', 'democrat', 'dengu', 'deni', 'dept', 'deputi', 'despit', 'destroy', 'detain', 'develop', 'die', 'differ', 'diplomat', 'disappoint', 'disast', 'discuss', 'dismiss', 'disput', 'divis', 'doctor', 'dog', 'dollar', 'domest', 'dont', 'dope', 'doubl', 'doubt', 'downer', 'draft', 'draw', 'drink', 'drive', 'driver', 'drop', 'drought', 'drug', 'dubai', 'dump', 'dure', 'e', 'earli']\n"
     ]
    }
   ],
   "source": [
    "print(words[250:300])"
   ]
  },
  {
   "cell_type": "markdown",
   "metadata": {
    "_cell_guid": "a3c414e5-70b2-4c63-a46a-f9c82e406e4b",
    "_uuid": "6992f369b10d54adf27ecdcf24c6f57deabf466f"
   },
   "source": [
    "## 3.2 Clusters 等于 3"
   ]
  },
  {
   "cell_type": "code",
   "execution_count": 27,
   "metadata": {
    "_cell_guid": "b395dddc-8acb-40a8-825e-a6f3a615809e",
    "_uuid": "e0e187a022ec9032385f715d87cfbb865a11698d",
    "scrolled": false
   },
   "outputs": [
    {
     "name": "stdout",
     "output_type": "stream",
     "text": [
      "0 : iraq, polic, plan, new, govt, win, say, council, iraqi, claim, warn, report, baghdad, kill, urg, fund, world, water, nsw, troop, death, rain, set, cup, continu\n",
      "1 : man, charg, face, murder, court, polic, stab, jail, death, assault, miss, car, accid, arrest, hospit, u, search, attack, fraud, child, guilti, sex, drug, fatal, offenc\n",
      "2 : war, protest, anti, iraq, howard, ralli, pm, post, say, plan, student, fear, condemn, iraqi, bush, market, thousand, march, downer, warn, deni, start, end, stage, peac\n"
     ]
    }
   ],
   "source": [
    "kmeans = KMeans(n_clusters = 3, n_init = 20, n_jobs = 1) # n_init(number of iterations for clsutering) n_jobs(number of cpu cores to use)\n",
    "kmeans.fit(X3)\n",
    "# We look at 3 the clusters generated by k-means.\n",
    "# argsort 使用方法详见： https://numpy.org/doc/stable/reference/generated/numpy.argsort.html\n",
    "common_words = kmeans.cluster_centers_.argsort()[:,-1:-26:-1]\n",
    "for num, centroid in enumerate(common_words):\n",
    "    print(str(num) + ' : ' + ', '.join(words[word] for word in centroid))"
   ]
  },
  {
   "cell_type": "markdown",
   "metadata": {
    "_cell_guid": "05f80701-83af-49c1-a7b8-df8c20396bb9",
    "_uuid": "4750051c6cbdc6d262f31a94f5c4776eb020644a"
   },
   "source": [
    "## 3.3 Clusters 等于 5"
   ]
  },
  {
   "cell_type": "code",
   "execution_count": 32,
   "metadata": {
    "_cell_guid": "137b7e2c-970f-4f2f-929e-c7b2bd2a8004",
    "_uuid": "2813cee7e61b966b179b806d29b222c55551ee35",
    "scrolled": false
   },
   "outputs": [],
   "source": [
    "############ 第五题 ############ \n",
    "# 重复上面的做法，仅改变聚类簇的数量 (尝试将上述过程封装成一个函数，减少代码的重读性，方便传参调用)\n",
    "def trans_kmeans(k):\n",
    "    kmeans = KMeans(n_clusters = k, n_init = 20, n_jobs = 1) # n_init(number of iterations for clsutering) n_jobs(number of cpu cores to use)\n",
    "    kmeans.fit(X3)\n",
    "    # We look at 3 the clusters generated by k-means.\n",
    "    # argsort 使用方法详见： https://numpy.org/doc/stable/reference/generated/numpy.argsort.html\n",
    "    common_words = kmeans.cluster_centers_.argsort()[:,-1:-26:-1]\n",
    "    for num, centroid in enumerate(common_words):\n",
    "        print(str(num) + ' : ' + ', '.join(words[word] for word in centroid))"
   ]
  },
  {
   "cell_type": "code",
   "execution_count": 33,
   "metadata": {},
   "outputs": [
    {
     "name": "stdout",
     "output_type": "stream",
     "text": [
      "0 : war, polic, protest, anti, probe, arrest, ralli, howard, pm, plan, student, search, death, investig, hous, drug, fear, wa, march, cannabi, station, say, continu, murder, warn\n",
      "1 : man, charg, murder, court, face, polic, stab, jail, miss, death, assault, arrest, u, search, accid, hospit, car, attack, die, plane, injur, fatal, sex, convict, child\n",
      "2 : govt, plan, win, council, iraqi, say, claim, baghdad, warn, report, fund, world, water, kill, urg, nsw, rain, cup, lead, death, set, troop, concern, court, crash\n",
      "3 : iraq, war, say, missil, troop, howard, deni, post, blair, bush, destroy, pm, report, bomb, attack, forc, british, kill, turkey, aid, warn, blix, uk, kuwait, tv\n",
      "4 : new, resolut, plan, hope, appoint, ceo, presid, work, open, look, polic, hit, law, high, rate, compani, govt, wa, hospit, servic, iraq, coach, set, board, tas\n"
     ]
    }
   ],
   "source": [
    "trans_kmeans(5)"
   ]
  },
  {
   "cell_type": "markdown",
   "metadata": {
    "_cell_guid": "e5ab0cdc-1178-486d-a982-3457aa69d234",
    "_uuid": "4faeeea430f9f679a594b2c7f1ef1c857611ade5"
   },
   "source": [
    "## 3.4 Clusters 等于 6"
   ]
  },
  {
   "cell_type": "code",
   "execution_count": 34,
   "metadata": {
    "_cell_guid": "de4d9fbb-2462-4491-899f-b1e28e1a7697",
    "_uuid": "73c1c5bfafe12fd9bd57ab0c3bd07f60630f05a8"
   },
   "outputs": [
    {
     "name": "stdout",
     "output_type": "stream",
     "text": [
      "0 : polic, win, new, council, iraqi, say, claim, warn, baghdad, report, kill, world, death, fund, rain, urg, cup, water, set, lead, continu, crash, hope, nsw, open\n",
      "1 : war, protest, anti, iraq, howard, ralli, pm, post, say, student, fear, condemn, bush, market, thousand, march, downer, iraqi, deni, warn, start, end, stage, peac, open\n",
      "2 : iraq, say, missil, troop, destroy, deni, blair, pm, howard, bomb, report, british, kill, attack, aid, resolut, turkey, blix, kuwait, forc, soldier, coalit, suicid, syria, bush\n",
      "3 : plan, water, shire, council, new, park, manag, protest, firm, begin, group, war, m, welcom, defend, health, green, farmer, station, burn, concern, union, carr, meet, merger\n",
      "4 : govt, vic, nsw, sa, urg, fund, qld, wa, local, consid, claim, reject, fed, nt, tas, opp, say, reform, deni, hospit, plan, defend, review, issu, crean\n",
      "5 : man, charg, face, murder, court, polic, stab, jail, death, assault, miss, car, accid, arrest, hospit, u, search, attack, fraud, child, guilti, sex, drug, fatal, offenc\n"
     ]
    }
   ],
   "source": [
    "# 同上\n",
    "trans_kmeans(6)"
   ]
  },
  {
   "cell_type": "markdown",
   "metadata": {
    "_cell_guid": "bff92434-ec9d-4e6b-a4a2-72ec4ea6f3bc",
    "_uuid": "7225da580975f8589615a8fd5232ba3c80780845"
   },
   "source": [
    "## 3.5 Clusters 等于 8"
   ]
  },
  {
   "cell_type": "code",
   "execution_count": 35,
   "metadata": {
    "_cell_guid": "4134a6d2-09aa-4cf5-9821-d95d0482c4ac",
    "_uuid": "cf3c5af56aa05f6679effe85774207fe824255a1"
   },
   "outputs": [
    {
     "name": "stdout",
     "output_type": "stream",
     "text": [
      "0 : iraq, govt, plan, council, say, claim, warn, report, fund, baghdad, urg, world, kill, nsw, troop, set, water, cup, crash, death, continu, ban, lead, open, concern\n",
      "1 : new, resolut, plan, hope, appoint, ceo, presid, work, open, look, hit, law, polic, high, rate, compani, govt, wa, hospit, servic, iraq, coach, set, board, tas\n",
      "2 : rain, water, drought, farmer, help, boost, bring, need, break, hope, despit, qld, relief, welcom, offer, restrict, eas, fall, suppli, baghdad, good, expect, predict, player, affect\n",
      "3 : man, charg, face, court, murder, stab, jail, assault, death, accid, miss, u, hospit, fraud, child, car, attack, guilti, sex, arrest, offenc, die, plane, rape, teen\n",
      "4 : win, lead, season, fan, m, goal, india, award, open, hope, tiger, championship, world, gold, return, titl, thriller, cup, coast, stage, streak, best, case, celebr, waratah\n",
      "5 : polic, probe, arrest, search, death, investig, man, murder, drug, wa, cannabi, station, fatal, car, miss, victim, stab, protest, road, charg, suspect, driver, nt, corrupt, crash\n",
      "6 : iraqi, diplomat, forc, baghdad, expel, coalit, marin, kill, missil, say, war, civilian, bomb, saddam, surrend, suicid, refuge, troop, attack, claim, border, aid, basra, weapon, tv\n",
      "7 : war, protest, anti, iraq, howard, ralli, pm, post, say, student, plan, fear, condemn, bush, market, thousand, warn, deni, march, downer, start, stage, peac, melbourn, street\n"
     ]
    }
   ],
   "source": [
    "# 同上\n",
    "trans_kmeans(8)"
   ]
  },
  {
   "cell_type": "markdown",
   "metadata": {
    "_cell_guid": "a168498b-1322-4010-b462-596bc0ba186b",
    "_uuid": "4717568e34623b3b88f033670c20f01f7ddd63a6"
   },
   "source": [
    "最后，我们可以根据不同簇数量产生的聚类结果，人工判断哪一个聚类的效果最好"
   ]
  },
  {
   "cell_type": "code",
   "execution_count": null,
   "metadata": {},
   "outputs": [],
   "source": []
  }
 ],
 "metadata": {
  "kernelspec": {
   "display_name": "Python 3",
   "language": "python",
   "name": "python3"
  },
  "language_info": {
   "codemirror_mode": {
    "name": "ipython",
    "version": 3
   },
   "file_extension": ".py",
   "mimetype": "text/x-python",
   "name": "python",
   "nbconvert_exporter": "python",
   "pygments_lexer": "ipython3",
   "version": "3.7.6"
  }
 },
 "nbformat": 4,
 "nbformat_minor": 1
}
