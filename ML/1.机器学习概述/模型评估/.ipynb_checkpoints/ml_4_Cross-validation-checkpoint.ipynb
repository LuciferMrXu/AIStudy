{
 "cells": [
  {
   "cell_type": "code",
   "execution_count": 1,
   "metadata": {},
   "outputs": [
    {
     "name": "stdout",
     "output_type": "stream",
     "text": [
      "        gpa         gre  actual_label\n",
      "0  3.177277  594.102992             0\n",
      "1  3.412655  631.528607             0\n",
      "2  2.728097  553.714399             0\n",
      "3  3.093559  551.089985             0\n",
      "4  3.141923  537.184894             0\n"
     ]
    }
   ],
   "source": [
    "import pandas as pd\n",
    "from sklearn.linear_model import LogisticRegression\n",
    "\n",
    "admissions = pd.read_csv(\"admissions.csv\")\n",
    "admissions[\"actual_label\"] = admissions[\"admit\"]\n",
    "admissions = admissions.drop(\"admit\", axis=1)\n",
    "\n",
    "print(admissions.head())"
   ]
  },
  {
   "cell_type": "code",
   "execution_count": 2,
   "metadata": {},
   "outputs": [
    {
     "name": "stdout",
     "output_type": "stream",
     "text": [
      "[260 173 256 167 400 415 111 428 312 516 481 264 424 208 308 213 603 467\n",
      " 612 557 502  92  66 219  78  25 430 545  18 358 413 185  30 344 464 596\n",
      " 561 623 158 582 374  64 228 446 478 431 445 125 402 109 437 543 298 196\n",
      " 554  89  41 472 159 574  50 453 507 207 553 294 131 163 501 414 235   0\n",
      " 246 560 504  80 370  74 581 186  58 149 348 544 443 130  27 126  22 286\n",
      " 591 165 313 477 311 278 194 614 188 182 500  63 181 485 397 468 498 350\n",
      " 637 438 631  56  32 601 107 520 392 210 157  16 223 599 436 353   5 108\n",
      " 151 622 281 526 617 469  12   8 175  84 642 162 250 253 638 377 306 302\n",
      " 542 539 484 371 433 200 490 566 538 122 462 346 338  83  91 276 379 233\n",
      " 303 407 195 395 272 595 606 408 204 366 289 335 515 449 521 411 541 265\n",
      " 511 537 292 103 459 524 587 146 119 279  35 245 320 240 190 619 287 176\n",
      " 342 334 224 295 590  71  96 284 364 290 488 579 583 282 300 584 274 551\n",
      " 627  53 387 427 497   3 518 244 332 134  15  68  73  44  33 618 180 234\n",
      "  97 608 263  55 630 594 319 127 183  59 331 577 461 273 230 120 389 401\n",
      "   4 367 100 227  37  72 409 383  43 129 154 486 640 475 251 238 254 633\n",
      " 266 626  95 368 444  67 512 509 153  11 398 239 166 318 610  87  49 406\n",
      " 522 211 314 309 536 307 607 547  13 345 197  17 592 505 506 503 141 404\n",
      " 243 225 391 588 328 572  36  79  24  65 114 352 222 420 258 177 499 495\n",
      " 517 231 529 597 325 369 296 365 104 549 179  45 191 135 202 487 641 333\n",
      " 156 492 531 255 329  40 508 155 546 317 372  99  69 593 288 259 168 247\n",
      " 632 249 384  70 643 635 611 316 573 624 124  90 534 110 556 567 138 479\n",
      " 525 471 193 421 137 455 356 568  52 510  88 586 189  34  60 301 291 221\n",
      " 201  94 386 187  29 132   1 523  93 580 496 113 242 327 441 241 203 218\n",
      " 268 405 439  21 237  62  26 388  77 139 229 385 535 558 576 615 305 639\n",
      "  23 425 171 262 578 343 336  42 106 212 604  51 514 299 142 489 399  38\n",
      " 339  82 552 116 625 482 257 429 359 261 148 390 128  86 145 621 164 277\n",
      " 416 216 236  57 232 198 321 417 636  76  39 435 513 373 209 448 540 571\n",
      " 480 564  47 275 457 337 465 283 470 396 178 569 442 330 460 474 570 562\n",
      " 565 355 634 285 378 101 362 323 532 172 609 117 121 214 452 447 324 252\n",
      " 432 403 326 357 271 434  10  54 600 585 628 140 602 205  14 297 463 152\n",
      " 280 589 184 192 419 341 613 150 418 519 454 493 161 144 169 605 527 555\n",
      " 380 375 616 147 473 456 220 174 267  75 483 412   6 226 215  98 248 105\n",
      " 118 206 112 528 304  19 426 393 382   7 160 351  46 423 310 550 466 450\n",
      " 363 293 217 376 123 548 199 422   2 394 559  28 533  20  31 598 575 491\n",
      " 347 476  81 494 381   9 322 410 170 563 440 629 102 270 530 315 354 349\n",
      " 143  61 269 620 458 115  85  48 360 136 133 361 340 451]\n",
      "          gpa         gre  actual_label\n",
      "260  3.414036  577.665610             0\n",
      "173  2.932147  564.798764             0\n",
      "256  2.674040  599.895858             0\n",
      "167  2.923581  622.524665             0\n",
      "400  3.414376  704.934217             1\n"
     ]
    }
   ],
   "source": [
    "import numpy as np\n",
    "np.random.seed(8)\n",
    "admissions = pd.read_csv(\"admissions.csv\")\n",
    "admissions[\"actual_label\"] = admissions[\"admit\"]\n",
    "admissions = admissions.drop(\"admit\", axis=1)\n",
    "shuffled_index = np.random.permutation(admissions.index)\n",
    "print(shuffled_index)  # 打乱数据顺序（洗牌操作），消除数据顺序的影响\n",
    "shuffled_admissions = admissions.loc[shuffled_index]\n",
    "\n",
    "train = shuffled_admissions.iloc[0:515]  # 训练集\n",
    "test = shuffled_admissions.iloc[515:len(shuffled_admissions)]  # 测试集\n",
    "\n",
    "print(shuffled_admissions.head())"
   ]
  },
  {
   "cell_type": "code",
   "execution_count": 19,
   "metadata": {},
   "outputs": [
    {
     "name": "stdout",
     "output_type": "stream",
     "text": [
      "0.5891472868217055\n"
     ]
    },
    {
     "name": "stderr",
     "output_type": "stream",
     "text": [
      "G:\\py\\anaconda64\\lib\\site-packages\\ipykernel_launcher.py:9: SettingWithCopyWarning: \n",
      "A value is trying to be set on a copy of a slice from a DataFrame.\n",
      "Try using .loc[row_indexer,col_indexer] = value instead\n",
      "\n",
      "See the caveats in the documentation: http://pandas.pydata.org/pandas-docs/stable/indexing.html#indexing-view-versus-copy\n",
      "  if __name__ == '__main__':\n"
     ]
    }
   ],
   "source": [
    "shuffled_index = np.random.permutation(admissions.index)\n",
    "shuffled_admissions = admissions.loc[shuffled_index]\n",
    "train = shuffled_admissions.iloc[0:515]\n",
    "test = shuffled_admissions.iloc[515:len(shuffled_admissions)]\n",
    "model = LogisticRegression()\n",
    "model.fit(train[[\"gpa\"]], train[\"actual_label\"])\n",
    "\n",
    "labels = model.predict(test[[\"gpa\"]])\n",
    "test[\"predicted_label\"] = labels\n",
    "\n",
    "matches = test[\"predicted_label\"] == test[\"actual_label\"]\n",
    "correct_predictions = test[matches]\n",
    "accuracy = len(correct_predictions) / float(len(test))\n",
    "print(accuracy)"
   ]
  },
  {
   "cell_type": "code",
   "execution_count": 20,
   "metadata": {},
   "outputs": [
    {
     "name": "stdout",
     "output_type": "stream",
     "text": [
      "0.07017543859649122\n",
      "1.0\n"
     ]
    },
    {
     "name": "stderr",
     "output_type": "stream",
     "text": [
      "G:\\py\\anaconda64\\lib\\site-packages\\ipykernel_launcher.py:4: SettingWithCopyWarning: \n",
      "A value is trying to be set on a copy of a slice from a DataFrame.\n",
      "Try using .loc[row_indexer,col_indexer] = value instead\n",
      "\n",
      "See the caveats in the documentation: http://pandas.pydata.org/pandas-docs/stable/indexing.html#indexing-view-versus-copy\n",
      "  after removing the cwd from sys.path.\n"
     ]
    }
   ],
   "source": [
    "model = LogisticRegression()\n",
    "model.fit(train[[\"gpa\"]], train[\"actual_label\"])\n",
    "labels = model.predict(test[[\"gpa\"]])\n",
    "test[\"predicted_label\"] = labels\n",
    "matches = test[\"predicted_label\"] == test[\"actual_label\"]\n",
    "correct_predictions = test[matches]\n",
    "accuracy = len(correct_predictions) / len(test)\n",
    "true_positive_filter = (test[\"predicted_label\"] == 1) & (test[\"actual_label\"] == 1)\n",
    "true_positives = len(test[true_positive_filter])\n",
    "false_negative_filter = (test[\"predicted_label\"] == 0) & (test[\"actual_label\"] == 1)\n",
    "false_negatives = len(test[false_negative_filter])\n",
    "\n",
    "sensitivity = true_positives / float((true_positives + false_negatives))\n",
    "print(sensitivity)  #召回率\n",
    "\n",
    "false_positive_filter = (test[\"predicted_label\"] == 1) & (test[\"actual_label\"] == 0)\n",
    "false_positives = len(test[false_positive_filter])\n",
    "true_negative_filter = (test[\"predicted_label\"] == 0) & (test[\"actual_label\"] == 0)\n",
    "true_negatives = len(test[true_negative_filter])\n",
    "\n",
    "specificity = (true_negatives) / float((false_positives + true_negatives))\n",
    "print(specificity)  #模型负例效果"
   ]
  },
  {
   "cell_type": "code",
   "execution_count": 21,
   "metadata": {},
   "outputs": [
    {
     "name": "stdout",
     "output_type": "stream",
     "text": [
      "[0.54526109 0.48877276 0.48255715 0.47603476 0.47466828 0.47249329\n",
      " 0.47103359 0.45859737 0.45697535 0.44310708 0.43580339 0.43574586\n",
      " 0.4356853  0.43281099 0.43123384 0.4276945  0.4248148  0.41752896\n",
      " 0.4164865  0.41373407 0.40321257 0.40007769 0.38789216 0.38713678\n",
      " 0.38398936 0.38363281 0.37755361 0.37537904 0.36197187 0.36093747\n",
      " 0.35761348 0.35620014 0.35447649 0.3493617  0.34723194 0.34086756\n",
      " 0.33966695 0.33947143 0.33686974 0.33448981 0.33318293 0.33130644\n",
      " 0.33080477 0.32598283 0.32054335 0.31994584 0.3145485  0.30824709\n",
      " 0.30577189 0.30209881 0.29841816 0.29661829 0.29211744 0.28637148\n",
      " 0.22349228 0.22316419 0.21952678]\n"
     ]
    },
    {
     "data": {
      "image/png": "[encoded data removed]",
      "text/plain": [
       "<Figure size 432x288 with 1 Axes>"
      ]
     },
     "metadata": {},
     "output_type": "display_data"
    }
   ],
   "source": [
    "import matplotlib.pyplot as plt\n",
    "from sklearn import metrics\n",
    "\n",
    "probabilities = model.predict_proba(test[[\"gpa\"]])\n",
    "fpr, tpr, thresholds = metrics.roc_curve(test[\"actual_label\"], probabilities[:,1])# 填标签值和预测后的概率值\n",
    "print(thresholds) \n",
    "plt.figure()\n",
    "plt.plot(fpr, tpr)\n",
    "plt.show()"
   ]
  },
  {
   "cell_type": "code",
   "execution_count": 23,
   "metadata": {},
   "outputs": [
    {
     "name": "stdout",
     "output_type": "stream",
     "text": [
      "0.6652046783625731\n"
     ]
    }
   ],
   "source": [
    "from sklearn.metrics import roc_auc_score\n",
    "probabilities = model.predict_proba(test[[\"gpa\"]])\n",
    "\n",
    "# 将roc曲线的面积转化成0-1的score值\n",
    "auc_score = roc_auc_score(test[\"actual_label\"], probabilities[:,1])\n",
    "print(auc_score)"
   ]
  },
  {
   "cell_type": "code",
   "execution_count": null,
   "metadata": {
    "collapsed": true
   },
   "outputs": [],
   "source": []
  }
 ],
 "metadata": {
  "kernelspec": {
   "display_name": "Python 3",
   "language": "python",
   "name": "python3"
  },
  "language_info": {
   "codemirror_mode": {
    "name": "ipython",
    "version": 3
   },
   "file_extension": ".py",
   "mimetype": "text/x-python",
   "name": "python",
   "nbconvert_exporter": "python",
   "pygments_lexer": "ipython3",
   "version": "3.6.5"
  }
 },
 "nbformat": 4,
 "nbformat_minor": 1
}
