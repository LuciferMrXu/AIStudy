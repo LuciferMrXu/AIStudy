{
 "cells": [
  {
   "cell_type": "code",
   "execution_count": 1,
   "metadata": {},
   "outputs": [],
   "source": [
    "from sklearn.preprocessing import OneHotEncoder\n",
    "import pandas as pd\n"
   ]
  },
  {
   "cell_type": "code",
   "execution_count": 10,
   "metadata": {},
   "outputs": [
    {
     "name": "stdout",
     "output_type": "stream",
     "text": [
      "   x2  x1_a  x1_b\n",
      "0   1     1     0\n",
      "1   2     0     1\n",
      "2   1     1     0\n",
      "3   2     0     1\n",
      "  (0, 4)\t1.0\n",
      "  (0, 3)\t1.0\n",
      "  (0, 0)\t1.0\n",
      "  (1, 5)\t1.0\n",
      "  (1, 2)\t1.0\n",
      "  (1, 1)\t1.0\n",
      "  (2, 4)\t1.0\n",
      "  (2, 3)\t1.0\n",
      "  (2, 0)\t1.0\n",
      "  (3, 5)\t1.0\n",
      "  (3, 2)\t1.0\n",
      "  (3, 1)\t1.0\n"
     ]
    },
    {
     "data": {
      "text/plain": [
       "array([[1., 0., 0., 1., 1., 0.],\n",
       "       [0., 1., 1., 0., 0., 1.],\n",
       "       [1., 0., 0., 1., 1., 0.],\n",
       "       [0., 1., 1., 0., 0., 1.]])"
      ]
     },
     "execution_count": 10,
     "metadata": {},
     "output_type": "execute_result"
    }
   ],
   "source": [
    "a=pd.DataFrame({\n",
    "    'x1':['a','b','a','b'],  \n",
    "    'x2':[1,2,1,2]\n",
    "})\n",
    "a_train=pd.get_dummies(a)      # onehot不能直接对字符型进行编码，需要先转换成数字\n",
    "print(a_train)\n",
    "onehot=OneHotEncoder()\n",
    "algo=onehot.fit_transform(a_train)\n",
    "print(algo)\n",
    "algo.toarray()"
   ]
  },
  {
   "cell_type": "code",
   "execution_count": 13,
   "metadata": {},
   "outputs": [
    {
     "name": "stdout",
     "output_type": "stream",
     "text": [
      "   x1_a  x1_b  x2_1  x2_2\n",
      "0     1     0     1     0\n",
      "1     0     1     0     1\n",
      "2     1     0     1     0\n",
      "3     0     1     0     1\n"
     ]
    }
   ],
   "source": [
    "# get_dummies只能转字符型，如果数字分类，也要做哑编码，需要先把int类型转成object\n",
    "a['x2']=a['x2'].astype('O')\n",
    "a_train=pd.get_dummies(a)\n",
    "print(a_train)"
   ]
  },
  {
   "cell_type": "code",
   "execution_count": null,
   "metadata": {},
   "outputs": [],
   "source": [
    "'''\n",
    "    对离散和连续结合数据数据做完哑编码后一般选择归一化，不做标准化。\n",
    "    此时连续数据放缩到0-1之间，离散数据无影响\n",
    "'''"
   ]
  }
 ],
 "metadata": {
  "kernelspec": {
   "display_name": "Python 3",
   "language": "python",
   "name": "python3"
  },
  "language_info": {
   "codemirror_mode": {
    "name": "ipython",
    "version": 3
   },
   "file_extension": ".py",
   "mimetype": "text/x-python",
   "name": "python",
   "nbconvert_exporter": "python",
   "pygments_lexer": "ipython3",
   "version": "3.6.5"
  }
 },
 "nbformat": 4,
 "nbformat_minor": 2
}
