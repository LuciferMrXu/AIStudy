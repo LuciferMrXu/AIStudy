{
 "cells": [
  {
   "cell_type": "code",
   "execution_count": 1,
   "metadata": {},
   "outputs": [],
   "source": [
    "import numpy as np\n",
    "import matplotlib as mpl\n",
    "import matplotlib.pyplot as plt\n",
    "import pandas as pd\n",
    "import warnings\n",
    "import sklearn\n",
    "from sklearn.linear_model import LogisticRegressionCV\n",
    "from sklearn.linear_model.coordinate_descent import ConvergenceWarning\n",
    "from sklearn.model_selection import train_test_split\n",
    "from sklearn.preprocessing import StandardScaler\n",
    "from sklearn.preprocessing import MinMaxScaler\n",
    "from sklearn.preprocessing import label_binarize\n",
    "from sklearn import metrics"
   ]
  },
  {
   "cell_type": "code",
   "execution_count": 2,
   "metadata": {},
   "outputs": [],
   "source": [
    "## 设置字符集，防止中文乱码\n",
    "mpl.rcParams['font.sans-serif']=[u'simHei']\n",
    "mpl.rcParams['axes.unicode_minus']=False\n",
    "## 拦截异常\n",
    "warnings.filterwarnings(action = 'ignore', category=ConvergenceWarning)"
   ]
  },
  {
   "cell_type": "code",
   "execution_count": 3,
   "metadata": {},
   "outputs": [
    {
     "data": {
      "text/html": [
       "<div>\n",
       "<style scoped>\n",
       "    .dataframe tbody tr th:only-of-type {\n",
       "        vertical-align: middle;\n",
       "    }\n",
       "\n",
       "    .dataframe tbody tr th {\n",
       "        vertical-align: top;\n",
       "    }\n",
       "\n",
       "    .dataframe thead th {\n",
       "        text-align: right;\n",
       "    }\n",
       "</style>\n",
       "<table border=\"1\" class=\"dataframe\">\n",
       "  <thead>\n",
       "    <tr style=\"text-align: right;\">\n",
       "      <th></th>\n",
       "      <th>fixed acidity</th>\n",
       "      <th>volatile acidity</th>\n",
       "      <th>citric acid</th>\n",
       "      <th>residual sugar</th>\n",
       "      <th>chlorides</th>\n",
       "      <th>free sulfur dioxide</th>\n",
       "      <th>total sulfur dioxide</th>\n",
       "      <th>density</th>\n",
       "      <th>pH</th>\n",
       "      <th>sulphates</th>\n",
       "      <th>alcohol</th>\n",
       "      <th>quality</th>\n",
       "      <th>type</th>\n",
       "    </tr>\n",
       "  </thead>\n",
       "  <tbody>\n",
       "    <tr>\n",
       "      <th>0</th>\n",
       "      <td>7.4</td>\n",
       "      <td>0.70</td>\n",
       "      <td>0.00</td>\n",
       "      <td>1.9</td>\n",
       "      <td>0.076</td>\n",
       "      <td>11.0</td>\n",
       "      <td>34.0</td>\n",
       "      <td>0.9978</td>\n",
       "      <td>3.51</td>\n",
       "      <td>0.56</td>\n",
       "      <td>9.4</td>\n",
       "      <td>5</td>\n",
       "      <td>1</td>\n",
       "    </tr>\n",
       "    <tr>\n",
       "      <th>1</th>\n",
       "      <td>7.8</td>\n",
       "      <td>0.88</td>\n",
       "      <td>0.00</td>\n",
       "      <td>2.6</td>\n",
       "      <td>0.098</td>\n",
       "      <td>25.0</td>\n",
       "      <td>67.0</td>\n",
       "      <td>0.9968</td>\n",
       "      <td>3.20</td>\n",
       "      <td>0.68</td>\n",
       "      <td>9.8</td>\n",
       "      <td>5</td>\n",
       "      <td>1</td>\n",
       "    </tr>\n",
       "    <tr>\n",
       "      <th>2</th>\n",
       "      <td>7.8</td>\n",
       "      <td>0.76</td>\n",
       "      <td>0.04</td>\n",
       "      <td>2.3</td>\n",
       "      <td>0.092</td>\n",
       "      <td>15.0</td>\n",
       "      <td>54.0</td>\n",
       "      <td>0.9970</td>\n",
       "      <td>3.26</td>\n",
       "      <td>0.65</td>\n",
       "      <td>9.8</td>\n",
       "      <td>5</td>\n",
       "      <td>1</td>\n",
       "    </tr>\n",
       "    <tr>\n",
       "      <th>3</th>\n",
       "      <td>11.2</td>\n",
       "      <td>0.28</td>\n",
       "      <td>0.56</td>\n",
       "      <td>1.9</td>\n",
       "      <td>0.075</td>\n",
       "      <td>17.0</td>\n",
       "      <td>60.0</td>\n",
       "      <td>0.9980</td>\n",
       "      <td>3.16</td>\n",
       "      <td>0.58</td>\n",
       "      <td>9.8</td>\n",
       "      <td>6</td>\n",
       "      <td>1</td>\n",
       "    </tr>\n",
       "    <tr>\n",
       "      <th>4</th>\n",
       "      <td>7.4</td>\n",
       "      <td>0.70</td>\n",
       "      <td>0.00</td>\n",
       "      <td>1.9</td>\n",
       "      <td>0.076</td>\n",
       "      <td>11.0</td>\n",
       "      <td>34.0</td>\n",
       "      <td>0.9978</td>\n",
       "      <td>3.51</td>\n",
       "      <td>0.56</td>\n",
       "      <td>9.4</td>\n",
       "      <td>5</td>\n",
       "      <td>1</td>\n",
       "    </tr>\n",
       "  </tbody>\n",
       "</table>\n",
       "</div>"
      ],
      "text/plain": [
       "   fixed acidity  volatile acidity  citric acid  residual sugar  chlorides  \\\n",
       "0            7.4              0.70         0.00             1.9      0.076   \n",
       "1            7.8              0.88         0.00             2.6      0.098   \n",
       "2            7.8              0.76         0.04             2.3      0.092   \n",
       "3           11.2              0.28         0.56             1.9      0.075   \n",
       "4            7.4              0.70         0.00             1.9      0.076   \n",
       "\n",
       "   free sulfur dioxide  total sulfur dioxide  density    pH  sulphates  \\\n",
       "0                 11.0                  34.0   0.9978  3.51       0.56   \n",
       "1                 25.0                  67.0   0.9968  3.20       0.68   \n",
       "2                 15.0                  54.0   0.9970  3.26       0.65   \n",
       "3                 17.0                  60.0   0.9980  3.16       0.58   \n",
       "4                 11.0                  34.0   0.9978  3.51       0.56   \n",
       "\n",
       "   alcohol  quality  type  \n",
       "0      9.4        5     1  \n",
       "1      9.8        5     1  \n",
       "2      9.8        5     1  \n",
       "3      9.8        6     1  \n",
       "4      9.4        5     1  "
      ]
     },
     "execution_count": 3,
     "metadata": {},
     "output_type": "execute_result"
    }
   ],
   "source": [
    "## 读取数据\n",
    "path1 = \"datas/winequality-red.csv\"\n",
    "df1 = pd.read_csv(path1, sep=\";\")\n",
    "df1['type'] = 1 # 设置数据类型为红葡萄酒\n",
    "\n",
    "path2 = \"datas/winequality-white.csv\"\n",
    "df2 = pd.read_csv(path2, sep=\";\")\n",
    "df2['type'] = 2 # 设置数据类型为白葡萄酒\n",
    "\n",
    "# 合并两个df\n",
    "df = pd.concat([df1,df2], axis=0)\n",
    "\n",
    "## 自变量名称\n",
    "names = [\"fixed acidity\",\"volatile acidity\",\"citric acid\",\n",
    "         \"residual sugar\",\"chlorides\",\"free sulfur dioxide\",\n",
    "         \"total sulfur dioxide\",\"density\",\"pH\",\"sulphates\",\n",
    "         \"alcohol\", \"type\"]\n",
    "## 因变量名称\n",
    "quality = \"quality\"\n",
    "\n",
    "## 显示\n",
    "df.head(5)\n"
   ]
  },
  {
   "cell_type": "code",
   "execution_count": 4,
   "metadata": {},
   "outputs": [
    {
     "name": "stdout",
     "output_type": "stream",
     "text": [
      "原始数据条数:6497；异常数据处理后数据条数:6497；异常数据条数:0\n"
     ]
    }
   ],
   "source": [
    "## 异常数据处理\n",
    "new_df = df.replace('?', np.nan)\n",
    "datas = new_df.dropna(how = 'any') # 只要有行为空，就进行删除操作\n",
    "print (\"原始数据条数:%d；异常数据处理后数据条数:%d；异常数据条数:%d\" % (len(df), len(datas), len(df) - len(datas)))\n",
    "\n",
    "## 提取自变量和因变量\n",
    "X = datas[names]\n",
    "Y = datas[quality]"
   ]
  },
  {
   "cell_type": "code",
   "execution_count": 5,
   "metadata": {},
   "outputs": [
    {
     "name": "stdout",
     "output_type": "stream",
     "text": [
      "训练数据条数:4872；数据特征个数:12；测试数据条数:1625\n"
     ]
    }
   ],
   "source": [
    "## 数据分割\n",
    "X_train,X_test,Y_train,Y_test = train_test_split(X,Y,test_size=0.25,random_state=0)\n",
    "\n",
    "print (\"训练数据条数:%d；数据特征个数:%d；测试数据条数:%d\" % (X_train.shape[0], X_train.shape[1], X_test.shape[0]))"
   ]
  },
  {
   "cell_type": "code",
   "execution_count": 6,
   "metadata": {},
   "outputs": [],
   "source": [
    "# 2. 数据格式化(归一化)\n",
    "# 将数据缩放到[0,1]\n",
    "ss = MinMaxScaler()    # （数据值-最小值）/（最大值-最小值）\n",
    "X_train = ss.fit_transform(X_train) ## 训练模型及归一化数据"
   ]
  },
  {
   "cell_type": "code",
   "execution_count": 7,
   "metadata": {},
   "outputs": [
    {
     "data": {
      "text/plain": [
       "6    2132\n",
       "5    1606\n",
       "7     805\n",
       "4     161\n",
       "8     146\n",
       "3      20\n",
       "9       2\n",
       "Name: quality, dtype: int64"
      ]
     },
     "execution_count": 7,
     "metadata": {},
     "output_type": "execute_result"
    }
   ],
   "source": [
    "## 查看y值的范围和数理\n",
    "Y_train.value_counts()"
   ]
  },
  {
   "cell_type": "code",
   "execution_count": 11,
   "metadata": {
    "scrolled": true
   },
   "outputs": [
    {
     "name": "stderr",
     "output_type": "stream",
     "text": [
      "G:\\py\\anaconda64\\lib\\site-packages\\sklearn\\model_selection\\_split.py:605: Warning: The least populated class in y has only 2 members, which is too few. The minimum number of members in any class cannot be less than n_splits=3.\n",
      "  % (min_groups, self.n_splits)), Warning)\n"
     ]
    },
    {
     "data": {
      "text/plain": [
       "LogisticRegressionCV(Cs=array([1.00000e-05, 1.14976e-05, ..., 8.69749e+00, 1.00000e+01]),\n",
       "           class_weight={3: 0.9, 4: 0.7, 5: 0.4, 6: 0.1, 7: 0.4, 8: 0.7, 9: 0.9},\n",
       "           cv=None, dual=False, fit_intercept=True, intercept_scaling=1.0,\n",
       "           max_iter=100, multi_class='multinomial', n_jobs=1, penalty='l2',\n",
       "           random_state=None, refit=True, scoring=None, solver='lbfgs',\n",
       "           tol=0.0001, verbose=0)"
      ]
     },
     "execution_count": 11,
     "metadata": {},
     "output_type": "execute_result"
    }
   ],
   "source": [
    "# 3. 模型构建及训练\n",
    "## penalty: 过拟合解决参数,l1或者l2\n",
    "\n",
    "## solver: 参数优化方式\n",
    "### 当penalty为l1的时候，参数只能是：liblinear(坐标轴下降法)；\n",
    "### 当penalty为l2的时候，参数可以是：lbfgs(拟牛顿法)、newton-cg(牛顿法变种)\n",
    "\n",
    "## multi_class: 分类方式参数；参数可选: ovr(默认)、multinomial；这两种方式在二元分类问题中，效果是一样的；在多元分类问题中，效果不一样\n",
    "### ovr: one-vs-rest， 对于多元分类的问题，先将其看做二元分类，分类完成后，再迭代对其中一类继续进行二元分类\n",
    "### multinomial: many-vs-many（MVM）,对于多元分类问题，如果模型有T类，我们每次在所有的T类样本里面选择两类样本出来，\n",
    "#### 不妨记为T1类和T2类，把所有的输出为T1和T2的样本放在一起，把T1作为正例，T2作为负例，\n",
    "#### 进行二元逻辑回归，得到模型参数。我们一共需要T(T-1)/2次分类\n",
    "\n",
    "## class_weight: 特征权重参数\n",
    "\n",
    "### Softmax算法相对于Logistic算法来讲，在sklearn中体现的代码形式来讲，主要只是参数的不同而已\n",
    "## Logistic算法回归(二分类): 使用的是ovr；如果是softmax回归，建议使用multinomial\n",
    "lr = LogisticRegressionCV(fit_intercept=True, Cs=np.logspace(-5, 1, 100),\n",
    "                          class_weight={3:0.9,4:0.7,5:0.3,6:0.1,7:0.3,8:0.7,9:0.9},\n",
    "                          multi_class='multinomial', penalty='l2', solver='lbfgs')\n",
    "lr.fit(X_train, Y_train)"
   ]
  },
  {
   "cell_type": "code",
   "execution_count": 13,
   "metadata": {
    "scrolled": false
   },
   "outputs": [
    {
     "name": "stdout",
     "output_type": "stream",
     "text": [
      "准确率： 0.42179802955665024\n",
      "特征稀疏化比率：0.00%\n",
      "参数： [[ 1.81561283  3.37860571 -0.77059036 -0.89192063  1.74367659  2.69543264\n",
      "   0.95271152  0.17370917  0.12256669 -1.39654653 -1.00755568 -0.10839271]\n",
      " [ 0.26304576  5.22050534 -0.28038101 -2.33744489  1.16582997 -4.75550802\n",
      "  -1.37912816  1.69770019  0.37590825 -0.77315074 -2.90469203  2.0039566 ]\n",
      " [-2.26679645  1.7041458   0.45856102 -1.98410017  0.1068102  -1.40573827\n",
      "   1.96332026  1.67675632 -1.41983739 -1.97747712 -4.92526406 -0.91712374]\n",
      " [-1.29429225 -2.50934173 -0.34244367  0.30516348 -0.26206047  0.61231587\n",
      "  -0.25564945  0.23136574 -0.61364284  0.30944216 -0.16613822 -0.79700015]\n",
      " [ 0.89511012 -4.92185824 -0.47717281  2.06854214 -1.84143838  1.2345894\n",
      "  -0.88581376 -2.02076469  0.49475569  2.67216551  3.25492655 -0.79807697]\n",
      " [-0.0386775  -2.57214324  0.78366134  2.59190096 -0.72618469  1.68335875\n",
      "  -0.29636615 -1.69098126  0.6332942   1.45407503  4.87480418 -0.11234443]\n",
      " [ 0.62599749 -0.29991364  0.6283655   0.24785912 -0.18663322 -0.06445036\n",
      "  -0.09907426 -0.06778548  0.4069554  -0.28850831  0.87391926  0.7289814 ]]\n",
      "截距： [-2.30950535 -0.7294752   5.06647535  2.98134487  1.50108791 -1.72455263\n",
      " -4.78537495]\n",
      "概率： [[1.00000000e+000 4.47775604e-196 1.16412897e-011 ... 1.01758436e-088\n",
      "  4.45456176e-050 4.09441914e-073]\n",
      " [1.00000000e+000 8.11808960e-200 1.18500513e-045 ... 9.09303096e-071\n",
      "  6.26505414e-037 2.09373115e-071]\n",
      " [1.00000000e+000 0.00000000e+000 2.21078401e-051 ... 8.06428964e-155\n",
      "  2.47964201e-089 1.21974961e-143]\n",
      " ...\n",
      " [9.99240988e-001 9.21162619e-249 7.59011692e-004 ... 1.04862363e-121\n",
      "  6.70825008e-071 1.27763792e-094]\n",
      " [1.00000000e+000 5.83085155e-159 3.47035085e-021 ... 7.26423832e-067\n",
      "  3.44461669e-036 1.35806298e-058]\n",
      " [1.00000000e+000 0.00000000e+000 4.14842649e-057 ... 1.38481864e-139\n",
      "  2.49794599e-080 2.55609668e-132]]\n"
     ]
    }
   ],
   "source": [
    "# 4. 模型效果获取\n",
    "r = lr.score(X_train, Y_train)\n",
    "print(\"准确率：\", r)\n",
    "print(\"特征稀疏化比率：%.2f%%\" % (np.mean(lr.coef_.ravel() == 0) * 100))\n",
    "print(\"参数：\",lr.coef_)\n",
    "print(\"截距：\",lr.intercept_)\n",
    "print(\"概率：\", lr.predict_proba(X_test)) # 获取softmax函数返回的概率值"
   ]
  },
  {
   "cell_type": "code",
   "execution_count": 14,
   "metadata": {},
   "outputs": [
    {
     "name": "stdout",
     "output_type": "stream",
     "text": [
      "概率： (1625, 7)\n"
     ]
    }
   ],
   "source": [
    "print(\"概率：\", lr.predict_proba(X_test).shape) # 获取softmax函数返回的概率值"
   ]
  },
  {
   "cell_type": "code",
   "execution_count": 15,
   "metadata": {},
   "outputs": [],
   "source": [
    "# 数据预测\n",
    "## a. 预测数据格式化(归一化)\n",
    "X_test = ss.transform(X_test) # 使用模型进行归一化操作\n",
    "## b. 结果数据预测\n",
    "Y_predict = lr.predict(X_test)"
   ]
  },
  {
   "cell_type": "code",
   "execution_count": 16,
   "metadata": {},
   "outputs": [
    {
     "data": {
      "image/png": "[encoded data removed]",
      "text/plain": [
       "<Figure size 1008x504 with 1 Axes>"
      ]
     },
     "metadata": {},
     "output_type": "display_data"
    }
   ],
   "source": [
    "## c. 图表展示\n",
    "x_len = range(len(X_test))\n",
    "plt.figure(figsize=(14,7), facecolor='w')\n",
    "plt.ylim(-1,11)\n",
    "plt.plot(x_len, Y_test, 'ro',markersize = 8, zorder=3, label=u'真实值')\n",
    "plt.plot(x_len, Y_predict, 'go', markersize = 12, zorder=2, label=u'预测值,$R^2$=%.3f' % lr.score(X_train, Y_train))\n",
    "plt.legend(loc = 'upper left')\n",
    "plt.xlabel(u'数据编号', fontsize=18)\n",
    "plt.ylabel(u'葡萄酒质量', fontsize=18)\n",
    "plt.title(u'葡萄酒质量预测统计', fontsize=20)\n",
    "plt.show()"
   ]
  },
  {
   "cell_type": "code",
   "execution_count": null,
   "metadata": {
    "collapsed": true
   },
   "outputs": [],
   "source": []
  }
 ],
 "metadata": {
  "anaconda-cloud": {},
  "kernelspec": {
   "display_name": "Python 3",
   "language": "python",
   "name": "python3"
  },
  "language_info": {
   "codemirror_mode": {
    "name": "ipython",
    "version": 3
   },
   "file_extension": ".py",
   "mimetype": "text/x-python",
   "name": "python",
   "nbconvert_exporter": "python",
   "pygments_lexer": "ipython3",
   "version": "3.6.7"
  }
 },
 "nbformat": 4,
 "nbformat_minor": 1
}
