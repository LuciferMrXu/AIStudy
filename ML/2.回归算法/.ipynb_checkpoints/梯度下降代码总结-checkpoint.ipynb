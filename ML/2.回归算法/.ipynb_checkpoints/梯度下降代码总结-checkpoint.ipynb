{
 "cells": [
  {
   "cell_type": "markdown",
   "metadata": {},
   "source": [
    "### 有哪些回归算法以及他们的应用"
   ]
  },
  {
   "cell_type": "code",
   "execution_count": 28,
   "metadata": {},
   "outputs": [],
   "source": [
    "from sklearn.linear_model import LinearRegression\n",
    "from sklearn.linear_model import Ridge,RidgeCV\n",
    "from sklearn.linear_model import Lasso,LarsCV\n",
    "from sklearn.linear_model import ElasticNet,ElasticNetCV\n",
    "from sklearn.linear_model import SGDRegressor # 随机梯度下降模型"
   ]
  },
  {
   "cell_type": "markdown",
   "metadata": {},
   "source": [
    "### 有哪些基础的工具"
   ]
  },
  {
   "cell_type": "code",
   "execution_count": 7,
   "metadata": {},
   "outputs": [],
   "source": [
    "from sklearn.preprocessing import StandardScaler\n",
    "from sklearn.preprocessing import PolynomialFeatures\n",
    "\n",
    "from sklearn.model_selection import train_test_split\n",
    "from sklearn.pipeline import Pipeline"
   ]
  },
  {
   "cell_type": "code",
   "execution_count": 13,
   "metadata": {},
   "outputs": [],
   "source": [
    "# 主要参数\n",
    "lr = LinearRegression(fit_intercept=True)\n",
    "ridge = Ridge(fit_intercept=True, alpha=1, max_iter=200, tol=1e-3)\n",
    "ridgecv= RidgeCV(fit_intercept=True, alphas=[1,2,3], cv=3)\n",
    "ela = ElasticNet(fit_intercept=True, alpha=1, max_iter=200, tol=1e-3, l1_ratio=0.5)\n",
    "elacv = ElasticNetCV(fit_intercept=True, alphas=[1,2,3],cv=3,l1_ratio=0.5)\n",
    "sgdlr = SGDRegressor(loss='squared_loss',penalty='l2',alpha=0.1,fit_intercept=True,max_iter=200, tol=1e-3,learning_rate='invscaling',eta0=0.01)"
   ]
  },
  {
   "cell_type": "code",
   "execution_count": 14,
   "metadata": {},
   "outputs": [],
   "source": [
    "model = [lr,ridge,ridgecv,ela,elacv,sgdlr]\n",
    "#model[1].fit(x,y)\n",
    "#model[1].predict(x)\n",
    "#model[1].score(x,y)"
   ]
  },
  {
   "cell_type": "code",
   "execution_count": 15,
   "metadata": {},
   "outputs": [],
   "source": [
    "#里面只能放sklearn里有fit 有transform的，还有可能需要set_params get_params\n",
    "#因此，有一些非sklearn开发的算法，都设有sklearn制式的接口\n",
    "#有一些算法 不用fit 用train\n",
    "pipe = Pipeline([\n",
    "    ['poly', PolynomialFeatures(degree=2, interaction_only=False, include_bias=False)],# 不是只含交互项，不包含偏置项（截距项）\n",
    "    ['lr', LinearRegression()]\n",
    "])\n",
    "#pipe.fit()\n",
    "#"
   ]
  },
  {
   "cell_type": "code",
   "execution_count": null,
   "metadata": {},
   "outputs": [],
   "source": [
    "# 输出属性\n",
    "model[1].coef_  # 系数Θ\n",
    "mdoel[1].intercept_  # 截距项"
   ]
  },
  {
   "cell_type": "markdown",
   "metadata": {},
   "source": [
    "# 手动实现梯度下降求解（基于矩阵）"
   ]
  },
  {
   "cell_type": "code",
   "execution_count": 24,
   "metadata": {},
   "outputs": [],
   "source": [
    "import numpy as np\n",
    "x = np.array([\n",
    "        [1,2],\n",
    "        [2,3],\n",
    "        [3,4],\n",
    "        [4,5],\n",
    "        [5,6],\n",
    "        [7,8],\n",
    "        [9,10]\n",
    "    ])\n",
    "y = np.array([\n",
    "        [11],\n",
    "        [12],\n",
    "        [13],\n",
    "        [14],\n",
    "        [15],\n",
    "        [16],\n",
    "        [17]\n",
    "    ])"
   ]
  },
  {
   "cell_type": "code",
   "execution_count": 25,
   "metadata": {},
   "outputs": [],
   "source": [
    "# 参数给θ和学利率α赋初始值\n",
    "theta0=np.array([\n",
    "    [0],\n",
    "    [0]\n",
    "])\n",
    "alpha=0.002"
   ]
  },
  {
   "cell_type": "code",
   "execution_count": 30,
   "metadata": {},
   "outputs": [
    {
     "name": "stdout",
     "output_type": "stream",
     "text": [
      "loss损失为： 0.8383266117134572\n",
      "θ参数为： [[-9.90261846]\n",
      " [10.6573408 ]]\n",
      "loss损失为： 0.8383235074700902\n",
      "θ参数为： [[-9.90384942]\n",
      " [10.65839076]]\n",
      "运行轮数： 1509\n"
     ]
    }
   ],
   "source": [
    "loss_old=0\n",
    "for round in range(100000):\n",
    "    theta0=theta0+x.T.dot(y-x.dot(theta0))*alpha\n",
    "    loss=np.power(y-x.dot(theta0),2).sum()\n",
    "    if round%1000==0:\n",
    "        print('loss损失为：',loss)\n",
    "        print('θ参数为：',theta0)\n",
    "    # 停止条件\n",
    "    if loss-loss_old<=1e-10 and loss-loss_old>=-1e-10:\n",
    "        print('运行轮数：',round)\n",
    "        break\n",
    "    loss_old=loss"
   ]
  },
  {
   "cell_type": "code",
   "execution_count": 31,
   "metadata": {},
   "outputs": [
    {
     "data": {
      "text/plain": [
       "array([[11.41306253],\n",
       "       [12.16757669],\n",
       "       [12.92209086],\n",
       "       [13.67660503],\n",
       "       [14.43111919],\n",
       "       [15.94014753],\n",
       "       [17.44917586]])"
      ]
     },
     "execution_count": 31,
     "metadata": {},
     "output_type": "execute_result"
    }
   ],
   "source": [
    "x.dot(theta0)   #每一行的预测值，相当于y_hat"
   ]
  },
  {
   "cell_type": "code",
   "execution_count": 32,
   "metadata": {},
   "outputs": [
    {
     "data": {
      "text/plain": [
       "0.8383233532934091"
      ]
     },
     "execution_count": 32,
     "metadata": {},
     "output_type": "execute_result"
    }
   ],
   "source": [
    "# 与skleanrn线性回归模型进行比较\n",
    "lr = LinearRegression(fit_intercept=False)\n",
    "lr.fit(x,y.ravel())\n",
    "lr.predict(x)\n",
    "np.power(lr.predict(x)-y.ravel(),2).sum()"
   ]
  },
  {
   "cell_type": "code",
   "execution_count": null,
   "metadata": {},
   "outputs": [],
   "source": []
  }
 ],
 "metadata": {
  "kernelspec": {
   "display_name": "Python 3",
   "language": "python",
   "name": "python3"
  },
  "language_info": {
   "codemirror_mode": {
    "name": "ipython",
    "version": 3
   },
   "file_extension": ".py",
   "mimetype": "text/x-python",
   "name": "python",
   "nbconvert_exporter": "python",
   "pygments_lexer": "ipython3",
   "version": "3.6.5"
  }
 },
 "nbformat": 4,
 "nbformat_minor": 2
}
