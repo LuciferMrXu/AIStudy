{
 "cells": [
  {
   "cell_type": "code",
   "execution_count": 55,
   "metadata": {},
   "outputs": [],
   "source": [
    "import numpy as np\n",
    "import matplotlib as mpl\n",
    "import matplotlib.pyplot as plt\n",
    "import pandas as pd\n",
    "import warnings\n",
    "import sklearn\n",
    "from sklearn.linear_model import LogisticRegressionCV,LinearRegression\n",
    "from sklearn.linear_model.coordinate_descent import ConvergenceWarning\n",
    "from sklearn.model_selection import train_test_split\n",
    "from sklearn.preprocessing import StandardScaler"
   ]
  },
  {
   "cell_type": "code",
   "execution_count": 56,
   "metadata": {},
   "outputs": [],
   "source": [
    "## 设置字符集，防止中文乱码\n",
    "mpl.rcParams['font.sans-serif']=[u'simHei']\n",
    "mpl.rcParams['axes.unicode_minus']=False\n",
    "## 拦截异常\n",
    "warnings.filterwarnings(action = 'ignore', category=ConvergenceWarning)"
   ]
  },
  {
   "cell_type": "code",
   "execution_count": 57,
   "metadata": {},
   "outputs": [
    {
     "data": {
      "text/html": [
       "<div>\n",
       "<style scoped>\n",
       "    .dataframe tbody tr th:only-of-type {\n",
       "        vertical-align: middle;\n",
       "    }\n",
       "\n",
       "    .dataframe tbody tr th {\n",
       "        vertical-align: top;\n",
       "    }\n",
       "\n",
       "    .dataframe thead th {\n",
       "        text-align: right;\n",
       "    }\n",
       "</style>\n",
       "<table border=\"1\" class=\"dataframe\">\n",
       "  <thead>\n",
       "    <tr style=\"text-align: right;\">\n",
       "      <th></th>\n",
       "      <th>id</th>\n",
       "      <th>Clump Thickness</th>\n",
       "      <th>Uniformity of Cell Size</th>\n",
       "      <th>Uniformity of Cell Shape</th>\n",
       "      <th>Marginal Adhesion</th>\n",
       "      <th>Single Epithelial Cell Size</th>\n",
       "      <th>Bare Nuclei</th>\n",
       "      <th>Bland Chromatin</th>\n",
       "      <th>Normal Nucleoli</th>\n",
       "      <th>Mitoses</th>\n",
       "      <th>Class</th>\n",
       "    </tr>\n",
       "  </thead>\n",
       "  <tbody>\n",
       "    <tr>\n",
       "      <th>0</th>\n",
       "      <td>1000025</td>\n",
       "      <td>5</td>\n",
       "      <td>1</td>\n",
       "      <td>1</td>\n",
       "      <td>1</td>\n",
       "      <td>2</td>\n",
       "      <td>1</td>\n",
       "      <td>3</td>\n",
       "      <td>1</td>\n",
       "      <td>1</td>\n",
       "      <td>2</td>\n",
       "    </tr>\n",
       "    <tr>\n",
       "      <th>1</th>\n",
       "      <td>1002945</td>\n",
       "      <td>5</td>\n",
       "      <td>4</td>\n",
       "      <td>4</td>\n",
       "      <td>5</td>\n",
       "      <td>7</td>\n",
       "      <td>10</td>\n",
       "      <td>3</td>\n",
       "      <td>2</td>\n",
       "      <td>1</td>\n",
       "      <td>2</td>\n",
       "    </tr>\n",
       "    <tr>\n",
       "      <th>2</th>\n",
       "      <td>1015425</td>\n",
       "      <td>3</td>\n",
       "      <td>1</td>\n",
       "      <td>1</td>\n",
       "      <td>1</td>\n",
       "      <td>2</td>\n",
       "      <td>2</td>\n",
       "      <td>3</td>\n",
       "      <td>1</td>\n",
       "      <td>1</td>\n",
       "      <td>2</td>\n",
       "    </tr>\n",
       "    <tr>\n",
       "      <th>3</th>\n",
       "      <td>1016277</td>\n",
       "      <td>6</td>\n",
       "      <td>8</td>\n",
       "      <td>8</td>\n",
       "      <td>1</td>\n",
       "      <td>3</td>\n",
       "      <td>4</td>\n",
       "      <td>3</td>\n",
       "      <td>7</td>\n",
       "      <td>1</td>\n",
       "      <td>2</td>\n",
       "    </tr>\n",
       "    <tr>\n",
       "      <th>4</th>\n",
       "      <td>1017023</td>\n",
       "      <td>4</td>\n",
       "      <td>1</td>\n",
       "      <td>1</td>\n",
       "      <td>3</td>\n",
       "      <td>2</td>\n",
       "      <td>1</td>\n",
       "      <td>3</td>\n",
       "      <td>1</td>\n",
       "      <td>1</td>\n",
       "      <td>2</td>\n",
       "    </tr>\n",
       "  </tbody>\n",
       "</table>\n",
       "</div>"
      ],
      "text/plain": [
       "        id  Clump Thickness  Uniformity of Cell Size  \\\n",
       "0  1000025                5                        1   \n",
       "1  1002945                5                        4   \n",
       "2  1015425                3                        1   \n",
       "3  1016277                6                        8   \n",
       "4  1017023                4                        1   \n",
       "\n",
       "   Uniformity of Cell Shape  Marginal Adhesion  Single Epithelial Cell Size  \\\n",
       "0                         1                  1                            2   \n",
       "1                         4                  5                            7   \n",
       "2                         1                  1                            2   \n",
       "3                         8                  1                            3   \n",
       "4                         1                  3                            2   \n",
       "\n",
       "  Bare Nuclei  Bland Chromatin  Normal Nucleoli  Mitoses  Class  \n",
       "0           1                3                1        1      2  \n",
       "1          10                3                2        1      2  \n",
       "2           2                3                1        1      2  \n",
       "3           4                3                7        1      2  \n",
       "4           1                3                1        1      2  "
      ]
     },
     "execution_count": 57,
     "metadata": {},
     "output_type": "execute_result"
    }
   ],
   "source": [
    "## 数据读取并处理异常数据\n",
    "path = \"datas/breast-cancer-wisconsin.data\"\n",
    "names = ['id','Clump Thickness','Uniformity of Cell Size','Uniformity of Cell Shape',\n",
    "         'Marginal Adhesion','Single Epithelial Cell Size','Bare Nuclei',\n",
    "        'Bland Chromatin','Normal Nucleoli','Mitoses','Class']\n",
    "\n",
    "df = pd.read_csv(path, header=None,names=names)\n",
    "\n",
    "datas = df.replace('?', np.nan).dropna(how = 'any') # 只要有行为空，就进行删除操作\n",
    "datas.head(5) ## 显示一下"
   ]
  },
  {
   "cell_type": "code",
   "execution_count": 58,
   "metadata": {},
   "outputs": [
    {
     "name": "stdout",
     "output_type": "stream",
     "text": [
      "2    444\n",
      "4    239\n",
      "Name: Class, dtype: int64\n"
     ]
    }
   ],
   "source": [
    "# 1. 数据提取以及数据分隔\n",
    "## 提取\n",
    "X = datas[names[1:10]]\n",
    "Y = datas[names[10]]\n",
    "print(Y.value_counts())\n",
    "## 分隔\n",
    "X_train,X_test,Y_train,Y_test = train_test_split(X,Y,test_size=0.1,random_state=0)"
   ]
  },
  {
   "cell_type": "code",
   "execution_count": 59,
   "metadata": {},
   "outputs": [
    {
     "name": "stdout",
     "output_type": "stream",
     "text": [
      "  (0, 84)\t1.0\n",
      "  (0, 70)\t1.0\n",
      "  (0, 61)\t1.0\n",
      "  (0, 52)\t1.0\n",
      "  (0, 41)\t1.0\n",
      "  (0, 30)\t1.0\n",
      "  (0, 27)\t1.0\n",
      "  (0, 14)\t1.0\n",
      "  (0, 8)\t1.0\n",
      "  (1, 80)\t1.0\n",
      "  (1, 70)\t1.0\n",
      "  (1, 61)\t1.0\n",
      "  (1, 50)\t1.0\n",
      "  (1, 41)\t1.0\n",
      "  (1, 30)\t1.0\n",
      "  (1, 21)\t1.0\n",
      "  (1, 10)\t1.0\n",
      "  (1, 0)\t1.0\n",
      "  (2, 80)\t1.0\n",
      "  (2, 70)\t1.0\n",
      "  (2, 61)\t1.0\n",
      "  (2, 50)\t1.0\n",
      "  (2, 41)\t1.0\n",
      "  (2, 30)\t1.0\n",
      "  (2, 20)\t1.0\n",
      "  :\t:\n",
      "  (611, 60)\t1.0\n",
      "  (611, 50)\t1.0\n",
      "  (611, 41)\t1.0\n",
      "  (611, 30)\t1.0\n",
      "  (611, 20)\t1.0\n",
      "  (611, 10)\t1.0\n",
      "  (611, 0)\t1.0\n",
      "  (612, 80)\t1.0\n",
      "  (612, 70)\t1.0\n",
      "  (612, 61)\t1.0\n",
      "  (612, 50)\t1.0\n",
      "  (612, 41)\t1.0\n",
      "  (612, 30)\t1.0\n",
      "  (612, 20)\t1.0\n",
      "  (612, 10)\t1.0\n",
      "  (612, 2)\t1.0\n",
      "  (613, 80)\t1.0\n",
      "  (613, 76)\t1.0\n",
      "  (613, 66)\t1.0\n",
      "  (613, 51)\t1.0\n",
      "  (613, 43)\t1.0\n",
      "  (613, 32)\t1.0\n",
      "  (613, 26)\t1.0\n",
      "  (613, 18)\t1.0\n",
      "  (613, 9)\t1.0\n"
     ]
    },
    {
     "data": {
      "text/plain": [
       "array([[0., 0., 0., ..., 0., 0., 0.],\n",
       "       [1., 0., 0., ..., 0., 0., 0.],\n",
       "       [0., 0., 1., ..., 0., 0., 0.],\n",
       "       ...,\n",
       "       [1., 0., 0., ..., 0., 0., 0.],\n",
       "       [0., 0., 1., ..., 0., 0., 0.],\n",
       "       [0., 0., 0., ..., 0., 0., 0.]])"
      ]
     },
     "execution_count": 59,
     "metadata": {},
     "output_type": "execute_result"
    }
   ],
   "source": [
    "'''\n",
    "    对离散数据做哑编码（onehot）\n",
    "'''\n",
    "from sklearn.preprocessing import OneHotEncoder\n",
    "onehot=OneHotEncoder()\n",
    "X_train=onehot.fit_transform(X_train)\n",
    "X_test=onehot.transform(X_test)\n",
    "print(X_train)   # 压缩成一个稀疏矩阵\n",
    "X_train.toarray()   # 稀疏矩阵转换成稠密矩阵"
   ]
  },
  {
   "cell_type": "code",
   "execution_count": 60,
   "metadata": {},
   "outputs": [],
   "source": [
    "# # 2. 数据格式化(归一化)\n",
    "# ss = StandardScaler()\n",
    "# X_train = ss.fit_transform(X_train) ## 训练模型及归一化数据\n",
    "# X_test=ss.transform(X_test)"
   ]
  },
  {
   "cell_type": "code",
   "execution_count": 61,
   "metadata": {},
   "outputs": [],
   "source": [
    "# 3. 模型构建及训练\n",
    "## penalty: 过拟合解决参数,l1或者l2\n",
    "## solver: 参数优化方式\n",
    "### 当penalty为L1的时候，参数只能是：liblinear(坐标轴下降法)；\n",
    "### nlbfgs和cg都是关于目标函数的二阶泰勒展开\n",
    "### 当penalty为l2的时候，参数可以是：lbfgs(拟牛顿法)、newton-cg(牛顿法变种)，seg(minibatch)\n",
    "# 维度<10000时，lbfgs法比较好，   维度>10000时， cg法比较好，显卡计算的时候，lbfgs和cg都比seg快\n",
    "## multi_class: 分类方式参数；参数可选: ovr(默认)、multinomial；这两种方式在二元分类问题中，效果是一样的；在多元分类问题中，效果不一样\n",
    "### ovr: one-vs-rest， 对于多元分类的问题，先将其看做二元分类，分类完成后，再迭代对其中一类继续进行二元分类\n",
    "### multinomial: many-vs-many（MVM）,即Softmax分类效果\n",
    "## class_weight: 特征权重参数\n",
    "\n",
    "### TODO: Logistic回归是一种分类算法，不能应用于回归中(也即是说对于传入模型的y值来讲，不能是float类型，必须是int类型)\n",
    "\n",
    "lr = LogisticRegressionCV(multi_class='ovr',fit_intercept=True, Cs=np.logspace(-2, 2, 20), \n",
    "                          max_iter=122,\n",
    "                          cv=2, penalty='l2', solver='lbfgs', tol=0.01)\n",
    "re=lr.fit(X_train, Y_train)"
   ]
  },
  {
   "cell_type": "code",
   "execution_count": 69,
   "metadata": {
    "scrolled": false
   },
   "outputs": [
    {
     "name": "stdout",
     "output_type": "stream",
     "text": [
      "准确率： 0.9723127035830619\n",
      "准确率： 0.9855072463768116\n",
      "稀疏化特征比率(有多少参数为0)：0.00%\n",
      "参数： [[-0.27733919 -0.08198447 -0.20794672 -0.11468732 -0.04539877 -0.04202011\n",
      "   0.1239239   0.15319181  0.11134422  0.38067461 -0.68469259 -0.09730238\n",
      "  -0.04545348  0.0454353   0.16432788  0.15420587  0.05522523  0.11936227\n",
      "  -0.00550982  0.29415968 -0.64393616 -0.23000093  0.01685888  0.10179266\n",
      "   0.14037635  0.12519502  0.09095907  0.12971961  0.03932408  0.2294694\n",
      "  -0.50274017 -0.09026717 -0.03184264  0.13569241  0.01057304  0.08150107\n",
      "   0.04551728  0.12579562  0.02077841  0.20475013 -0.09996042 -0.5862149\n",
      "   0.03642104  0.12280894  0.1095514   0.19904148 -0.00440351  0.06812944\n",
      "   0.00159409  0.15279041 -0.7779845  -0.08217695  0.01474547  0.05940356\n",
      "   0.03643686  0.05221164  0.01295543  0.076042    0.06838144  0.53974303\n",
      "  -0.32870809 -0.29083262 -0.13649032  0.06096202  0.17831709  0.02916505\n",
      "   0.22439734  0.13101458  0.03847764  0.09345529 -0.53518654 -0.14971604\n",
      "   0.06919988  0.12165823  0.03367243  0.04190418  0.01033864  0.05269902\n",
      "   0.09873226  0.2564559  -0.34092396  0.06420607  0.07744794  0.04525483\n",
      "   0.03489291  0.0060749   0.01862276  0.03111378  0.06306875]]\n",
      "截距： [1.21469567]\n",
      "[[0.93392521 0.06607479]\n",
      " [0.96629303 0.03370697]\n",
      " [0.13916215 0.86083785]\n",
      " [0.25387907 0.74612093]\n",
      " [0.96961737 0.03038263]\n",
      " [0.9401613  0.0598387 ]\n",
      " [0.89487204 0.10512796]\n",
      " [0.09444043 0.90555957]\n",
      " [0.84724421 0.15275579]\n",
      " [0.96848151 0.03151849]\n",
      " [0.11012534 0.88987466]\n",
      " [0.93835234 0.06164766]\n",
      " [0.04203806 0.95796194]\n",
      " [0.96629303 0.03370697]\n",
      " [0.88331592 0.11668408]\n",
      " [0.76377443 0.23622557]\n",
      " [0.11252229 0.88747771]\n",
      " [0.07011298 0.92988702]\n",
      " [0.0715882  0.9284118 ]\n",
      " [0.92638353 0.07361647]\n",
      " [0.96629303 0.03370697]\n",
      " [0.94532024 0.05467976]\n",
      " [0.363032   0.636968  ]\n",
      " [0.96750511 0.03249489]\n",
      " [0.13019064 0.86980936]\n",
      " [0.07902206 0.92097794]\n",
      " [0.93033527 0.06966473]\n",
      " [0.94744252 0.05255748]\n",
      " [0.96198763 0.03801237]\n",
      " [0.09640861 0.90359139]\n",
      " [0.96961737 0.03038263]\n",
      " [0.14093397 0.85906603]\n",
      " [0.04152266 0.95847734]\n",
      " [0.96088769 0.03911231]\n",
      " [0.9644418  0.0355582 ]\n",
      " [0.96088769 0.03911231]\n",
      " [0.10190294 0.89809706]\n",
      " [0.1937335  0.8062665 ]\n",
      " [0.9644418  0.0355582 ]\n",
      " [0.19053455 0.80946545]\n",
      " [0.91748758 0.08251242]\n",
      " [0.8948797  0.1051203 ]\n",
      " [0.89816224 0.10183776]\n",
      " [0.94821023 0.05178977]\n",
      " [0.96961737 0.03038263]\n",
      " [0.88846873 0.11153127]\n",
      " [0.92141321 0.07858679]\n",
      " [0.07606613 0.92393387]\n",
      " [0.94048641 0.05951359]\n",
      " [0.96198763 0.03801237]\n",
      " [0.18462778 0.81537222]\n",
      " [0.90561035 0.09438965]\n",
      " [0.11513533 0.88486467]\n",
      " [0.90841943 0.09158057]\n",
      " [0.92638353 0.07361647]\n",
      " [0.82070643 0.17929357]\n",
      " [0.09745381 0.90254619]\n",
      " [0.22525391 0.77474609]\n",
      " [0.53461099 0.46538901]\n",
      " [0.21084617 0.78915383]\n",
      " [0.96341383 0.03658617]\n",
      " [0.9408787  0.0591213 ]\n",
      " [0.95586898 0.04413102]\n",
      " [0.96750511 0.03249489]\n",
      " [0.96088769 0.03911231]\n",
      " [0.96341383 0.03658617]\n",
      " [0.96341383 0.03658617]\n",
      " [0.96088769 0.03911231]\n",
      " [0.23683172 0.76316828]]\n",
      "[2 2 4 4 2 2 2 4 2 2 4 2 4 2 2 2 4 4 4 2 2 2 4 2 4 4 2 2 2 4 2 4 4 2 2 2 4\n",
      " 4 2 4 2 2 2 2 2 2 2 4 2 2 4 2 4 2 2 2 4 4 2 4 2 2 2 2 2 2 2 2 4]\n"
     ]
    }
   ],
   "source": [
    "# 4. 模型效果获取\n",
    "r = re.score(X_train, Y_train)\n",
    "print (\"训练集准确率：\", r)\n",
    "print (\"测试集准确率：\", re.score(X_test, Y_test))\n",
    "print (\"稀疏化特征比率(有多少参数为0)：%.2f%%\" % (np.mean(lr.coef_.ravel() == 0) * 100))\n",
    "print (\"参数：\",re.coef_)\n",
    "print (\"截距：\",re.intercept_)\n",
    "print(re.predict_proba(X_test)) # 获取sigmoid函数返回的概率值,可以把概率从高往低排进行获取\n",
    "print(re.predict(X_test))"
   ]
  },
  {
   "cell_type": "code",
   "execution_count": 70,
   "metadata": {},
   "outputs": [
    {
     "name": "stdout",
     "output_type": "stream",
     "text": [
      "AUC面积 0.9971644612476371\n"
     ]
    }
   ],
   "source": [
    "# 用AUC指标评价\n",
    "from sklearn.metrics import roc_auc_score\n",
    "Y_test[Y_test==2]=0\n",
    "Y_test[Y_test==4]=1\n",
    "print('AUC面积：',roc_auc_score(Y_test,re.predict_proba(X_test)[:,1]))"
   ]
  },
  {
   "cell_type": "code",
   "execution_count": 63,
   "metadata": {},
   "outputs": [],
   "source": [
    "# # 5. 模型相关信息保存\n",
    "# ## 引入包\n",
    "# from sklearn.externals import joblib\n",
    "# ## 要求文件夹必须存在\n",
    "# joblib.dump(ss, \"datas/logistic/ss.model\") ## 将标准化模型保存\n",
    "# # joblib.dump(lr, \"datas/models/logistic/lr.model\") ## 将模型保存"
   ]
  },
  {
   "cell_type": "code",
   "execution_count": 64,
   "metadata": {},
   "outputs": [],
   "source": [
    "# # 模型加载\n",
    "# ## 引入包\n",
    "# from sklearn.externals import joblib\n",
    "# oss = joblib.load(\"models/logistic/ss.model\")\n",
    "# olr = joblib.load(\"models/logistic/lr.model\")"
   ]
  },
  {
   "cell_type": "code",
   "execution_count": 65,
   "metadata": {},
   "outputs": [],
   "source": [
    "# 数据预测\n",
    "## a. 预测数据格式化(归一化)\n",
    "# X_test = ss.transform(X_test) # 使用模型进行归一化操作\n",
    "\n",
    "\n",
    "X_test=X_test.toarray()\n",
    "## b. 结果数据预测\n",
    "Y_predict = re.predict(X_test)"
   ]
  },
  {
   "cell_type": "code",
   "execution_count": 66,
   "metadata": {},
   "outputs": [
    {
     "data": {
      "image/png": "[encoded data removed]",
      "text/plain": [
       "<Figure size 1008x504 with 1 Axes>"
      ]
     },
     "metadata": {},
     "output_type": "display_data"
    }
   ],
   "source": [
    "## c. 图表展示\n",
    "x_len = range(len(X_test))\n",
    "plt.figure(figsize=(14,7), facecolor='w')\n",
    "plt.ylim(0,6)\n",
    "plt.plot(x_len, Y_test, 'ro',markersize = 8, zorder=3, label=u'真实值')\n",
    "plt.plot(x_len, Y_predict, 'go', markersize = 14, zorder=2, label=u'预测值,准确率=%.3f' % re.score(X_test, Y_test))\n",
    "plt.legend(loc = 'upper left')\n",
    "plt.xlabel(u'数据编号', fontsize=18)\n",
    "plt.ylabel(u'乳腺癌类型', fontsize=18)\n",
    "plt.title(u'Logistic回归算法对数据进行分类', fontsize=20)\n",
    "plt.show()"
   ]
  },
  {
   "cell_type": "code",
   "execution_count": null,
   "metadata": {
    "collapsed": true
   },
   "outputs": [],
   "source": []
  }
 ],
 "metadata": {
  "kernelspec": {
   "display_name": "Python 3",
   "language": "python",
   "name": "python3"
  },
  "language_info": {
   "codemirror_mode": {
    "name": "ipython",
    "version": 3
   },
   "file_extension": ".py",
   "mimetype": "text/x-python",
   "name": "python",
   "nbconvert_exporter": "python",
   "pygments_lexer": "ipython3",
   "version": "3.6.5"
  }
 },
 "nbformat": 4,
 "nbformat_minor": 1
}
