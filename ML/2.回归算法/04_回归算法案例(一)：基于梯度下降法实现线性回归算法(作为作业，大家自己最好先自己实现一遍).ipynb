{
 "cells": [
  {
   "cell_type": "markdown",
   "metadata": {},
   "source": [
    "构造一个完整的梯度下降算法\n",
    "==="
   ]
  },
  {
   "cell_type": "code",
   "execution_count": 1,
   "metadata": {},
   "outputs": [],
   "source": [
    "# 数据校验\n",
    "def validate(X, Y):\n",
    "    if len(X) != len(Y):\n",
    "        raise Exception(\"参数异常\")\n",
    "    else:\n",
    "        m = len(X[0])\n",
    "        for l in X:\n",
    "            if len(l) != m:\n",
    "                raise Exception(\"参数异常\")\n",
    "        if len(Y[0]) != 1:\n",
    "            raise Exception(\"参数异常\")\n",
    "\n",
    "# 计算差异值\n",
    "def calcDiffe(x, y, a):\n",
    "    # 计算ax - y的值\n",
    "    lx = len(x)\n",
    "    la = len(a)\n",
    "    if lx == la:\n",
    "        result = 0\n",
    "        for i in range(lx):\n",
    "            result += x[i] * a[i]\n",
    "        return y - result\n",
    "    elif lx + 1 == la:\n",
    "        result = 0\n",
    "        for i in range(lx):\n",
    "            result += x[i] * a[i]\n",
    "        result += 1 * a[lx] # 加上常数项\n",
    "        return y - result\n",
    "    else :\n",
    "        raise Exception(\"参数异常\")\n",
    "\n",
    "                \n",
    "## 要求X必须是List集合，Y也必须是List集合\n",
    "def fit(X, Y, alphas, threshold=1e-6, maxIter=200, addConstantItem=True):\n",
    "    import math\n",
    "    import numpy as np\n",
    "    ## 校验\n",
    "    validate(X, Y)\n",
    "    ## 开始模型构建\n",
    "    l = len(alphas)\n",
    "    m = len(Y)\n",
    "    n = len(X[0]) + 1 if addConstantItem else len(X[0])#样本的个数\n",
    "    B = [True for i in range(l)]#模型的格式：控制最优模型\n",
    "    ## 差异性(损失值)\n",
    "    J = [np.nan for i in range(l)]#loss函数的值\n",
    "    # 1. 随机初始化0值(全部为0), a的最后一列为常数项\n",
    "    a = [[0 for j in range(n)] for i in range(l)]#theta，是模型的系数\n",
    "    # 2. 开始计算\n",
    "    for times in range(maxIter):\n",
    "        for i in range(l):\n",
    "            if not B[i]:\n",
    "                # 如果当前alpha的值已经计算到最优解了，那么不进行继续计算\n",
    "                continue\n",
    "            \n",
    "            ta = a[i]\n",
    "            for j in range(n):\n",
    "                alpha = alphas[i]\n",
    "                ts = 0\n",
    "                for k in range(m):\n",
    "                    if j == n - 1 and addConstantItem:\n",
    "                        ts += alpha*calcDiffe(X[k], Y[k][0], a[i]) * 1\n",
    "                    else:\n",
    "                        ts += alpha*calcDiffe(X[k], Y[k][0], a[i]) * X[k][j]\n",
    "                t = ta[j] + ts\n",
    "                ta[j] = t\n",
    "            ## 计算完一个alpha值的0的损失函数\n",
    "            flag = True\n",
    "            js = 0\n",
    "            for k in range(m):\n",
    "                js += math.pow(calcDiffe(X[k], Y[k][0], a[i]),2)\n",
    "                if js > J[i]:\n",
    "                    flag = False\n",
    "                    break;\n",
    "            if flag:\n",
    "                J[i] = js\n",
    "                for j in range(n):\n",
    "                    a[i][j] = ta[j]\n",
    "            else:\n",
    "                # 标记当前alpha的值不需要再计算了\n",
    "                B[i] = False     \n",
    "        \n",
    "        ## 计算完一个迭代，当目标函数/损失函数值有一个小于threshold的结束循环\n",
    "        r = [0 for j in J if j <= threshold]\n",
    "        if len(r) > 0:\n",
    "            break\n",
    "        # 如果全部alphas的值都结算到最后解了，那么不进行继续计算\n",
    "        r = [0 for b in B if not b]\n",
    "        if len(r) > 0:\n",
    "            break\n",
    "\n",
    "    # 3. 获取最优的alphas的值以及对应的0值\n",
    "    min_a = a[0]\n",
    "    min_j = J[0]\n",
    "    min_alpha = alphas[0]\n",
    "    for i in range(l):\n",
    "        if J[i] < min_j:\n",
    "            min_j = J[i]\n",
    "            min_a = a[i]\n",
    "            min_alpha = alphas[i]\n",
    "    \n",
    "    print(\"最优的alpha值为:\",min_alpha)\n",
    "    \n",
    "    # 4. 返回最终的0值\n",
    "    return min_a\n",
    "\n",
    "# 预测结果\n",
    "def predict(X,a):\n",
    "    Y = []\n",
    "    n = len(a) - 1\n",
    "    for x in X:\n",
    "        result = 0\n",
    "        for i in range(n):\n",
    "            result += x[i] * a[i]\n",
    "        result += a[n]\n",
    "        Y.append(result)\n",
    "    return Y\n",
    "\n",
    "# 计算实际值和预测值之间的相关性\n",
    "def calcRScore(y,py):\n",
    "    if len(y) != len(py):\n",
    "        raise Exception(\"参数异常\")\n",
    "    import math \n",
    "    import numpy as np\n",
    "    avgy = np.average(y)\n",
    "    m = len(y)\n",
    "    rss = 0.0\n",
    "    tss = 0\n",
    "    for i in range(m):\n",
    "        rss += math.pow(y[i] - py[i], 2)\n",
    "        tss += math.pow(y[i] - avgy, 2)\n",
    "    r = 1.0 - 1.0 * rss / tss\n",
    "    return r"
   ]
  },
  {
   "cell_type": "code",
   "execution_count": 2,
   "metadata": {},
   "outputs": [],
   "source": [
    "import numpy as np\n",
    "import matplotlib as mpl\n",
    "import matplotlib.pyplot as plt\n",
    "import pandas as pd\n",
    "import warnings\n",
    "import sklearn\n",
    "from sklearn.linear_model import LinearRegression,Ridge, LassoCV, RidgeCV, ElasticNetCV\n",
    "from sklearn.preprocessing import PolynomialFeatures\n",
    "from sklearn.pipeline import Pipeline\n",
    "from sklearn.linear_model.coordinate_descent import ConvergenceWarning"
   ]
  },
  {
   "cell_type": "code",
   "execution_count": 3,
   "metadata": {},
   "outputs": [],
   "source": [
    "## 设置字符集，防止中文乱码\n",
    "mpl.rcParams['font.sans-serif']=[u'simHei']\n",
    "mpl.rcParams['axes.unicode_minus']=False"
   ]
  },
  {
   "cell_type": "code",
   "execution_count": 4,
   "metadata": {},
   "outputs": [
    {
     "data": {
      "text/plain": [
       "array([[1.76405235],\n",
       "       [1.06682388],\n",
       "       [2.31207132],\n",
       "       [4.2408932 ],\n",
       "       [4.53422466],\n",
       "       [2.35605545],\n",
       "       [4.95008842],\n",
       "       [4.51530946],\n",
       "       [5.23011448],\n",
       "       [6.4105985 ]])"
      ]
     },
     "execution_count": 4,
     "metadata": {},
     "output_type": "execute_result"
    }
   ],
   "source": [
    "# warnings.filterwarnings(action = 'ignore', category=ConvergenceWarning)\n",
    "## 创建模拟数据\n",
    "np.random.seed(0)\n",
    "np.set_printoptions(linewidth=1000, suppress=True)\n",
    "N = 10\n",
    "x = np.linspace(0, 6, N) + np.random.randn(N)\n",
    "y = 1.8*x**3 + x**2 - 14*x - 7 + np.random.randn(N)\n",
    "x.shape = -1, 1\n",
    "y.shape = -1, 1\n",
    "x"
   ]
  },
  {
   "cell_type": "code",
   "execution_count": 5,
   "metadata": {},
   "outputs": [
    {
     "name": "stdout",
     "output_type": "stream",
     "text": [
      "0.8374376988248429\n",
      "模块自带实现===============\n",
      "参数列表: [[72.0576022]]\n",
      "截距: [-163.71132966]\n",
      "最优的alpha值为: 0.01\n",
      "自定义实现模型=============\n",
      "参数列表: [70.87936393633888, -158.4997458365991]\n"
     ]
    },
    {
     "data": {
      "text/plain": [
       "<Figure size 864x432 with 0 Axes>"
      ]
     },
     "metadata": {},
     "output_type": "display_data"
    }
   ],
   "source": [
    "plt.figure(figsize=(12,6), facecolor='w')\n",
    "\n",
    "## 模拟数据产生\n",
    "x_hat = np.linspace(x.min(), x.max(), num=100)\n",
    "x_hat.shape = -1,1\n",
    "\n",
    "## 线性模型\n",
    "model = LinearRegression()\n",
    "model.fit(x,y)\n",
    "y_hat = model.predict(x_hat)\n",
    "s1 = calcRScore(y, model.predict(x))\n",
    "print(model.score(x,y)) ## 自带R^2输出\n",
    "print(\"模块自带实现===============\")\n",
    "print(\"参数列表:\", model.coef_)\n",
    "print(\"截距:\", model.intercept_)\n",
    "\n",
    "\n",
    "## 自模型\n",
    "ma = fit(x,y,np.logspace(-4,-2,100), addConstantItem=True)\n",
    "y_hat2 = predict(x_hat, ma)\n",
    "s2 = calcRScore(y, predict(x,ma))\n",
    "print (\"自定义实现模型=============\")\n",
    "print (\"参数列表:\", ma)"
   ]
  },
  {
   "cell_type": "code",
   "execution_count": 6,
   "metadata": {},
   "outputs": [
    {
     "data": {
      "image/png": "[encoded data removed]",
      "text/plain": [
       "<Figure size 432x288 with 1 Axes>"
      ]
     },
     "metadata": {},
     "output_type": "display_data"
    }
   ],
   "source": [
    "## 开始画图\n",
    "plt.figure(facecolor='w')\n",
    "plt.plot(x, y, 'ro', ms=10, zorder=3)\n",
    "plt.plot(x_hat, y_hat, color='b', lw=2, alpha=0.75, label=u'Python模型，$R^2$:%.3f' % s1, zorder=1)\n",
    "plt.plot(x_hat, y_hat2, color='r', lw=2, alpha=0.75, label=u'自己实现模型，$R^2$:%.3f' % s2, zorder=2)\n",
    "plt.legend(loc = 'upper left')\n",
    "plt.grid(True)\n",
    "plt.xlabel('X', fontsize=16)\n",
    "plt.ylabel('Y', fontsize=16)\n",
    "\n",
    "plt.suptitle(u'自定义的线性模型和模块中的线性模型比较', fontsize=22)\n",
    "plt.show()"
   ]
  },
  {
   "cell_type": "code",
   "execution_count": null,
   "metadata": {
    "collapsed": true
   },
   "outputs": [],
   "source": []
  }
 ],
 "metadata": {
  "kernelspec": {
   "display_name": "Python 3",
   "language": "python",
   "name": "python3"
  },
  "language_info": {
   "codemirror_mode": {
    "name": "ipython",
    "version": 3
   },
   "file_extension": ".py",
   "mimetype": "text/x-python",
   "name": "python",
   "nbconvert_exporter": "python",
   "pygments_lexer": "ipython3",
   "version": "3.6.8"
  }
 },
 "nbformat": 4,
 "nbformat_minor": 1
}
