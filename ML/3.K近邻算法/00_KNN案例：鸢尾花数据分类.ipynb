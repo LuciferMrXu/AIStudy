{
 "cells": [
  {
   "cell_type": "code",
   "execution_count": 1,
   "metadata": {},
   "outputs": [],
   "source": [
    "import numpy as np\n",
    "import matplotlib as mpl\n",
    "import matplotlib.pyplot as plt\n",
    "import pandas as pd\n",
    "import warnings\n",
    "\n",
    "import sklearn\n",
    "from sklearn.model_selection import train_test_split\n",
    "from sklearn.neighbors import KNeighborsClassifier#KNN\n",
    "from sklearn import metrics"
   ]
  },
  {
   "cell_type": "code",
   "execution_count": 2,
   "metadata": {},
   "outputs": [],
   "source": [
    "## 设置字符集，防止中文乱码\n",
    "mpl.rcParams['font.sans-serif']=[u'simHei']\n",
    "mpl.rcParams['axes.unicode_minus']=False"
   ]
  },
  {
   "cell_type": "code",
   "execution_count": 3,
   "metadata": {},
   "outputs": [
    {
     "data": {
      "text/html": [
       "<div>\n",
       "<style scoped>\n",
       "    .dataframe tbody tr th:only-of-type {\n",
       "        vertical-align: middle;\n",
       "    }\n",
       "\n",
       "    .dataframe tbody tr th {\n",
       "        vertical-align: top;\n",
       "    }\n",
       "\n",
       "    .dataframe thead th {\n",
       "        text-align: right;\n",
       "    }\n",
       "</style>\n",
       "<table border=\"1\" class=\"dataframe\">\n",
       "  <thead>\n",
       "    <tr style=\"text-align: right;\">\n",
       "      <th></th>\n",
       "      <th>sepal length</th>\n",
       "      <th>sepal width</th>\n",
       "      <th>petal length</th>\n",
       "      <th>petal width</th>\n",
       "      <th>cla</th>\n",
       "    </tr>\n",
       "  </thead>\n",
       "  <tbody>\n",
       "    <tr>\n",
       "      <th>0</th>\n",
       "      <td>5.1</td>\n",
       "      <td>3.5</td>\n",
       "      <td>1.4</td>\n",
       "      <td>0.2</td>\n",
       "      <td>Iris-setosa</td>\n",
       "    </tr>\n",
       "    <tr>\n",
       "      <th>1</th>\n",
       "      <td>4.9</td>\n",
       "      <td>3.0</td>\n",
       "      <td>1.4</td>\n",
       "      <td>0.2</td>\n",
       "      <td>Iris-setosa</td>\n",
       "    </tr>\n",
       "    <tr>\n",
       "      <th>2</th>\n",
       "      <td>4.7</td>\n",
       "      <td>3.2</td>\n",
       "      <td>1.3</td>\n",
       "      <td>0.2</td>\n",
       "      <td>Iris-setosa</td>\n",
       "    </tr>\n",
       "    <tr>\n",
       "      <th>3</th>\n",
       "      <td>4.6</td>\n",
       "      <td>3.1</td>\n",
       "      <td>1.5</td>\n",
       "      <td>0.2</td>\n",
       "      <td>Iris-setosa</td>\n",
       "    </tr>\n",
       "    <tr>\n",
       "      <th>4</th>\n",
       "      <td>5.0</td>\n",
       "      <td>3.6</td>\n",
       "      <td>1.4</td>\n",
       "      <td>0.2</td>\n",
       "      <td>Iris-setosa</td>\n",
       "    </tr>\n",
       "  </tbody>\n",
       "</table>\n",
       "</div>"
      ],
      "text/plain": [
       "   sepal length  sepal width  petal length  petal width          cla\n",
       "0           5.1          3.5           1.4          0.2  Iris-setosa\n",
       "1           4.9          3.0           1.4          0.2  Iris-setosa\n",
       "2           4.7          3.2           1.3          0.2  Iris-setosa\n",
       "3           4.6          3.1           1.5          0.2  Iris-setosa\n",
       "4           5.0          3.6           1.4          0.2  Iris-setosa"
      ]
     },
     "execution_count": 3,
     "metadata": {},
     "output_type": "execute_result"
    }
   ],
   "source": [
    "## 数据加载\n",
    "path = \"datas/iris.data\"\n",
    "names = ['sepal length', 'sepal width', 'petal length', 'petal width', 'cla']\n",
    "df = pd.read_csv(path, header=None, names=names)\n",
    "df['cla'].value_counts()\n",
    "df.head()"
   ]
  },
  {
   "cell_type": "code",
   "execution_count": 5,
   "metadata": {},
   "outputs": [
    {
     "name": "stdout",
     "output_type": "stream",
     "text": [
      "0         Iris-setosa\n",
      "1         Iris-setosa\n",
      "2         Iris-setosa\n",
      "3         Iris-setosa\n",
      "4         Iris-setosa\n",
      "5         Iris-setosa\n",
      "6         Iris-setosa\n",
      "7         Iris-setosa\n",
      "8         Iris-setosa\n",
      "9         Iris-setosa\n",
      "10        Iris-setosa\n",
      "11        Iris-setosa\n",
      "12        Iris-setosa\n",
      "13        Iris-setosa\n",
      "14        Iris-setosa\n",
      "15        Iris-setosa\n",
      "16        Iris-setosa\n",
      "17        Iris-setosa\n",
      "18        Iris-setosa\n",
      "19        Iris-setosa\n",
      "20        Iris-setosa\n",
      "21        Iris-setosa\n",
      "22        Iris-setosa\n",
      "23        Iris-setosa\n",
      "24        Iris-setosa\n",
      "25        Iris-setosa\n",
      "26        Iris-setosa\n",
      "27        Iris-setosa\n",
      "28        Iris-setosa\n",
      "29        Iris-setosa\n",
      "            ...      \n",
      "120    Iris-virginica\n",
      "121    Iris-virginica\n",
      "122    Iris-virginica\n",
      "123    Iris-virginica\n",
      "124    Iris-virginica\n",
      "125    Iris-virginica\n",
      "126    Iris-virginica\n",
      "127    Iris-virginica\n",
      "128    Iris-virginica\n",
      "129    Iris-virginica\n",
      "130    Iris-virginica\n",
      "131    Iris-virginica\n",
      "132    Iris-virginica\n",
      "133    Iris-virginica\n",
      "134    Iris-virginica\n",
      "135    Iris-virginica\n",
      "136    Iris-virginica\n",
      "137    Iris-virginica\n",
      "138    Iris-virginica\n",
      "139    Iris-virginica\n",
      "140    Iris-virginica\n",
      "141    Iris-virginica\n",
      "142    Iris-virginica\n",
      "143    Iris-virginica\n",
      "144    Iris-virginica\n",
      "145    Iris-virginica\n",
      "146    Iris-virginica\n",
      "147    Iris-virginica\n",
      "148    Iris-virginica\n",
      "149    Iris-virginica\n",
      "Name: cla, Length: 150, dtype: object\n"
     ]
    },
    {
     "data": {
      "text/plain": [
       "array([0, 0, 0, 0, 0, 0, 0, 0, 0, 0, 0, 0, 0, 0, 0, 0, 0, 0, 0, 0, 0, 0,\n",
       "       0, 0, 0, 0, 0, 0, 0, 0, 0, 0, 0, 0, 0, 0, 0, 0, 0, 0, 0, 0, 0, 0,\n",
       "       0, 0, 0, 0, 0, 0, 1, 1, 1, 1, 1, 1, 1, 1, 1, 1, 1, 1, 1, 1, 1, 1,\n",
       "       1, 1, 1, 1, 1, 1, 1, 1, 1, 1, 1, 1, 1, 1, 1, 1, 1, 1, 1, 1, 1, 1,\n",
       "       1, 1, 1, 1, 1, 1, 1, 1, 1, 1, 1, 1, 2, 2, 2, 2, 2, 2, 2, 2, 2, 2,\n",
       "       2, 2, 2, 2, 2, 2, 2, 2, 2, 2, 2, 2, 2, 2, 2, 2, 2, 2, 2, 2, 2, 2,\n",
       "       2, 2, 2, 2, 2, 2, 2, 2, 2, 2, 2, 2, 2, 2, 2, 2, 2, 2])"
      ]
     },
     "execution_count": 5,
     "metadata": {},
     "output_type": "execute_result"
    }
   ],
   "source": [
    "# 方法二，快速转换\n",
    "from sklearn.preprocessing import LabelEncoder\n",
    "lb=LabelEncoder()\n",
    "print(df['cla'])\n",
    "lb.fit_transform(df['cla'])"
   ]
  },
  {
   "cell_type": "code",
   "execution_count": 4,
   "metadata": {
    "collapsed": true
   },
   "outputs": [],
   "source": [
    "def parseRecord(record):\n",
    "    result=[]\n",
    "    r = zip(names,record)\n",
    "    for name,v in r:\n",
    "        if name == 'cla':\n",
    "            if v == 'Iris-setosa':\n",
    "                result.append(1)\n",
    "            elif v == 'Iris-versicolor':\n",
    "                result.append(2)\n",
    "            elif v == 'Iris-virginica':\n",
    "                result.append(3)\n",
    "            else:\n",
    "                result.append(np.nan)\n",
    "        else:\n",
    "            result.append(float(v))\n",
    "    return result"
   ]
  },
  {
   "cell_type": "code",
   "execution_count": 5,
   "metadata": {},
   "outputs": [],
   "source": [
    "### 1. 数据转换为数字以及分割\n",
    "## 数据转换\n",
    "datas = df.apply(lambda r: pd.Series(parseRecord(r), index=names), axis=1)\n",
    "## 异常数据删除\n",
    "datas = datas.dropna(how='any')\n",
    "## 数据分割\n",
    "X = datas[names[0:-1]]\n",
    "Y = datas[names[-1]]\n",
    "## 数据抽样(训练数据和测试数据分割)\n",
    "X_train,X_test,Y_train,Y_test = train_test_split(X, Y, test_size=0.4, random_state=0)"
   ]
  },
  {
   "cell_type": "code",
   "execution_count": 6,
   "metadata": {},
   "outputs": [
    {
     "name": "stdout",
     "output_type": "stream",
     "text": [
      "原始数据条数:150；训练数据条数:90；特征个数:4；测试样本条数:60\n"
     ]
    }
   ],
   "source": [
    "print (\"原始数据条数:%d；训练数据条数:%d；特征个数:%d；测试样本条数:%d\" % (len(X), len(X_train), X_train.shape[1], X_test.shape[0]))"
   ]
  },
  {
   "cell_type": "code",
   "execution_count": 7,
   "metadata": {},
   "outputs": [
    {
     "name": "stdout",
     "output_type": "stream",
     "text": [
      "KNN算法准确率： 0.988888888889\n"
     ]
    }
   ],
   "source": [
    "##### KNN算法实现\n",
    "# a. 模型构建\n",
    "knn = KNeighborsClassifier(n_neighbors=3)\n",
    "knn.fit(X_train, Y_train)\n",
    "\n",
    "# b. 模型效果输出\n",
    "print (\"KNN算法准确率：\", knn.score(X_train, Y_train))\n",
    "\n",
    "# c. 模型预测\n",
    "knn_y_predict = knn.predict(X_test)"
   ]
  },
  {
   "cell_type": "code",
   "execution_count": 8,
   "metadata": {},
   "outputs": [
    {
     "data": {
      "image/png": "[encoded data removed]",
      "text/plain": [
       "<matplotlib.figure.Figure at 0x24042952f60>"
      ]
     },
     "metadata": {},
     "output_type": "display_data"
    }
   ],
   "source": [
    "## 画图2：预测结果画图\n",
    "x_test_len = range(len(X_test))\n",
    "plt.figure(figsize=(12, 9), facecolor='w')\n",
    "plt.ylim(0.5,3.5)\n",
    "plt.plot(x_test_len, Y_test, 'ro',markersize = 6, zorder=3, label=u'真实值')\n",
    "plt.plot(x_test_len, knn_y_predict, 'yo', markersize = 16, zorder=1, label=u'KNN算法预测值,准确率=%.3f' % knn.score(X_test, Y_test))\n",
    "plt.legend(loc = 'upper right')\n",
    "plt.xlabel(u'数据编号', fontsize=18)\n",
    "plt.ylabel(u'种类', fontsize=18)\n",
    "plt.title(u'鸢尾花数据分类', fontsize=20)\n",
    "plt.show()"
   ]
  },
  {
   "cell_type": "code",
   "execution_count": null,
   "metadata": {
    "collapsed": true
   },
   "outputs": [],
   "source": []
  }
 ],
 "metadata": {
  "anaconda-cloud": {},
  "kernelspec": {
   "display_name": "Python 3",
   "language": "python",
   "name": "python3"
  },
  "language_info": {
   "codemirror_mode": {
    "name": "ipython",
    "version": 3
   },
   "file_extension": ".py",
   "mimetype": "text/x-python",
   "name": "python",
   "nbconvert_exporter": "python",
   "pygments_lexer": "ipython3",
   "version": "3.6.8"
  }
 },
 "nbformat": 4,
 "nbformat_minor": 1
}
