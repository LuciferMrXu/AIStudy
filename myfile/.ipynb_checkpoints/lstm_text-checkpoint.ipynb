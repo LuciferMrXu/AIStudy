{
 "cells": [
  {
   "cell_type": "code",
   "execution_count": 1,
   "metadata": {},
   "outputs": [],
   "source": [
    "from __future__ import print_function\n",
    "\n",
    "import numpy as np\n",
    "import tensorflow as tf\n",
    "from tensorflow.contrib import rnn\n",
    "import random\n",
    "import collections\n",
    "import time"
   ]
  },
  {
   "cell_type": "code",
   "execution_count": 2,
   "metadata": {},
   "outputs": [],
   "source": [
    "start_time = time.time()\n",
    "# 时间处理\n",
    "def elapsed(sec):\n",
    "    if sec<60:\n",
    "        return str(sec) + \" sec\"\n",
    "    elif sec<(60*60):\n",
    "        return str(sec/60) + \" min\"\n",
    "    else:\n",
    "        return str(sec/(60*60)) + \" hr\""
   ]
  },
  {
   "cell_type": "code",
   "execution_count": 3,
   "metadata": {},
   "outputs": [
    {
     "name": "stdout",
     "output_type": "stream",
     "text": [
      "Loaded training data...\n"
     ]
    }
   ],
   "source": [
    "# 导入数据\n",
    "# Target log path\n",
    "logs_path = './tmp/rnn_words'\n",
    "writer = tf.summary.FileWriter(logs_path)\n",
    "\n",
    "# Text file containing words for training\n",
    "training_file = 'belling_the_cat.txt'\n",
    "\n",
    "def read_data(fname):\n",
    "    with open(fname) as f:\n",
    "        content = f.readlines()\n",
    "    content = [x.strip() for x in content]\n",
    "    content = [content[i].split() for i in range(len(content))]\n",
    "    content = np.array(content)\n",
    "    content = np.reshape(content, [-1, ])\n",
    "    return content\n",
    "\n",
    "training_data = read_data(training_file)\n",
    "print(\"Loaded training data...\")"
   ]
  },
  {
   "cell_type": "code",
   "execution_count": 4,
   "metadata": {},
   "outputs": [
    {
     "name": "stdout",
     "output_type": "stream",
     "text": [
      "{',': 0, 'the': 1, '.': 2, 'and': 3, 'to': 4, 'said': 5, 'a': 6, 'could': 7, 'that': 8, 'cat': 9, 'some': 10, 'this': 11, 'mouse': 12, 'he': 13, 'in': 14, 'we': 15, 'is': 16, 'mice': 17, 'had': 18, 'general': 19, 'enemy': 20, 'but': 21, 'at': 22, 'got': 23, 'up': 24, 'proposal': 25, 'which': 26, 'all': 27, 'of': 28, 'her': 29, 'easily': 30, 'propose': 31, 'bell': 32, 'by': 33, 'she': 34, 'was': 35, 'old': 36, 'long': 37, 'ago': 38, 'council': 39, 'consider': 40, 'what': 41, 'measures': 42, 'they': 43, 'take': 44, 'outwit': 45, 'their': 46, 'common': 47, 'last': 48, 'young': 49, 'make': 50, 'thought': 51, 'would': 52, 'meet': 53, 'case': 54, 'you': 55, 'will': 56, 'agree': 57, 'our': 58, 'chief': 59, 'danger': 60, 'consists': 61, 'sly': 62, 'treacherous': 63, 'manner': 64, 'approaches': 65, 'us': 66, 'now': 67, 'if': 68, 'receive': 69, 'signal': 70, 'approach': 71, 'escape': 72, 'from': 73, 'i': 74, 'venture': 75, 'therefore': 76, 'small': 77, 'be': 78, 'procured': 79, 'attached': 80, 'ribbon': 81, 'round': 82, 'neck': 83, 'means': 84, 'should': 85, 'always': 86, 'know': 87, 'when': 88, 'about': 89, 'retire': 90, 'while': 91, 'neighbourhood': 92, 'met': 93, 'with': 94, 'applause': 95, 'until': 96, 'an': 97, 'very': 98, 'well': 99, 'who': 100, '?': 101, 'looked': 102, 'one': 103, 'another': 104, 'nobody': 105, 'spoke': 106, 'then': 107, 'it': 108, 'easy': 109, 'impossible': 110, 'remedies': 111}\n",
      "****************************************************************************************************\n",
      "{0: ',', 1: 'the', 2: '.', 3: 'and', 4: 'to', 5: 'said', 6: 'a', 7: 'could', 8: 'that', 9: 'cat', 10: 'some', 11: 'this', 12: 'mouse', 13: 'he', 14: 'in', 15: 'we', 16: 'is', 17: 'mice', 18: 'had', 19: 'general', 20: 'enemy', 21: 'but', 22: 'at', 23: 'got', 24: 'up', 25: 'proposal', 26: 'which', 27: 'all', 28: 'of', 29: 'her', 30: 'easily', 31: 'propose', 32: 'bell', 33: 'by', 34: 'she', 35: 'was', 36: 'old', 37: 'long', 38: 'ago', 39: 'council', 40: 'consider', 41: 'what', 42: 'measures', 43: 'they', 44: 'take', 45: 'outwit', 46: 'their', 47: 'common', 48: 'last', 49: 'young', 50: 'make', 51: 'thought', 52: 'would', 53: 'meet', 54: 'case', 55: 'you', 56: 'will', 57: 'agree', 58: 'our', 59: 'chief', 60: 'danger', 61: 'consists', 62: 'sly', 63: 'treacherous', 64: 'manner', 65: 'approaches', 66: 'us', 67: 'now', 68: 'if', 69: 'receive', 70: 'signal', 71: 'approach', 72: 'escape', 73: 'from', 74: 'i', 75: 'venture', 76: 'therefore', 77: 'small', 78: 'be', 79: 'procured', 80: 'attached', 81: 'ribbon', 82: 'round', 83: 'neck', 84: 'means', 85: 'should', 86: 'always', 87: 'know', 88: 'when', 89: 'about', 90: 'retire', 91: 'while', 92: 'neighbourhood', 93: 'met', 94: 'with', 95: 'applause', 96: 'until', 97: 'an', 98: 'very', 99: 'well', 100: 'who', 101: '?', 102: 'looked', 103: 'one', 104: 'another', 105: 'nobody', 106: 'spoke', 107: 'then', 108: 'it', 109: 'easy', 110: 'impossible', 111: 'remedies'}\n"
     ]
    }
   ],
   "source": [
    "# 2.建立字典和逆序字典的函数\n",
    "# 预测值也是一个唯一的整数值与逆序字典中预测符号的索引相对应。\n",
    "count = collections.Counter(training_data).most_common()\n",
    "#print(collections.Counter(training_data).most_common())\n",
    "dictionary = dict()\n",
    "for word, _ in count:\n",
    "    dictionary[word] = len(dictionary)\n",
    "reverse_dictionary = dict(zip(dictionary.values(), dictionary.keys()))\n",
    "print(dictionary)\n",
    "print('*'*100)\n",
    "print(reverse_dictionary)"
   ]
  },
  {
   "cell_type": "code",
   "execution_count": 5,
   "metadata": {},
   "outputs": [],
   "source": [
    "def build_dataset(words):\n",
    "    count = collections.Counter(words).most_common()\n",
    "    dictionary = dict()\n",
    "    for word, _ in count:\n",
    "        dictionary[word] = len(dictionary)\n",
    "    reverse_dictionary = dict(zip(dictionary.values(), dictionary.keys()))\n",
    "    return dictionary, reverse_dictionary"
   ]
  },
  {
   "cell_type": "code",
   "execution_count": 6,
   "metadata": {},
   "outputs": [],
   "source": [
    "# 3.常量和训练参数\n",
    "dictionary, reverse_dictionary = build_dataset(training_data)\n",
    "vocab_size = len(dictionary)\n",
    "\n",
    "# Parameters\n",
    "learning_rate = 0.001\n",
    "training_iters = 50000\n",
    "display_step = 1000\n",
    "n_input = 3\n",
    "\n",
    "# number of units in RNN cell\n",
    "n_hidden = 512\n",
    "\n",
    "# tf Graph input\n",
    "x = tf.placeholder(\"float\", [None, n_input, 1])\n",
    "y = tf.placeholder(\"float\", [None, vocab_size])\n",
    "\n",
    "# RNN output node weights and biases\n",
    "weights = {\n",
    "    'out': tf.Variable(tf.random_normal([n_hidden, vocab_size]))\n",
    "}\n",
    "biases = {\n",
    "    'out': tf.Variable(tf.random_normal([vocab_size]))\n",
    "}"
   ]
  },
  {
   "cell_type": "code",
   "execution_count": 7,
   "metadata": {},
   "outputs": [],
   "source": [
    "# 4.LSTM 单元的网络模型\n",
    "def RNN(x, weights, biases):\n",
    "\n",
    "    # reshape to [1, n_input]\n",
    "    # static_rnn\n",
    "    x = tf.reshape(x, [-1, n_input])\n",
    "\n",
    "    # Generate a n_input-element sequence of inputs\n",
    "    # (eg. [had] [a] [general] -> [20] [6] [33])\n",
    "    x = tf.split(x,n_input,1)\n",
    "    # static_rnn => [batch_size,time_step_size,1]\n",
    "\n",
    "    # 2-layer LSTM, each layer has n_hidden units.\n",
    "    # Average Accuracy= 95.20% at 50k iter\n",
    "    rnn_cell = rnn.MultiRNNCell([rnn.BasicLSTMCell(n_hidden),rnn.BasicLSTMCell(n_hidden)])\n",
    "\n",
    "    # 1-layer LSTM with n_hidden units but with lower accuracy.\n",
    "    # Average Accuracy= 90.60% 50k iter\n",
    "    # Uncomment line below to test but comment out the 2-layer rnn.MultiRNNCell above\n",
    "    # rnn_cell = rnn.BasicLSTMCell(n_hidden)\n",
    "\n",
    "    # generate prediction\n",
    "    outputs, states = rnn.static_rnn(rnn_cell, x, dtype=tf.float32)\n",
    "\n",
    "    # there are n_input outputs but\n",
    "    # we only want the last output\n",
    "    return tf.matmul(outputs[-1], weights['out']) + biases['out']"
   ]
  },
  {
   "cell_type": "code",
   "execution_count": null,
   "metadata": {},
   "outputs": [
    {
     "name": "stdout",
     "output_type": "stream",
     "text": [
      "WARNING:tensorflow:From <ipython-input-7-0e93fa0cb2b9>:15: BasicLSTMCell.__init__ (from tensorflow.python.ops.rnn_cell_impl) is deprecated and will be removed in a future version.\n",
      "Instructions for updating:\n",
      "This class is deprecated, please use tf.nn.rnn_cell.LSTMCell, which supports all the feature this cell currently has. Please replace the existing code with tf.nn.rnn_cell.LSTMCell(name='basic_lstm_cell').\n",
      "Iter= 1000, Average Loss= 4.330471, Average Accuracy= 5.30%\n",
      "['at', 'one', 'another'] - [and] vs [know]\n",
      "Iter= 2000, Average Loss= 2.935567, Average Accuracy= 19.10%\n",
      "['up', 'and', 'said'] - [that] vs [he]\n",
      "Iter= 3000, Average Loss= 2.410934, Average Accuracy= 32.20%\n",
      "['this', 'proposal', 'met'] - [with] vs [well]\n",
      "Iter= 4000, Average Loss= 1.995235, Average Accuracy= 49.90%\n",
      "['easily', 'retire', 'while'] - [she] vs [she]\n",
      "Iter= 5000, Average Loss= 1.884301, Average Accuracy= 51.50%\n",
      "['of', 'the', 'cat'] - [.] vs [?]\n"
     ]
    }
   ],
   "source": [
    "# tensorflow 执行\n",
    "# Launch the graph\n",
    "#  模型训练\n",
    "pred = RNN(x, weights, biases)\n",
    "\n",
    "# Loss and optimizer\n",
    "cost = tf.reduce_mean(tf.nn.softmax_cross_entropy_with_logits_v2(logits=pred, labels=y))\n",
    "optimizer = tf.train.RMSPropOptimizer(learning_rate=learning_rate).minimize(cost)\n",
    "\n",
    "# Model evaluation\n",
    "correct_pred = tf.equal(tf.argmax(pred,1), tf.argmax(y,1))\n",
    "accuracy = tf.reduce_mean(tf.cast(correct_pred, tf.float32))\n",
    "\n",
    "# Initializing the variables\n",
    "init = tf.global_variables_initializer()\n",
    "if 'session' in locals() and session is not None:\n",
    "    print('Close interactive session')\n",
    "    session.close()\n",
    "with tf.Session() as session:\n",
    "    session.run(init)\n",
    "    step = 0\n",
    "    offset = random.randint(0,n_input+1)\n",
    "    end_offset = n_input + 1\n",
    "    acc_total = 0\n",
    "    loss_total = 0\n",
    "\n",
    "    writer.add_graph(session.graph)\n",
    "\n",
    "    while step < training_iters:\n",
    "        # Generate a minibatch. Add some randomness on selection process.\n",
    "        if offset > (len(training_data)-end_offset):\n",
    "            offset = random.randint(0, n_input+1)\n",
    "\n",
    "        symbols_in_keys = [ [dictionary[ str(training_data[i])]] for i in range(offset, offset+n_input) ]\n",
    "        # 2D \n",
    "        symbols_in_keys = np.reshape(np.array(symbols_in_keys), [-1, n_input,1])\n",
    "\n",
    "        symbols_out_onehot = np.zeros([vocab_size], dtype=float)\n",
    "        symbols_out_onehot[dictionary[str(training_data[offset+n_input])]] = 1.0\n",
    "        symbols_out_onehot = np.reshape(symbols_out_onehot,[1,-1])\n",
    "\n",
    "        _, acc, loss, onehot_pred = session.run([optimizer, accuracy, cost, pred], \\\n",
    "                                                feed_dict={x: symbols_in_keys, y: symbols_out_onehot})\n",
    "        loss_total += loss\n",
    "        acc_total += acc\n",
    "        if (step+1) % display_step == 0:\n",
    "            print(\"Iter= \" + str(step+1) + \", Average Loss= \" + \\\n",
    "                  \"{:.6f}\".format(loss_total/display_step) + \", Average Accuracy= \" + \\\n",
    "                  \"{:.2f}%\".format(100*acc_total/display_step))\n",
    "            acc_total = 0\n",
    "            loss_total = 0\n",
    "            symbols_in = [training_data[i] for i in range(offset, offset + n_input)]\n",
    "            symbols_out = training_data[offset + n_input]\n",
    "            symbols_out_pred = reverse_dictionary[int(tf.argmax(onehot_pred, 1).eval())]\n",
    "            print(\"%s - [%s] vs [%s]\" % (symbols_in,symbols_out,symbols_out_pred))\n",
    "            #save model\n",
    "            saver = tf.train.Saver()\n",
    "            saver.save(session, \"./model/lstem_text.model\", global_step=step)\n",
    "        step += 1\n",
    "        offset += (n_input+1)\n",
    "    print(\"Optimization Finished!\")\n",
    "    print(\"Elapsed time: \", elapsed(time.time() - start_time))\n",
    "    print(\"Run on command line.\")\n",
    "    print(\"\\ttensorboard --logdir=%s\" % (logs_path))\n",
    "    print(\"Point your web browser to: http://localhost:6006/\")\n",
    "    while True:\n",
    "        prompt = \"%s words: \" % n_input\n",
    "        sentence = input(prompt)\n",
    "        sentence = sentence.strip()\n",
    "        words = sentence.split(' ')\n",
    "        if len(words) != n_input:\n",
    "            continue\n",
    "        try:\n",
    "            symbols_in_keys = [dictionary[str(words[i])] for i in range(len(words))]\n",
    "            for i in range(32):\n",
    "                keys = np.reshape(np.array(symbols_in_keys), [-1, n_input, 1])\n",
    "                onehot_pred = session.run(pred, feed_dict={x: keys})\n",
    "                onehot_pred_index = int(tf.argmax(onehot_pred, 1).eval())\n",
    "                sentence = \"%s %s\" % (sentence,reverse_dictionary[onehot_pred_index])\n",
    "                symbols_in_keys = symbols_in_keys[1:]\n",
    "                symbols_in_keys.append(onehot_pred_index)\n",
    "            print(sentence)\n",
    "        except:\n",
    "            print(\"Word not in dictionary\")"
   ]
  },
  {
   "cell_type": "code",
   "execution_count": null,
   "metadata": {
    "collapsed": true
   },
   "outputs": [],
   "source": []
  }
 ],
 "metadata": {
  "anaconda-cloud": {},
  "kernelspec": {
   "display_name": "Python 3",
   "language": "python",
   "name": "python3"
  },
  "language_info": {
   "codemirror_mode": {
    "name": "ipython",
    "version": 3
   },
   "file_extension": ".py",
   "mimetype": "text/x-python",
   "name": "python",
   "nbconvert_exporter": "python",
   "pygments_lexer": "ipython3",
   "version": "3.6.8"
  }
 },
 "nbformat": 4,
 "nbformat_minor": 1
}
