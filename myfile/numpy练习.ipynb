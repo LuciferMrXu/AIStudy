{
 "cells": [
  {
   "cell_type": "markdown",
   "metadata": {},
   "source": [
    "# NumPy核心数据结构：ndarray"
   ]
  },
  {
   "cell_type": "code",
   "execution_count": 1,
   "metadata": {},
   "outputs": [],
   "source": [
    "import numpy as np"
   ]
  },
  {
   "cell_type": "markdown",
   "metadata": {},
   "source": [
    "# ndarray创建"
   ]
  },
  {
   "cell_type": "code",
   "execution_count": 2,
   "metadata": {},
   "outputs": [],
   "source": [
    "# array函数\n",
    "?np.array# 参数列表：序列、数据类型、是否copy数据、是否排序，等等"
   ]
  },
  {
   "cell_type": "code",
   "execution_count": 57,
   "metadata": {},
   "outputs": [
    {
     "name": "stdout",
     "output_type": "stream",
     "text": [
      "使用list创建：\n"
     ]
    },
    {
     "data": {
      "text/plain": [
       "array([1, 2, 3, 4, 5])"
      ]
     },
     "execution_count": 57,
     "metadata": {},
     "output_type": "execute_result"
    }
   ],
   "source": [
    "# 使用列表创建\n",
    "list1=[1,2,3,4,5]\n",
    "print('使用list创建：')\n",
    "np.array(list1)"
   ]
  },
  {
   "cell_type": "code",
   "execution_count": 58,
   "metadata": {},
   "outputs": [
    {
     "name": "stdout",
     "output_type": "stream",
     "text": [
      "a= [1 2 3]\n",
      "b= [4 5 6]\n"
     ]
    }
   ],
   "source": [
    "a=np.array([1,2,3])\n",
    "b=np.array([4,5,6])\n",
    "print('a=',a)\n",
    "print('b=',b)"
   ]
  },
  {
   "cell_type": "code",
   "execution_count": 59,
   "metadata": {},
   "outputs": [
    {
     "name": "stdout",
     "output_type": "stream",
     "text": [
      "二维列表：\n",
      "\n"
     ]
    },
    {
     "data": {
      "text/plain": [
       "array([[1, 2, 3, 4],\n",
       "       [5, 6, 7, 8]])"
      ]
     },
     "execution_count": 59,
     "metadata": {},
     "output_type": "execute_result"
    }
   ],
   "source": [
    "# 二维列表创建\n",
    "list2=[\n",
    "    [1,2,3,4],\n",
    "    [5,6,7,8]\n",
    "]\n",
    "print('二维列表：\\n')\n",
    "np.array(list2)"
   ]
  },
  {
   "cell_type": "code",
   "execution_count": 60,
   "metadata": {},
   "outputs": [
    {
     "name": "stdout",
     "output_type": "stream",
     "text": [
      "==a==\n",
      "[[1 2 3]\n",
      " [4 5 6]\n",
      " [7 8 9]]\n"
     ]
    }
   ],
   "source": [
    "a=np.array([\n",
    "    [1,2,3],\n",
    "    [4,5,6],\n",
    "    [7,8,9]\n",
    "])\n",
    "print('==a==')\n",
    "print(a)"
   ]
  },
  {
   "cell_type": "code",
   "execution_count": 61,
   "metadata": {},
   "outputs": [
    {
     "name": "stdout",
     "output_type": "stream",
     "text": [
      "[[[ 1  2  3  4]\n",
      "  [ 4  5  6  7]\n",
      "  [ 5  6  7  8]]\n",
      "\n",
      " [[10 20 30 40]\n",
      "  [20 30 40 50]\n",
      "  [50 60 70 80]]]\n"
     ]
    }
   ],
   "source": [
    "b=np.array([\n",
    "    [\n",
    "        [1,2,3,4],\n",
    "        [4,5,6,7],\n",
    "        [5,6,7,8]\n",
    "    ],\n",
    "    [\n",
    "        [10,20,30,40],\n",
    "        [20,30,40,50],\n",
    "        [50,60,70,80]\n",
    "    ]\n",
    "           ])\n",
    "print(b)"
   ]
  },
  {
   "cell_type": "code",
   "execution_count": 62,
   "metadata": {},
   "outputs": [
    {
     "name": "stdout",
     "output_type": "stream",
     "text": [
      "使用元组创建：\n"
     ]
    },
    {
     "data": {
      "text/plain": [
       "array([1, 2, 3, 4, 5])"
      ]
     },
     "execution_count": 62,
     "metadata": {},
     "output_type": "execute_result"
    }
   ],
   "source": [
    "# 使用元组\n",
    "tuple1=(1,2,3,4,5)\n",
    "print('使用元组创建：')\n",
    "np.array(tuple1)"
   ]
  },
  {
   "cell_type": "code",
   "execution_count": 63,
   "metadata": {},
   "outputs": [
    {
     "name": "stdout",
     "output_type": "stream",
     "text": [
      "二维元组创建：\n",
      "\n"
     ]
    },
    {
     "data": {
      "text/plain": [
       "array([[1, 2, 3, 4],\n",
       "       [5, 6, 7, 8]])"
      ]
     },
     "execution_count": 63,
     "metadata": {},
     "output_type": "execute_result"
    }
   ],
   "source": [
    "tuple2=(\n",
    "    (1,2,3,4),\n",
    "    (5,6,7,8)\n",
    ")\n",
    "print('二维元组创建：\\n')\n",
    "np.array(tuple2)"
   ]
  },
  {
   "cell_type": "code",
   "execution_count": 64,
   "metadata": {},
   "outputs": [
    {
     "name": "stdout",
     "output_type": "stream",
     "text": [
      "[[[1 2 3 4]\n",
      "  [4 5 6 7]\n",
      "  [7 8 9 9]]\n",
      "\n",
      " [[4 5 6 7]\n",
      "  [2 3 5 6]\n",
      "  [7 8 9 1]]]\n"
     ]
    }
   ],
   "source": [
    "b=np.array((\n",
    "    (\n",
    "        (1,2,3,4),(4,5,6,7),(7,8,9,9)\n",
    "    ),\n",
    "    (\n",
    "        (4,5,6,7),(2,3,5,6),(7,8,9,1)\n",
    "    )\n",
    "))\n",
    "print(b)"
   ]
  },
  {
   "cell_type": "code",
   "execution_count": 65,
   "metadata": {},
   "outputs": [
    {
     "name": "stdout",
     "output_type": "stream",
     "text": [
      "生成全零数组： [0. 0. 0.]\n",
      "生成多维全零数组：\n"
     ]
    },
    {
     "data": {
      "text/plain": [
       "array([[0., 0., 0.],\n",
       "       [0., 0., 0.],\n",
       "       [0., 0., 0.]])"
      ]
     },
     "execution_count": 65,
     "metadata": {},
     "output_type": "execute_result"
    }
   ],
   "source": [
    "# zeros 创建全零数组\n",
    "print('生成全零数组：',np.zeros(3))\n",
    "print('生成多维全零数组：')\n",
    "np.zeros((3,3))"
   ]
  },
  {
   "cell_type": "code",
   "execution_count": 66,
   "metadata": {},
   "outputs": [
    {
     "name": "stdout",
     "output_type": "stream",
     "text": [
      "生成全1数组： [1. 1. 1. 1. 1.]\n",
      "生成多维全1数组：\n"
     ]
    },
    {
     "data": {
      "text/plain": [
       "array([[1., 1.],\n",
       "       [1., 1.],\n",
       "       [1., 1.]])"
      ]
     },
     "execution_count": 66,
     "metadata": {},
     "output_type": "execute_result"
    }
   ],
   "source": [
    "# ones 创建全1数组\n",
    "print('生成全1数组：',np.ones(5))\n",
    "print('生成多维全1数组：')\n",
    "np.ones((3,2))"
   ]
  },
  {
   "cell_type": "code",
   "execution_count": 67,
   "metadata": {},
   "outputs": [
    {
     "name": "stdout",
     "output_type": "stream",
     "text": [
      "生成empty数组： [0.66666667 0.33333333 1.         5.        ]\n",
      "生成多维empty数组：\n"
     ]
    },
    {
     "data": {
      "text/plain": [
       "array([[1., 1., 1.],\n",
       "       [1., 1., 1.]])"
      ]
     },
     "execution_count": 67,
     "metadata": {},
     "output_type": "execute_result"
    }
   ],
   "source": [
    "#  empty 创建未初始化数组\n",
    "print('生成empty数组：',np.empty(4))\n",
    "print('生成多维empty数组：')\n",
    "np.empty((2,3))"
   ]
  },
  {
   "cell_type": "markdown",
   "metadata": {},
   "source": [
    "# ndarray其他创建方式"
   ]
  },
  {
   "cell_type": "code",
   "execution_count": 68,
   "metadata": {},
   "outputs": [
    {
     "data": {
      "text/plain": [
       "array([ 0,  1,  2,  3,  4,  5,  6,  7,  8,  9, 10, 11, 12, 13, 14, 15, 16,\n",
       "       17, 18, 19])"
      ]
     },
     "execution_count": 68,
     "metadata": {},
     "output_type": "execute_result"
    }
   ],
   "source": [
    "np.arange(20)# 默认获取[0,20)区间，步长为1的数据"
   ]
  },
  {
   "cell_type": "code",
   "execution_count": 69,
   "metadata": {},
   "outputs": [
    {
     "data": {
      "text/plain": [
       "array([10, 11, 12, 13, 14, 15, 16, 17, 18, 19])"
      ]
     },
     "execution_count": 69,
     "metadata": {},
     "output_type": "execute_result"
    }
   ],
   "source": [
    "np.arange(10,20)# 指定开始数据为10，获取数据区间为[10,20)，步长为1"
   ]
  },
  {
   "cell_type": "code",
   "execution_count": 70,
   "metadata": {},
   "outputs": [
    {
     "data": {
      "text/plain": [
       "array([10, 12, 14, 16, 18])"
      ]
     },
     "execution_count": 70,
     "metadata": {},
     "output_type": "execute_result"
    }
   ],
   "source": [
    "np.arange(10,20,2)#指定步长为2"
   ]
  },
  {
   "cell_type": "code",
   "execution_count": 71,
   "metadata": {},
   "outputs": [
    {
     "data": {
      "text/plain": [
       "array([20, 19, 18, 17, 16])"
      ]
     },
     "execution_count": 71,
     "metadata": {},
     "output_type": "execute_result"
    }
   ],
   "source": [
    "np.arange(20,15,-1)#指定步长为-1"
   ]
  },
  {
   "cell_type": "code",
   "execution_count": 72,
   "metadata": {},
   "outputs": [
    {
     "data": {
      "text/plain": [
       "array([ 0. ,  2.5,  5. ,  7.5, 10. ])"
      ]
     },
     "execution_count": 72,
     "metadata": {},
     "output_type": "execute_result"
    }
   ],
   "source": [
    "np.linspace(0,10,5)#形成一个包含5个元素的数组，元素之间是等差数列变化，差值为2.5"
   ]
  },
  {
   "cell_type": "code",
   "execution_count": 73,
   "metadata": {},
   "outputs": [],
   "source": [
    "?np.linspace"
   ]
  },
  {
   "cell_type": "code",
   "execution_count": 74,
   "metadata": {},
   "outputs": [
    {
     "data": {
      "text/plain": [
       "array([  1.        ,   3.16227766,  10.        ,  31.6227766 ,\n",
       "       100.        ])"
      ]
     },
     "execution_count": 74,
     "metadata": {},
     "output_type": "execute_result"
    }
   ],
   "source": [
    "np.logspace(0,2,5)#0表示10的0次方，2表示10的2次方，5表示最终生成的元素数量为5个（可以通过参数base来指定具体的底数）"
   ]
  },
  {
   "cell_type": "code",
   "execution_count": 75,
   "metadata": {},
   "outputs": [],
   "source": [
    "?np.logspace"
   ]
  },
  {
   "cell_type": "code",
   "execution_count": 76,
   "metadata": {},
   "outputs": [
    {
     "data": {
      "text/plain": [
       "array([[[0.52531624, 0.5070507 , 0.97791487],\n",
       "        [0.78215113, 0.86131964, 0.7954182 ]],\n",
       "\n",
       "       [[0.31519769, 0.87810993, 0.17264876],\n",
       "        [0.13336412, 0.62131788, 0.29713875]],\n",
       "\n",
       "       [[0.29121418, 0.02317707, 0.37325202],\n",
       "        [0.3236501 , 0.61746325, 0.5587603 ]]])"
      ]
     },
     "execution_count": 76,
     "metadata": {},
     "output_type": "execute_result"
    }
   ],
   "source": [
    "np.random.random((3,2,3))#指定数组的大小形状"
   ]
  },
  {
   "cell_type": "code",
   "execution_count": 77,
   "metadata": {},
   "outputs": [
    {
     "name": "stdout",
     "output_type": "stream",
     "text": [
      "[[ 0.48470668 -1.06109799 -0.32890007]\n",
      " [-1.27795145  0.54993119 -0.13067846]\n",
      " [ 0.45968238  1.48434219 -0.92306683]]\n"
     ]
    }
   ],
   "source": [
    "# 返回一个样本具有标准正态分布\n",
    "arr=np.random.randn(3,3)\n",
    "print(arr)"
   ]
  },
  {
   "cell_type": "code",
   "execution_count": 78,
   "metadata": {},
   "outputs": [
    {
     "name": "stdout",
     "output_type": "stream",
     "text": [
      "[[2 2 1]\n",
      " [1 1 1]\n",
      " [1 4 7]]\n"
     ]
    }
   ],
   "source": [
    "# 返回随机的整数\n",
    "arr=np.random.randint(1,9,size=(3,3))\n",
    "print(arr)"
   ]
  },
  {
   "cell_type": "code",
   "execution_count": 79,
   "metadata": {},
   "outputs": [
    {
     "name": "stdout",
     "output_type": "stream",
     "text": [
      "[0.82699971 0.20330367 0.8066971  0.94788713 0.01200761 0.17529617\n",
      " 0.42023533 0.26563507 0.87185435]\n"
     ]
    }
   ],
   "source": [
    "# 返回0到1的随机值\n",
    "arr=np.random.rand(9) # rand根据维度生成[0,1)之间的数据，包含0，不包含1\n",
    "print(arr)"
   ]
  },
  {
   "cell_type": "markdown",
   "metadata": {},
   "source": [
    "# ndarray对象属性"
   ]
  },
  {
   "cell_type": "code",
   "execution_count": 80,
   "metadata": {},
   "outputs": [
    {
     "name": "stdout",
     "output_type": "stream",
     "text": [
      "维度的数量： 2\n",
      "数组的形状： (3, 3)\n",
      "数组的元素类型： int32\n",
      "数组的元素数量： 9\n"
     ]
    }
   ],
   "source": [
    "a=np.array([\n",
    "    [1,2,3],\n",
    "    [4,5,6],\n",
    "    [7,8,9]\n",
    "])\n",
    "print('维度的数量：',a.ndim)\n",
    "print('数组的形状：',a.shape)\n",
    "print('数组的元素类型：',a.dtype)\n",
    "print('数组的元素数量：',a.size)"
   ]
  },
  {
   "cell_type": "markdown",
   "metadata": {},
   "source": [
    "# ndarray中元素数据类型"
   ]
  },
  {
   "cell_type": "code",
   "execution_count": 81,
   "metadata": {},
   "outputs": [
    {
     "name": "stdout",
     "output_type": "stream",
     "text": [
      "int32\n",
      "int32\n",
      "float64\n"
     ]
    }
   ],
   "source": [
    "a2=np.array([1,2,3,4])\n",
    "print(a2.dtype)\n",
    "a3=a2.astype(float)# 类型转换要求支持类型的转换\n",
    "print(a2.dtype)\n",
    "print(a3.dtype)"
   ]
  },
  {
   "cell_type": "markdown",
   "metadata": {},
   "source": [
    "# NumPy基本数据类型"
   ]
  },
  {
   "cell_type": "code",
   "execution_count": 82,
   "metadata": {},
   "outputs": [
    {
     "data": {
      "text/plain": [
       "array(['Python', 'Scala', 'Java', 'C#'], dtype='<U6')"
      ]
     },
     "execution_count": 82,
     "metadata": {},
     "output_type": "execute_result"
    }
   ],
   "source": [
    "d=np.array(['Python','Scala','Java','C#'])\n",
    "d"
   ]
  },
  {
   "cell_type": "code",
   "execution_count": 83,
   "metadata": {},
   "outputs": [
    {
     "data": {
      "text/plain": [
       "dtype('<U6')"
      ]
     },
     "execution_count": 83,
     "metadata": {},
     "output_type": "execute_result"
    }
   ],
   "source": [
    "d.dtype"
   ]
  },
  {
   "cell_type": "code",
   "execution_count": 84,
   "metadata": {},
   "outputs": [
    {
     "data": {
      "text/plain": [
       "array([b'Python', b'Scala', b'Java', b'C#'], dtype='|S8')"
      ]
     },
     "execution_count": 84,
     "metadata": {},
     "output_type": "execute_result"
    }
   ],
   "source": [
    "e=np.array(['Python','Scala','Java','C#'],dtype='S8')\n",
    "e"
   ]
  },
  {
   "cell_type": "code",
   "execution_count": 85,
   "metadata": {},
   "outputs": [
    {
     "name": "stdout",
     "output_type": "stream",
     "text": [
      "int32\n"
     ]
    },
    {
     "data": {
      "text/plain": [
       "array([129,   2,   3,   4])"
      ]
     },
     "execution_count": 85,
     "metadata": {},
     "output_type": "execute_result"
    }
   ],
   "source": [
    "arr=np.array([129,2,3,4],dtype=np.int32)\n",
    "print(arr.dtype)\n",
    "arr"
   ]
  },
  {
   "cell_type": "code",
   "execution_count": 86,
   "metadata": {},
   "outputs": [],
   "source": [
    "#大端小端：\n",
    "# 一种是将低序字节存储在起始地址，这称为小端(little-endian)字节序；\n",
    "# 另一种方法是将高序字节存储在起始地址，这称为大端(big-endian)字节序。"
   ]
  },
  {
   "cell_type": "code",
   "execution_count": 87,
   "metadata": {},
   "outputs": [
    {
     "data": {
      "text/plain": [
       "array([b'12', b'2', b'3', b'4'], dtype='|S2')"
      ]
     },
     "execution_count": 87,
     "metadata": {},
     "output_type": "execute_result"
    }
   ],
   "source": [
    "arr=np.array([129,2,3,4],dtype='S2')\n",
    "arr"
   ]
  },
  {
   "cell_type": "code",
   "execution_count": 88,
   "metadata": {},
   "outputs": [
    {
     "data": {
      "text/plain": [
       "array([129.,   2.,   3.,   4.], dtype=float32)"
      ]
     },
     "execution_count": 88,
     "metadata": {},
     "output_type": "execute_result"
    }
   ],
   "source": [
    "arr=np.array([129,2,3,4],dtype='float32')\n",
    "arr"
   ]
  },
  {
   "cell_type": "code",
   "execution_count": 89,
   "metadata": {},
   "outputs": [
    {
     "data": {
      "text/plain": [
       "array([129,   2,   3,   4], dtype=int64)"
      ]
     },
     "execution_count": 89,
     "metadata": {},
     "output_type": "execute_result"
    }
   ],
   "source": [
    "arr=np.array([129,2,3,4],dtype='i8')\n",
    "arr"
   ]
  },
  {
   "cell_type": "markdown",
   "metadata": {},
   "source": [
    "# ndarray修改形状"
   ]
  },
  {
   "cell_type": "code",
   "execution_count": 90,
   "metadata": {},
   "outputs": [
    {
     "name": "stdout",
     "output_type": "stream",
     "text": [
      "[ 0  2  4  6  8 10 12 14 16 18]\n",
      "10\n"
     ]
    }
   ],
   "source": [
    "a=np.arange(0,20,2)\n",
    "print(a)\n",
    "print(a.size)"
   ]
  },
  {
   "cell_type": "code",
   "execution_count": 91,
   "metadata": {},
   "outputs": [
    {
     "data": {
      "text/plain": [
       "array([[ 0,  2,  4,  6,  8],\n",
       "       [10, 12, 14, 16, 18]])"
      ]
     },
     "execution_count": 91,
     "metadata": {},
     "output_type": "execute_result"
    }
   ],
   "source": [
    "a.reshape(-1,5)"
   ]
  },
  {
   "cell_type": "code",
   "execution_count": 92,
   "metadata": {},
   "outputs": [
    {
     "data": {
      "text/plain": [
       "array([[ 0,  2],\n",
       "       [ 4,  6],\n",
       "       [ 8, 10],\n",
       "       [12, 14],\n",
       "       [16, 18]])"
      ]
     },
     "execution_count": 92,
     "metadata": {},
     "output_type": "execute_result"
    }
   ],
   "source": [
    "a.reshape(5,-1)"
   ]
  },
  {
   "cell_type": "code",
   "execution_count": 93,
   "metadata": {},
   "outputs": [
    {
     "name": "stdout",
     "output_type": "stream",
     "text": [
      "(10,)\n"
     ]
    },
    {
     "data": {
      "text/plain": [
       "array([[ 0,  2,  4,  6,  8],\n",
       "       [10, 12, 14, 16, 18]])"
      ]
     },
     "execution_count": 93,
     "metadata": {},
     "output_type": "execute_result"
    }
   ],
   "source": [
    "# reshape修改复制之后的数组形状，shape修改原数组的形状\n",
    "print(a.shape)\n",
    "a.shape=(2,-1)\n",
    "a"
   ]
  },
  {
   "cell_type": "code",
   "execution_count": 94,
   "metadata": {},
   "outputs": [
    {
     "name": "stdout",
     "output_type": "stream",
     "text": [
      "[[ 0  2  4  6  8]\n",
      " [10 12 14 16 18]]\n",
      "10\n"
     ]
    }
   ],
   "source": [
    "b=a.reshape(2,5)\n",
    "print(b)\n",
    "print(b.size)"
   ]
  },
  {
   "cell_type": "code",
   "execution_count": 95,
   "metadata": {},
   "outputs": [
    {
     "name": "stdout",
     "output_type": "stream",
     "text": [
      "[[  0 100   4   6   8]\n",
      " [ 10  12  14  16  18]]\n",
      "[[  0 100   4   6   8]\n",
      " [ 10  12  14  16  18]]\n"
     ]
    }
   ],
   "source": [
    "b[0][1]=100\n",
    "print(a)\n",
    "print(b)"
   ]
  },
  {
   "cell_type": "markdown",
   "metadata": {},
   "source": [
    "# 数组与标量、数组之间的运算"
   ]
  },
  {
   "cell_type": "code",
   "execution_count": 96,
   "metadata": {},
   "outputs": [
    {
     "data": {
      "text/plain": [
       "array([3, 2, 8, 6])"
      ]
     },
     "execution_count": 96,
     "metadata": {},
     "output_type": "execute_result"
    }
   ],
   "source": [
    "arr1=np.array([1,1,2,3])\n",
    "arr2=np.array([2,1,6,3])\n",
    "arr1+arr2"
   ]
  },
  {
   "cell_type": "code",
   "execution_count": 97,
   "metadata": {},
   "outputs": [
    {
     "name": "stdout",
     "output_type": "stream",
     "text": [
      "[1 2 3 4 5]\n",
      "[5 6 7 8 9]\n",
      "[ 5 10 15 20 25]\n",
      "[-2 -1  0  1  2]\n",
      "[0.5 1.  1.5 2.  2.5]\n",
      "[1.         0.5        0.33333333 0.25       0.2       ]\n",
      "[ 1  4  9 16 25]\n",
      "[ 2  4  8 16 32]\n"
     ]
    }
   ],
   "source": [
    "arr1=np.array([1,2,3,4,5])\n",
    "print(arr1)\n",
    "print(arr1+4)\n",
    "print(arr1*5)\n",
    "print(arr1-3)\n",
    "print(arr1/2.0)\n",
    "print(1.0/arr1)\n",
    "print(arr1**2)\n",
    "print(2**arr1)"
   ]
  },
  {
   "cell_type": "code",
   "execution_count": 98,
   "metadata": {},
   "outputs": [
    {
     "name": "stdout",
     "output_type": "stream",
     "text": [
      "=====arr1+arr2=====\n",
      "[[5.6 5.2 5.1]\n",
      " [9.2 9.3 9.4]]\n",
      "=====arr1-arr2=====\n",
      "[[-3.6 -1.2  0.9]\n",
      " [-1.2  0.7  2.6]]\n",
      "=====arr1*arr2=====\n",
      "[[ 4.6  6.4  6.3]\n",
      " [20.8 21.5 20.4]]\n",
      "=====arr1/arr2=====\n",
      "[[0.2173913  0.625      1.42857143]\n",
      " [0.76923077 1.1627907  1.76470588]]\n",
      "=====arr1**arr2=====\n",
      "[[1.00000000e+00 9.18958684e+00 1.00451086e+01]\n",
      " [1.35117610e+03 1.01291037e+03 4.42297262e+02]]\n"
     ]
    }
   ],
   "source": [
    "arr1=np.array([\n",
    "    [1,2,3],\n",
    "    [4,5,6]\n",
    "])\n",
    "arr2=np.array([\n",
    "    [4.6,3.2,2.1],\n",
    "    [5.2,4.3,3.4]\n",
    "])\n",
    "print('=====arr1+arr2=====')\n",
    "print(arr1+arr2)\n",
    "print('=====arr1-arr2=====')\n",
    "print(arr1-arr2)\n",
    "print('=====arr1*arr2=====')\n",
    "print(arr1*arr2)\n",
    "print('=====arr1/arr2=====')\n",
    "print(arr1/arr2)\n",
    "print('=====arr1**arr2=====')\n",
    "print(arr1**arr2)"
   ]
  },
  {
   "cell_type": "code",
   "execution_count": 2,
   "metadata": {},
   "outputs": [
    {
     "name": "stdout",
     "output_type": "stream",
     "text": [
      "[[8 2 8]\n",
      " [4 1 8]]\n",
      "[2 3 4]\n"
     ]
    }
   ],
   "source": [
    "# 数组的广播\n",
    "arr1=np.random.randint(1,9,(2,3))\n",
    "print(arr1)\n",
    "arr2=np.array([2,3,4])\n",
    "print(arr2)"
   ]
  },
  {
   "cell_type": "code",
   "execution_count": 3,
   "metadata": {},
   "outputs": [
    {
     "name": "stdout",
     "output_type": "stream",
     "text": [
      "(2, 3)\n",
      "(3,)\n"
     ]
    }
   ],
   "source": [
    "print(arr1.shape)\n",
    "print(arr2.shape)"
   ]
  },
  {
   "cell_type": "code",
   "execution_count": 4,
   "metadata": {},
   "outputs": [
    {
     "data": {
      "text/plain": [
       "array([[10,  5, 12],\n",
       "       [ 6,  4, 12]])"
      ]
     },
     "execution_count": 4,
     "metadata": {},
     "output_type": "execute_result"
    }
   ],
   "source": [
    "arr1+arr2"
   ]
  },
  {
   "cell_type": "code",
   "execution_count": 5,
   "metadata": {},
   "outputs": [
    {
     "name": "stdout",
     "output_type": "stream",
     "text": [
      "[[8 4]\n",
      " [7 4]\n",
      " [6 2]]\n",
      "[2 7]\n",
      "[[10 11]\n",
      " [ 9 11]\n",
      " [ 8  9]]\n"
     ]
    }
   ],
   "source": [
    "# 广播 : 如果两个数组的轴长度相符，或其中的一方的长度为1，则认为它们是广播兼容的。广播会在缺失和（或）长度为1的维度上进行。(在维度更低的数组的第一位加上一个1 )\n",
    "arr1=np.random.randint(1,9,(3,2))\n",
    "arr2=np.random.randint(1,9,(2))\n",
    "print(arr1)\n",
    "print(arr2)\n",
    "print(arr1+arr2)"
   ]
  },
  {
   "cell_type": "code",
   "execution_count": 12,
   "metadata": {},
   "outputs": [
    {
     "name": "stdout",
     "output_type": "stream",
     "text": [
      "[[[7 7]\n",
      "  [8 7]]\n",
      "\n",
      " [[8 5]\n",
      "  [4 5]]\n",
      "\n",
      " [[7 5]\n",
      "  [6 3]]]\n",
      "[[3]\n",
      " [3]]\n",
      "[[[10 10]\n",
      "  [11 10]]\n",
      "\n",
      " [[11  8]\n",
      "  [ 7  8]]\n",
      "\n",
      " [[10  8]\n",
      "  [ 9  6]]]\n"
     ]
    }
   ],
   "source": [
    "arr1=np.random.randint(1,9,(3,2,2))\n",
    "# arr2=np.random.randint(1,9,(3,2))   # 无法直接广播\n",
    "# arr2=np.random.randint(1,9,(2,3))\n",
    "# arr2=np.random.randint(1,9,(3)) \n",
    "arr2=np.random.randint(1,9,(2,1)) \n",
    "print(arr1)\n",
    "print(arr2)\n",
    "print(arr1+arr2)"
   ]
  },
  {
   "cell_type": "markdown",
   "metadata": {},
   "source": [
    "# 数组的矩阵积"
   ]
  },
  {
   "cell_type": "code",
   "execution_count": 102,
   "metadata": {},
   "outputs": [
    {
     "data": {
      "text/plain": [
       "array([[15930.2 ,   244.2 ],\n",
       "       [ 8111.87,   148.87],\n",
       "       [13722.46,   221.1 ]])"
      ]
     },
     "execution_count": 102,
     "metadata": {},
     "output_type": "execute_result"
    }
   ],
   "source": [
    "arr=np.array([\n",
    "    [120,60,220],\n",
    "    [115,23,201],\n",
    "    [132,48,230]\n",
    "])\n",
    "arr2=np.array([\n",
    "    [12.34,0.04],\n",
    "    [204.56,2.34],\n",
    "    [9.89,0.45]\n",
    "])\n",
    "arr.dot(arr2)"
   ]
  },
  {
   "cell_type": "code",
   "execution_count": 103,
   "metadata": {},
   "outputs": [
    {
     "data": {
      "text/plain": [
       "array([[15930.2 ,   244.2 ],\n",
       "       [ 8111.87,   148.87],\n",
       "       [13722.46,   221.1 ]])"
      ]
     },
     "execution_count": 103,
     "metadata": {},
     "output_type": "execute_result"
    }
   ],
   "source": [
    "np.dot(arr,arr2)"
   ]
  },
  {
   "cell_type": "markdown",
   "metadata": {},
   "source": [
    "# 多维数组的索引"
   ]
  },
  {
   "cell_type": "code",
   "execution_count": 104,
   "metadata": {},
   "outputs": [
    {
     "data": {
      "text/plain": [
       "(4, 2, 4)"
      ]
     },
     "execution_count": 104,
     "metadata": {},
     "output_type": "execute_result"
    }
   ],
   "source": [
    "arr=np.array([\n",
    "    [\n",
    "        [2,3,4,5],[1,3,4,9]\n",
    "    ],\n",
    "    [\n",
    "        [0,3,4,8],[2,4,9,4]\n",
    "    ],\n",
    "    [\n",
    "        [1,4,5,8],[2,5,6,8]\n",
    "    ],\n",
    "    [\n",
    "        [2,3,6,8],[3,4,8,9]\n",
    "    ]\n",
    "])\n",
    "arr.shape"
   ]
  },
  {
   "cell_type": "code",
   "execution_count": 105,
   "metadata": {},
   "outputs": [
    {
     "data": {
      "text/plain": [
       "array([[2, 3, 6, 8],\n",
       "       [3, 4, 8, 9]])"
      ]
     },
     "execution_count": 105,
     "metadata": {},
     "output_type": "execute_result"
    }
   ],
   "source": [
    "arr[3]"
   ]
  },
  {
   "cell_type": "code",
   "execution_count": 106,
   "metadata": {},
   "outputs": [
    {
     "data": {
      "text/plain": [
       "array([3, 4, 8, 9])"
      ]
     },
     "execution_count": 106,
     "metadata": {},
     "output_type": "execute_result"
    }
   ],
   "source": [
    "arr[3][1]"
   ]
  },
  {
   "cell_type": "code",
   "execution_count": 107,
   "metadata": {},
   "outputs": [
    {
     "data": {
      "text/plain": [
       "8"
      ]
     },
     "execution_count": 107,
     "metadata": {},
     "output_type": "execute_result"
    }
   ],
   "source": [
    "arr[3][1][2]"
   ]
  },
  {
   "cell_type": "code",
   "execution_count": 108,
   "metadata": {},
   "outputs": [
    {
     "data": {
      "text/plain": [
       "8"
      ]
     },
     "execution_count": 108,
     "metadata": {},
     "output_type": "execute_result"
    }
   ],
   "source": [
    "arr[3,1,2]"
   ]
  },
  {
   "cell_type": "markdown",
   "metadata": {},
   "source": [
    "# 数组的切片"
   ]
  },
  {
   "cell_type": "code",
   "execution_count": 109,
   "metadata": {},
   "outputs": [
    {
     "data": {
      "text/plain": [
       "array([[[2, 3, 4, 5],\n",
       "        [1, 3, 4, 9]],\n",
       "\n",
       "       [[0, 3, 4, 8],\n",
       "        [2, 4, 9, 4]],\n",
       "\n",
       "       [[1, 4, 5, 8],\n",
       "        [2, 5, 6, 8]],\n",
       "\n",
       "       [[2, 3, 6, 8],\n",
       "        [3, 4, 8, 9]]])"
      ]
     },
     "execution_count": 109,
     "metadata": {},
     "output_type": "execute_result"
    }
   ],
   "source": [
    "arr"
   ]
  },
  {
   "cell_type": "code",
   "execution_count": 110,
   "metadata": {},
   "outputs": [
    {
     "data": {
      "text/plain": [
       "array([[0, 3, 4, 8],\n",
       "       [2, 4, 9, 4]])"
      ]
     },
     "execution_count": 110,
     "metadata": {},
     "output_type": "execute_result"
    }
   ],
   "source": [
    "arr[1]"
   ]
  },
  {
   "cell_type": "code",
   "execution_count": 111,
   "metadata": {},
   "outputs": [
    {
     "data": {
      "text/plain": [
       "array([0, 3, 4, 8])"
      ]
     },
     "execution_count": 111,
     "metadata": {},
     "output_type": "execute_result"
    }
   ],
   "source": [
    "arr[1][0]"
   ]
  },
  {
   "cell_type": "code",
   "execution_count": 112,
   "metadata": {},
   "outputs": [
    {
     "data": {
      "text/plain": [
       "array([3, 4])"
      ]
     },
     "execution_count": 112,
     "metadata": {},
     "output_type": "execute_result"
    }
   ],
   "source": [
    "arr[1][0][1:3]"
   ]
  },
  {
   "cell_type": "code",
   "execution_count": 113,
   "metadata": {},
   "outputs": [
    {
     "data": {
      "text/plain": [
       "array([4, 9])"
      ]
     },
     "execution_count": 113,
     "metadata": {},
     "output_type": "execute_result"
    }
   ],
   "source": [
    "arr[1][1][1:3]"
   ]
  },
  {
   "cell_type": "code",
   "execution_count": 114,
   "metadata": {},
   "outputs": [
    {
     "data": {
      "text/plain": [
       "array([[3, 4],\n",
       "       [4, 9]])"
      ]
     },
     "execution_count": 114,
     "metadata": {},
     "output_type": "execute_result"
    }
   ],
   "source": [
    "arr[1,:,1:3]"
   ]
  },
  {
   "cell_type": "code",
   "execution_count": 115,
   "metadata": {},
   "outputs": [
    {
     "name": "stdout",
     "output_type": "stream",
     "text": [
      "[[[3 4]]\n",
      "\n",
      " [[4 9]]\n",
      "\n",
      " [[5 6]]\n",
      "\n",
      " [[4 8]]]\n",
      "[[[100 100]]\n",
      "\n",
      " [[100 100]]\n",
      "\n",
      " [[100 100]]\n",
      "\n",
      " [[100 100]]]\n"
     ]
    }
   ],
   "source": [
    "# 切片操作获取的是视图，会影响原数组的值\n",
    "arr2=arr[:,1:3,1:3]\n",
    "print(arr2)\n",
    "arr2[:]=100\n",
    "print(arr2)"
   ]
  },
  {
   "cell_type": "code",
   "execution_count": 116,
   "metadata": {},
   "outputs": [
    {
     "data": {
      "text/plain": [
       "array([[[  2,   3,   4,   5],\n",
       "        [  1, 100, 100,   9]],\n",
       "\n",
       "       [[  0,   3,   4,   8],\n",
       "        [  2, 100, 100,   4]],\n",
       "\n",
       "       [[  1,   4,   5,   8],\n",
       "        [  2, 100, 100,   8]],\n",
       "\n",
       "       [[  2,   3,   6,   8],\n",
       "        [  3, 100, 100,   9]]])"
      ]
     },
     "execution_count": 116,
     "metadata": {},
     "output_type": "execute_result"
    }
   ],
   "source": [
    "# 查看原数组\n",
    "arr"
   ]
  },
  {
   "cell_type": "code",
   "execution_count": 117,
   "metadata": {},
   "outputs": [
    {
     "data": {
      "text/plain": [
       "array([[7, 7, 2, 2, 8, 2, 7, 6],\n",
       "       [4, 3, 2, 5, 5, 8, 1, 3],\n",
       "       [8, 2, 7, 3, 5, 5, 6, 3],\n",
       "       [7, 4, 4, 3, 8, 4, 3, 1]])"
      ]
     },
     "execution_count": 117,
     "metadata": {},
     "output_type": "execute_result"
    }
   ],
   "source": [
    "# 创建一个二维数组\n",
    "new_arr=np.random.randint(1,9,(4,8))\n",
    "new_arr"
   ]
  },
  {
   "cell_type": "code",
   "execution_count": 118,
   "metadata": {},
   "outputs": [
    {
     "data": {
      "text/plain": [
       "array([[100,   7, 100,   2, 100,   2, 100,   6],\n",
       "       [100,   3, 100,   5, 100,   8, 100,   3],\n",
       "       [100,   2, 100,   3, 100,   5, 100,   3],\n",
       "       [100,   4, 100,   3, 100,   4, 100,   1]])"
      ]
     },
     "execution_count": 118,
     "metadata": {},
     "output_type": "execute_result"
    }
   ],
   "source": [
    "# 修改值\n",
    "new_arr[:,::2]=np.array([100,100,100,100])\n",
    "new_arr"
   ]
  },
  {
   "cell_type": "code",
   "execution_count": 119,
   "metadata": {},
   "outputs": [
    {
     "data": {
      "text/plain": [
       "array([2, 8, 6, 4, 8, 8, 1, 8, 6, 3, 5, 8])"
      ]
     },
     "execution_count": 119,
     "metadata": {},
     "output_type": "execute_result"
    }
   ],
   "source": [
    "# 切片修改值\n",
    "arr1=np.random.randint(1,9,12)\n",
    "arr1"
   ]
  },
  {
   "cell_type": "code",
   "execution_count": 120,
   "metadata": {},
   "outputs": [
    {
     "data": {
      "text/plain": [
       "array([0, 8, 0, 4, 0, 8, 0, 8, 0, 3, 0, 8])"
      ]
     },
     "execution_count": 120,
     "metadata": {},
     "output_type": "execute_result"
    }
   ],
   "source": [
    "# 用列表赋值\n",
    "arr1[::2]=np.array([0,0,0,0,0,0])\n",
    "# 查看原数组\n",
    "arr1"
   ]
  },
  {
   "cell_type": "code",
   "execution_count": 121,
   "metadata": {},
   "outputs": [
    {
     "data": {
      "text/plain": [
       "array([[ 0,  1,  2,  3,  4,  5],\n",
       "       [10, 11, 12, 13, 14, 15],\n",
       "       [20, 21, 22, 23, 24, 25],\n",
       "       [30, 31, 32, 33, 34, 35],\n",
       "       [40, 41, 42, 43, 44, 45],\n",
       "       [50, 51, 52, 53, 54, 55]])"
      ]
     },
     "execution_count": 121,
     "metadata": {},
     "output_type": "execute_result"
    }
   ],
   "source": [
    "# 举个例子\n",
    "a=np.array([(0,1,2,3,4,5),\n",
    "           (10,11,12,13,14,15),\n",
    "           (20,21,22,23,24,25),\n",
    "           (30,31,32,33,34,35),\n",
    "           (40,41,42,43,44,45),\n",
    "           (50,51,52,53,54,55)])\n",
    "a"
   ]
  },
  {
   "cell_type": "code",
   "execution_count": 122,
   "metadata": {},
   "outputs": [
    {
     "data": {
      "text/plain": [
       "array([ 1, 12, 23, 34, 45])"
      ]
     },
     "execution_count": 122,
     "metadata": {},
     "output_type": "execute_result"
    }
   ],
   "source": [
    "a[(0,1,2,3,4),(1,2,3,4,5)]"
   ]
  },
  {
   "cell_type": "code",
   "execution_count": 123,
   "metadata": {},
   "outputs": [
    {
     "data": {
      "text/plain": [
       "array([[30, 32, 35],\n",
       "       [40, 42, 45],\n",
       "       [50, 52, 55]])"
      ]
     },
     "execution_count": 123,
     "metadata": {},
     "output_type": "execute_result"
    }
   ],
   "source": [
    "a[3:,[0,2,5]]"
   ]
  },
  {
   "cell_type": "code",
   "execution_count": 124,
   "metadata": {},
   "outputs": [
    {
     "data": {
      "text/plain": [
       "array([ 2, 22, 52])"
      ]
     },
     "execution_count": 124,
     "metadata": {},
     "output_type": "execute_result"
    }
   ],
   "source": [
    "mask=np.array([1,0,1,0,0,1],dtype=np.bool)\n",
    "a[mask,2]"
   ]
  },
  {
   "cell_type": "markdown",
   "metadata": {},
   "source": [
    "# 花式索引"
   ]
  },
  {
   "cell_type": "code",
   "execution_count": 125,
   "metadata": {},
   "outputs": [
    {
     "data": {
      "text/plain": [
       "array([[ 0,  1,  2,  3],\n",
       "       [ 4,  5,  6,  7],\n",
       "       [ 8,  9, 10, 11],\n",
       "       [12, 13, 14, 15],\n",
       "       [16, 17, 18, 19],\n",
       "       [20, 21, 22, 23],\n",
       "       [24, 25, 26, 27],\n",
       "       [28, 29, 30, 31]])"
      ]
     },
     "execution_count": 125,
     "metadata": {},
     "output_type": "execute_result"
    }
   ],
   "source": [
    "# 花式索引，修改新数组不会影响原数组\n",
    "arr=np.arange(32).reshape(8,4)\n",
    "arr"
   ]
  },
  {
   "cell_type": "code",
   "execution_count": 126,
   "metadata": {},
   "outputs": [
    {
     "name": "stdout",
     "output_type": "stream",
     "text": [
      "获取第0，3，5行的数据\n",
      "[[ 0  1  2  3]\n",
      " [12 13 14 15]\n",
      " [20 21 22 23]]\n"
     ]
    }
   ],
   "source": [
    "print(u'获取第0，3，5行的数据')\n",
    "print(arr[[0,3,5]])"
   ]
  },
  {
   "cell_type": "code",
   "execution_count": 127,
   "metadata": {},
   "outputs": [
    {
     "name": "stdout",
     "output_type": "stream",
     "text": [
      "获取第(0,0)，(3,3)，(5,2)这三个索引位置的数据\n",
      "[ 0 15 22]\n"
     ]
    }
   ],
   "source": [
    "print(u'获取第(0,0)，(3,3)，(5,2)这三个索引位置的数据')\n",
    "print(arr[[0,3,5],[0,3,2]])"
   ]
  },
  {
   "cell_type": "code",
   "execution_count": 128,
   "metadata": {},
   "outputs": [
    {
     "name": "stdout",
     "output_type": "stream",
     "text": [
      "使用转置的方式获取第0，3，5行的第0，2，3列的数据\n",
      "[[ 0  2  3]\n",
      " [12 14 15]\n",
      " [20 22 23]]\n"
     ]
    }
   ],
   "source": [
    "print(u'使用转置的方式获取第0，3，5行的第0，2，3列的数据')\n",
    "print(arr[[0,3,5]].T[[0,2,3]].T)"
   ]
  },
  {
   "cell_type": "code",
   "execution_count": 129,
   "metadata": {},
   "outputs": [
    {
     "name": "stdout",
     "output_type": "stream",
     "text": [
      "使用索引器获取第（0，3，5）行的第（0，2，3）列的数据\n"
     ]
    },
    {
     "data": {
      "text/plain": [
       "array([[ 0,  2,  3],\n",
       "       [12, 14, 15],\n",
       "       [20, 22, 23]])"
      ]
     },
     "execution_count": 129,
     "metadata": {},
     "output_type": "execute_result"
    }
   ],
   "source": [
    "print(u'使用索引器获取第（0，3，5）行的第（0，2，3）列的数据')\n",
    "arr[np.ix_([0,3,5],[0,2,3])]# 通过ix_索引器，可以分别获取每一行对应位置的下标元素"
   ]
  },
  {
   "cell_type": "markdown",
   "metadata": {},
   "source": [
    "# 布尔类型索引"
   ]
  },
  {
   "cell_type": "code",
   "execution_count": 130,
   "metadata": {},
   "outputs": [
    {
     "name": "stdout",
     "output_type": "stream",
     "text": [
      "(4, 4)\n"
     ]
    },
    {
     "data": {
      "text/plain": [
       "array([[0.6996004 , 0.46195943, 0.3678555 , 0.84550931],\n",
       "       [0.34853799, 0.79297943, 0.85813603, 0.93438715],\n",
       "       [0.96566139, 0.87832526, 0.94151013, 0.74820822],\n",
       "       [0.02191662, 0.74068926, 0.28896819, 0.51700841]])"
      ]
     },
     "execution_count": 130,
     "metadata": {},
     "output_type": "execute_result"
    }
   ],
   "source": [
    "A=np.random.random((4,4))\n",
    "print(A.shape)\n",
    "A"
   ]
  },
  {
   "cell_type": "code",
   "execution_count": 131,
   "metadata": {},
   "outputs": [
    {
     "name": "stdout",
     "output_type": "stream",
     "text": [
      "(4, 4)\n"
     ]
    },
    {
     "data": {
      "text/plain": [
       "array([[False,  True,  True, False],\n",
       "       [ True, False, False, False],\n",
       "       [False, False, False, False],\n",
       "       [ True, False,  True, False]])"
      ]
     },
     "execution_count": 131,
     "metadata": {},
     "output_type": "execute_result"
    }
   ],
   "source": [
    "B=A<0.5\n",
    "print(B.shape)\n",
    "B"
   ]
  },
  {
   "cell_type": "code",
   "execution_count": 132,
   "metadata": {},
   "outputs": [
    {
     "name": "stdout",
     "output_type": "stream",
     "text": [
      "(5,)\n"
     ]
    },
    {
     "data": {
      "text/plain": [
       "array([0.46195943, 0.3678555 , 0.34853799, 0.02191662, 0.28896819])"
      ]
     },
     "execution_count": 132,
     "metadata": {},
     "output_type": "execute_result"
    }
   ],
   "source": [
    "# True位置的元素取出来形成一个新的数组，要求A的shape和B的shape是一致的\n",
    "C=A[B]\n",
    "print(C.shape)\n",
    "C"
   ]
  },
  {
   "cell_type": "code",
   "execution_count": 133,
   "metadata": {},
   "outputs": [
    {
     "name": "stdout",
     "output_type": "stream",
     "text": [
      "Gerry score is: [76 85 64 56]\n",
      "Gerry 数学 score is: [85]\n",
      "Gerry和Tom的成绩\n",
      "[[76 85 64 56]\n",
      " [86 65 97 67]]\n",
      "非Gerry和Tom的成绩\n",
      "[[56 87 77 78]]\n"
     ]
    }
   ],
   "source": [
    "# Numpy中不能用and，or，not。用&（逻辑与）、|（逻辑或）、~（逻辑非）来代替\n",
    "names=np.array(['Gerry','Tom','John'])\n",
    "scores=np.array([\n",
    "    [76,85,64,56],\n",
    "    [86,65,97,67],\n",
    "    [56,87,77,78]\n",
    "])\n",
    "classes=np.array([u'语文',u'数学',u'英语',u'科学'])\n",
    "print('Gerry score is:',scores[names=='Gerry'].reshape((-1)))\n",
    "print('Gerry 数学 score is:',scores[names=='Gerry'].reshape((-1,))[classes==u'数学'])\n",
    "print(u'Gerry和Tom的成绩')\n",
    "print(scores[(names=='Gerry')|(names=='Tom')])\n",
    "print('非Gerry和Tom的成绩')\n",
    "print(scores[(names!='Gerry')&(names!='Tom')])"
   ]
  },
  {
   "cell_type": "markdown",
   "metadata": {},
   "source": [
    "# 数组转置与轴对换"
   ]
  },
  {
   "cell_type": "code",
   "execution_count": 134,
   "metadata": {},
   "outputs": [
    {
     "name": "stdout",
     "output_type": "stream",
     "text": [
      "原数组的shape： (5, 8)\n"
     ]
    },
    {
     "data": {
      "text/plain": [
       "array([[ 0,  1,  2,  3,  4,  5,  6,  7],\n",
       "       [ 8,  9, 10, 11, 12, 13, 14, 15],\n",
       "       [16, 17, 18, 19, 20, 21, 22, 23],\n",
       "       [24, 25, 26, 27, 28, 29, 30, 31],\n",
       "       [32, 33, 34, 35, 36, 37, 38, 39]])"
      ]
     },
     "execution_count": 134,
     "metadata": {},
     "output_type": "execute_result"
    }
   ],
   "source": [
    "arr=np.arange(40).reshape(5,-1)\n",
    "print(u'原数组的shape：',arr.shape)\n",
    "arr"
   ]
  },
  {
   "cell_type": "code",
   "execution_count": 135,
   "metadata": {},
   "outputs": [
    {
     "name": "stdout",
     "output_type": "stream",
     "text": [
      "通过函数transpose转置后数组的shape值： (8, 5)\n"
     ]
    },
    {
     "data": {
      "text/plain": [
       "array([[ 0,  8, 16, 24, 32],\n",
       "       [ 1,  9, 17, 25, 33],\n",
       "       [ 2, 10, 18, 26, 34],\n",
       "       [ 3, 11, 19, 27, 35],\n",
       "       [ 4, 12, 20, 28, 36],\n",
       "       [ 5, 13, 21, 29, 37],\n",
       "       [ 6, 14, 22, 30, 38],\n",
       "       [ 7, 15, 23, 31, 39]])"
      ]
     },
     "execution_count": 135,
     "metadata": {},
     "output_type": "execute_result"
    }
   ],
   "source": [
    "arr1=arr.transpose()\n",
    "print('通过函数transpose转置后数组的shape值：',arr1.shape)\n",
    "arr1"
   ]
  },
  {
   "cell_type": "code",
   "execution_count": 136,
   "metadata": {},
   "outputs": [
    {
     "name": "stdout",
     "output_type": "stream",
     "text": [
      "通过属性T转置后数组的shape值： (8, 5)\n"
     ]
    },
    {
     "data": {
      "text/plain": [
       "array([[ 0,  8, 16, 24, 32],\n",
       "       [ 1,  9, 17, 25, 33],\n",
       "       [ 2, 10, 18, 26, 34],\n",
       "       [ 3, 11, 19, 27, 35],\n",
       "       [ 4, 12, 20, 28, 36],\n",
       "       [ 5, 13, 21, 29, 37],\n",
       "       [ 6, 14, 22, 30, 38],\n",
       "       [ 7, 15, 23, 31, 39]])"
      ]
     },
     "execution_count": 136,
     "metadata": {},
     "output_type": "execute_result"
    }
   ],
   "source": [
    "arr2=arr.T\n",
    "print('通过属性T转置后数组的shape值：',arr2.shape)\n",
    "arr2"
   ]
  },
  {
   "cell_type": "code",
   "execution_count": 137,
   "metadata": {},
   "outputs": [
    {
     "data": {
      "text/plain": [
       "array([[[2, 1],\n",
       "        [2, 2],\n",
       "        [7, 6]],\n",
       "\n",
       "       [[5, 8],\n",
       "        [3, 5],\n",
       "        [9, 2]],\n",
       "\n",
       "       [[4, 4],\n",
       "        [4, 2],\n",
       "        [0, 9]],\n",
       "\n",
       "       [[6, 3],\n",
       "        [8, 6],\n",
       "        [2, 5]]])"
      ]
     },
     "execution_count": 137,
     "metadata": {},
     "output_type": "execute_result"
    }
   ],
   "source": [
    "arr=np.random.randint(0,10,(4,3,2))\n",
    "arr"
   ]
  },
  {
   "cell_type": "code",
   "execution_count": 138,
   "metadata": {},
   "outputs": [
    {
     "data": {
      "text/plain": [
       "array([[[2, 5, 4, 6],\n",
       "        [1, 8, 4, 3]],\n",
       "\n",
       "       [[2, 3, 4, 8],\n",
       "        [2, 5, 2, 6]],\n",
       "\n",
       "       [[7, 9, 0, 2],\n",
       "        [6, 2, 9, 5]]])"
      ]
     },
     "execution_count": 138,
     "metadata": {},
     "output_type": "execute_result"
    }
   ],
   "source": [
    "arr.transpose(1,2,0)"
   ]
  },
  {
   "cell_type": "markdown",
   "metadata": {},
   "source": [
    "# 数组拉伸与合并"
   ]
  },
  {
   "cell_type": "code",
   "execution_count": 14,
   "metadata": {},
   "outputs": [
    {
     "data": {
      "text/plain": [
       "array([[3, 9],\n",
       "       [4, 6]])"
      ]
     },
     "execution_count": 14,
     "metadata": {},
     "output_type": "execute_result"
    }
   ],
   "source": [
    "arr=np.array([[3,9],[4,6]])\n",
    "arr"
   ]
  },
  {
   "cell_type": "code",
   "execution_count": 140,
   "metadata": {},
   "outputs": [
    {
     "data": {
      "text/plain": [
       "array([[3, 9, 3, 9],\n",
       "       [4, 6, 4, 6]])"
      ]
     },
     "execution_count": 140,
     "metadata": {},
     "output_type": "execute_result"
    }
   ],
   "source": [
    "# 横向拉伸2倍\n",
    "np.tile(arr,2)"
   ]
  },
  {
   "cell_type": "code",
   "execution_count": 15,
   "metadata": {},
   "outputs": [
    {
     "data": {
      "text/plain": [
       "array([[3, 9],\n",
       "       [4, 6],\n",
       "       [3, 9],\n",
       "       [4, 6],\n",
       "       [3, 9],\n",
       "       [4, 6]])"
      ]
     },
     "execution_count": 15,
     "metadata": {},
     "output_type": "execute_result"
    }
   ],
   "source": [
    "# 纵向拉伸3倍，横向拉伸1倍\n",
    "np.tile(arr,(3,1))"
   ]
  },
  {
   "cell_type": "code",
   "execution_count": 16,
   "metadata": {},
   "outputs": [
    {
     "data": {
      "text/plain": [
       "array([[3, 9, 3, 9],\n",
       "       [4, 6, 4, 6],\n",
       "       [3, 9, 3, 9],\n",
       "       [4, 6, 4, 6],\n",
       "       [3, 9, 3, 9],\n",
       "       [4, 6, 4, 6]])"
      ]
     },
     "execution_count": 16,
     "metadata": {},
     "output_type": "execute_result"
    }
   ],
   "source": [
    "# 纵向拉伸3倍，横向拉伸2倍\n",
    "np.tile(arr,(3,2))"
   ]
  },
  {
   "cell_type": "code",
   "execution_count": 24,
   "metadata": {},
   "outputs": [
    {
     "name": "stdout",
     "output_type": "stream",
     "text": [
      "(3, 2, 4)\n"
     ]
    },
    {
     "data": {
      "text/plain": [
       "array([[[4, 2, 3, 7],\n",
       "        [2, 4, 8, 1]],\n",
       "\n",
       "       [[6, 1, 5, 5],\n",
       "        [7, 3, 8, 2]],\n",
       "\n",
       "       [[4, 7, 6, 2],\n",
       "        [5, 4, 8, 5]]])"
      ]
     },
     "execution_count": 24,
     "metadata": {},
     "output_type": "execute_result"
    }
   ],
   "source": [
    "arr1=np.random.randint(1,9,(3,2,4))\n",
    "print(arr1.shape)  # 可以理解为3个 (2,4)的数组进行堆叠\n",
    "arr1"
   ]
  },
  {
   "cell_type": "code",
   "execution_count": 25,
   "metadata": {},
   "outputs": [
    {
     "name": "stdout",
     "output_type": "stream",
     "text": [
      "(3, 2, 4)\n"
     ]
    },
    {
     "data": {
      "text/plain": [
       "array([[[4, 2, 3, 7],\n",
       "        [2, 4, 8, 1]],\n",
       "\n",
       "       [[6, 1, 5, 5],\n",
       "        [7, 3, 8, 2]],\n",
       "\n",
       "       [[4, 7, 6, 2],\n",
       "        [5, 4, 8, 5]]])"
      ]
     },
     "execution_count": 25,
     "metadata": {},
     "output_type": "execute_result"
    }
   ],
   "source": [
    "arr2=np.stack(arr1,axis=0)\n",
    "print(arr2.shape)\n",
    "arr2"
   ]
  },
  {
   "cell_type": "code",
   "execution_count": 26,
   "metadata": {},
   "outputs": [
    {
     "name": "stdout",
     "output_type": "stream",
     "text": [
      "(2, 3, 4)\n"
     ]
    },
    {
     "data": {
      "text/plain": [
       "array([[[4, 2, 3, 7],\n",
       "        [6, 1, 5, 5],\n",
       "        [4, 7, 6, 2]],\n",
       "\n",
       "       [[2, 4, 8, 1],\n",
       "        [7, 3, 8, 2],\n",
       "        [5, 4, 8, 5]]])"
      ]
     },
     "execution_count": 26,
     "metadata": {},
     "output_type": "execute_result"
    }
   ],
   "source": [
    "arr3=np.stack(arr1,axis=1)\n",
    "print(arr3.shape)   # axis=1的位置插入维度，由于一共3个数组，所以堆叠后的形状为2*3*4\n",
    "arr3"
   ]
  },
  {
   "cell_type": "code",
   "execution_count": 27,
   "metadata": {},
   "outputs": [
    {
     "name": "stdout",
     "output_type": "stream",
     "text": [
      "(2, 4, 3)\n"
     ]
    },
    {
     "data": {
      "text/plain": [
       "array([[[4, 6, 4],\n",
       "        [2, 1, 7],\n",
       "        [3, 5, 6],\n",
       "        [7, 5, 2]],\n",
       "\n",
       "       [[2, 7, 5],\n",
       "        [4, 3, 4],\n",
       "        [8, 8, 8],\n",
       "        [1, 2, 5]]])"
      ]
     },
     "execution_count": 27,
     "metadata": {},
     "output_type": "execute_result"
    }
   ],
   "source": [
    "arr4=np.stack(arr1,axis=2)\n",
    "print(arr4.shape)\n",
    "arr4"
   ]
  },
  {
   "cell_type": "code",
   "execution_count": 34,
   "metadata": {},
   "outputs": [],
   "source": [
    "a=np.array([1,2,3])\n",
    "b=np.array([2,3,4])"
   ]
  },
  {
   "cell_type": "code",
   "execution_count": 36,
   "metadata": {},
   "outputs": [
    {
     "name": "stdout",
     "output_type": "stream",
     "text": [
      "(2, 3)\n"
     ]
    },
    {
     "data": {
      "text/plain": [
       "array([[1, 2, 3],\n",
       "       [2, 3, 4]])"
      ]
     },
     "execution_count": 36,
     "metadata": {},
     "output_type": "execute_result"
    }
   ],
   "source": [
    "a1=np.stack((a,b),axis=0)\n",
    "print(a1.shape)\n",
    "a1"
   ]
  },
  {
   "cell_type": "code",
   "execution_count": 37,
   "metadata": {},
   "outputs": [
    {
     "name": "stdout",
     "output_type": "stream",
     "text": [
      "(3, 2)\n"
     ]
    },
    {
     "data": {
      "text/plain": [
       "array([[1, 2],\n",
       "       [2, 3],\n",
       "       [3, 4]])"
      ]
     },
     "execution_count": 37,
     "metadata": {},
     "output_type": "execute_result"
    }
   ],
   "source": [
    "a2=np.stack((a,b),axis=1)\n",
    "print(a2.shape)\n",
    "a2"
   ]
  },
  {
   "cell_type": "code",
   "execution_count": 38,
   "metadata": {},
   "outputs": [
    {
     "data": {
      "text/plain": [
       "array([1, 2, 3, 2, 3, 4])"
      ]
     },
     "execution_count": 38,
     "metadata": {},
     "output_type": "execute_result"
    }
   ],
   "source": [
    "# hstack()函数，横向合并\n",
    "np.hstack((a,b))"
   ]
  },
  {
   "cell_type": "code",
   "execution_count": 39,
   "metadata": {},
   "outputs": [
    {
     "data": {
      "text/plain": [
       "array([[1, 2, 3],\n",
       "       [2, 3, 4]])"
      ]
     },
     "execution_count": 39,
     "metadata": {},
     "output_type": "execute_result"
    }
   ],
   "source": [
    "# vstack()函数，纵向合并\n",
    "np.vstack((a,b))"
   ]
  },
  {
   "cell_type": "code",
   "execution_count": 40,
   "metadata": {},
   "outputs": [],
   "source": [
    "a=np.array([\n",
    "    [1,2,3,44],\n",
    "    [22,32,42,42],\n",
    "    [23,3,3,43]\n",
    "])\n",
    "b=np.array([\n",
    "    [1,3,2,44],\n",
    "    [42,52,62,42],\n",
    "    [23,3,3,43]\n",
    "])"
   ]
  },
  {
   "cell_type": "code",
   "execution_count": 41,
   "metadata": {},
   "outputs": [
    {
     "name": "stdout",
     "output_type": "stream",
     "text": [
      "(2, 3, 4)\n"
     ]
    },
    {
     "data": {
      "text/plain": [
       "array([[[ 1,  2,  3, 44],\n",
       "        [22, 32, 42, 42],\n",
       "        [23,  3,  3, 43]],\n",
       "\n",
       "       [[ 1,  3,  2, 44],\n",
       "        [42, 52, 62, 42],\n",
       "        [23,  3,  3, 43]]])"
      ]
     },
     "execution_count": 41,
     "metadata": {},
     "output_type": "execute_result"
    }
   ],
   "source": [
    "np.stack((a,b),axis=0)    #第一个维度增加"
   ]
  },
  {
   "cell_type": "code",
   "execution_count": 42,
   "metadata": {},
   "outputs": [
    {
     "name": "stdout",
     "output_type": "stream",
     "text": [
      "(3, 2, 4)\n"
     ]
    },
    {
     "data": {
      "text/plain": [
       "array([[[ 1,  2,  3, 44],\n",
       "        [ 1,  3,  2, 44]],\n",
       "\n",
       "       [[22, 32, 42, 42],\n",
       "        [42, 52, 62, 42]],\n",
       "\n",
       "       [[23,  3,  3, 43],\n",
       "        [23,  3,  3, 43]]])"
      ]
     },
     "execution_count": 42,
     "metadata": {},
     "output_type": "execute_result"
    }
   ],
   "source": [
    "np.stack((a,b),axis=1)"
   ]
  },
  {
   "cell_type": "code",
   "execution_count": 33,
   "metadata": {},
   "outputs": [
    {
     "data": {
      "text/plain": [
       "array([[[ 1,  1],\n",
       "        [ 2,  3],\n",
       "        [ 3,  2],\n",
       "        [44, 44]],\n",
       "\n",
       "       [[22, 42],\n",
       "        [32, 52],\n",
       "        [42, 62],\n",
       "        [42, 42]],\n",
       "\n",
       "       [[23, 23],\n",
       "        [ 3,  3],\n",
       "        [ 3,  3],\n",
       "        [43, 43]]])"
      ]
     },
     "execution_count": 33,
     "metadata": {},
     "output_type": "execute_result"
    }
   ],
   "source": [
    "np.stack((a,b),axis=-1)    #最后一个维度增加"
   ]
  },
  {
   "cell_type": "code",
   "execution_count": 142,
   "metadata": {},
   "outputs": [],
   "source": [
    "a=[[1,2,3],\n",
    "   [4,5,6]]\n",
    "b=[[1,2,3],\n",
    "   [4,5,6]]\n",
    "c=[[1,2,3],\n",
    "   [4,5,6]]\n",
    "d=[[1,2,3],\n",
    "   [4,5,6]]\n",
    "e=[1,2,3]\n",
    "f=[4,5,6]"
   ]
  },
  {
   "cell_type": "code",
   "execution_count": 143,
   "metadata": {},
   "outputs": [
    {
     "data": {
      "text/plain": [
       "array([[1, 2, 3]])"
      ]
     },
     "execution_count": 143,
     "metadata": {},
     "output_type": "execute_result"
    }
   ],
   "source": [
    "# axis表示往某个维度添加一维\n",
    "np.stack((e,)) # 默认axis=0"
   ]
  },
  {
   "cell_type": "code",
   "execution_count": 144,
   "metadata": {},
   "outputs": [
    {
     "data": {
      "text/plain": [
       "array([[1, 2, 3],\n",
       "       [4, 5, 6]])"
      ]
     },
     "execution_count": 144,
     "metadata": {},
     "output_type": "execute_result"
    }
   ],
   "source": [
    "np.stack((e,f))"
   ]
  },
  {
   "cell_type": "code",
   "execution_count": 145,
   "metadata": {},
   "outputs": [
    {
     "data": {
      "text/plain": [
       "array([[4],\n",
       "       [5],\n",
       "       [6]])"
      ]
     },
     "execution_count": 145,
     "metadata": {},
     "output_type": "execute_result"
    }
   ],
   "source": [
    "# 在一维数组f上的第一维度添加\n",
    "np.stack((f,),axis=1)"
   ]
  },
  {
   "cell_type": "code",
   "execution_count": 146,
   "metadata": {},
   "outputs": [
    {
     "data": {
      "text/plain": [
       "array([[[1, 2, 3],\n",
       "        [1, 2, 3]],\n",
       "\n",
       "       [[4, 5, 6],\n",
       "        [4, 5, 6]]])"
      ]
     },
     "execution_count": 146,
     "metadata": {},
     "output_type": "execute_result"
    }
   ],
   "source": [
    "# 在两个二维数组的第一维度添加并且合并\n",
    "np.stack((a,b),axis=1)"
   ]
  },
  {
   "cell_type": "code",
   "execution_count": 147,
   "metadata": {},
   "outputs": [
    {
     "data": {
      "text/plain": [
       "array([[[1, 1, 1],\n",
       "        [2, 2, 2],\n",
       "        [3, 3, 3]],\n",
       "\n",
       "       [[4, 4, 4],\n",
       "        [5, 5, 5],\n",
       "        [6, 6, 6]]])"
      ]
     },
     "execution_count": 147,
     "metadata": {},
     "output_type": "execute_result"
    }
   ],
   "source": [
    "# 在三个二维数组的第二维度添加并且合并\n",
    "np.stack((a,b,c),axis=2)"
   ]
  },
  {
   "cell_type": "code",
   "execution_count": 148,
   "metadata": {},
   "outputs": [
    {
     "data": {
      "text/plain": [
       "array([[1, 2, 3, 1, 2, 3],\n",
       "       [4, 5, 6, 4, 5, 6]])"
      ]
     },
     "execution_count": 148,
     "metadata": {},
     "output_type": "execute_result"
    }
   ],
   "source": [
    "# hstack()函数，横向合并\n",
    "np.hstack((a,b))"
   ]
  },
  {
   "cell_type": "code",
   "execution_count": 149,
   "metadata": {},
   "outputs": [
    {
     "data": {
      "text/plain": [
       "array([[1, 2, 3],\n",
       "       [4, 5, 6],\n",
       "       [1, 2, 3],\n",
       "       [4, 5, 6]])"
      ]
     },
     "execution_count": 149,
     "metadata": {},
     "output_type": "execute_result"
    }
   ],
   "source": [
    "# vstack()函数，纵向合并\n",
    "np.vstack((a,b))"
   ]
  },
  {
   "cell_type": "markdown",
   "metadata": {},
   "source": [
    "# 通用函数/常用函数(一元函数)"
   ]
  },
  {
   "cell_type": "code",
   "execution_count": 150,
   "metadata": {},
   "outputs": [
    {
     "name": "stdout",
     "output_type": "stream",
     "text": [
      "arr= [-5.3 -6.2 -5.   0.   4.2  5.   3.   2.   1. ]\n",
      "绝对值函数abs [5.3 6.2 5.  0.  4.2 5.  3.  2.  1. ]\n",
      "复数绝对值函数fabs [5.3 6.2 5.  0.  4.2 5.  3.  2.  1. ]\n",
      "sqrt 开根号 [2.30217289 2.48997992 2.23606798 0.         2.04939015 2.23606798\n",
      " 1.73205081 1.41421356 1.        ]\n",
      "square 开根号 [28.09 38.44 25.    0.   17.64 25.    9.    4.    1.  ]\n",
      "exp 自然对数e的x次方 [4.99159391e-03 2.02943064e-03 6.73794700e-03 1.00000000e+00\n",
      " 6.66863310e+01 1.48413159e+02 2.00855369e+01 7.38905610e+00\n",
      " 2.71828183e+00]\n"
     ]
    }
   ],
   "source": [
    "arr=np.array([-5.3,-6.2,-5,0,4.2,5,3,2,1])\n",
    "print('arr=',arr)\n",
    "print('绝对值函数abs',np.abs(arr))\n",
    "print('复数绝对值函数fabs',np.fabs(arr))\n",
    "print('sqrt 开根号',np.sqrt(np.fabs(arr)))\n",
    "print('square 开根号',np.square(arr))\n",
    "print('exp 自然对数e的x次方',np.exp(arr))"
   ]
  },
  {
   "cell_type": "code",
   "execution_count": 151,
   "metadata": {},
   "outputs": [
    {
     "name": "stdout",
     "output_type": "stream",
     "text": [
      "log 对数函数，默认以e为底 [1.84054963 1.97408103 1.79175947 0.         1.64865863 1.79175947\n",
      " 1.38629436 1.09861229 0.69314718]\n",
      "log 对数函数，以10为底 [0.79934055 0.8573325  0.77815125 0.         0.71600334 0.77815125\n",
      " 0.60205999 0.47712125 0.30103   ]\n",
      "log 对数函数，以2为底 [2.65535183 2.84799691 2.5849625  0.         2.37851162 2.5849625\n",
      " 2.         1.5849625  1.        ]\n",
      "log 对数函数，以(x+1)为底求x的值 [1.98787435 2.10413415 1.94591015 0.69314718 1.82454929 1.94591015\n",
      " 1.60943791 1.38629436 1.09861229]\n",
      "sign 判断矩阵中各元素的正负号 [-1. -1. -1.  0.  1.  1.  1.  1.  1.]\n",
      "ceil 向上取整 [-5. -6. -5.  0.  5.  5.  3.  2.  1.]\n",
      "floor 向下取整 [-6. -7. -5.  0.  4.  5.  3.  2.  1.]\n",
      "rint 四舍五入 [-5. -6. -5.  0.  4.  5.  3.  2.  1.]\n"
     ]
    }
   ],
   "source": [
    "log_arr=np.fabs(arr)+1\n",
    "print('log 对数函数，默认以e为底',np.log(log_arr))\n",
    "print('log 对数函数，以10为底',np.log10(log_arr))\n",
    "print('log 对数函数，以2为底',np.log2(log_arr))\n",
    "print('log 对数函数，以(x+1)为底求x的值',np.log1p(log_arr))\n",
    "print('sign 判断矩阵中各元素的正负号',np.sign(arr))\n",
    "print('ceil 向上取整',np.ceil(arr))\n",
    "print('floor 向下取整',np.floor(arr))\n",
    "print('rint 四舍五入',np.rint(arr))"
   ]
  },
  {
   "cell_type": "code",
   "execution_count": 152,
   "metadata": {},
   "outputs": [
    {
     "name": "stdout",
     "output_type": "stream",
     "text": [
      "modf 分别返回整数部分和小数部分 (array([-0.3, -0.2, -0. ,  0. ,  0.2,  0. ,  0. ,  0. ,  0. ]), array([-5., -6., -5.,  0.,  4.,  5.,  3.,  2.,  1.]))\n",
      "isnan 判断元素是不是缺省值NaN数据类型 [False False False False False False False False False]\n",
      "isfinite 判断元素是不是有穷的 [ True  True  True  True  True  True  True  True  True]\n",
      "isinf 判断元素是不是无穷的 [False False False False False False False False False]\n",
      "cos 三角函数 [ 0.55437434  0.9965421   0.28366219  1.         -0.49026082  0.28366219\n",
      " -0.9899925  -0.41614684  0.54030231]\n",
      "cosh 双曲型三角函数 [100.17090078 246.37553526  74.20994852   1.          33.35066331\n",
      "  74.20994852  10.067662     3.76219569   1.54308063]\n",
      "arccos 反三角函数 [0.98318531 0.08318531 1.28318531 0.         2.08318531 1.28318531\n",
      " 3.         2.         1.        ]\n",
      "arccosh 双曲型反三角函数 [5.3 6.2 5.  0.  4.2 5.  3.  2.  1. ]\n"
     ]
    }
   ],
   "source": [
    "print('modf 分别返回整数部分和小数部分',np.modf(arr))\n",
    "print('isnan 判断元素是不是缺省值NaN数据类型',np.isnan(arr))\n",
    "print('isfinite 判断元素是不是有穷的',np.isfinite(arr))\n",
    "print('isinf 判断元素是不是无穷的',np.isinf(arr))\n",
    "print('cos 三角函数',np.cos(arr))\n",
    "print('cosh 双曲型三角函数',np.cosh(arr))\n",
    "print('arccos 反三角函数',np.arccos(np.cos(arr)))\n",
    "print('arccosh 双曲型反三角函数',np.arccosh(np.cosh(arr)))"
   ]
  },
  {
   "cell_type": "markdown",
   "metadata": {},
   "source": [
    "# 通用函数/常用函数(二元函数)"
   ]
  },
  {
   "cell_type": "code",
   "execution_count": 5,
   "metadata": {},
   "outputs": [
    {
     "name": "stdout",
     "output_type": "stream",
     "text": [
      "mod 求模(取余)运算 [0 1 6 0]\n",
      "dot 向量内积运算(点乘) 62\n",
      "greater 大于 [False False  True  True]\n",
      "greater_equal 大于等于 [False False  True  True]\n",
      "less 小于 [ True  True False False]\n",
      "equal 等于 [False False False False]\n",
      "not_equal 不等于 [ True  True  True  True]\n",
      "logical_and 逻辑与 [ True  True  True False]\n",
      "logical_or 逻辑或 [ True  True  True  True]\n",
      "logical_xor 逻辑异或 [False False False  True]\n",
      "power 指数运算 [  1   8 512   1]\n"
     ]
    }
   ],
   "source": [
    "arr1=np.array([1,2,8,1])\n",
    "arr2=np.array([4,5,6,0])\n",
    "print('mod 求模(取余)运算',np.mod(arr2,arr1))\n",
    "print('dot 向量内积运算(点乘)',np.dot(arr1,arr2))\n",
    "print('greater 大于',np.greater(arr1,arr2))\n",
    "print('greater_equal 大于等于',np.greater_equal(arr1,arr2))\n",
    "print('less 小于',np.less(arr1,arr2))\n",
    "print('equal 等于',np.equal(arr1,arr2))\n",
    "print('not_equal 不等于',np.not_equal(arr1,arr2))\n",
    "print('logical_and 逻辑与',np.logical_and(arr1,arr2))  \n",
    "print('logical_or 逻辑或',np.logical_or(arr1,arr2))    \n",
    "print('logical_xor 逻辑异或',np.logical_xor(arr1,arr2))  # 两者不同返回真，相同返回假\n",
    "print('power 指数运算',np.power(arr1,3))"
   ]
  },
  {
   "cell_type": "code",
   "execution_count": 6,
   "metadata": {},
   "outputs": [
    {
     "name": "stdout",
     "output_type": "stream",
     "text": [
      "mod 求模(取余)运算 [[4 1 1]\n",
      " [3 0 2]\n",
      " [4 1 1]]\n",
      "dot 向量内积运算(点乘) [[64 49 45]\n",
      " [50 43 27]\n",
      " [56 39 43]]\n",
      "greater 大于 [[ True  True  True]\n",
      " [ True False False]\n",
      " [ True False  True]]\n",
      "greater_equal 大于等于 [[ True  True  True]\n",
      " [ True False False]\n",
      " [ True False  True]]\n",
      "less 小于 [[False False False]\n",
      " [False  True  True]\n",
      " [False  True False]]\n",
      "equal 等于 [[False False False]\n",
      " [False False False]\n",
      " [False False False]]\n",
      "not_equal 不等于 [[ True  True  True]\n",
      " [ True  True  True]\n",
      " [ True  True  True]]\n",
      "logical_and 逻辑与 [[ True  True  True]\n",
      " [ True  True  True]\n",
      " [ True  True  True]]\n",
      "logical_or 逻辑或 [[ True  True  True]\n",
      " [ True  True  True]\n",
      " [ True  True  True]]\n",
      "logical_xor 逻辑异或 [[False False False]\n",
      " [False False False]\n",
      " [False False False]]\n"
     ]
    }
   ],
   "source": [
    "arr1=np.random.randint(1,9,(3,3))\n",
    "arr2=np.random.randint(1,9,(3,3))\n",
    "print('mod 求模(取余)运算',np.mod(arr2,arr1))\n",
    "print('dot 向量内积运算(点乘)',np.dot(arr1,arr2))\n",
    "print('greater 大于',np.greater(arr1,arr2))\n",
    "print('greater_equal 大于等于',np.greater_equal(arr1,arr2))\n",
    "print('less 小于',np.less(arr1,arr2))\n",
    "print('equal 等于',np.equal(arr1,arr2))\n",
    "print('not_equal 不等于',np.not_equal(arr1,arr2))\n",
    "print('logical_and 逻辑与',np.logical_and(arr1,arr2))  \n",
    "print('logical_or 逻辑或',np.logical_or(arr1,arr2))    \n",
    "print('logical_xor 逻辑异或',np.logical_xor(arr1,arr2)) "
   ]
  },
  {
   "cell_type": "code",
   "execution_count": 7,
   "metadata": {},
   "outputs": [
    {
     "name": "stdout",
     "output_type": "stream",
     "text": [
      "mod 求模(取余)运算 [0 0 0 0 0]\n",
      "dot 向量内积运算(点乘) 1\n",
      "greater 大于 [ True False False False  True]\n",
      "greater_equal 大于等于 [ True False  True  True  True]\n",
      "less 小于 [False  True False False False]\n",
      "equal 等于 [False False  True  True False]\n",
      "not_equal 不等于 [ True  True False False  True]\n",
      "logical_and 逻辑与 [False False  True False False]\n",
      "logical_or 逻辑或 [ True  True  True False  True]\n",
      "logical_xor 逻辑异或 [ True  True False False  True]\n"
     ]
    },
    {
     "name": "stderr",
     "output_type": "stream",
     "text": [
      "G:\\py\\anaconda64\\lib\\site-packages\\ipykernel_launcher.py:3: RuntimeWarning: divide by zero encountered in remainder\n",
      "  This is separate from the ipykernel package so we can avoid doing imports until\n"
     ]
    }
   ],
   "source": [
    "arr1=np.array([1,0,1,0,1])\n",
    "arr2=np.array([0,1,1,0,0])\n",
    "print('mod 求模(取余)运算',np.mod(arr2,arr1))\n",
    "print('dot 向量内积运算(点乘)',np.dot(arr1,arr2))\n",
    "print('greater 大于',np.greater(arr1,arr2))\n",
    "print('greater_equal 大于等于',np.greater_equal(arr1,arr2))\n",
    "print('less 小于',np.less(arr1,arr2))\n",
    "print('equal 等于',np.equal(arr1,arr2))\n",
    "print('not_equal 不等于',np.not_equal(arr1,arr2))\n",
    "print('logical_and 逻辑与',np.logical_and(arr1,arr2))  \n",
    "print('logical_or 逻辑或',np.logical_or(arr1,arr2))    \n",
    "print('logical_xor 逻辑异或',np.logical_xor(arr1,arr2))"
   ]
  },
  {
   "cell_type": "markdown",
   "metadata": {},
   "source": [
    "# 聚合函数"
   ]
  },
  {
   "cell_type": "code",
   "execution_count": 154,
   "metadata": {},
   "outputs": [
    {
     "data": {
      "text/plain": [
       "array([[1, 6, 5],\n",
       "       [5, 1, 5]])"
      ]
     },
     "execution_count": 154,
     "metadata": {},
     "output_type": "execute_result"
    }
   ],
   "source": [
    "arr=np.random.randint(1,9,(2,3))\n",
    "arr"
   ]
  },
  {
   "cell_type": "code",
   "execution_count": 155,
   "metadata": {},
   "outputs": [
    {
     "name": "stdout",
     "output_type": "stream",
     "text": [
      "min 1\n",
      "max 6\n",
      "mean 3.8333333333333335\n",
      "mean 3.8333333333333335\n"
     ]
    }
   ],
   "source": [
    "print('min',np.amin(arr))\n",
    "print('max',np.amax(arr))\n",
    "print('mean',np.mean(arr))\n",
    "print('mean',arr.mean())"
   ]
  },
  {
   "cell_type": "code",
   "execution_count": 156,
   "metadata": {},
   "outputs": [
    {
     "name": "stdout",
     "output_type": "stream",
     "text": [
      "6.1875\n"
     ]
    }
   ],
   "source": [
    "# 方差——偏差的平方的平均值\n",
    "a=np.array([[5,2,3,4],[7,3,9,1]])\n",
    "print(np.mean((a-a.mean())**2))"
   ]
  },
  {
   "cell_type": "code",
   "execution_count": 157,
   "metadata": {},
   "outputs": [
    {
     "name": "stdout",
     "output_type": "stream",
     "text": [
      "2.48746859276655\n",
      "2.48746859276655\n"
     ]
    }
   ],
   "source": [
    "# 标准差——偏差的平方的平均值的平方根\n",
    "print(np.sqrt(np.mean((a-a.mean())**2)))\n",
    "print(np.std(a))"
   ]
  },
  {
   "cell_type": "code",
   "execution_count": 158,
   "metadata": {},
   "outputs": [
    {
     "name": "stdout",
     "output_type": "stream",
     "text": [
      "arr= [[ 1  2  3  4]\n",
      " [ 7  8  9 10]]\n",
      "min= 1\n",
      "max= 10\n",
      "mean= 5.5\n",
      "std= 3.2015621187164243\n",
      "根据方差公式计算的方差值为： 3.2015621187164243\n"
     ]
    }
   ],
   "source": [
    "arr=np.array([[1,2,3,4],[7,8,9,10]])\n",
    "print('arr=',arr)\n",
    "print('min=',arr.min())\n",
    "print('max=',arr.max())\n",
    "print('mean=',arr.mean())\n",
    "print('std=',arr.std())\n",
    "print(u'根据方差公式计算的方差值为：',np.sqrt(np.power(arr-arr.mean(),2).sum()/arr.size))"
   ]
  },
  {
   "cell_type": "code",
   "execution_count": 46,
   "metadata": {},
   "outputs": [
    {
     "name": "stdout",
     "output_type": "stream",
     "text": [
      "=====arr=====\n",
      "[[ 1  3  5  9]\n",
      " [ 2  4  6  8]\n",
      " [-5 -6 -8 -2]]\n",
      "对同列上的元素求平均值： [-0.66666667  0.33333333  1.          5.        ]\n",
      "对同行上的元素求平均值： [ 4.5   5.   -5.25]\n",
      "对同行上的元素求和： [ 18  20 -21]\n",
      "对同行上的元素求最大值： [ 9  8 -2]\n",
      "对同行上的元素求标准差： [2.95803989 2.23606798 2.16506351]\n",
      "所有元素的标准差： 5.330077130982461\n"
     ]
    }
   ],
   "source": [
    "# 二维数组的情况下，axis=0表示对同列的数据进行聚合；axis=1表示对同行的数据进行聚合\n",
    "arr=np.array([\n",
    "    [\n",
    "        1,3,5,9\n",
    "    ],\n",
    "    [\n",
    "        2,4,6,8\n",
    "    ],\n",
    "    [\n",
    "        -5,-6,-8,-2\n",
    "    ]\n",
    "])\n",
    "print('=====arr=====')\n",
    "print(arr)\n",
    "print('对同列上的元素求平均值：',arr.mean(axis=0))\n",
    "print('对同行上的元素求平均值：',arr.mean(axis=1))\n",
    "print('对同行上的元素求和：',arr.sum(axis=1))\n",
    "print('对同行上的元素求最大值：',arr.max(axis=1))\n",
    "print('对同行上的元素求标准差：',arr.std(axis=1))\n",
    "print('所有元素的标准差：',np.sqrt(np.mean((arr-arr.mean())**2)))"
   ]
  },
  {
   "cell_type": "markdown",
   "metadata": {},
   "source": [
    "# np.where函数"
   ]
  },
  {
   "cell_type": "code",
   "execution_count": 160,
   "metadata": {},
   "outputs": [],
   "source": [
    "?np.where"
   ]
  },
  {
   "cell_type": "code",
   "execution_count": 48,
   "metadata": {},
   "outputs": [
    {
     "name": "stdout",
     "output_type": "stream",
     "text": [
      "[1, 3, 2, 1]\n"
     ]
    },
    {
     "data": {
      "text/plain": [
       "array([1, 3, 2, 1])"
      ]
     },
     "execution_count": 48,
     "metadata": {},
     "output_type": "execute_result"
    }
   ],
   "source": [
    "# 取出arr1 arr2中对应位数上的较小值：\n",
    "arr1 = np.array([1,3,5,7])\n",
    "arr2 = np.array([3,5,2,1])\n",
    "condition = arr1 < arr2\n",
    "arr3 = [x if c else y for c,x,y in zip(condition,arr1,arr2) ]    \n",
    "# zip打包3个列表      #然后通过for遍历列表\n",
    "print(arr3)\n",
    "np.where(condition,arr1,arr2)"
   ]
  },
  {
   "cell_type": "code",
   "execution_count": 3,
   "metadata": {},
   "outputs": [
    {
     "data": {
      "text/plain": [
       "array([[1, 8],\n",
       "       [3, 4]])"
      ]
     },
     "execution_count": 3,
     "metadata": {},
     "output_type": "execute_result"
    }
   ],
   "source": [
    "# 二维\n",
    "arr4=np.where([[True,False],[True,True]],[[1,2],[3,4]],[[9,8],[7,6]])\n",
    "arr4"
   ]
  },
  {
   "cell_type": "code",
   "execution_count": 161,
   "metadata": {},
   "outputs": [
    {
     "name": "stdout",
     "output_type": "stream",
     "text": [
      "使用python的语法，结果为： [-2.1, -2.2, -2.3, -2.4, -2.5] ；数据类型为： <class 'list'>\n",
      "使用np.where的语法，结果为： [-2.1 -2.2 -2.3 -2.4 -2.5] ；数据类型为： <class 'numpy.ndarray'>\n"
     ]
    }
   ],
   "source": [
    "xarr=np.array([-1.1,-1.2,-1.3,-1.4,-1.5])\n",
    "yarr=np.array([-2.1,-2.2,-2.3,-2.4,-2.5])\n",
    "condition=xarr<yarr\n",
    "result1=[x if c else y for (x,y,c) in zip(xarr,yarr,condition)]\n",
    "result2=np.where(condition,xarr,yarr)\n",
    "print(u'使用python的语法，结果为：',result1,'；数据类型为：',type(result1))\n",
    "print(u'使用np.where的语法，结果为：',result2,'；数据类型为：',type(result2))"
   ]
  },
  {
   "cell_type": "code",
   "execution_count": 162,
   "metadata": {},
   "outputs": [
    {
     "name": "stdout",
     "output_type": "stream",
     "text": [
      "原始数组\n",
      "[[1.         2.                nan 4.        ]\n",
      " [4.         5.         6.                nan]\n",
      " [7.         8.         9.                inf]\n",
      " [       inf 2.71828183 3.14159265 4.        ]]\n",
      "\n",
      "结果\n",
      "[[1.         2.         0.         4.        ]\n",
      " [4.         5.         6.         0.        ]\n",
      " [7.         8.         9.         0.        ]\n",
      " [0.         2.71828183 3.14159265 4.        ]]\n"
     ]
    }
   ],
   "source": [
    "# 练习：将数组中的所有异常数字替换为0，比如将NaN替换为0\n",
    "arr=np.array([\n",
    "    [1,2,np.NaN,4],\n",
    "    [4,5,6,np.NaN],\n",
    "    [7,8,9,np.inf],\n",
    "    [np.inf,np.e,np.pi,4]\n",
    "])\n",
    "condition=np.isnan(arr)|np.isinf(arr)#得到判断条件\n",
    "print('原始数组')\n",
    "print(arr)\n",
    "print()\n",
    "print('结果')\n",
    "print(np.where(condition,0,arr))"
   ]
  },
  {
   "cell_type": "markdown",
   "metadata": {},
   "source": [
    "# np.unique函数"
   ]
  },
  {
   "cell_type": "code",
   "execution_count": 163,
   "metadata": {},
   "outputs": [
    {
     "name": "stdout",
     "output_type": "stream",
     "text": [
      "=====原始数据=====\n",
      "图书，数码，小吃，数码，女装，小吃，美食，男装，数码，\n",
      "=====去重后数据=====\n",
      "图书，女装，小吃，数码，男装，美食，\n"
     ]
    }
   ],
   "source": [
    "arr=np.array([u'图书',u'数码',u'小吃',u'数码',u'女装',u'小吃',u'美食',u'男装',u'数码'])\n",
    "print('=====原始数据=====')\n",
    "for a in arr:\n",
    "    print(a,end='，')\n",
    "print()\n",
    "\n",
    "arr2=np.unique(arr)\n",
    "print('=====去重后数据=====')\n",
    "for a in arr2:\n",
    "    print(a,end='，')\n",
    "print()"
   ]
  }
 ],
 "metadata": {
  "kernelspec": {
   "display_name": "Python 3",
   "language": "python",
   "name": "python3"
  },
  "language_info": {
   "codemirror_mode": {
    "name": "ipython",
    "version": 3
   },
   "file_extension": ".py",
   "mimetype": "text/x-python",
   "name": "python",
   "nbconvert_exporter": "python",
   "pygments_lexer": "ipython3",
   "version": "3.6.5"
  }
 },
 "nbformat": 4,
 "nbformat_minor": 1
}
